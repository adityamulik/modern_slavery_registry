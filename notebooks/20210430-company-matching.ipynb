{
 "cells": [
  {
   "cell_type": "code",
   "execution_count": 1,
   "metadata": {},
   "outputs": [],
   "source": [
    "# use if autocompletion is not working\n",
    "%config Completer.use_jedi = False"
   ]
  },
  {
   "cell_type": "code",
   "execution_count": 2,
   "metadata": {},
   "outputs": [],
   "source": [
    "%load_ext autoreload\n",
    "%autoreload 2"
   ]
  },
  {
   "cell_type": "code",
   "execution_count": 3,
   "metadata": {},
   "outputs": [],
   "source": [
    "import os\n",
    "import pandas as pd\n",
    "import json\n",
    "import numpy as np\n",
    "from tqdm import tqdm\n",
    "\n",
    "from fuzzywuzzy import fuzz"
   ]
  },
  {
   "cell_type": "code",
   "execution_count": null,
   "metadata": {},
   "outputs": [],
   "source": [
    "from modern_slavery_registry import get_root_path"
   ]
  },
  {
   "cell_type": "code",
   "execution_count": null,
   "metadata": {},
   "outputs": [],
   "source": [
    "PROJECT_PATH = get_root_path()\n",
    "DATA_PATH = os.path.join(PROJECT_PATH, \"data\")\n",
    "\n",
    "COMPANIES_JSON = \"companies_060421.json\""
   ]
  },
  {
   "cell_type": "code",
   "execution_count": null,
   "metadata": {},
   "outputs": [],
   "source": [
    "%%time\n",
    "companies_info = \"\"\n",
    "with open(os.path.join(PROJECT_PATH, DATA_PATH, COMPANIES_JSON),encoding='utf8') as f:\n",
    "    for i, line in enumerate(f):\n",
    "        companies_info += line\n",
    "companies_info = companies_info.replace(\"\\n\", \"\")\n",
    "companies_info = json.loads(companies_info)"
   ]
  },
  {
   "cell_type": "code",
   "execution_count": null,
   "metadata": {},
   "outputs": [],
   "source": [
    "print(f\"Number of companies: {len(companies_info)}\")"
   ]
  },
  {
   "cell_type": "code",
   "execution_count": null,
   "metadata": {},
   "outputs": [],
   "source": [
    "for i, (k,v) in enumerate(companies_info.items()):\n",
    "    print(k, v)\n",
    "    if i == 10: break "
   ]
  },
  {
   "cell_type": "code",
   "execution_count": 9,
   "metadata": {},
   "outputs": [],
   "source": [
    "companies = [info[\"company\"].lower() for info in companies_info.values()]"
   ]
  },
  {
   "cell_type": "code",
   "execution_count": 10,
   "metadata": {},
   "outputs": [
    {
     "data": {
      "text/plain": [
       "(19630, 19690)"
      ]
     },
     "execution_count": 10,
     "metadata": {},
     "output_type": "execute_result"
    }
   ],
   "source": [
    "len(np.unique(companies)), len(companies)"
   ]
  },
  {
   "cell_type": "code",
   "execution_count": 11,
   "metadata": {},
   "outputs": [],
   "source": [
    "statements = pd.read_excel(os.path.join(PROJECT_PATH, DATA_PATH, \"sheets\",\"subset_data.xlsx\"))"
   ]
  },
  {
   "cell_type": "code",
   "execution_count": 12,
   "metadata": {},
   "outputs": [
    {
     "data": {
      "text/html": [
       "<div>\n",
       "<style scoped>\n",
       "    .dataframe tbody tr th:only-of-type {\n",
       "        vertical-align: middle;\n",
       "    }\n",
       "\n",
       "    .dataframe tbody tr th {\n",
       "        vertical-align: top;\n",
       "    }\n",
       "\n",
       "    .dataframe thead th {\n",
       "        text-align: right;\n",
       "    }\n",
       "</style>\n",
       "<table border=\"1\" class=\"dataframe\">\n",
       "  <thead>\n",
       "    <tr style=\"text-align: right;\">\n",
       "      <th></th>\n",
       "      <th>URL</th>\n",
       "      <th>Company</th>\n",
       "      <th>final_statement</th>\n",
       "      <th>years_with_and_without_act</th>\n",
       "      <th>years_with_act</th>\n",
       "      <th>final_statement_cleaned</th>\n",
       "      <th>len(final_statement_cleaned)</th>\n",
       "    </tr>\n",
       "  </thead>\n",
       "  <tbody>\n",
       "    <tr>\n",
       "      <th>0</th>\n",
       "      <td>https://img1.wsimg.com/blobby/go/7695baff-3f0f...</td>\n",
       "      <td>\"K\" Line Holding Europe Limited</td>\n",
       "      <td>66 99 “K” Line Holding (Europe) Limited kM K L...</td>\n",
       "      <td>['2015', '2019', '2018']</td>\n",
       "      <td>['2015', '2019']</td>\n",
       "      <td>66 99 km sh foor eum hold europe ltd 200 alder...</td>\n",
       "      <td>1873</td>\n",
       "    </tr>\n",
       "    <tr>\n",
       "      <th>1</th>\n",
       "      <td>https://1spatial.com/who-we-are/legal/modern-s...</td>\n",
       "      <td>1Spatial Plc</td>\n",
       "      <td>1Spatial Modern Slavery Act Policy Statement H...</td>\n",
       "      <td>['2015']</td>\n",
       "      <td>['2015']</td>\n",
       "      <td>home solution government boundary law enforcem...</td>\n",
       "      <td>2128</td>\n",
       "    </tr>\n",
       "    <tr>\n",
       "      <th>2</th>\n",
       "      <td>https://www.shazans.com/slavery-and-human-traf...</td>\n",
       "      <td>1Stop Halal Limited</td>\n",
       "      <td>Slavery and Human Trafficking Statement – Shaz...</td>\n",
       "      <td>['2015', '2019', '2018']</td>\n",
       "      <td>['2015', '2018']</td>\n",
       "      <td>shazans shazan food continue monitor covid 19 ...</td>\n",
       "      <td>1840</td>\n",
       "    </tr>\n",
       "    <tr>\n",
       "      <th>3</th>\n",
       "      <td>https://www.business-humanrights.org/sites/def...</td>\n",
       "      <td>1st Step Solutions Limited</td>\n",
       "      <td>7/28/2019 Modern Slavery Statement 2018 - 1st ...</td>\n",
       "      <td>['2015', '2019', '2018']</td>\n",
       "      <td>['2015', '2018']</td>\n",
       "      <td>28 2019 2018 statement make pursuant sec 54 20...</td>\n",
       "      <td>1843</td>\n",
       "    </tr>\n",
       "    <tr>\n",
       "      <th>4</th>\n",
       "      <td>https://www.2agriculture.com/wp-content/upload...</td>\n",
       "      <td>2 Agriculture Limited</td>\n",
       "      <td>fh Modern Slavery Act 2015: slavery and human ...</td>\n",
       "      <td>['2015', '2019', '2018']</td>\n",
       "      <td>['2015', '2018']</td>\n",
       "      <td>fh 2015 introduction uk act require business s...</td>\n",
       "      <td>1372</td>\n",
       "    </tr>\n",
       "  </tbody>\n",
       "</table>\n",
       "</div>"
      ],
      "text/plain": [
       "                                                 URL  \\\n",
       "0  https://img1.wsimg.com/blobby/go/7695baff-3f0f...   \n",
       "1  https://1spatial.com/who-we-are/legal/modern-s...   \n",
       "2  https://www.shazans.com/slavery-and-human-traf...   \n",
       "3  https://www.business-humanrights.org/sites/def...   \n",
       "4  https://www.2agriculture.com/wp-content/upload...   \n",
       "\n",
       "                           Company  \\\n",
       "0  \"K\" Line Holding Europe Limited   \n",
       "1                     1Spatial Plc   \n",
       "2              1Stop Halal Limited   \n",
       "3       1st Step Solutions Limited   \n",
       "4            2 Agriculture Limited   \n",
       "\n",
       "                                     final_statement  \\\n",
       "0  66 99 “K” Line Holding (Europe) Limited kM K L...   \n",
       "1  1Spatial Modern Slavery Act Policy Statement H...   \n",
       "2  Slavery and Human Trafficking Statement – Shaz...   \n",
       "3  7/28/2019 Modern Slavery Statement 2018 - 1st ...   \n",
       "4  fh Modern Slavery Act 2015: slavery and human ...   \n",
       "\n",
       "  years_with_and_without_act    years_with_act  \\\n",
       "0   ['2015', '2019', '2018']  ['2015', '2019']   \n",
       "1                   ['2015']          ['2015']   \n",
       "2   ['2015', '2019', '2018']  ['2015', '2018']   \n",
       "3   ['2015', '2019', '2018']  ['2015', '2018']   \n",
       "4   ['2015', '2019', '2018']  ['2015', '2018']   \n",
       "\n",
       "                             final_statement_cleaned  \\\n",
       "0  66 99 km sh foor eum hold europe ltd 200 alder...   \n",
       "1  home solution government boundary law enforcem...   \n",
       "2  shazans shazan food continue monitor covid 19 ...   \n",
       "3  28 2019 2018 statement make pursuant sec 54 20...   \n",
       "4  fh 2015 introduction uk act require business s...   \n",
       "\n",
       "   len(final_statement_cleaned)  \n",
       "0                          1873  \n",
       "1                          2128  \n",
       "2                          1840  \n",
       "3                          1843  \n",
       "4                          1372  "
      ]
     },
     "execution_count": 12,
     "metadata": {},
     "output_type": "execute_result"
    }
   ],
   "source": [
    "statements.head()"
   ]
  },
  {
   "cell_type": "code",
   "execution_count": 13,
   "metadata": {},
   "outputs": [
    {
     "name": "stderr",
     "output_type": "stream",
     "text": [
      "                                                                                                                       \r"
     ]
    }
   ],
   "source": [
    "exact_match = [company for company in tqdm(statements[\"Company\"], leave=False) if company.lower() in companies]"
   ]
  },
  {
   "cell_type": "code",
   "execution_count": 14,
   "metadata": {},
   "outputs": [
    {
     "data": {
      "text/plain": [
       "6910"
      ]
     },
     "execution_count": 14,
     "metadata": {},
     "output_type": "execute_result"
    }
   ],
   "source": [
    "len(exact_match)"
   ]
  },
  {
   "cell_type": "code",
   "execution_count": 15,
   "metadata": {},
   "outputs": [
    {
     "data": {
      "text/plain": [
       "100"
      ]
     },
     "execution_count": 15,
     "metadata": {},
     "output_type": "execute_result"
    }
   ],
   "source": [
    "fuzz.ratio(\"Catherine Gitau\", \"Catherine Gitau\")"
   ]
  },
  {
   "cell_type": "code",
   "execution_count": 37,
   "metadata": {},
   "outputs": [
    {
     "name": "stderr",
     "output_type": "stream",
     "text": [
      "                                                                                                                       "
     ]
    },
    {
     "name": "stdout",
     "output_type": "stream",
     "text": [
      "Wall time: 4.17 s\n"
     ]
    },
    {
     "name": "stderr",
     "output_type": "stream",
     "text": [
      "\r"
     ]
    }
   ],
   "source": [
    "%%time\n",
    "top_n = 5\n",
    "top_n_ratio_match = []\n",
    "\n",
    "for comp1 in tqdm(statements[\"Company\"].values[:10], leave=False):\n",
    "    ratio = np.argsort([fuzz.token_sort_ratio(comp1.lower(), comp2.lower()) for comp2 in companies])\n",
    "    top_n_ratio_match.append(ratio[-top_n:][::-1])"
   ]
  },
  {
   "cell_type": "code",
   "execution_count": 38,
   "metadata": {},
   "outputs": [
    {
     "data": {
      "text/plain": [
       "[array([12277, 15487, 17836, 11022, 13248], dtype=int64),\n",
       " array([14583, 13037,  8502, 16521, 14422], dtype=int64),\n",
       " array([15309, 15492, 17539, 14395, 12640], dtype=int64),\n",
       " array([12137, 17479, 18811, 16598, 19090], dtype=int64),\n",
       " array([12902, 11978, 16619, 18271, 12865], dtype=int64),\n",
       " array([12902, 11978, 16619, 18271, 12865], dtype=int64),\n",
       " array([13849, 15279, 13106, 17404, 13971], dtype=int64),\n",
       " array([ 6912, 18366, 16836, 18668, 13660], dtype=int64),\n",
       " array([18080, 16445, 15679, 15549, 15713], dtype=int64),\n",
       " array([17225, 14099, 19532, 13915, 18194], dtype=int64)]"
      ]
     },
     "execution_count": 38,
     "metadata": {},
     "output_type": "execute_result"
    }
   ],
   "source": [
    "top_n_ratio_match"
   ]
  },
  {
   "cell_type": "code",
   "execution_count": 44,
   "metadata": {},
   "outputs": [
    {
     "data": {
      "text/plain": [
       "('2M Holdings Ltd',\n",
       " ['2m holdings ltd',\n",
       "  'clinimed (holdings) ltd',\n",
       "  'amita holdings co., ltd.',\n",
       "  'amigo holdings limited',\n",
       "  'bv holdings limited'])"
      ]
     },
     "execution_count": 44,
     "metadata": {},
     "output_type": "execute_result"
    }
   ],
   "source": [
    "i = 9 \n",
    "statements[\"Company\"].values[i], [companies[j] for j in top_n_ratio_match[i]]"
   ]
  },
  {
   "cell_type": "code",
   "execution_count": 30,
   "metadata": {},
   "outputs": [
    {
     "data": {
      "text/plain": [
       "9993"
      ]
     },
     "execution_count": 30,
     "metadata": {},
     "output_type": "execute_result"
    }
   ],
   "source": [
    "len(statements)"
   ]
  },
  {
   "cell_type": "code",
   "execution_count": 34,
   "metadata": {},
   "outputs": [
    {
     "data": {
      "text/plain": [
       "array([5, 6, 7, 8, 9])"
      ]
     },
     "execution_count": 34,
     "metadata": {},
     "output_type": "execute_result"
    }
   ],
   "source": [
    "\n",
    "np.arange(10)[-5:]"
   ]
  },
  {
   "cell_type": "code",
   "execution_count": 17,
   "metadata": {},
   "outputs": [
    {
     "data": {
      "text/plain": [
       "2.35"
      ]
     },
     "execution_count": 17,
     "metadata": {},
     "output_type": "execute_result"
    }
   ],
   "source": [
    "235 * 1e-3 * 10"
   ]
  },
  {
   "cell_type": "code",
   "execution_count": null,
   "metadata": {},
   "outputs": [],
   "source": []
  }
 ],
 "metadata": {
  "kernelspec": {
   "display_name": "modern_slavery",
   "language": "python",
   "name": "modern_slavery"
  },
  "language_info": {
   "codemirror_mode": {
    "name": "ipython",
    "version": 3
   },
   "file_extension": ".py",
   "mimetype": "text/x-python",
   "name": "python",
   "nbconvert_exporter": "python",
   "pygments_lexer": "ipython3",
   "version": "3.8.6"
  }
 },
 "nbformat": 4,
 "nbformat_minor": 4
}
