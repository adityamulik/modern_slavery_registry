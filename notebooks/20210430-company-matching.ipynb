{
 "cells": [
  {
   "cell_type": "code",
   "execution_count": 1,
   "metadata": {},
   "outputs": [],
   "source": [
    "# use if autocompletion is not working\n",
    "%config Completer.use_jedi = False"
   ]
  },
  {
   "cell_type": "code",
   "execution_count": 2,
   "metadata": {},
   "outputs": [],
   "source": [
    "%load_ext autoreload\n",
    "%autoreload 2"
   ]
  },
  {
   "cell_type": "code",
   "execution_count": 3,
   "metadata": {},
   "outputs": [],
   "source": [
    "import os\n",
    "import pandas as pd\n",
    "import json\n",
    "import numpy as np\n",
    "from tqdm import tqdm\n",
    "\n",
    "from fuzzywuzzy import fuzz\n",
    "from dask_jobqueue import PBSCluster\n",
    "from dask.distributed import Client, get_worker\n",
    "from typing import List, Callable, Tuple\n",
    "from copy import deepcopy\n",
    "from sys import getsizeof\n",
    "from time import sleep\n",
    "from IPython.display import clear_output\n",
    "\n",
    "import re"
   ]
  },
  {
   "cell_type": "code",
   "execution_count": 4,
   "metadata": {},
   "outputs": [],
   "source": [
    "from modern_slavery_registry import get_root_path"
   ]
  },
  {
   "cell_type": "code",
   "execution_count": 5,
   "metadata": {},
   "outputs": [],
   "source": [
    "PROJECT_PATH = get_root_path()\n",
    "DATA_PATH = os.path.join(PROJECT_PATH, \"data\")\n",
    "\n",
    "COMPANIES_JSON = \"companies_060421.json\""
   ]
  },
  {
   "cell_type": "code",
   "execution_count": 6,
   "metadata": {},
   "outputs": [
    {
     "name": "stdout",
     "output_type": "stream",
     "text": [
      "CPU times: user 95.7 ms, sys: 24.1 ms, total: 120 ms\n",
      "Wall time: 115 ms\n"
     ]
    }
   ],
   "source": [
    "%%time\n",
    "companies_info = \"\"\n",
    "with open(os.path.join(PROJECT_PATH, DATA_PATH, COMPANIES_JSON),encoding='utf8') as f:\n",
    "    for i, line in enumerate(f):\n",
    "        companies_info += line\n",
    "companies_info = companies_info.replace(\"\\n\", \"\")\n",
    "companies_info = json.loads(companies_info)"
   ]
  },
  {
   "cell_type": "code",
   "execution_count": 7,
   "metadata": {},
   "outputs": [
    {
     "name": "stdout",
     "output_type": "stream",
     "text": [
      "Number of companies: 19690\n"
     ]
    }
   ],
   "source": [
    "print(f\"Number of companies: {len(companies_info)}\")"
   ]
  },
  {
   "cell_type": "code",
   "execution_count": 8,
   "metadata": {},
   "outputs": [
    {
     "name": "stdout",
     "output_type": "stream",
     "text": [
      "755391 {'company': 'Eolus Vind', 'headquarters': 'SE', 'sectors': {'Energy': ['Wind energy']}}\n",
      "755392 {'company': 'Aquila Capital', 'headquarters': 'DE', 'sectors': {'Finance': ['Finance & banking']}}\n",
      "755402 {'company': 'Banco Internacional de Moçambique - International Bank of Mozambique', 'headquarters': 'MZ', 'sectors': {'Finance': ['Finance & banking']}}\n",
      "755404 {'company': 'Fábrica de Explosivos de Moçambique', 'headquarters': 'MZ', 'sectors': {'Chemical': ['Chemical: General']}}\n",
      "755427 {'company': 'Al Raqeeb Buildings General Contracting Co.', 'headquarters': 'KW', 'sectors': {'Construction & building materials': ['Construction']}}\n",
      "755459 {'company': 'Abbott Laboratories', 'headquarters': 'US', 'sectors': {'Health Sector': ['Pharmaceutical']}}\n",
      "755460 {'company': 'Alcoa', 'headquarters': 'US', 'sectors': {'Metals/plastics/basic materials': ['Metals & steel']}}\n",
      "755461 {'company': 'Anglo American', 'headquarters': 'GB', 'sectors': {'Natural resources': ['Mining']}}\n",
      "755462 {'company': 'AstraZeneca', 'headquarters': 'GB', 'sectors': {'Health Sector': ['Pharmaceutical']}}\n",
      "755463 {'company': 'Abelle', 'headquarters': 'AU', 'sectors': {'Natural resources': ['Mining']}}\n",
      "755464 {'company': 'Abercrombie & Fitch', 'headquarters': 'US', 'sectors': {}}\n"
     ]
    }
   ],
   "source": [
    "for i, (k,v) in enumerate(companies_info.items()):\n",
    "    print(k, v)\n",
    "    if i == 10: break "
   ]
  },
  {
   "cell_type": "code",
   "execution_count": 9,
   "metadata": {},
   "outputs": [],
   "source": [
    "companies = [info[\"company\"] for info in companies_info.values()]"
   ]
  },
  {
   "cell_type": "markdown",
   "metadata": {},
   "source": [
    "## Checking if duplicate companies"
   ]
  },
  {
   "cell_type": "code",
   "execution_count": 10,
   "metadata": {},
   "outputs": [
    {
     "data": {
      "text/plain": [
       "58"
      ]
     },
     "execution_count": 10,
     "metadata": {},
     "output_type": "execute_result"
    }
   ],
   "source": [
    "dup_comp_idxs = np.arange(len(companies))[pd.DataFrame(companies).duplicated()]\n",
    "dup_comp = [companies[i] for i in dup_comp_idxs]\n",
    "len(dup_comp)"
   ]
  },
  {
   "cell_type": "code",
   "execution_count": 11,
   "metadata": {},
   "outputs": [
    {
     "data": {
      "text/plain": [
       "'Favorita Fruit Company'"
      ]
     },
     "execution_count": 11,
     "metadata": {},
     "output_type": "execute_result"
    }
   ],
   "source": [
    "dup_comp[10]"
   ]
  },
  {
   "cell_type": "markdown",
   "metadata": {},
   "source": [
    "## Converting companies as keys and merging info for same companies"
   ]
  },
  {
   "cell_type": "code",
   "execution_count": 12,
   "metadata": {},
   "outputs": [
    {
     "name": "stderr",
     "output_type": "stream",
     "text": [
      "                                         \r"
     ]
    }
   ],
   "source": [
    "companies_info_new = {}\n",
    "for k, v in tqdm(companies_info.items(), leave=False):\n",
    "    if v[\"company\"] not in companies_info_new:\n",
    "        info = {\"id\": [k], \"headquarters\": [v[\"headquarters\"]], \"sectors\": v[\"sectors\"]}\n",
    "        companies_info_new[v[\"company\"]] = info\n",
    "    else: \n",
    "        info = deepcopy(companies_info_new[v[\"company\"]])\n",
    "        \n",
    "        info[\"id\"].append(k)\n",
    "        info[\"headquarters\"].append(v[\"headquarters\"])\n",
    "        for k2, v2 in v[\"sectors\"].items():\n",
    "            if k2 in info[\"sectors\"]:\n",
    "                info[\"sectors\"][k2] += v2\n",
    "            else:\n",
    "                info[\"sectors\"][k2] = v2   \n",
    "                \n",
    "#         info[\"id\"] = np.unique(info[\"id\"]).tolist()\n",
    "#         info[\"headquarters\"] = np.unique(info[\"headquarters\"]).tolist()\n",
    "        \n",
    "#         for k3, v3 in info[\"sectors\"].items():\n",
    "#             info[\"sectors\"][k3] = np.unique(v3).tolist()\n",
    "        \n",
    "        companies_info_new[v[\"company\"]] = info"
   ]
  },
  {
   "cell_type": "code",
   "execution_count": 13,
   "metadata": {},
   "outputs": [
    {
     "data": {
      "text/plain": [
       "(19690, 19632)"
      ]
     },
     "execution_count": 13,
     "metadata": {},
     "output_type": "execute_result"
    }
   ],
   "source": [
    "len(companies_info), len(companies_info_new)"
   ]
  },
  {
   "cell_type": "code",
   "execution_count": 14,
   "metadata": {},
   "outputs": [
    {
     "name": "stdout",
     "output_type": "stream",
     "text": [
      "Eolus Vind {'id': ['755391'], 'headquarters': ['SE'], 'sectors': {'Energy': ['Wind energy']}}\n",
      "Aquila Capital {'id': ['755392'], 'headquarters': ['DE'], 'sectors': {'Finance': ['Finance & banking']}}\n",
      "Banco Internacional de Moçambique - International Bank of Mozambique {'id': ['755402'], 'headquarters': ['MZ'], 'sectors': {'Finance': ['Finance & banking']}}\n",
      "Fábrica de Explosivos de Moçambique {'id': ['755404'], 'headquarters': ['MZ'], 'sectors': {'Chemical': ['Chemical: General']}}\n",
      "Al Raqeeb Buildings General Contracting Co. {'id': ['755427'], 'headquarters': ['KW'], 'sectors': {'Construction & building materials': ['Construction']}}\n",
      "Abbott Laboratories {'id': ['755459'], 'headquarters': ['US'], 'sectors': {'Health Sector': ['Pharmaceutical']}}\n",
      "Alcoa {'id': ['755460'], 'headquarters': ['US'], 'sectors': {'Metals/plastics/basic materials': ['Metals & steel']}}\n",
      "Anglo American {'id': ['755461'], 'headquarters': ['GB'], 'sectors': {'Natural resources': ['Mining']}}\n",
      "AstraZeneca {'id': ['755462'], 'headquarters': ['GB'], 'sectors': {'Health Sector': ['Pharmaceutical']}}\n",
      "Abelle {'id': ['755463'], 'headquarters': ['AU'], 'sectors': {'Natural resources': ['Mining']}}\n",
      "Abercrombie & Fitch {'id': ['755464'], 'headquarters': ['US'], 'sectors': {}}\n"
     ]
    }
   ],
   "source": [
    "for i, (k,v) in enumerate(companies_info_new.items()):\n",
    "    print(k, v)\n",
    "    if i == 10: break "
   ]
  },
  {
   "cell_type": "code",
   "execution_count": 15,
   "metadata": {},
   "outputs": [],
   "source": [
    "companies = list(companies_info_new.keys())"
   ]
  },
  {
   "cell_type": "code",
   "execution_count": 16,
   "metadata": {},
   "outputs": [],
   "source": [
    "statements = pd.read_excel(os.path.join(PROJECT_PATH, DATA_PATH, \"sheets\",\"subset_data.xlsx\"))"
   ]
  },
  {
   "cell_type": "code",
   "execution_count": 17,
   "metadata": {},
   "outputs": [
    {
     "data": {
      "text/html": [
       "<div>\n",
       "<style scoped>\n",
       "    .dataframe tbody tr th:only-of-type {\n",
       "        vertical-align: middle;\n",
       "    }\n",
       "\n",
       "    .dataframe tbody tr th {\n",
       "        vertical-align: top;\n",
       "    }\n",
       "\n",
       "    .dataframe thead th {\n",
       "        text-align: right;\n",
       "    }\n",
       "</style>\n",
       "<table border=\"1\" class=\"dataframe\">\n",
       "  <thead>\n",
       "    <tr style=\"text-align: right;\">\n",
       "      <th></th>\n",
       "      <th>URL</th>\n",
       "      <th>Company</th>\n",
       "      <th>final_statement</th>\n",
       "      <th>years_with_and_without_act</th>\n",
       "      <th>years_with_act</th>\n",
       "      <th>final_statement_cleaned</th>\n",
       "      <th>len(final_statement_cleaned)</th>\n",
       "    </tr>\n",
       "  </thead>\n",
       "  <tbody>\n",
       "    <tr>\n",
       "      <th>0</th>\n",
       "      <td>https://img1.wsimg.com/blobby/go/7695baff-3f0f...</td>\n",
       "      <td>\"K\" Line Holding Europe Limited</td>\n",
       "      <td>66 99 “K” Line Holding (Europe) Limited kM K L...</td>\n",
       "      <td>['2015', '2019', '2018']</td>\n",
       "      <td>['2015', '2019']</td>\n",
       "      <td>66 99 km sh foor eum hold europe ltd 200 alder...</td>\n",
       "      <td>1873</td>\n",
       "    </tr>\n",
       "    <tr>\n",
       "      <th>1</th>\n",
       "      <td>https://1spatial.com/who-we-are/legal/modern-s...</td>\n",
       "      <td>1Spatial Plc</td>\n",
       "      <td>1Spatial Modern Slavery Act Policy Statement H...</td>\n",
       "      <td>['2015']</td>\n",
       "      <td>['2015']</td>\n",
       "      <td>home solution government boundary law enforcem...</td>\n",
       "      <td>2128</td>\n",
       "    </tr>\n",
       "    <tr>\n",
       "      <th>2</th>\n",
       "      <td>https://www.shazans.com/slavery-and-human-traf...</td>\n",
       "      <td>1Stop Halal Limited</td>\n",
       "      <td>Slavery and Human Trafficking Statement – Shaz...</td>\n",
       "      <td>['2015', '2019', '2018']</td>\n",
       "      <td>['2015', '2018']</td>\n",
       "      <td>shazans shazan food continue monitor covid 19 ...</td>\n",
       "      <td>1840</td>\n",
       "    </tr>\n",
       "    <tr>\n",
       "      <th>3</th>\n",
       "      <td>https://www.business-humanrights.org/sites/def...</td>\n",
       "      <td>1st Step Solutions Limited</td>\n",
       "      <td>7/28/2019 Modern Slavery Statement 2018 - 1st ...</td>\n",
       "      <td>['2015', '2019', '2018']</td>\n",
       "      <td>['2015', '2018']</td>\n",
       "      <td>28 2019 2018 statement make pursuant sec 54 20...</td>\n",
       "      <td>1843</td>\n",
       "    </tr>\n",
       "    <tr>\n",
       "      <th>4</th>\n",
       "      <td>https://www.2agriculture.com/wp-content/upload...</td>\n",
       "      <td>2 Agriculture Limited</td>\n",
       "      <td>fh Modern Slavery Act 2015: slavery and human ...</td>\n",
       "      <td>['2015', '2019', '2018']</td>\n",
       "      <td>['2015', '2018']</td>\n",
       "      <td>fh 2015 introduction uk act require business s...</td>\n",
       "      <td>1372</td>\n",
       "    </tr>\n",
       "  </tbody>\n",
       "</table>\n",
       "</div>"
      ],
      "text/plain": [
       "                                                 URL  \\\n",
       "0  https://img1.wsimg.com/blobby/go/7695baff-3f0f...   \n",
       "1  https://1spatial.com/who-we-are/legal/modern-s...   \n",
       "2  https://www.shazans.com/slavery-and-human-traf...   \n",
       "3  https://www.business-humanrights.org/sites/def...   \n",
       "4  https://www.2agriculture.com/wp-content/upload...   \n",
       "\n",
       "                           Company  \\\n",
       "0  \"K\" Line Holding Europe Limited   \n",
       "1                     1Spatial Plc   \n",
       "2              1Stop Halal Limited   \n",
       "3       1st Step Solutions Limited   \n",
       "4            2 Agriculture Limited   \n",
       "\n",
       "                                     final_statement  \\\n",
       "0  66 99 “K” Line Holding (Europe) Limited kM K L...   \n",
       "1  1Spatial Modern Slavery Act Policy Statement H...   \n",
       "2  Slavery and Human Trafficking Statement – Shaz...   \n",
       "3  7/28/2019 Modern Slavery Statement 2018 - 1st ...   \n",
       "4  fh Modern Slavery Act 2015: slavery and human ...   \n",
       "\n",
       "  years_with_and_without_act    years_with_act  \\\n",
       "0   ['2015', '2019', '2018']  ['2015', '2019']   \n",
       "1                   ['2015']          ['2015']   \n",
       "2   ['2015', '2019', '2018']  ['2015', '2018']   \n",
       "3   ['2015', '2019', '2018']  ['2015', '2018']   \n",
       "4   ['2015', '2019', '2018']  ['2015', '2018']   \n",
       "\n",
       "                             final_statement_cleaned  \\\n",
       "0  66 99 km sh foor eum hold europe ltd 200 alder...   \n",
       "1  home solution government boundary law enforcem...   \n",
       "2  shazans shazan food continue monitor covid 19 ...   \n",
       "3  28 2019 2018 statement make pursuant sec 54 20...   \n",
       "4  fh 2015 introduction uk act require business s...   \n",
       "\n",
       "   len(final_statement_cleaned)  \n",
       "0                          1873  \n",
       "1                          2128  \n",
       "2                          1840  \n",
       "3                          1843  \n",
       "4                          1372  "
      ]
     },
     "execution_count": 17,
     "metadata": {},
     "output_type": "execute_result"
    }
   ],
   "source": [
    "statements.head()"
   ]
  },
  {
   "cell_type": "markdown",
   "metadata": {},
   "source": [
    "## Processing company names (str) for better matching"
   ]
  },
  {
   "cell_type": "code",
   "execution_count": 18,
   "metadata": {},
   "outputs": [
    {
     "data": {
      "text/plain": [
       "(9993, 8177, 19690, 19632)"
      ]
     },
     "execution_count": 18,
     "metadata": {},
     "output_type": "execute_result"
    }
   ],
   "source": [
    "statements_companies = deepcopy(statements[\"Company\"].to_frame())\n",
    "statements_companies.drop_duplicates(inplace=True)\n",
    "statements_companies[\"processed_company\"] = statements_companies[\"Company\"].apply(lambda x: x.lower().strip())\n",
    "\n",
    "json_companies = pd.DataFrame(data=[(comp, comp.lower().strip()) for comp in companies], columns=[\"json\", \"processed_company\"])\n",
    "\n",
    "len(statements), len(statements_companies), len(companies_info), len(json_companies)"
   ]
  },
  {
   "cell_type": "markdown",
   "metadata": {},
   "source": [
    "## Filter out companies for which we got exact match and for which we require fuzzy matching"
   ]
  },
  {
   "cell_type": "code",
   "execution_count": 19,
   "metadata": {},
   "outputs": [
    {
     "data": {
      "text/plain": [
       "(8177, 5922, 2255)"
      ]
     },
     "execution_count": 19,
     "metadata": {},
     "output_type": "execute_result"
    }
   ],
   "source": [
    "exact_match_df = pd.merge(left=statements_companies, right=json_companies, on=\"processed_company\", how=\"inner\")\n",
    "fuzzy_match_df = statements_companies[~statements_companies[\"Company\"].isin(exact_match_df[\"Company\"])]\n",
    "\n",
    "len(statements_companies), len(exact_match_df), len(fuzzy_match_df)"
   ]
  },
  {
   "cell_type": "code",
   "execution_count": 20,
   "metadata": {},
   "outputs": [
    {
     "data": {
      "text/html": [
       "<div>\n",
       "<style scoped>\n",
       "    .dataframe tbody tr th:only-of-type {\n",
       "        vertical-align: middle;\n",
       "    }\n",
       "\n",
       "    .dataframe tbody tr th {\n",
       "        vertical-align: top;\n",
       "    }\n",
       "\n",
       "    .dataframe thead th {\n",
       "        text-align: right;\n",
       "    }\n",
       "</style>\n",
       "<table border=\"1\" class=\"dataframe\">\n",
       "  <thead>\n",
       "    <tr style=\"text-align: right;\">\n",
       "      <th></th>\n",
       "      <th>Company</th>\n",
       "      <th>processed_company</th>\n",
       "      <th>json</th>\n",
       "    </tr>\n",
       "  </thead>\n",
       "  <tbody>\n",
       "    <tr>\n",
       "      <th>0</th>\n",
       "      <td>1Spatial Plc</td>\n",
       "      <td>1spatial plc</td>\n",
       "      <td>1Spatial Plc</td>\n",
       "    </tr>\n",
       "    <tr>\n",
       "      <th>1</th>\n",
       "      <td>1Stop Halal Limited</td>\n",
       "      <td>1stop halal limited</td>\n",
       "      <td>1Stop Halal Limited</td>\n",
       "    </tr>\n",
       "    <tr>\n",
       "      <th>2</th>\n",
       "      <td>1st Step Solutions Limited</td>\n",
       "      <td>1st step solutions limited</td>\n",
       "      <td>1st Step Solutions Limited</td>\n",
       "    </tr>\n",
       "    <tr>\n",
       "      <th>3</th>\n",
       "      <td>2 Agriculture Limited</td>\n",
       "      <td>2 agriculture limited</td>\n",
       "      <td>2 Agriculture Limited</td>\n",
       "    </tr>\n",
       "    <tr>\n",
       "      <th>4</th>\n",
       "      <td>22 Bishopsgate (Devco) Limited</td>\n",
       "      <td>22 bishopsgate (devco) limited</td>\n",
       "      <td>22 Bishopsgate (Devco) Limited</td>\n",
       "    </tr>\n",
       "  </tbody>\n",
       "</table>\n",
       "</div>"
      ],
      "text/plain": [
       "                          Company               processed_company  \\\n",
       "0                    1Spatial Plc                    1spatial plc   \n",
       "1             1Stop Halal Limited             1stop halal limited   \n",
       "2      1st Step Solutions Limited      1st step solutions limited   \n",
       "3           2 Agriculture Limited           2 agriculture limited   \n",
       "4  22 Bishopsgate (Devco) Limited  22 bishopsgate (devco) limited   \n",
       "\n",
       "                             json  \n",
       "0                    1Spatial Plc  \n",
       "1             1Stop Halal Limited  \n",
       "2      1st Step Solutions Limited  \n",
       "3           2 Agriculture Limited  \n",
       "4  22 Bishopsgate (Devco) Limited  "
      ]
     },
     "execution_count": 20,
     "metadata": {},
     "output_type": "execute_result"
    }
   ],
   "source": [
    "exact_match_df.head()"
   ]
  },
  {
   "cell_type": "code",
   "execution_count": 21,
   "metadata": {},
   "outputs": [
    {
     "data": {
      "text/html": [
       "<div>\n",
       "<style scoped>\n",
       "    .dataframe tbody tr th:only-of-type {\n",
       "        vertical-align: middle;\n",
       "    }\n",
       "\n",
       "    .dataframe tbody tr th {\n",
       "        vertical-align: top;\n",
       "    }\n",
       "\n",
       "    .dataframe thead th {\n",
       "        text-align: right;\n",
       "    }\n",
       "</style>\n",
       "<table border=\"1\" class=\"dataframe\">\n",
       "  <thead>\n",
       "    <tr style=\"text-align: right;\">\n",
       "      <th></th>\n",
       "      <th>Company</th>\n",
       "      <th>processed_company</th>\n",
       "    </tr>\n",
       "  </thead>\n",
       "  <tbody>\n",
       "    <tr>\n",
       "      <th>0</th>\n",
       "      <td>\"K\" Line Holding Europe Limited</td>\n",
       "      <td>\"k\" line holding europe limited</td>\n",
       "    </tr>\n",
       "    <tr>\n",
       "      <th>6</th>\n",
       "      <td>2 Moto Limited</td>\n",
       "      <td>2 moto limited</td>\n",
       "    </tr>\n",
       "    <tr>\n",
       "      <th>7</th>\n",
       "      <td>2 Sisters Food Group Limited</td>\n",
       "      <td>2 sisters food group limited</td>\n",
       "    </tr>\n",
       "    <tr>\n",
       "      <th>11</th>\n",
       "      <td>3M Company</td>\n",
       "      <td>3m company</td>\n",
       "    </tr>\n",
       "    <tr>\n",
       "      <th>12</th>\n",
       "      <td>3M United Kingdom plc</td>\n",
       "      <td>3m united kingdom plc</td>\n",
       "    </tr>\n",
       "  </tbody>\n",
       "</table>\n",
       "</div>"
      ],
      "text/plain": [
       "                            Company                processed_company\n",
       "0   \"K\" Line Holding Europe Limited  \"k\" line holding europe limited\n",
       "6                    2 Moto Limited                   2 moto limited\n",
       "7      2 Sisters Food Group Limited     2 sisters food group limited\n",
       "11                       3M Company                       3m company\n",
       "12            3M United Kingdom plc            3m united kingdom plc"
      ]
     },
     "execution_count": 21,
     "metadata": {},
     "output_type": "execute_result"
    }
   ],
   "source": [
    "fuzzy_match_df.head()"
   ]
  },
  {
   "cell_type": "markdown",
   "metadata": {},
   "source": [
    "## Add additional info for exact matches"
   ]
  },
  {
   "cell_type": "code",
   "execution_count": 22,
   "metadata": {},
   "outputs": [
    {
     "name": "stderr",
     "output_type": "stream",
     "text": [
      "                          \r"
     ]
    }
   ],
   "source": [
    "exact_match_list = []\n",
    "for r1 in tqdm(exact_match_df.iterrows(), leave=False):\n",
    "\n",
    "    r1 = r1[1:][0].to_dict()\n",
    "    \n",
    "    for r2 in statements[statements[\"Company\"]==r1[\"Company\"]].iterrows():\n",
    "        info = r2[1:][0].to_dict()\n",
    "        \n",
    "        additional_info = deepcopy(companies_info_new[r1[\"json\"]])\n",
    "        additional_info[\"matched_company\"] = r1[\"json\"]\n",
    "        \n",
    "        info[\"additional_info\"] = additional_info\n",
    "        \n",
    "        exact_match_list.append(info)"
   ]
  },
  {
   "cell_type": "code",
   "execution_count": 23,
   "metadata": {},
   "outputs": [
    {
     "data": {
      "text/plain": [
       "7198"
      ]
     },
     "execution_count": 23,
     "metadata": {},
     "output_type": "execute_result"
    }
   ],
   "source": [
    "len(exact_match_list)"
   ]
  },
  {
   "cell_type": "code",
   "execution_count": 24,
   "metadata": {},
   "outputs": [
    {
     "data": {
      "text/plain": [
       "{'URL': 'https://www.asmtech.com/wp-content/uploads/2018/06/slavery.pdf',\n",
       " 'Company': 'ASM Technologies Limited',\n",
       " 'final_statement': 'ASM Technologies Limited Anti-Slavery and Human Trafficking Statement We are committed to improving our practices to combat slavery and human trafficking. The Modern Slavery Act 2015 (the “Act”) requires us to disclose information regarding our efforts to assist with the eradication of slavery and human trafficking from our supply chain and within our own business. Our Structure We deliver agile technology distribution across the IT channel concentrating on Tier 2 and 3 brands. ASM Technologies Limited has a 100% subsidiary, ASM Technologies GmbH, based in Germany. We have a combined workforce of 70 employees, principally based and operating out of the UK. Our Policies on slavery and human trafficking Slavery and human trafficking are illegal and a violation of human rights. There are many forms of modern slavery, which involve a person losing their freedom or being exploited by another for commercial gain. We have a zero tolerance approach to modern slavery and human trafficking. We expect this to be embedded within all our business dealings and expect vendors, customers and other business partners to adopt a similar high standard of approach. Due Diligence As part of our initiatives we have reviewed the anti-slavery statements, where applicable, of our major partners. We are reassured that their policies and procedures in the main, help to eradicate slavery and human trafficking. Compliance We have controls in place we feel are appropriate to ensure that our employees have the right to work and are thus protected by employment legislation. This includes checking right to work documents, passports and visas as appropriate. We do not knowingly employ those that would be considered child workers. Where work experience is offered to young or inexperienced workers, then they are subject to the rights and protections offered to all our workers. We expect our vendors to operate fully within the laws and regulations in country, including regarding slavery and human trafficking. This is taken account of when choosing and retaining such vendors. Responsibility ASM’s Finance Director, has overall responsibility for ensuring this statement complies with our legal and ethical obligations. He also has responsibility for updating the policy to reflect future changes in legislation. All employees are encouraged to raise concerns about any suspicions they have on slavery or human trafficking, in any part of our business or supply chain. This statement is made pursuant to section 54(1) of the Act and constitutes our anti-slavery and human trafficking statement for the year ended 31° March 2018 Signed: CJ Swallow FCA- Finance Director ASM Technologies Limited 17\" May 2018',\n",
       " 'years_with_and_without_act': \"['2015', '2018']\",\n",
       " 'years_with_act': \"['2015', '2018']\",\n",
       " 'final_statement_cleaned': 'anti commit improving practice combat human traffic 2015 act require us disclose information regard effort assist eradication supply chain within business structure deliver agile technology distribution across channel concentrate tier brand 100 subsidiary gmbh base germany combine workforce 70 employee principally operate uk policy illegal violation right many form involve person lose freedom exploit another commercial gain zero tolerance approach expect embed dealing vendor customer partner adopt similar high standard due diligence part initiatives review statement applicable major reassure procedure main help eradicate compliance control place feel appropriate ensure right work thus protected employment legislation include check document passports visas knowingly employ would consider child worker experience offer young inexperienced subject protection operate fully law regulation country include take account choose retain responsibility finance director overall ensure statement complies legal ethical obligation also update policy reflect future change encourage raise concern suspicion make pursuant section 54 constitutes year end 31 march 2018 sign cj swallow fca 17 may',\n",
       " 'len(final_statement_cleaned)': 1191,\n",
       " 'additional_info': {'id': ['904156'],\n",
       "  'headquarters': ['GB'],\n",
       "  'sectors': {},\n",
       "  'matched_company': 'ASM Technologies Limited'}}"
      ]
     },
     "execution_count": 24,
     "metadata": {},
     "output_type": "execute_result"
    }
   ],
   "source": [
    "exact_match_list[100]"
   ]
  },
  {
   "cell_type": "code",
   "execution_count": 25,
   "metadata": {},
   "outputs": [],
   "source": [
    "# fuzz.ratio(\"Catherine M. Gitau\",\"Gitau Catherine\"), fuzz.partial_ratio(\"Catherine M. Gitau\",\"Gitau Catherine\"), fuzz.token_sort_ratio(\"Catherine M. Gitau\", \"Gitau Catherine\")"
   ]
  },
  {
   "cell_type": "markdown",
   "metadata": {},
   "source": [
    "## Fuzzy Matching"
   ]
  },
  {
   "cell_type": "code",
   "execution_count": 26,
   "metadata": {},
   "outputs": [
    {
     "data": {
      "text/html": [
       "<div>\n",
       "<style scoped>\n",
       "    .dataframe tbody tr th:only-of-type {\n",
       "        vertical-align: middle;\n",
       "    }\n",
       "\n",
       "    .dataframe tbody tr th {\n",
       "        vertical-align: top;\n",
       "    }\n",
       "\n",
       "    .dataframe thead th {\n",
       "        text-align: right;\n",
       "    }\n",
       "</style>\n",
       "<table border=\"1\" class=\"dataframe\">\n",
       "  <thead>\n",
       "    <tr style=\"text-align: right;\">\n",
       "      <th></th>\n",
       "      <th>Company</th>\n",
       "      <th>processed_company</th>\n",
       "    </tr>\n",
       "  </thead>\n",
       "  <tbody>\n",
       "    <tr>\n",
       "      <th>0</th>\n",
       "      <td>\"K\" Line Holding Europe Limited</td>\n",
       "      <td>\"k\" line holding europe limited</td>\n",
       "    </tr>\n",
       "    <tr>\n",
       "      <th>6</th>\n",
       "      <td>2 Moto Limited</td>\n",
       "      <td>2 moto limited</td>\n",
       "    </tr>\n",
       "    <tr>\n",
       "      <th>7</th>\n",
       "      <td>2 Sisters Food Group Limited</td>\n",
       "      <td>2 sisters food group limited</td>\n",
       "    </tr>\n",
       "    <tr>\n",
       "      <th>11</th>\n",
       "      <td>3M Company</td>\n",
       "      <td>3m company</td>\n",
       "    </tr>\n",
       "    <tr>\n",
       "      <th>12</th>\n",
       "      <td>3M United Kingdom plc</td>\n",
       "      <td>3m united kingdom plc</td>\n",
       "    </tr>\n",
       "  </tbody>\n",
       "</table>\n",
       "</div>"
      ],
      "text/plain": [
       "                            Company                processed_company\n",
       "0   \"K\" Line Holding Europe Limited  \"k\" line holding europe limited\n",
       "6                    2 Moto Limited                   2 moto limited\n",
       "7      2 Sisters Food Group Limited     2 sisters food group limited\n",
       "11                       3M Company                       3m company\n",
       "12            3M United Kingdom plc            3m united kingdom plc"
      ]
     },
     "execution_count": 26,
     "metadata": {},
     "output_type": "execute_result"
    }
   ],
   "source": [
    "fuzzy_match_df.head()"
   ]
  },
  {
   "cell_type": "code",
   "execution_count": 27,
   "metadata": {},
   "outputs": [
    {
     "name": "stderr",
     "output_type": "stream",
     "text": [
      "                                               "
     ]
    },
    {
     "name": "stdout",
     "output_type": "stream",
     "text": [
      "CPU times: user 8.08 s, sys: 21.1 ms, total: 8.1 s\n",
      "Wall time: 8.09 s\n"
     ]
    },
    {
     "name": "stderr",
     "output_type": "stream",
     "text": [
      "\r"
     ]
    }
   ],
   "source": [
    "%%time\n",
    "num_best_match = 5\n",
    "best_matches = {}\n",
    "\n",
    "for comp1 in tqdm(fuzzy_match_df[\"processed_company\"].values[:10], leave=False):\n",
    "    scores = [\n",
    "        fuzz.partial_ratio(comp1, comp2.lower().strip()) + \n",
    "        fuzz.token_set_ratio(comp1, comp2.lower().strip()) for comp2 in companies]\n",
    "    best_match_idxs = np.argsort(scores)[-num_best_match:][::-1]\n",
    "    best_matches[comp1] = {companies[idx]: scores[idx]//2 for idx in best_match_idxs}"
   ]
  },
  {
   "cell_type": "code",
   "execution_count": 28,
   "metadata": {},
   "outputs": [
    {
     "data": {
      "text/plain": [
       "{'\"k\" line holding europe limited': {'K Line': 91,\n",
       "  'TWG Europe Limited': 88,\n",
       "  'NDK Europe Limited': 88,\n",
       "  'KCG Europe Limited': 88,\n",
       "  'EE Limited': 86},\n",
       " '2 moto limited': {'M53 Motors Limited': 83,\n",
       "  'Otis Limited': 82,\n",
       "  'Moto Investments Limited': 81,\n",
       "  'QA Limited': 81,\n",
       "  'EE Limited': 81},\n",
       " '2 sisters food group limited': {'2 Sisters Food Group': 100,\n",
       "  'JS Group Limited': 89,\n",
       "  'HF Group Limited': 89,\n",
       "  'FK Group Limited': 89,\n",
       "  'SC Group Limited': 89},\n",
       " '3m company': {'3M': 100,\n",
       "  'National Gypsum Company (New NGC)': 86,\n",
       "  'Siberian Urals Aluminium Company (SUAL)': 86,\n",
       "  'Zoeller Pump Company': 86,\n",
       "  'Ndola Lime Company': 86},\n",
       " '3m united kingdom plc': {'3M': 100,\n",
       "  'EPC United Kingdom plc': 91,\n",
       "  'CPM United Kingdom Limited': 83,\n",
       "  'CSM (United Kingdom) Limited': 83,\n",
       "  'Sudzucker United Kingdom Limited': 80},\n",
       " '3i group plc': {'3i': 100,\n",
       "  'Ei Group plc': 92,\n",
       "  'API Group plc': 90,\n",
       "  'FIH Group Plc': 90,\n",
       "  'Christie Group plc': 89},\n",
       " '4imprint group plc': {'Ei Group plc': 84,\n",
       "  'S Group': 84,\n",
       "  'GB Group plc': 84,\n",
       "  'Yu Group plc': 84,\n",
       "  'IFG Group plc': 83},\n",
       " 'a m phillip trucktech limited': {'EE Limited': 81,\n",
       "  'QA Limited': 81,\n",
       "  'BHH Limited': 80,\n",
       "  'HGF Limited': 80,\n",
       "  'BRC Limited': 80},\n",
       " 'a. & h. construction and developments plc': {'MS Construction': 88,\n",
       "  'Al Ali Construction and Development': 84,\n",
       "  'QBS Construction': 83,\n",
       "  'L&M Construction': 83,\n",
       "  'CAST construction': 79},\n",
       " 'a. clarke & co (smethwick) limited': {'EE Limited': 81,\n",
       "  'QA Limited': 81,\n",
       "  'WGC Limited': 80,\n",
       "  'BOC Limited': 80,\n",
       "  'BCM Limited': 80}}"
      ]
     },
     "execution_count": 28,
     "metadata": {},
     "output_type": "execute_result"
    }
   ],
   "source": [
    "best_matches"
   ]
  },
  {
   "cell_type": "markdown",
   "metadata": {},
   "source": [
    "## Using HPC"
   ]
  },
  {
   "cell_type": "code",
   "execution_count": 29,
   "metadata": {},
   "outputs": [
    {
     "data": {
      "application/vnd.jupyter.widget-view+json": {
       "model_id": "3b53ac7319e54fa9b7f71763366a3ceb",
       "version_major": 2,
       "version_minor": 0
      },
      "text/plain": [
       "VBox(children=(HTML(value='<h2>PBSCluster</h2>'), HBox(children=(HTML(value='\\n<div>\\n  <style scoped>\\n    .d…"
      ]
     },
     "metadata": {},
     "output_type": "display_data"
    }
   ],
   "source": [
    "N_WORKERS = 16 # number of parallel threads \n",
    "CORES = 64 # cores_per_worker = cores/ n_workers\n",
    "MEMORY = \"64GB\" # memory_per_worker = memory/ n_workers\n",
    "\n",
    "cluster = PBSCluster(\n",
    "    n_workers=N_WORKERS,\n",
    "    cores=CORES,\n",
    "    memory=MEMORY)\n",
    "\n",
    "cluster"
   ]
  },
  {
   "cell_type": "code",
   "execution_count": 30,
   "metadata": {},
   "outputs": [],
   "source": [
    "client = Client(cluster)"
   ]
  },
  {
   "cell_type": "code",
   "execution_count": 31,
   "metadata": {},
   "outputs": [
    {
     "name": "stdout",
     "output_type": "stream",
     "text": [
      "CPU times: user 271 ms, sys: 29.3 ms, total: 301 ms\n",
      "Wall time: 9.74 s\n"
     ]
    }
   ],
   "source": [
    "%%time\n",
    "def test(a, b):\n",
    "    return a + b\n",
    "results_future = {}\n",
    "for i in range(10):\n",
    "    results_future[i] = client.submit(test, a=10+i, b=10+i)\n",
    "results = client.gather(results_future)"
   ]
  },
  {
   "cell_type": "code",
   "execution_count": 32,
   "metadata": {},
   "outputs": [],
   "source": [
    "# cluster.scale(n=16, jobs=4, memory=48, cores=48)"
   ]
  },
  {
   "cell_type": "code",
   "execution_count": 33,
   "metadata": {},
   "outputs": [
    {
     "name": "stdout",
     "output_type": "stream",
     "text": [
      "CPU times: user 651 ms, sys: 62.4 ms, total: 713 ms\n",
      "Wall time: 674 ms\n"
     ]
    }
   ],
   "source": [
    "%%time\n",
    "def test(a, b):\n",
    "    return a + b\n",
    "results_future = {}\n",
    "for i in range(1000):\n",
    "    results_future[i] = client.submit(test, a=10+i, b=10+i)\n",
    "results = client.gather(results_future)"
   ]
  },
  {
   "cell_type": "code",
   "execution_count": 34,
   "metadata": {},
   "outputs": [
    {
     "data": {
      "text/plain": [
       "(19690, 19632, 0.14983367919921875)"
      ]
     },
     "execution_count": 34,
     "metadata": {},
     "output_type": "execute_result"
    }
   ],
   "source": [
    "len(companies_info), len(companies), getsizeof(companies)/(1024*1024)"
   ]
  },
  {
   "cell_type": "code",
   "execution_count": 35,
   "metadata": {},
   "outputs": [],
   "source": [
    "def distributed_match(\n",
    "    comp1:str,\n",
    "    companies: List[str], \n",
    "    num_best_match: int) -> List[int]:\n",
    "    \n",
    "    scores = [\n",
    "        fuzz.partial_ratio(comp1, comp2.lower().strip()) + \n",
    "        fuzz.token_set_ratio(comp1, comp2.lower().strip()) for comp2 in companies]\n",
    "    best_match_idxs = np.argsort(scores)[-num_best_match:][::-1]\n",
    "    return [{companies[idx]: scores[idx]//2 for idx in best_match_idxs}]"
   ]
  },
  {
   "cell_type": "code",
   "execution_count": 36,
   "metadata": {},
   "outputs": [],
   "source": [
    "[broadcasted_companies] = client.scatter(deepcopy([companies]), broadcast=True)"
   ]
  },
  {
   "cell_type": "code",
   "execution_count": 37,
   "metadata": {},
   "outputs": [
    {
     "name": "stderr",
     "output_type": "stream",
     "text": [
      "                                                     \r"
     ]
    }
   ],
   "source": [
    "results_future = {}\n",
    "n = 5\n",
    "for comp in tqdm(fuzzy_match_df[\"processed_company\"].values, leave=False):\n",
    "    results_future[comp] = client.submit(\n",
    "        distributed_match, \n",
    "        comp1=comp,\n",
    "        companies=broadcasted_companies, \n",
    "        num_best_match=n)"
   ]
  },
  {
   "cell_type": "code",
   "execution_count": 38,
   "metadata": {},
   "outputs": [],
   "source": [
    "# len(client.get_versions(check=True)[\"workers\"])"
   ]
  },
  {
   "cell_type": "code",
   "execution_count": 39,
   "metadata": {},
   "outputs": [],
   "source": [
    "# client.close()\n",
    "# client.cancel(results_future)"
   ]
  },
  {
   "cell_type": "code",
   "execution_count": 40,
   "metadata": {},
   "outputs": [
    {
     "name": "stdout",
     "output_type": "stream",
     "text": [
      "finished    2255\n",
      "dtype: int64\n"
     ]
    },
    {
     "ename": "KeyboardInterrupt",
     "evalue": "",
     "output_type": "error",
     "traceback": [
      "\u001b[0;31m---------------------------------------------------------------------------\u001b[0m",
      "\u001b[0;31mKeyboardInterrupt\u001b[0m                         Traceback (most recent call last)",
      "\u001b[0;32m<ipython-input-40-660443c45402>\u001b[0m in \u001b[0;36m<module>\u001b[0;34m\u001b[0m\n\u001b[1;32m      3\u001b[0m     \u001b[0mclear_output\u001b[0m\u001b[0;34m(\u001b[0m\u001b[0mwait\u001b[0m\u001b[0;34m=\u001b[0m\u001b[0;32mTrue\u001b[0m\u001b[0;34m)\u001b[0m\u001b[0;34m\u001b[0m\u001b[0;34m\u001b[0m\u001b[0m\n\u001b[1;32m      4\u001b[0m     \u001b[0mprint\u001b[0m\u001b[0;34m(\u001b[0m\u001b[0mpd\u001b[0m\u001b[0;34m.\u001b[0m\u001b[0mDataFrame\u001b[0m\u001b[0;34m(\u001b[0m\u001b[0;34m[\u001b[0m\u001b[0mresult\u001b[0m\u001b[0;34m.\u001b[0m\u001b[0mstatus\u001b[0m \u001b[0;32mfor\u001b[0m \u001b[0mresult\u001b[0m \u001b[0;32min\u001b[0m \u001b[0mresults_future\u001b[0m\u001b[0;34m.\u001b[0m\u001b[0mvalues\u001b[0m\u001b[0;34m(\u001b[0m\u001b[0;34m)\u001b[0m\u001b[0;34m]\u001b[0m\u001b[0;34m)\u001b[0m\u001b[0;34m.\u001b[0m\u001b[0mvalue_counts\u001b[0m\u001b[0;34m(\u001b[0m\u001b[0;34m)\u001b[0m\u001b[0;34m)\u001b[0m\u001b[0;34m\u001b[0m\u001b[0;34m\u001b[0m\u001b[0m\n\u001b[0;32m----> 5\u001b[0;31m     \u001b[0msleep\u001b[0m\u001b[0;34m(\u001b[0m\u001b[0;36m5\u001b[0m\u001b[0;34m)\u001b[0m\u001b[0;34m\u001b[0m\u001b[0;34m\u001b[0m\u001b[0m\n\u001b[0m",
      "\u001b[0;31mKeyboardInterrupt\u001b[0m: "
     ]
    }
   ],
   "source": [
    "statuses = pd.DataFrame([result.status for result in results_future.values()]).value_counts()\n",
    "while (\"finished\" not in statuses) or (statuses[\"finished\"] < len(results_future)):\n",
    "    clear_output(wait=True)\n",
    "    print(pd.DataFrame([result.status for result in results_future.values()]).value_counts())\n",
    "    sleep(5)"
   ]
  },
  {
   "cell_type": "code",
   "execution_count": 41,
   "metadata": {},
   "outputs": [
    {
     "name": "stderr",
     "output_type": "stream",
     "text": [
      "                                                    \r"
     ]
    }
   ],
   "source": [
    "results_gathered = {comp: client.gather(results_future[comp])[0] for comp in tqdm(results_future.keys(), leave=False) if results_future[comp].status==\"finished\"}"
   ]
  },
  {
   "cell_type": "code",
   "execution_count": 42,
   "metadata": {},
   "outputs": [
    {
     "data": {
      "text/plain": [
       "(2255, 2255)"
      ]
     },
     "execution_count": 42,
     "metadata": {},
     "output_type": "execute_result"
    }
   ],
   "source": [
    "len(results_future), len(results_gathered)"
   ]
  },
  {
   "cell_type": "markdown",
   "metadata": {},
   "source": [
    "### Checking number of successful (above threshold) fuzzy matches "
   ]
  },
  {
   "cell_type": "code",
   "execution_count": 69,
   "metadata": {},
   "outputs": [
    {
     "data": {
      "text/plain": [
       "1360"
      ]
     },
     "execution_count": 69,
     "metadata": {},
     "output_type": "execute_result"
    }
   ],
   "source": [
    "min_match_score = 90\n",
    "num_matches = 0\n",
    "for comp, matches in results_gathered.items():\n",
    "    if list(matches.values())[0] >= min_match_score: num_matches += 1\n",
    "\n",
    "num_matches"
   ]
  },
  {
   "cell_type": "code",
   "execution_count": 44,
   "metadata": {},
   "outputs": [
    {
     "name": "stdout",
     "output_type": "stream",
     "text": [
      "\"k\" line holding europe limited {'K Line': 91, 'TWG Europe Limited': 88, 'NDK Europe Limited': 88, 'KCG Europe Limited': 88, 'EE Limited': 86}\n",
      "2 moto limited {'M53 Motors Limited': 83, 'Otis Limited': 82, 'Moto Investments Limited': 81, 'QA Limited': 81, 'EE Limited': 81}\n",
      "2 sisters food group limited {'2 Sisters Food Group': 100, 'JS Group Limited': 89, 'HF Group Limited': 89, 'FK Group Limited': 89, 'SC Group Limited': 89}\n",
      "3m company {'3M': 100, 'National Gypsum Company (New NGC)': 86, 'Siberian Urals Aluminium Company (SUAL)': 86, 'Zoeller Pump Company': 86, 'Ndola Lime Company': 86}\n",
      "3m united kingdom plc {'3M': 100, 'EPC United Kingdom plc': 91, 'CPM United Kingdom Limited': 83, 'CSM (United Kingdom) Limited': 83, 'Sudzucker United Kingdom Limited': 80}\n",
      "3i group plc {'3i': 100, 'Ei Group plc': 92, 'API Group plc': 90, 'FIH Group Plc': 90, 'Christie Group plc': 89}\n",
      "4imprint group plc {'Ei Group plc': 84, 'S Group': 84, 'GB Group plc': 84, 'Yu Group plc': 84, 'IFG Group plc': 83}\n",
      "a m phillip trucktech limited {'EE Limited': 81, 'QA Limited': 81, 'BHH Limited': 80, 'HGF Limited': 80, 'BRC Limited': 80}\n",
      "a. & h. construction and developments plc {'MS Construction': 88, 'Al Ali Construction and Development': 84, 'QBS Construction': 83, 'L&M Construction': 83, 'CAST construction': 79}\n",
      "a. clarke & co (smethwick) limited {'EE Limited': 81, 'QA Limited': 81, 'WGC Limited': 80, 'BOC Limited': 80, 'BCM Limited': 80}\n",
      "a. o. smith corporation {'A.O. Smith Corporation': 97, 'RD Corporation': 87, 'FP Corporation': 87, 'SK Corporation': 87, 'PQ Corporation': 87}\n"
     ]
    }
   ],
   "source": [
    "for i, (comp, matches) in enumerate(results_gathered.items()):\n",
    "    print(comp, matches)\n",
    "    if i ==10: break"
   ]
  },
  {
   "cell_type": "code",
   "execution_count": 45,
   "metadata": {},
   "outputs": [
    {
     "data": {
      "text/html": [
       "<div>\n",
       "<style scoped>\n",
       "    .dataframe tbody tr th:only-of-type {\n",
       "        vertical-align: middle;\n",
       "    }\n",
       "\n",
       "    .dataframe tbody tr th {\n",
       "        vertical-align: top;\n",
       "    }\n",
       "\n",
       "    .dataframe thead th {\n",
       "        text-align: right;\n",
       "    }\n",
       "</style>\n",
       "<table border=\"1\" class=\"dataframe\">\n",
       "  <thead>\n",
       "    <tr style=\"text-align: right;\">\n",
       "      <th></th>\n",
       "      <th>Company</th>\n",
       "      <th>processed_company</th>\n",
       "    </tr>\n",
       "  </thead>\n",
       "  <tbody>\n",
       "    <tr>\n",
       "      <th>0</th>\n",
       "      <td>\"K\" Line Holding Europe Limited</td>\n",
       "      <td>\"k\" line holding europe limited</td>\n",
       "    </tr>\n",
       "    <tr>\n",
       "      <th>6</th>\n",
       "      <td>2 Moto Limited</td>\n",
       "      <td>2 moto limited</td>\n",
       "    </tr>\n",
       "    <tr>\n",
       "      <th>7</th>\n",
       "      <td>2 Sisters Food Group Limited</td>\n",
       "      <td>2 sisters food group limited</td>\n",
       "    </tr>\n",
       "    <tr>\n",
       "      <th>11</th>\n",
       "      <td>3M Company</td>\n",
       "      <td>3m company</td>\n",
       "    </tr>\n",
       "    <tr>\n",
       "      <th>12</th>\n",
       "      <td>3M United Kingdom plc</td>\n",
       "      <td>3m united kingdom plc</td>\n",
       "    </tr>\n",
       "  </tbody>\n",
       "</table>\n",
       "</div>"
      ],
      "text/plain": [
       "                            Company                processed_company\n",
       "0   \"K\" Line Holding Europe Limited  \"k\" line holding europe limited\n",
       "6                    2 Moto Limited                   2 moto limited\n",
       "7      2 Sisters Food Group Limited     2 sisters food group limited\n",
       "11                       3M Company                       3m company\n",
       "12            3M United Kingdom plc            3m united kingdom plc"
      ]
     },
     "execution_count": 45,
     "metadata": {},
     "output_type": "execute_result"
    }
   ],
   "source": [
    "fuzzy_match_df.head()"
   ]
  },
  {
   "cell_type": "code",
   "execution_count": 46,
   "metadata": {},
   "outputs": [
    {
     "name": "stderr",
     "output_type": "stream",
     "text": [
      "                                        \r"
     ]
    },
    {
     "data": {
      "text/html": [
       "<div>\n",
       "<style scoped>\n",
       "    .dataframe tbody tr th:only-of-type {\n",
       "        vertical-align: middle;\n",
       "    }\n",
       "\n",
       "    .dataframe tbody tr th {\n",
       "        vertical-align: top;\n",
       "    }\n",
       "\n",
       "    .dataframe thead th {\n",
       "        text-align: right;\n",
       "    }\n",
       "</style>\n",
       "<table border=\"1\" class=\"dataframe\">\n",
       "  <thead>\n",
       "    <tr style=\"text-align: right;\">\n",
       "      <th></th>\n",
       "      <th>Company</th>\n",
       "      <th>processed_company</th>\n",
       "      <th>json</th>\n",
       "    </tr>\n",
       "  </thead>\n",
       "  <tbody>\n",
       "    <tr>\n",
       "      <th>0</th>\n",
       "      <td>\"K\" Line Holding Europe Limited</td>\n",
       "      <td>\"k\" line holding europe limited</td>\n",
       "      <td>K Line</td>\n",
       "    </tr>\n",
       "    <tr>\n",
       "      <th>1</th>\n",
       "      <td>2 Moto Limited</td>\n",
       "      <td>2 moto limited</td>\n",
       "      <td>NaN</td>\n",
       "    </tr>\n",
       "    <tr>\n",
       "      <th>2</th>\n",
       "      <td>2 Sisters Food Group Limited</td>\n",
       "      <td>2 sisters food group limited</td>\n",
       "      <td>2 Sisters Food Group</td>\n",
       "    </tr>\n",
       "    <tr>\n",
       "      <th>3</th>\n",
       "      <td>3M Company</td>\n",
       "      <td>3m company</td>\n",
       "      <td>3M</td>\n",
       "    </tr>\n",
       "    <tr>\n",
       "      <th>4</th>\n",
       "      <td>3M United Kingdom plc</td>\n",
       "      <td>3m united kingdom plc</td>\n",
       "      <td>3M</td>\n",
       "    </tr>\n",
       "  </tbody>\n",
       "</table>\n",
       "</div>"
      ],
      "text/plain": [
       "                           Company                processed_company  \\\n",
       "0  \"K\" Line Holding Europe Limited  \"k\" line holding europe limited   \n",
       "1                   2 Moto Limited                   2 moto limited   \n",
       "2     2 Sisters Food Group Limited     2 sisters food group limited   \n",
       "3                       3M Company                       3m company   \n",
       "4            3M United Kingdom plc            3m united kingdom plc   \n",
       "\n",
       "                   json  \n",
       "0                K Line  \n",
       "1                   NaN  \n",
       "2  2 Sisters Food Group  \n",
       "3                    3M  \n",
       "4                    3M  "
      ]
     },
     "execution_count": 46,
     "metadata": {},
     "output_type": "execute_result"
    }
   ],
   "source": [
    "best_matches = []\n",
    "for comp, matches in tqdm(results_gathered.items(), leave=False):\n",
    "    best_match, best_match_score = list(matches.keys())[0], list(matches.values())[0] \n",
    "    if best_match_score >= min_match_score: best_matches.append((comp, best_match))\n",
    "best_matches = pd.DataFrame(best_matches, columns=[\"processed_company\", \"json\"])\n",
    "\n",
    "fuzzy_match_df = pd.merge(fuzzy_match_df, best_matches, on=\"processed_company\", how=\"left\")\n",
    "fuzzy_match_df.head()"
   ]
  },
  {
   "cell_type": "code",
   "execution_count": 68,
   "metadata": {},
   "outputs": [
    {
     "data": {
      "text/plain": [
       "1360"
      ]
     },
     "execution_count": 68,
     "metadata": {},
     "output_type": "execute_result"
    }
   ],
   "source": [
    "sum(~fuzzy_match_df[\"json\"].isna())"
   ]
  },
  {
   "cell_type": "code",
   "execution_count": 47,
   "metadata": {},
   "outputs": [
    {
     "name": "stderr",
     "output_type": "stream",
     "text": [
      "                          \r"
     ]
    }
   ],
   "source": [
    "fuzzy_match_list = []\n",
    "for r1 in tqdm(fuzzy_match_df.iterrows(), leave=False):\n",
    "\n",
    "    r1 = r1[1:][0].to_dict()\n",
    "    \n",
    "    # picking all entries from statement df with same company\n",
    "    for r2 in statements[statements[\"Company\"]==r1[\"Company\"]].iterrows():\n",
    "        info = r2[1:][0].to_dict()\n",
    "        \n",
    "        if str(r1[\"json\"])!=\"nan\":\n",
    "            additional_info = deepcopy(companies_info_new[r1[\"json\"]])\n",
    "            additional_info[\"matched_company\"] = r1[\"json\"]\n",
    "        else:\n",
    "            additional_info = None\n",
    "        \n",
    "        info[\"additional_info\"] = additional_info\n",
    "        \n",
    "        fuzzy_match_list.append(info)"
   ]
  },
  {
   "cell_type": "code",
   "execution_count": 48,
   "metadata": {},
   "outputs": [
    {
     "data": {
      "text/plain": [
       "{'URL': 'https://img1.wsimg.com/blobby/go/7695baff-3f0f-44e8-8390-94fa7eb0e674/downloads/2019%20%20modern%20slavery.pdf?ver=1554998068059',\n",
       " 'Company': '\"K\" Line Holding Europe Limited',\n",
       " 'final_statement': '66 99 “K” Line Holding (Europe) Limited kM K LINE sh Foor eum HOLDING (EUROPE) LTD. 200 Aldersgate Street London ECIA 4HD Tel: 020 7382 6500 E-mail: keulongen@uk.kline.com Modern Slavery Act Transparency Statement crane lineure eee Published: 22 March 2019 The UK Modern Slavery Act 2015 requires large entities carrying on a business in the UK to publish a statement detailing their efforts (if any) to combat human trafficking and modern-day slavery. This statement relates to actions and activities during the financial year 1 April 2018 to 31 March 2019. As part of the shipping industry, “K” Line Group recognizes that it has a responsibility to take a robust approach to slavery and human trafficking. \"K” Line Group is absolutely committed to preventing slavery and human trafficking in its corporate activities, and to ensuring that its supply chains are free from slavery and human trafficking. Organizational structure and activities The “K” Line Group is a global shipping entity headquartered in Tokyo, Japan but with a network of offices around the globe including the United Kingdom. The UK Group comprises “K” Holding (Europe) Ltd, “K\" Line (Europe) Ltd, \"K” Line Bulk Shipping (UK) Ltd, \"K” Line LNG Shipping Ltd and Polar LNG Shipping (UK) Ltd. “K” Line Group’s UK business units’ activities include Car carrier, Dry Bulk and LNG shipping, management and operations. Training and relevant policies Charter of Conduct “K\" Line Group companies adhere to a Charter of Conduct which emphasizes due respect to Human rights and compliance with applicable laws, ordinances and rules. “K” Line abides by all labour laws and regulations and does not tolerate child labour or forced labour. Our Charter of Conduct is presented to new staff as part of their training. The full Charter of Conduct can be viewed here: https://www.kline.co.jp/en/csr/group/charter.htm| Whistleblowing policy The organization encourages all its workers, customers and other business partners to report any concerns related to the direct activities, or the supply chains of the organization. This includes any circumstances that may give rise to an enhanced risk of slavery or human trafficking. The organization\\'s whistieblowing procedure is designed to make it easy for workers to make disclosures, without fear of retaliation. Due diligence Managing some parts of our supply chain carries inherent risks of adverse social or environmental impact due to less direct oversight and control of their working conditions and recruiting practices. These would include ships under construction or dismantling where employment conditions of subcontracted workers could present a risk, as does the use of third-party manning and crewing agencies for our shipping businesses. In both situations the use of on-site visits, audit type process and formalized assessments is employed. In addition, the type of ships directly managed (LNG) are relatively sophisticated, and as a sector, are less exposed to unsatisfactory labour practices. “K” Line Group has also developed Corporate Social Responsibility Guidelines for Supply Chain which details our requirements for suppliers, including adherence to abolition of forced and child labour. The Guidelines can be found here: httos://www.kline.co.jp/en/csr/group/supplychaincsrquideline/main/O/link/CSR_ Guidelines for Supply Chain.p df Registered Office: 6th Fioor 200 Aldersgate Street London EC1A 4HD Company Registered in England Ne, 5005018 Awareness-raising programme “K” Line Group has raised awareness of modern slavery issues by putting up posters across the organization\\'s premises. The posters explain to staff: e the basic principles of the Modern Slavery Act 2015; e What external help is available, for example through the Modern Slavery Helpline? It should also be noted that a transportation group such as “K” Line Group must already ensure that their vessels are not used for illegal purposes including people trafficking. As part of this we engage with third party contractors and suppliers to ensure they have procedures in place to protect against illegal activity such a human trafficking. Mr. Akira Misaki Managing Director “K” Line Holding (Europe) Ltd. 22™ March 2019',\n",
       " 'years_with_and_without_act': \"['2015', '2019', '2018']\",\n",
       " 'years_with_act': \"['2015', '2019']\",\n",
       " 'final_statement_cleaned': '66 99 km sh foor eum hold europe ltd 200 aldersgate street london ecia 4hd tel 020 7382 6500 mail keulongen uk kline com transparency statement crane lineure eee publish 22 march 2019 2015 require large entity carry business publish detail effort combat human traffic relates action activity financial year april 2018 31 part ship industry group recognize responsibility take robust approach absolutely commit prevent corporate ensure supply chain free organizational structure global entity headquarter tokyo japan network office around globe include united kingdom comprise bulk lng polar unit include car carrier dry management operation train relevant policy charter conduct company adhere emphasizes due respect right compliance applicable law ordinance rule abides labor regulation tolerate child force present new staff full view whistleblowing policy organization encourage worker customer partner report concern relate direct include circumstance may give rise enhance risk whistieblowing procedure design make easy disclosure without fear retaliation diligence manage part chain carry inherent risk adverse social environmental impact less oversight control work condition recruit practice would ship construction dismantle employment subcontract could present use third party man crew agency business situation site visit audit type process formalize assessment employ addition directly manage relatively sophisticated sector exposed unsatisfactory also develop guideline detail requirement supplier adherence abolition find df register office 6th fioor ec1a company england ne 5005018 awareness raise program raise issue put poster across premise explain basic principle external help available example helpline note transportation must already ensure vessel use illegal purpose people engage contractor procedure place protect activity mr akira misaki director',\n",
       " 'len(final_statement_cleaned)': 1873,\n",
       " 'additional_info': {'id': ['757867'],\n",
       "  'headquarters': [None],\n",
       "  'sectors': {},\n",
       "  'matched_company': 'K Line'}}"
      ]
     },
     "execution_count": 48,
     "metadata": {},
     "output_type": "execute_result"
    }
   ],
   "source": [
    "fuzzy_match_list[0]"
   ]
  },
  {
   "cell_type": "code",
   "execution_count": 49,
   "metadata": {},
   "outputs": [
    {
     "data": {
      "text/plain": [
       "(2795, 2255)"
      ]
     },
     "execution_count": 49,
     "metadata": {},
     "output_type": "execute_result"
    }
   ],
   "source": [
    "len(fuzzy_match_list), len(fuzzy_match_df)"
   ]
  },
  {
   "cell_type": "code",
   "execution_count": 50,
   "metadata": {},
   "outputs": [
    {
     "data": {
      "text/plain": [
       "(9993, 9993)"
      ]
     },
     "execution_count": 50,
     "metadata": {},
     "output_type": "execute_result"
    }
   ],
   "source": [
    "complete_match_list = exact_match_list + fuzzy_match_list\n",
    "len(complete_match_list), len(statements)"
   ]
  },
  {
   "cell_type": "code",
   "execution_count": 51,
   "metadata": {},
   "outputs": [
    {
     "name": "stderr",
     "output_type": "stream",
     "text": [
      "                                                      \r"
     ]
    }
   ],
   "source": [
    "complete_match_list_new = []\n",
    "for info in tqdm(complete_match_list, leave=False):\n",
    "    modified_info = deepcopy(info)\n",
    "    \n",
    "    modified_info[\"years_with_act\"] = [re.sub(\"\\D\",\"\",year) for year in modified_info[\"years_with_act\"].split(\",\") if re.sub(\"\\D\",\"\",year)!= \"\"]\n",
    "    modified_info[\"years_with_act\"] = [int(year) for year in modified_info[\"years_with_act\"]] \n",
    "    \n",
    "    \n",
    "    modified_info[\"years_with_and_without_act\"] = [re.sub(\"\\D\",\"\",year) for year in modified_info[\"years_with_and_without_act\"].split(\",\") if re.sub(\"\\D\",\"\",year)!= \"\"]\n",
    "    modified_info[\"years_with_and_without_act\"] = [int(year) for year in modified_info[\"years_with_act\"]]\n",
    "    \n",
    "    complete_match_list_new.append(modified_info)\n",
    "    \n",
    "del complete_match_list"
   ]
  },
  {
   "cell_type": "code",
   "execution_count": 52,
   "metadata": {},
   "outputs": [
    {
     "data": {
      "text/plain": [
       "9993"
      ]
     },
     "execution_count": 52,
     "metadata": {},
     "output_type": "execute_result"
    }
   ],
   "source": [
    "len(complete_match_list_new)"
   ]
  },
  {
   "cell_type": "code",
   "execution_count": 53,
   "metadata": {},
   "outputs": [
    {
     "data": {
      "text/plain": [
       "{'URL': 'https://1spatial.com/who-we-are/legal/modern-slavery-act-policy-statement/',\n",
       " 'Company': '1Spatial Plc',\n",
       " 'final_statement': '1Spatial Modern Slavery Act Policy Statement Home Solutions Solutions Government Boundaries Law Enforcement Rural Payments Next Generation 911 Utilities ArcGIS Utility Network Accelerator Traffic Management Plan Automation (TMPA) Automated Schematics Pipe Inference Incident Management Leakage Solutions Transport and Infrastructure Supply Chain Data Quality Highway Performance Monitoring System Next Generation 911 Services Consultancy Support Training 1Spatial Training FME Training Geocortex Training \"1Spatial provides excellent knowledge and support to meet our current business needs. Individuals also go the extra mile in responding to critical issues and timescales, which is always very much appreciated and essential to the continued success of our business.\" Danny O\\'Reilly | DAERA Industries Industries Utilities Water and Wastewater Gas Electricity Telecommunications Government National Mapping Agencies Land and Environmental Management Public Sector Procurement Industries Transportation and Infrastructure Rail Roads and Highways Aeronautical Ports Maritime and Hydrographic Defence Engineering Facilities Management Services Consultancy Support Training 1Spatial Training FME Training Geocortex Training \"1Spatial have helped us to find innovative solutions to some of our long-standing business problems that have then been delivered quickly and efficiently.\" Paul Williams | United Utilities Products Products 1Integrate 1Data Gateway 1Integrate for ArcGIS 1Edit 1Generalise 1Spatial Management Suite Location Master Data Management Location Mobile App Platform (LMAP) Elyx Suite Products FME FME Desktop FME Server FME Cloud FME Maintenance FME Tools Geocortex Services Consultancy Support Training 1Spatial Training FME Training Geocortex Training \"The feedback we’ve had from the business – from management and from engineers on the ground – has been amazing, really positive. We achieved a huge amount in a very, very short space of time.\" Alex Hincks, Senior Project Manager | Environment Agency Clients About Us About Us Careers Location Master Data Management Our Rules-Based Approach Partners Affiliations Corporate Social Responsibility Legal Anti-Bribery Policy Statement Environmental Policy Equality & Diversity Policy Statement Health and Safety Policy Statement Modern Slavery Act Policy Statement Public Interest Disclosure (Whistleblowing) Policy Statement News Events Events Events On-Demand Webinars Investors Investors Advisors AIM 26 Rule Annual and Interim Reports Board Company Announcements Corporate Governance Shareholders Shareholder Communications Shareprice Strategy Investor Enquiries Independent Research – Edison Investments Select region UK France USA Australia Belgium Careers Contact us Home Solutions Industries Products Clients About Us News Events Investors Home Solutions Solutions Government Boundaries Law Enforcement Rural Payments Next Generation 911 Utilities ArcGIS Utility Network Accelerator Traffic Management Plan Automation (TMPA) Automated Schematics Pipe Inference Incident Management Leakage Solutions Transport and Infrastructure Supply Chain Data Quality Highway Performance Monitoring System Next Generation 911 Services Consultancy Support Training 1Spatial Training FME Training Geocortex Training \"1Spatial provides excellent knowledge and support to meet our current business needs. Individuals also go the extra mile in responding to critical issues and timescales, which is always very much appreciated and essential to the continued success of our business.\" Danny O\\'Reilly | DAERA Industries Industries Utilities Water and Wastewater Gas Electricity Telecommunications Government National Mapping Agencies Land and Environmental Management Public Sector Procurement Industries Transportation and Infrastructure Rail Roads and Highways Aeronautical Ports Maritime and Hydrographic Defence Engineering Facilities Management Services Consultancy Support Training 1Spatial Training FME Training Geocortex Training \"1Spatial have helped us to find innovative solutions to some of our long-standing business problems that have then been delivered quickly and efficiently.\" Paul Williams | United Utilities Products Products 1Integrate 1Data Gateway 1Integrate for ArcGIS 1Edit 1Generalise 1Spatial Management Suite Location Master Data Management Location Mobile App Platform (LMAP) Elyx Suite Products FME FME Desktop FME Server FME Cloud FME Maintenance FME Tools Geocortex Services Consultancy Support Training 1Spatial Training FME Training Geocortex Training \"The feedback we’ve had from the business – from management and from engineers on the ground – has been amazing, really positive. We achieved a huge amount in a very, very short space of time.\" Alex Hincks, Senior Project Manager | Environment Agency Clients About Us About Us Careers Location Master Data Management Our Rules-Based Approach Partners Affiliations Corporate Social Responsibility Legal Anti-Bribery Policy Statement Environmental Policy Equality & Diversity Policy Statement Health and Safety Policy Statement Modern Slavery Act Policy Statement Public Interest Disclosure (Whistleblowing) Policy Statement News Events Events Events On-Demand Webinars Investors Investors Advisors AIM 26 Rule Annual and Interim Reports Board Company Announcements Corporate Governance Shareholders Shareholder Communications Shareprice Strategy Investor Enquiries Independent Research – Edison Investments Modern Slavery Act Policy Statement While 1Spatial’s turnover is below £36m and therefore does not fall within the reporting requirements for Section 54 of the Modern Slavery Act 2015, the directors take their responsibility seriously in preventing any form of slavery and/or human trafficking within business and supply chain. 1Spatial is committed to ensuring that any forms of slavery or human trafficking are not taking place in our supply chain. Given the nature of our business, our supply chain mostly consists of the hiring of independent consultants and other service providers, and the procurement of other software-related goods and services. About our supply chain, we consider ourselves to be low risk. However, due diligence is undertaken by 1Spatial to ensure we only engages with reputable suppliers and avoids contracting with suppliers or subcontractors which are located within geographical areas where slavery and/or human trafficking are a risk. We undertake Supplier Assessments to establish risk profiles before engaging with them. These assessments are regularly reviewed as part of our Quality Management System (QMS). This includes the review of suppliers, sub-contractors and independent consultants who work with us as Associates. We do not support a supply chain where we have reasonable evidence of slavery or human trafficking. Connect with us info@1spatial.com Privacy and Cookie Policy Industries Solutions About Us Capabilities Contact us Partners Careers Community 1Spatial uses cookies to ensure that we give you the best experience on our website. If you continue, we assume that you consent to receive all cookies on all 1Spatial websites. More information OK',\n",
       " 'years_with_and_without_act': [2015],\n",
       " 'years_with_act': [2015],\n",
       " 'final_statement_cleaned': 'home solution government boundary law enforcement rural payment next generation 911 utility arcgis utility network accelerator traffic management plan automation tmpa automate schematic pipe inference incident leakage transport infrastructure supply chain data quality highway performance monitoring system service consultancy support train fme geocortex provide excellent knowledge meet current business need individual also go extra mile respond critical issue timescales always much appreciate essential continued success danny reilly daera industry water wastewater gas electricity national mapping agency land environmental public sector procurement transportation rail road highways aeronautical port maritime hydrographic defense engineering facility help us find innovative long stand problem deliver quickly efficiently paul williams united product 1integrate 1data gateway 1edit 1generalise suite location master mobile app platform lmap elyx desktop server cloud maintenance tool feedback engineer grind amaze really positive achieve huge amount short space time alex hincks senior project manager environment agency client career rule base approach partner affiliation corporate social responsibility legal anti bribery policy equality diversity health safety interest disclosure whistleblowing news event demand webinars investor advisor aim 26 rule annual interim report board company announcements governance shareholder shareholder communication shareprice strategy investor enquiries independent research edison investment select region uk france usa australia belgium contact turnover 36m therefore fall within reporting requirement section 54 2015 director take seriously prevent form human traffic commit ensure form take place give nature mostly consist hire consultant service provider software relate good consider low risk however due diligence undertaken ensure engage reputable supplier avoids contract subcontractor locate geographical area undertake supplier assessment establish profile engage regularly review part qms include review sub contractor work associate reasonable evidence information ok',\n",
       " 'len(final_statement_cleaned)': 2128,\n",
       " 'additional_info': {'id': ['903081'],\n",
       "  'headquarters': ['GB'],\n",
       "  'sectors': {'Technology': ['Technology: General']},\n",
       "  'matched_company': '1Spatial Plc'}}"
      ]
     },
     "execution_count": 53,
     "metadata": {},
     "output_type": "execute_result"
    }
   ],
   "source": [
    "complete_match_list_new[0]"
   ]
  },
  {
   "cell_type": "code",
   "execution_count": 54,
   "metadata": {},
   "outputs": [],
   "source": [
    "with open(os.path.join(DATA_PATH, 'subset_data_with_additional_info.json'), 'w') as f:\n",
    "    json.dump(complete_match_list_new, f)"
   ]
  },
  {
   "cell_type": "code",
   "execution_count": 55,
   "metadata": {},
   "outputs": [],
   "source": [
    "client.close()"
   ]
  },
  {
   "cell_type": "code",
   "execution_count": 59,
   "metadata": {},
   "outputs": [
    {
     "data": {
      "text/html": [
       "<div>\n",
       "<style scoped>\n",
       "    .dataframe tbody tr th:only-of-type {\n",
       "        vertical-align: middle;\n",
       "    }\n",
       "\n",
       "    .dataframe tbody tr th {\n",
       "        vertical-align: top;\n",
       "    }\n",
       "\n",
       "    .dataframe thead th {\n",
       "        text-align: right;\n",
       "    }\n",
       "</style>\n",
       "<table border=\"1\" class=\"dataframe\">\n",
       "  <thead>\n",
       "    <tr style=\"text-align: right;\">\n",
       "      <th></th>\n",
       "      <th>Company</th>\n",
       "      <th>Match</th>\n",
       "    </tr>\n",
       "  </thead>\n",
       "  <tbody>\n",
       "    <tr>\n",
       "      <th>0</th>\n",
       "      <td>\"K\" Line Holding Europe Limited</td>\n",
       "      <td>K Line</td>\n",
       "    </tr>\n",
       "    <tr>\n",
       "      <th>2</th>\n",
       "      <td>2 Sisters Food Group Limited</td>\n",
       "      <td>2 Sisters Food Group</td>\n",
       "    </tr>\n",
       "    <tr>\n",
       "      <th>3</th>\n",
       "      <td>3M Company</td>\n",
       "      <td>3M</td>\n",
       "    </tr>\n",
       "    <tr>\n",
       "      <th>4</th>\n",
       "      <td>3M United Kingdom plc</td>\n",
       "      <td>3M</td>\n",
       "    </tr>\n",
       "    <tr>\n",
       "      <th>5</th>\n",
       "      <td>3i Group plc</td>\n",
       "      <td>3i</td>\n",
       "    </tr>\n",
       "  </tbody>\n",
       "</table>\n",
       "</div>"
      ],
      "text/plain": [
       "                           Company                 Match\n",
       "0  \"K\" Line Holding Europe Limited                K Line\n",
       "2     2 Sisters Food Group Limited  2 Sisters Food Group\n",
       "3                       3M Company                    3M\n",
       "4            3M United Kingdom plc                    3M\n",
       "5                     3i Group plc                    3i"
      ]
     },
     "execution_count": 59,
     "metadata": {},
     "output_type": "execute_result"
    }
   ],
   "source": [
    "fuzzy_matches = deepcopy(fuzzy_match_df[[\"Company\", \"json\"]].dropna())\n",
    "fuzzy_matches.columns = [\"Company\", \"Match\"]\n",
    "fuzzy_matches.head()"
   ]
  },
  {
   "cell_type": "code",
   "execution_count": 61,
   "metadata": {},
   "outputs": [],
   "source": [
    "fuzzy_matches.to_excel(\n",
    "    os.path.join(DATA_PATH,\"sheets\",\"fuzzy_matches.xlsx\"),\n",
    "    index=False)"
   ]
  },
  {
   "cell_type": "code",
   "execution_count": null,
   "metadata": {},
   "outputs": [],
   "source": []
  }
 ],
 "metadata": {
  "kernelspec": {
   "display_name": "modern_slavery",
   "language": "python",
   "name": "modern_slavery"
  },
  "language_info": {
   "codemirror_mode": {
    "name": "ipython",
    "version": 3
   },
   "file_extension": ".py",
   "mimetype": "text/x-python",
   "name": "python",
   "nbconvert_exporter": "python",
   "pygments_lexer": "ipython3",
   "version": "3.9.2"
  }
 },
 "nbformat": 4,
 "nbformat_minor": 4
}
