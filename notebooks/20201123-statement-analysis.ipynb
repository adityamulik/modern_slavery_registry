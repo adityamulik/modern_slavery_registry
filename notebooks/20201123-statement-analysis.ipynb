{
 "cells": [
  {
   "cell_type": "code",
   "execution_count": 1,
   "metadata": {},
   "outputs": [],
   "source": [
    "%load_ext autoreload\n",
    "%autoreload 2"
   ]
  },
  {
   "cell_type": "code",
   "execution_count": 2,
   "metadata": {},
   "outputs": [],
   "source": [
    "import pandas as pd\n",
    "from os import getcwd\n",
    "import numpy as np\n",
    "from tqdm import tqdm\n",
    "import re\n",
    "from typing import Tuple, Dict, Sequence, List, Union"
   ]
  },
  {
   "cell_type": "code",
   "execution_count": 3,
   "metadata": {},
   "outputs": [],
   "source": [
    "from modern_slavery_registry.text_parser import clean_text"
   ]
  },
  {
   "cell_type": "code",
   "execution_count": 4,
   "metadata": {},
   "outputs": [],
   "source": [
    "DATA_PATH = getcwd()\n",
    "DATA_PATH = DATA_PATH.replace(\"notebooks\", \"\")\n",
    "DATA_PATH += \"data\"\n",
    "SHEETS_PATH = DATA_PATH + \"\\\\sheets\""
   ]
  },
  {
   "cell_type": "code",
   "execution_count": 5,
   "metadata": {},
   "outputs": [],
   "source": [
    "prof_data = pd.read_json(f\"{SHEETS_PATH}\\\\modern_slavery_dataset_prof.json\")\n",
    "cols_to_keep = [\"Company ID\", \"Company\", \"Statement ID\", \"URL\", \"Text\"]\n",
    "prof_data.drop_duplicates(inplace=True)\n",
    "prof_data.dropna(subset=[\"Company ID\"], inplace=True)\n",
    "prof_data.reset_index(drop=True, inplace=True)\n",
    "prof_data = prof_data[cols_to_keep]\n",
    "cols_type = [\"int32\", str, float, str, str]\n",
    "for i, col in enumerate(prof_data.columns):\n",
    "    prof_data[col] = prof_data[col].astype(cols_type[i])\n",
    "\n",
    "\n",
    "\n",
    "\n",
    "my_data = pd.read_excel(f\"{SHEETS_PATH}\\\\modern_slavery_dataset_nitin.xlsx\")\n",
    "cols_to_keep = [\"Company ID\", \"Company\", \"Statement ID\", \"URL\", \"statement\"]\n",
    "my_data.drop_duplicates(inplace=True)\n",
    "my_data.dropna(subset=[\"Company ID\"], inplace=True)\n",
    "my_data.reset_index(drop=True, inplace=True)\n",
    "my_data = my_data[cols_to_keep]\n",
    "for i, col in enumerate(my_data.columns):\n",
    "    my_data[col] = my_data[col].astype(cols_type[i])"
   ]
  },
  {
   "cell_type": "code",
   "execution_count": 6,
   "metadata": {},
   "outputs": [
    {
     "data": {
      "text/html": [
       "<div>\n",
       "<style scoped>\n",
       "    .dataframe tbody tr th:only-of-type {\n",
       "        vertical-align: middle;\n",
       "    }\n",
       "\n",
       "    .dataframe tbody tr th {\n",
       "        vertical-align: top;\n",
       "    }\n",
       "\n",
       "    .dataframe thead th {\n",
       "        text-align: right;\n",
       "    }\n",
       "</style>\n",
       "<table border=\"1\" class=\"dataframe\">\n",
       "  <thead>\n",
       "    <tr style=\"text-align: right;\">\n",
       "      <th></th>\n",
       "      <th>Company ID</th>\n",
       "      <th>Company</th>\n",
       "      <th>Statement ID</th>\n",
       "      <th>URL</th>\n",
       "      <th>statement</th>\n",
       "    </tr>\n",
       "  </thead>\n",
       "  <tbody>\n",
       "    <tr>\n",
       "      <th>0</th>\n",
       "      <td>7676</td>\n",
       "      <td>\"K\" Line Holding Europe Limited</td>\n",
       "      <td>35092.0</td>\n",
       "      <td>https://img1.wsimg.com/blobby/go/7695baff-3f0f...</td>\n",
       "      <td>66 99 “K” Line Holding (Europe) Limited kM K L...</td>\n",
       "    </tr>\n",
       "  </tbody>\n",
       "</table>\n",
       "</div>"
      ],
      "text/plain": [
       "   Company ID                          Company  Statement ID  \\\n",
       "0        7676  \"K\" Line Holding Europe Limited       35092.0   \n",
       "\n",
       "                                                 URL  \\\n",
       "0  https://img1.wsimg.com/blobby/go/7695baff-3f0f...   \n",
       "\n",
       "                                           statement  \n",
       "0  66 99 “K” Line Holding (Europe) Limited kM K L...  "
      ]
     },
     "execution_count": 6,
     "metadata": {},
     "output_type": "execute_result"
    }
   ],
   "source": [
    "my_data.head(1)"
   ]
  },
  {
   "cell_type": "code",
   "execution_count": 7,
   "metadata": {},
   "outputs": [
    {
     "data": {
      "text/html": [
       "<div>\n",
       "<style scoped>\n",
       "    .dataframe tbody tr th:only-of-type {\n",
       "        vertical-align: middle;\n",
       "    }\n",
       "\n",
       "    .dataframe tbody tr th {\n",
       "        vertical-align: top;\n",
       "    }\n",
       "\n",
       "    .dataframe thead th {\n",
       "        text-align: right;\n",
       "    }\n",
       "</style>\n",
       "<table border=\"1\" class=\"dataframe\">\n",
       "  <thead>\n",
       "    <tr style=\"text-align: right;\">\n",
       "      <th></th>\n",
       "      <th>Company ID</th>\n",
       "      <th>Company</th>\n",
       "      <th>Statement ID</th>\n",
       "      <th>URL</th>\n",
       "      <th>Text</th>\n",
       "    </tr>\n",
       "  </thead>\n",
       "  <tbody>\n",
       "    <tr>\n",
       "      <th>0</th>\n",
       "      <td>7676</td>\n",
       "      <td>\"K\" Line Holding Europe Limited</td>\n",
       "      <td>35092.0</td>\n",
       "      <td>https://img1.wsimg.com/blobby/go/7695baff-3f0f...</td>\n",
       "      <td>K LINE\\nHOLDINC (EUROPE) LTD.\\nModern Slavery ...</td>\n",
       "    </tr>\n",
       "  </tbody>\n",
       "</table>\n",
       "</div>"
      ],
      "text/plain": [
       "   Company ID                          Company  Statement ID  \\\n",
       "0        7676  \"K\" Line Holding Europe Limited       35092.0   \n",
       "\n",
       "                                                 URL  \\\n",
       "0  https://img1.wsimg.com/blobby/go/7695baff-3f0f...   \n",
       "\n",
       "                                                Text  \n",
       "0  K LINE\\nHOLDINC (EUROPE) LTD.\\nModern Slavery ...  "
      ]
     },
     "execution_count": 7,
     "metadata": {},
     "output_type": "execute_result"
    }
   ],
   "source": [
    "prof_data.head(1)"
   ]
  },
  {
   "cell_type": "code",
   "execution_count": 8,
   "metadata": {},
   "outputs": [
    {
     "name": "stdout",
     "output_type": "stream",
     "text": [
      "Length, prof. dataset : 28361, own dataset : 27527\n"
     ]
    }
   ],
   "source": [
    "print(f\"Length, prof. dataset : {len(prof_data)}, own dataset : {len(my_data)}\")"
   ]
  },
  {
   "cell_type": "markdown",
   "metadata": {},
   "source": [
    "<font color=\"blue\" size=\"5\"> Combining both datasets "
   ]
  },
  {
   "cell_type": "code",
   "execution_count": 9,
   "metadata": {},
   "outputs": [],
   "source": [
    "combine_data = pd.merge(prof_data,\n",
    "                        my_data,\n",
    "                        on = [\"Company ID\", \"Company\", \"Statement ID\", \"URL\"], \n",
    "                        how = \"outer\")\n",
    "combine_data.fillna(\"#NA\", inplace=True)\n",
    "combine_data[\"Text\"] = [text if text != \"nan\" else \"#NA\" for text in combine_data[\"Text\"]]\n",
    "combine_data[\"statement\"] = [text if text != \"nan\" else \"#NA\" for text in combine_data[\"statement\"]]\n",
    "combine_data[\"final_text\"] = [\n",
    "    combine_data[\"Text\"].iloc[i] if combine_data[\"Text\"].iloc[i] != \"#NA\" else combine_data[\"statement\"].iloc[i] for i in range(\n",
    "        len(combine_data))]\n",
    "cols_to_drop = [\"Text\", \"statement\"]\n",
    "for col in cols_to_drop:\n",
    "    combine_data.drop(col, axis=1, inplace=True)"
   ]
  },
  {
   "cell_type": "code",
   "execution_count": 10,
   "metadata": {},
   "outputs": [
    {
     "data": {
      "text/html": [
       "<div>\n",
       "<style scoped>\n",
       "    .dataframe tbody tr th:only-of-type {\n",
       "        vertical-align: middle;\n",
       "    }\n",
       "\n",
       "    .dataframe tbody tr th {\n",
       "        vertical-align: top;\n",
       "    }\n",
       "\n",
       "    .dataframe thead th {\n",
       "        text-align: right;\n",
       "    }\n",
       "</style>\n",
       "<table border=\"1\" class=\"dataframe\">\n",
       "  <thead>\n",
       "    <tr style=\"text-align: right;\">\n",
       "      <th></th>\n",
       "      <th>Company ID</th>\n",
       "      <th>Company</th>\n",
       "      <th>Statement ID</th>\n",
       "      <th>URL</th>\n",
       "      <th>final_text</th>\n",
       "    </tr>\n",
       "  </thead>\n",
       "  <tbody>\n",
       "    <tr>\n",
       "      <th>0</th>\n",
       "      <td>7676</td>\n",
       "      <td>\"K\" Line Holding Europe Limited</td>\n",
       "      <td>35092</td>\n",
       "      <td>https://img1.wsimg.com/blobby/go/7695baff-3f0f...</td>\n",
       "      <td>K LINE\\nHOLDINC (EUROPE) LTD.\\nModern Slavery ...</td>\n",
       "    </tr>\n",
       "  </tbody>\n",
       "</table>\n",
       "</div>"
      ],
      "text/plain": [
       "   Company ID                          Company Statement ID  \\\n",
       "0        7676  \"K\" Line Holding Europe Limited        35092   \n",
       "\n",
       "                                                 URL  \\\n",
       "0  https://img1.wsimg.com/blobby/go/7695baff-3f0f...   \n",
       "\n",
       "                                          final_text  \n",
       "0  K LINE\\nHOLDINC (EUROPE) LTD.\\nModern Slavery ...  "
      ]
     },
     "execution_count": 10,
     "metadata": {},
     "output_type": "execute_result"
    }
   ],
   "source": [
    "combine_data.head(1)"
   ]
  },
  {
   "cell_type": "code",
   "execution_count": 11,
   "metadata": {},
   "outputs": [
    {
     "data": {
      "text/plain": [
       "'k line holdinc europe ltd modern slavery act transparency statement published march uk modern slavery act requires large entities carrying business uk publish statement detailing efforts combat human trafficking modern day slavery statement relates actions activities financial year april march part shipping industry k line group recognizes responsibility take robust approach slavery human trafficking k line group absolutely committed preventing slavery human trafficking corporate activities ensuring supply chains free slavery human trafficking organizational structure activities k line group global shipping entity headquartered tokyo japan network offices around globe including united kingdom uk group comprises k holding europe ltd k line europe ltd k line bulk shipping uk ltd k line lng shipping ltd polar lng shipping uk ltd k line group uk business units activities include car carrier dry bulk lng shipping management training relevant policies k line group companies adhere charter conduct emphasizes due respect human rights compliance applicable laws ordinances rules k line abides labour laws regulations tolerate child labour forced labour charter conduct presented new staff part full charter conduct viewed ttps llww kline co jplenlcsrigrouplcharterhtml whistleblowing policy organization encourages workers customers business partners report concerns related direct activities supply chains organization includes circumstances may give rise enhanced risk slavery human trafficking organization whistleblowing procedure designed make easy workers make disclosures without fear retaliation managing parts supply chain carries inherent risks adverse socia environmental impact due less direct oversight control working conditions recruiting practices would include ships construction dismantling employment conditions subcontracted workers could present risk use third party manning crewing agencies shipping businesses situations use site visits audit type process formalized assessments employed addition type ships directly managed lng relatively sophisticated sector less exposed unsatisfactory labour practices k line group also developed corporate social responsibility guidelines supply chain details requirements suppliers including adherence abolition forced child labour guidelines found luosliwwwkinecoplencsiegoupsupoichaincsaicelnelnandlincsr guidelines supply chain p awareness raising programme k line group raised awareness modern slavery issues putting posters across organization premises posters explain staff basic principles modern slavery act external help available example modern slavery helpline also noted transportation group k line group must already ensure vessels used illegal purposes including people trafficking part engage third party contractors suppliers ensure procedures place protect illegal activity anfo managing director k line holding europe ltd k line holding europe limited th floor aldersgate street london ecia hd tel e mail keulongen uk kline com registered office th floor aldersgate street london ec hd company registered england operations charter conduct training due diligence df human trafficking mr akira misaki nd march'"
      ]
     },
     "execution_count": 11,
     "metadata": {},
     "output_type": "execute_result"
    }
   ],
   "source": [
    "clean_text(combine_data[\"final_text\"].iloc[0], \n",
    "           remove_urls=True, \n",
    "           remove_special_chars=True, \n",
    "           remove_digits=True,\n",
    "           to_lower=True, \n",
    "           remove_stopwords=True)"
   ]
  },
  {
   "cell_type": "code",
   "execution_count": 12,
   "metadata": {},
   "outputs": [
    {
     "data": {
      "text/plain": [
       "'K LINE\\nHOLDINC (EUROPE) LTD.\\nModern Slavery Act Transparency Statement\\nPublished: 22 March 2019\\nThe UK Modern Slavery Act 2015 requires large entities carrying on a business in the UK to publish a\\nstatement detailing their efforts (if any) to combat human trafficking and modern-day slavery. This statement\\nrelates to actions and activities during the financial year 1 April 2018 to 31 March 2019.\\nAs part of the shipping industry, \"K\" Line Group recognizes that it has a responsibility to take a robust\\napproach to slavery and human trafficking.\\n\"K\" Line Group is absolutely committed to preventing slavery and human trafficking in its corporate activities,\\nand to ensuring that its supply chains are free from slavery and human trafficking.\\nOrganizational structure and activities\\nThe \"K\" Line Group is a global shipping entity headquartered in Tokyo, Japan but with a network of offices\\naround the globe including the United Kingdom. The UK Group comprises \"K\" Holding (Europe) Ltd, \"K\" Line\\n(Europe) Ltd, \"K\" Line Bulk Shipping (UK) Ltd, \"K\" Line LNG Shipping Ltd and Polar LNG Shipping (UK) Ltd.\\n\"K\" Line Group\\'s UK business units\\' activities include Car carrier, Dry Bulk and LNG shipping, management\\nTraining and relevant policies\\n\"K\" Line Group companies adhere to a Charter of Conduct which emphasizes due respect to Human rights\\nand compliance with applicable laws, ordinances and rules. \"K\" Line abides by all labour laws and regulations\\nand does not tolerate child labour or forced labour. Our Charter of Conduct is presented to new staff as part of\\nThe full Charter of Conduct can be viewed here:\\nttps:llww.kline.co.jplenlcsrigrouplcharterhtml\\nWhistleblowing policy\\nThe organization encourages all its workers, customers and other business partners to report any concerns\\nrelated to the direct activities, or the supply chains of the organization This includes any circumstances that\\nmay give rise to an enhanced risk of slavery or human trafficking. The organization\\'s whistleblowing\\nprocedure is designed to make it easy for workers to make disclosures, without fear of retaliation.\\nManaging some parts of our supply chain carries inherent risks of adverse socia or environmental impact due\\nto less direct oversight and control of their working conditions and recruiting practices These would include\\nships under construction or dismantling where employment conditions of subcontracted workers could present\\na risk, as does the use of third-party manning and crewing agencies for our shipping businesses. In both\\nsituations the use of on-site visits, audit type process and formalized assessments is employed. In addition,\\nthe type of ships directly managed (LNG) are relatively sophisticated, and as a sector, are less exposed to\\nunsatisfactory labour practices.\\n\"K\" Line Group has also developed Corporate Social Responsibility Guidelines for Supply Chain which details\\nour requirements for suppliers, including adherence to abolition of forced and child labour.\\nThe Guidelines can be found here:\\nluosliwwwkinecoplencsiegoupsupoichaincsaicelnelnandliNcsr Guidelines for Supply Chain.p\\nAwareness-raising programme\\n\"K\" Line Group has raised awareness of modern slavery issues by putting up posters across the\\norganization\\'s premises.\\nThe posters explain to staff:\\nthe basic principles of the Modern Slavery Act 2015;\\nWhat external help is available, for example through the Modern Slavery Helpline?\\nIt should also be noted that a transportation group such as \"K\" Line Group must already ensure that their\\nvessels are not used for illegal purposes including people trafficking. As part of this we engage with third party\\ncontractors and suppliers to ensure they have procedures in place to protect against illegal activity such a\\nanfo\\nManaging Director\\n\"K\" Line Holding (Europe) Ltd.\\n\"K\"\\' Line Holding (Europe) Limited\\n6th Floor\\n200 Aldersgate Street\\nLondon ECIA 4HD\\nTel:\\n020 7382 6500\\nE-mail: :keulongen@uk.kline.com\\nwww.klineurope.com\\nRegistered Office: 6th Floor\\n200 Aldersgate Street London EC1A 4HD\\nCompany Registered in England No, 5005018\\nand operations.\\nCharter of Conduct\\ntheir training.\\nDue diligence\\ndf\\nhuman trafficking.\\nMr. Akira Misaki\\n22nd March 2019'"
      ]
     },
     "execution_count": 12,
     "metadata": {},
     "output_type": "execute_result"
    }
   ],
   "source": [
    "combine_data[\"final_text\"].iloc[0]"
   ]
  },
  {
   "cell_type": "code",
   "execution_count": 39,
   "metadata": {},
   "outputs": [],
   "source": [
    "def find_company_name_occurance(company_name: str,\n",
    "                                text: str) -> Dict:\n",
    "    \"\"\"\n",
    "    Find number of instances of company name in text.\n",
    "    \n",
    "    Company name is broken down into sequence of words.\n",
    "    \n",
    "    Parameters\n",
    "    ----------\n",
    "    company_name: str\n",
    "    \n",
    "    text: str\n",
    "    \n",
    "    Returns\n",
    "    -------\n",
    "    mapping: Dict, {str:int}\n",
    "    \n",
    "    Examples\n",
    "    --------\n",
    "    >>> find_company_name_occurance(\"General motors\", \n",
    "        \"General Motors Company(GM) is an American \"\n",
    "        \"multinational corporation headquartered in Detroit. \" \n",
    "        \"General Motors manufactures vehicles in several countries.\")\n",
    "    {\"general\": 2, \"general motors\": 2}\n",
    "    \"\"\"\n",
    "    company_name = clean_text(company_name)\n",
    "    text = clean_text(text)\n",
    "    company_name = company_name.split()\n",
    "    mapping = {}\n",
    "    for i in range(1, len(company_name)+1):\n",
    "        name = company_name[:i]\n",
    "        mapping[\" \".join(name)] = len(re.findall(r\"\\b\" + \" \".join(name) + r\"\\b\", text))\n",
    "    return mapping"
   ]
  },
  {
   "cell_type": "code",
   "execution_count": 43,
   "metadata": {},
   "outputs": [],
   "source": [
    "from typing import List, Tuple, Dict\n",
    "def match_company(company : str, \n",
    "                  companies : List[str]) -> Tuple[bool, Dict, float, str]:\n",
    "\n",
    "    best_mapping = None\n",
    "    best_match_score = 0\n",
    "    best_match_company = None\n",
    "    is_present = False\n",
    "    for i, _ in enumerate(companies):\n",
    "        mapping = find_company_name_occurance(company, _)\n",
    "        for k, v in mapping.items():\n",
    "            if v > 0:\n",
    "                is_present = True\n",
    "                if len(k) > best_match_score:\n",
    "                    best_match_score = len(k)\n",
    "                    best_match_company = _\n",
    "                    best_mapping = mapping\n",
    "                    \n",
    "    company = clean_text(company)\n",
    "    return is_present, best_mapping, best_match_score/ len(company), best_match_company "
   ]
  },
  {
   "cell_type": "code",
   "execution_count": 20,
   "metadata": {},
   "outputs": [],
   "source": [
    "imp_comp = pd.read_excel(f\"{DATA_PATH}\\\\sheets\\\\Listofcompanies.xlsx\")"
   ]
  },
  {
   "cell_type": "code",
   "execution_count": 21,
   "metadata": {},
   "outputs": [
    {
     "data": {
      "text/html": [
       "<div>\n",
       "<style scoped>\n",
       "    .dataframe tbody tr th:only-of-type {\n",
       "        vertical-align: middle;\n",
       "    }\n",
       "\n",
       "    .dataframe tbody tr th {\n",
       "        vertical-align: top;\n",
       "    }\n",
       "\n",
       "    .dataframe thead th {\n",
       "        text-align: right;\n",
       "    }\n",
       "</style>\n",
       "<table border=\"1\" class=\"dataframe\">\n",
       "  <thead>\n",
       "    <tr style=\"text-align: right;\">\n",
       "      <th></th>\n",
       "      <th>LegalNameoftheEntity</th>\n",
       "      <th>Has A Statement?</th>\n",
       "    </tr>\n",
       "  </thead>\n",
       "  <tbody>\n",
       "    <tr>\n",
       "      <th>0</th>\n",
       "      <td>AAC Technologies Holdings Inc</td>\n",
       "      <td>NaN</td>\n",
       "    </tr>\n",
       "    <tr>\n",
       "      <th>1</th>\n",
       "      <td>Acer Inc</td>\n",
       "      <td>NaN</td>\n",
       "    </tr>\n",
       "    <tr>\n",
       "      <th>2</th>\n",
       "      <td>Advanced Micro Devices Inc (AMD)</td>\n",
       "      <td>NaN</td>\n",
       "    </tr>\n",
       "    <tr>\n",
       "      <th>3</th>\n",
       "      <td>AirTouch Communications Inc</td>\n",
       "      <td>NaN</td>\n",
       "    </tr>\n",
       "    <tr>\n",
       "      <th>4</th>\n",
       "      <td>Astro Pyrotechnics Inc</td>\n",
       "      <td>NaN</td>\n",
       "    </tr>\n",
       "  </tbody>\n",
       "</table>\n",
       "</div>"
      ],
      "text/plain": [
       "               LegalNameoftheEntity  Has A Statement?\n",
       "0     AAC Technologies Holdings Inc               NaN\n",
       "1                          Acer Inc               NaN\n",
       "2  Advanced Micro Devices Inc (AMD)               NaN\n",
       "3       AirTouch Communications Inc               NaN\n",
       "4            Astro Pyrotechnics Inc               NaN"
      ]
     },
     "execution_count": 21,
     "metadata": {},
     "output_type": "execute_result"
    }
   ],
   "source": [
    "imp_comp.head()"
   ]
  },
  {
   "cell_type": "code",
   "execution_count": 34,
   "metadata": {},
   "outputs": [
    {
     "name": "stderr",
     "output_type": "stream",
     "text": [
      "100%|████████████████████████████████████████████████████████████████████████████████| 105/105 [03:44<00:00,  2.14s/it]\n"
     ]
    }
   ],
   "source": [
    "results = []\n",
    "for company in tqdm(imp_comp[\"LegalNameoftheEntity\"]):\n",
    "    results.append(match_company(company, \n",
    "                                 companies=combine_data[\"Company\"]))"
   ]
  },
  {
   "cell_type": "code",
   "execution_count": 51,
   "metadata": {},
   "outputs": [],
   "source": [
    "results_df = pd.DataFrame(results, \n",
    "                          columns=[\"match_found\", \n",
    "                                   \"mapping\", \n",
    "                                   \"best_match_score\", \n",
    "                                   \"best_match_company\"])\n",
    "results_df.head(10)\n",
    "results_df = pd.concat([imp_comp[\"LegalNameoftheEntity\"], results_df], axis = 1)\n",
    "results_df.to_excel(f\"{DATA_PATH}\\\\sheets\\\\Listofcompanies_filled.xlsx\",\n",
    "                    index=False)"
   ]
  },
  {
   "cell_type": "code",
   "execution_count": 58,
   "metadata": {},
   "outputs": [
    {
     "data": {
      "text/plain": [
       "'None'"
      ]
     },
     "execution_count": 58,
     "metadata": {},
     "output_type": "execute_result"
    }
   ],
   "source": [
    "combine_data[\"final_text\"].iloc[7157]"
   ]
  },
  {
   "cell_type": "code",
   "execution_count": 59,
   "metadata": {},
   "outputs": [
    {
     "name": "stdout",
     "output_type": "stream",
     "text": [
      "5\n"
     ]
    }
   ],
   "source": [
    "for i in range(len(combine_data)):\n",
    "    if combine_data[\"final_text\"].iloc[i] == \"None\":\n",
    "        print(i)\n",
    "        break"
   ]
  },
  {
   "cell_type": "code",
   "execution_count": 60,
   "metadata": {},
   "outputs": [
    {
     "data": {
      "text/plain": [
       "{'construction': 0,\n",
       " 'construction partnership': 0,\n",
       " 'construction partnership uk': 0,\n",
       " 'construction partnership uk limited': 0}"
      ]
     },
     "execution_count": 60,
     "metadata": {},
     "output_type": "execute_result"
    }
   ],
   "source": [
    "find_company_name_occurance(combine_data[\"Company\"].iloc[7157], combine_data[\"final_text\"].iloc[7157])"
   ]
  },
  {
   "cell_type": "code",
   "execution_count": null,
   "metadata": {},
   "outputs": [],
   "source": []
  }
 ],
 "metadata": {
  "kernelspec": {
   "display_name": "modern-slavery",
   "language": "python",
   "name": "modern-slavery"
  },
  "language_info": {
   "codemirror_mode": {
    "name": "ipython",
    "version": 3
   },
   "file_extension": ".py",
   "mimetype": "text/x-python",
   "name": "python",
   "nbconvert_exporter": "python",
   "pygments_lexer": "ipython3",
   "version": "3.8.6"
  }
 },
 "nbformat": 4,
 "nbformat_minor": 4
}
