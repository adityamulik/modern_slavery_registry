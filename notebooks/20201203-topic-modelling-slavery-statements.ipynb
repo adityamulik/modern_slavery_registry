{
 "cells": [
  {
   "cell_type": "code",
   "execution_count": null,
   "metadata": {
    "id": "l7WeR-r6uf4x"
   },
   "outputs": [],
   "source": [
    "import pandas as pd\n",
    "from sklearn.feature_extraction.text import (CountVectorizer,\n",
    "                                             TfidfVectorizer)\n",
    "from sklearn.decomposition import LatentDirichletAllocation\n",
    "import numpy as np"
   ]
  },
  {
   "cell_type": "code",
   "execution_count": null,
   "metadata": {
    "id": "19-wl6Uw8GLu"
   },
   "outputs": [],
   "source": [
    "data = pd.read_excel(\"subset_data.xlsx\")\n",
    "data.fillna(\"#NA\", inplace=True)"
   ]
  },
  {
   "cell_type": "code",
   "execution_count": null,
   "metadata": {
    "colab": {
     "base_uri": "https://localhost:8080/",
     "height": 289
    },
    "id": "jSU34WKL8ctQ",
    "outputId": "63b715fb-d36a-4718-9114-3a5b13b01375"
   },
   "outputs": [
    {
     "data": {
      "text/html": [
       "<div>\n",
       "<style scoped>\n",
       "    .dataframe tbody tr th:only-of-type {\n",
       "        vertical-align: middle;\n",
       "    }\n",
       "\n",
       "    .dataframe tbody tr th {\n",
       "        vertical-align: top;\n",
       "    }\n",
       "\n",
       "    .dataframe thead th {\n",
       "        text-align: right;\n",
       "    }\n",
       "</style>\n",
       "<table border=\"1\" class=\"dataframe\">\n",
       "  <thead>\n",
       "    <tr style=\"text-align: right;\">\n",
       "      <th></th>\n",
       "      <th>statement_hash</th>\n",
       "      <th>final_statement_cleaned</th>\n",
       "      <th>cleaned_statements</th>\n",
       "    </tr>\n",
       "  </thead>\n",
       "  <tbody>\n",
       "    <tr>\n",
       "      <th>0</th>\n",
       "      <td>54a3be2e54d7e83866249741309a4fec</td>\n",
       "      <td>holdinc europe ltd modern slavery act transpar...</td>\n",
       "      <td>holdinc europe ltd modern slavery act transpar...</td>\n",
       "    </tr>\n",
       "    <tr>\n",
       "      <th>1</th>\n",
       "      <td>c20780d56b38fdee0d585b1dcf32b246</td>\n",
       "      <td>holdinc europe ltd modern slavery act transpar...</td>\n",
       "      <td>holdinc europe ltd modern slavery act transpar...</td>\n",
       "    </tr>\n",
       "    <tr>\n",
       "      <th>2</th>\n",
       "      <td>ba93a3f728608e0a8aa60765e7433654</td>\n",
       "      <td>holdinc europe ltd modern slavery act transpar...</td>\n",
       "      <td>holdinc europe ltd modern slavery act transpar...</td>\n",
       "    </tr>\n",
       "    <tr>\n",
       "      <th>3</th>\n",
       "      <td>160f2895b670d4054d3dfd9ae1231b87</td>\n",
       "      <td>holdinc europe ltd modern slavery act transpar...</td>\n",
       "      <td>holdinc europe ltd modern slavery act transpar...</td>\n",
       "    </tr>\n",
       "    <tr>\n",
       "      <th>4</th>\n",
       "      <td>c7892425aa35519093b7a0179d245a0d</td>\n",
       "      <td>k line holdinc europe ltd modern slavery act t...</td>\n",
       "      <td>line holdinc europe ltd modern slavery act tra...</td>\n",
       "    </tr>\n",
       "  </tbody>\n",
       "</table>\n",
       "</div>"
      ],
      "text/plain": [
       "                     statement_hash  ...                                 cleaned_statements\n",
       "0  54a3be2e54d7e83866249741309a4fec  ...  holdinc europe ltd modern slavery act transpar...\n",
       "1  c20780d56b38fdee0d585b1dcf32b246  ...  holdinc europe ltd modern slavery act transpar...\n",
       "2  ba93a3f728608e0a8aa60765e7433654  ...  holdinc europe ltd modern slavery act transpar...\n",
       "3  160f2895b670d4054d3dfd9ae1231b87  ...  holdinc europe ltd modern slavery act transpar...\n",
       "4  c7892425aa35519093b7a0179d245a0d  ...  line holdinc europe ltd modern slavery act tra...\n",
       "\n",
       "[5 rows x 3 columns]"
      ]
     },
     "execution_count": 7,
     "metadata": {
      "tags": []
     },
     "output_type": "execute_result"
    }
   ],
   "source": [
    "data.head()"
   ]
  },
  {
   "cell_type": "code",
   "execution_count": null,
   "metadata": {
    "id": "66EntRIr8LwH"
   },
   "outputs": [],
   "source": [
    "N_GRAMS = (1, 1)\n",
    "count_vect = CountVectorizer(ngram_range=N_GRAMS)\n",
    "X = count_vect.fit_transform(data[\"cleaned_statements\"].values) "
   ]
  },
  {
   "cell_type": "code",
   "execution_count": null,
   "metadata": {
    "colab": {
     "base_uri": "https://localhost:8080/"
    },
    "id": "c4HELo1g8f-X",
    "outputId": "3b4240ee-1024-4052-8427-804f417dd7a0"
   },
   "outputs": [
    {
     "name": "stdout",
     "output_type": "stream",
     "text": [
      "iteration: 1 of max_iter: 10\n",
      "iteration: 2 of max_iter: 10\n",
      "iteration: 3 of max_iter: 10\n",
      "iteration: 4 of max_iter: 10\n",
      "iteration: 5 of max_iter: 10\n",
      "iteration: 6 of max_iter: 10\n",
      "iteration: 7 of max_iter: 10\n",
      "iteration: 8 of max_iter: 10\n",
      "iteration: 9 of max_iter: 10\n",
      "iteration: 10 of max_iter: 10\n"
     ]
    },
    {
     "data": {
      "text/plain": [
       "LatentDirichletAllocation(batch_size=128, doc_topic_prior=None,\n",
       "                          evaluate_every=-1, learning_decay=0.7,\n",
       "                          learning_method='batch', learning_offset=10.0,\n",
       "                          max_doc_update_iter=100, max_iter=10,\n",
       "                          mean_change_tol=0.001, n_components=5, n_jobs=-1,\n",
       "                          perp_tol=0.1, random_state=None,\n",
       "                          topic_word_prior=None, total_samples=1000000.0,\n",
       "                          verbose=1)"
      ]
     },
     "execution_count": 26,
     "metadata": {
      "tags": []
     },
     "output_type": "execute_result"
    }
   ],
   "source": [
    "N_TOPICS = 5\n",
    "LDA = LatentDirichletAllocation(n_components=N_TOPICS, n_jobs=-1, verbose=1)\n",
    "LDA.fit(X)"
   ]
  },
  {
   "cell_type": "code",
   "execution_count": null,
   "metadata": {
    "id": "wh0XAY0L9crb"
   },
   "outputs": [],
   "source": [
    "topic_components = LDA.components_"
   ]
  },
  {
   "cell_type": "code",
   "execution_count": null,
   "metadata": {
    "colab": {
     "base_uri": "https://localhost:8080/"
    },
    "id": "mETBnFVC-ixN",
    "outputId": "0bd6113d-9973-4334-8729-609a1f0ca78e"
   },
   "outputs": [
    {
     "data": {
      "text/plain": [
       "['act',\n",
       " 'ensure',\n",
       " 'statement',\n",
       " 'business',\n",
       " 'chain',\n",
       " 'supply',\n",
       " 'modern',\n",
       " 'traffic',\n",
       " 'human',\n",
       " 'slavery']"
      ]
     },
     "execution_count": 28,
     "metadata": {
      "tags": []
     },
     "output_type": "execute_result"
    }
   ],
   "source": [
    "[count_vect.get_feature_names()[i] for i in np.argsort(topic_components[0])[-10:]]"
   ]
  },
  {
   "cell_type": "code",
   "execution_count": null,
   "metadata": {
    "colab": {
     "base_uri": "https://localhost:8080/"
    },
    "id": "voxHyv67-Or3",
    "outputId": "751d67de-3213-42ca-a732-caac5c32dfcf"
   },
   "outputs": [
    {
     "data": {
      "text/plain": [
       "['london',\n",
       " 'suppliers',\n",
       " 'business',\n",
       " 'supply',\n",
       " 'service',\n",
       " 'uk',\n",
       " 'group',\n",
       " 'modern',\n",
       " 'slavery',\n",
       " 'limit']"
      ]
     },
     "execution_count": 29,
     "metadata": {
      "tags": []
     },
     "output_type": "execute_result"
    }
   ],
   "source": [
    "[count_vect.get_feature_names()[i] for i in np.argsort(topic_components[1])[-10:]]"
   ]
  },
  {
   "cell_type": "code",
   "execution_count": null,
   "metadata": {
    "colab": {
     "base_uri": "https://localhost:8080/"
    },
    "id": "Cxb6XBlJ_ZUa",
    "outputId": "d54935f4-1932-401e-87d9-8c8a77512df9"
   },
   "outputs": [
    {
     "data": {
      "text/plain": [
       "['site',\n",
       " 'include',\n",
       " 'website',\n",
       " 'us',\n",
       " 'data',\n",
       " 'provide',\n",
       " 'service',\n",
       " 'may',\n",
       " 'information',\n",
       " 'use']"
      ]
     },
     "execution_count": 30,
     "metadata": {
      "tags": []
     },
     "output_type": "execute_result"
    }
   ],
   "source": [
    "[count_vect.get_feature_names()[i] for i in np.argsort(topic_components[2])[-10:]]"
   ]
  },
  {
   "cell_type": "code",
   "execution_count": null,
   "metadata": {
    "colab": {
     "base_uri": "https://localhost:8080/"
    },
    "id": "8bh4DcKf_goM",
    "outputId": "49d86da3-5e9d-4bdc-a1ba-119344ddef2c"
   },
   "outputs": [
    {
     "data": {
      "text/plain": [
       "['business',\n",
       " 'human',\n",
       " 'group',\n",
       " 'chain',\n",
       " 'work',\n",
       " 'supply',\n",
       " 'suppliers',\n",
       " 'risk',\n",
       " 'modern',\n",
       " 'slavery']"
      ]
     },
     "execution_count": 31,
     "metadata": {
      "tags": []
     },
     "output_type": "execute_result"
    }
   ],
   "source": [
    "[count_vect.get_feature_names()[i] for i in np.argsort(topic_components[3])[-10:]]"
   ]
  },
  {
   "cell_type": "code",
   "execution_count": null,
   "metadata": {
    "colab": {
     "base_uri": "https://localhost:8080/"
    },
    "id": "4iw6CgCV_i5g",
    "outputId": "2ff0dfc1-943a-437c-9265-0941e2d6810c"
   },
   "outputs": [
    {
     "data": {
      "text/plain": [
       "['include',\n",
       " 'supplier',\n",
       " 'business',\n",
       " 'chain',\n",
       " 'supply',\n",
       " 'code',\n",
       " 'conduct',\n",
       " 'suppliers',\n",
       " 'right',\n",
       " 'human']"
      ]
     },
     "execution_count": 32,
     "metadata": {
      "tags": []
     },
     "output_type": "execute_result"
    }
   ],
   "source": [
    "[count_vect.get_feature_names()[i] for i in np.argsort(topic_components[4])[-10:]]"
   ]
  }
 ],
 "metadata": {
  "accelerator": "GPU",
  "colab": {
   "collapsed_sections": [],
   "name": "20201203-Topic-Modelling-Slavery-Statements.ipynb",
   "provenance": []
  },
  "kernelspec": {
   "display_name": "Python 3",
   "language": "python",
   "name": "python3"
  },
  "language_info": {
   "codemirror_mode": {
    "name": "ipython",
    "version": 3
   },
   "file_extension": ".py",
   "mimetype": "text/x-python",
   "name": "python",
   "nbconvert_exporter": "python",
   "pygments_lexer": "ipython3",
   "version": "3.8.3"
  }
 },
 "nbformat": 4,
 "nbformat_minor": 4
}
