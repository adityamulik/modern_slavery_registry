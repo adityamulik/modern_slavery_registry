{
 "cells": [
  {
   "cell_type": "code",
   "execution_count": null,
   "metadata": {},
   "outputs": [],
   "source": [
    "%load_ext autoreload\n",
    "%autoreload 2"
   ]
  },
  {
   "cell_type": "code",
   "execution_count": 2,
   "metadata": {},
   "outputs": [],
   "source": [
    "import pandas as pd\n",
    "from os import getcwd\n",
    "import numpy as np\n",
    "from tqdm import tqdm\n",
    "import re\n",
    "from typing import Tuple, Dict, Sequence, List, Union\n",
    "from stopit import threading_timeoutable\n",
    "from copy import deepcopy\n",
    "import hashlib"
   ]
  },
  {
   "cell_type": "code",
   "execution_count": 3,
   "metadata": {},
   "outputs": [],
   "source": [
    "from modern_slavery_registry.text_parser import (find_ngrams_in_text, \n",
    "                                                 replace_urls,\n",
    "                                                 replace_unicode, \n",
    "                                                 replace_special_chars, \n",
    "                                                 remove_stopwords)\n",
    "from modern_slavery_registry.utils import fix_unicode"
   ]
  },
  {
   "cell_type": "code",
   "execution_count": 4,
   "metadata": {},
   "outputs": [],
   "source": [
    "DATA_PATH = getcwd()\n",
    "DATA_PATH = DATA_PATH.replace(\"notebooks\", \"\")\n",
    "DATA_PATH += \"data\"\n",
    "SHEETS_PATH = DATA_PATH + \"\\\\sheets\""
   ]
  },
  {
   "cell_type": "code",
   "execution_count": 5,
   "metadata": {},
   "outputs": [],
   "source": [
    "prof_data = pd.read_json(f\"{SHEETS_PATH}\\\\modern_slavery_dataset_prof.json\")\n",
    "cols_to_keep = [\"Company ID\", \"Company\", \"Statement ID\", \"URL\", \"Text\"]\n",
    "prof_data.drop_duplicates(inplace=True)\n",
    "prof_data.dropna(subset=[\"Company ID\"], inplace=True)\n",
    "prof_data.reset_index(drop=True, inplace=True)\n",
    "prof_data = prof_data[cols_to_keep]\n",
    "cols_type = [\"int32\", str, float, str, str]\n",
    "for i, col in enumerate(prof_data.columns):\n",
    "    prof_data[col] = prof_data[col].astype(cols_type[i])\n",
    "\n",
    "\n",
    "\n",
    "\n",
    "my_data = pd.read_excel(f\"{SHEETS_PATH}\\\\modern_slavery_dataset_nitin.xlsx\")\n",
    "cols_to_keep = [\"Company ID\", \"Company\", \"Statement ID\", \"URL\", \"statement\"]\n",
    "my_data.drop_duplicates(inplace=True)\n",
    "my_data.dropna(subset=[\"Company ID\"], inplace=True)\n",
    "my_data.reset_index(drop=True, inplace=True)\n",
    "my_data = my_data[cols_to_keep]\n",
    "for i, col in enumerate(my_data.columns):\n",
    "    my_data[col] = my_data[col].astype(cols_type[i])"
   ]
  },
  {
   "cell_type": "code",
   "execution_count": 6,
   "metadata": {},
   "outputs": [
    {
     "data": {
      "text/html": [
       "<div>\n",
       "<style scoped>\n",
       "    .dataframe tbody tr th:only-of-type {\n",
       "        vertical-align: middle;\n",
       "    }\n",
       "\n",
       "    .dataframe tbody tr th {\n",
       "        vertical-align: top;\n",
       "    }\n",
       "\n",
       "    .dataframe thead th {\n",
       "        text-align: right;\n",
       "    }\n",
       "</style>\n",
       "<table border=\"1\" class=\"dataframe\">\n",
       "  <thead>\n",
       "    <tr style=\"text-align: right;\">\n",
       "      <th></th>\n",
       "      <th>Company ID</th>\n",
       "      <th>Company</th>\n",
       "      <th>Statement ID</th>\n",
       "      <th>URL</th>\n",
       "      <th>statement</th>\n",
       "    </tr>\n",
       "  </thead>\n",
       "  <tbody>\n",
       "    <tr>\n",
       "      <th>0</th>\n",
       "      <td>7676</td>\n",
       "      <td>\"K\" Line Holding Europe Limited</td>\n",
       "      <td>35092.0</td>\n",
       "      <td>https://img1.wsimg.com/blobby/go/7695baff-3f0f...</td>\n",
       "      <td>66 99 “K” Line Holding (Europe) Limited kM K L...</td>\n",
       "    </tr>\n",
       "  </tbody>\n",
       "</table>\n",
       "</div>"
      ],
      "text/plain": [
       "   Company ID                          Company  Statement ID  \\\n",
       "0        7676  \"K\" Line Holding Europe Limited       35092.0   \n",
       "\n",
       "                                                 URL  \\\n",
       "0  https://img1.wsimg.com/blobby/go/7695baff-3f0f...   \n",
       "\n",
       "                                           statement  \n",
       "0  66 99 “K” Line Holding (Europe) Limited kM K L...  "
      ]
     },
     "execution_count": 6,
     "metadata": {},
     "output_type": "execute_result"
    }
   ],
   "source": [
    "my_data.head(1)"
   ]
  },
  {
   "cell_type": "code",
   "execution_count": 7,
   "metadata": {},
   "outputs": [
    {
     "data": {
      "text/html": [
       "<div>\n",
       "<style scoped>\n",
       "    .dataframe tbody tr th:only-of-type {\n",
       "        vertical-align: middle;\n",
       "    }\n",
       "\n",
       "    .dataframe tbody tr th {\n",
       "        vertical-align: top;\n",
       "    }\n",
       "\n",
       "    .dataframe thead th {\n",
       "        text-align: right;\n",
       "    }\n",
       "</style>\n",
       "<table border=\"1\" class=\"dataframe\">\n",
       "  <thead>\n",
       "    <tr style=\"text-align: right;\">\n",
       "      <th></th>\n",
       "      <th>Company ID</th>\n",
       "      <th>Company</th>\n",
       "      <th>Statement ID</th>\n",
       "      <th>URL</th>\n",
       "      <th>Text</th>\n",
       "    </tr>\n",
       "  </thead>\n",
       "  <tbody>\n",
       "    <tr>\n",
       "      <th>0</th>\n",
       "      <td>7676</td>\n",
       "      <td>\"K\" Line Holding Europe Limited</td>\n",
       "      <td>35092.0</td>\n",
       "      <td>https://img1.wsimg.com/blobby/go/7695baff-3f0f...</td>\n",
       "      <td>K LINE\\nHOLDINC (EUROPE) LTD.\\nModern Slavery ...</td>\n",
       "    </tr>\n",
       "  </tbody>\n",
       "</table>\n",
       "</div>"
      ],
      "text/plain": [
       "   Company ID                          Company  Statement ID  \\\n",
       "0        7676  \"K\" Line Holding Europe Limited       35092.0   \n",
       "\n",
       "                                                 URL  \\\n",
       "0  https://img1.wsimg.com/blobby/go/7695baff-3f0f...   \n",
       "\n",
       "                                                Text  \n",
       "0  K LINE\\nHOLDINC (EUROPE) LTD.\\nModern Slavery ...  "
      ]
     },
     "execution_count": 7,
     "metadata": {},
     "output_type": "execute_result"
    }
   ],
   "source": [
    "prof_data.head(1)"
   ]
  },
  {
   "cell_type": "code",
   "execution_count": 8,
   "metadata": {},
   "outputs": [
    {
     "name": "stdout",
     "output_type": "stream",
     "text": [
      "Length, prof. dataset : 28361, my dataset : 27527\n"
     ]
    }
   ],
   "source": [
    "print(f\"Length, prof. dataset : {len(prof_data)}, my dataset : {len(my_data)}\")"
   ]
  },
  {
   "cell_type": "markdown",
   "metadata": {},
   "source": [
    "<font color=\"blue\" size=\"5\"> Combining both datasets "
   ]
  },
  {
   "cell_type": "code",
   "execution_count": 9,
   "metadata": {},
   "outputs": [],
   "source": [
    "combine_data = pd.merge(prof_data,\n",
    "                        my_data,\n",
    "                        on = [\"Company ID\", \"Company\", \"Statement ID\", \"URL\"], \n",
    "                        how = \"outer\")\n",
    "combine_data.drop_duplicates(inplace=True)\n",
    "combine_data.reset_index(drop=True, inplace=True)\n",
    "combine_data.fillna(\"#NA\", inplace=True)\n",
    "combine_data[\"Text\"] = [\"#NA\" if text in (\"nan\", \"None\") or text == \"\" else text for text in combine_data[\"Text\"]]\n",
    "combine_data[\"statement\"] = [\"#NA\" if text in (\"nan\", \"None\") or text == \"\" else text for text in combine_data[\"Text\"]]\n",
    "statements = [\n",
    "    (\"E\", combine_data[\"Text\"].iloc[i]) if combine_data[\"Text\"].iloc[i] != \"#NA\" else (\"N\", combine_data[\"statement\"].iloc[i]) for i in range(len(combine_data))\n",
    "]\n",
    "choice = [_[0] for _ in statements]\n",
    "statements = [_[1] for _ in statements]\n",
    "combine_data[\"final_statement\"] = statements\n",
    "combine_data[\"final_statement(E/N)\"] = choice\n",
    "combine_data.rename(columns = {\"Text\": \"statement(Edgar)\", \n",
    "                               \"statement\": \"statement(Nitin)\"},  \n",
    "                    inplace = True) \n",
    "# cols_to_drop = [\"Text\", \"statement\"]\n",
    "# for col in cols_to_drop:\n",
    "#     combine_data.drop(col, axis=1, inplace=True)"
   ]
  },
  {
   "cell_type": "code",
   "execution_count": 10,
   "metadata": {},
   "outputs": [
    {
     "data": {
      "text/html": [
       "<div>\n",
       "<style scoped>\n",
       "    .dataframe tbody tr th:only-of-type {\n",
       "        vertical-align: middle;\n",
       "    }\n",
       "\n",
       "    .dataframe tbody tr th {\n",
       "        vertical-align: top;\n",
       "    }\n",
       "\n",
       "    .dataframe thead th {\n",
       "        text-align: right;\n",
       "    }\n",
       "</style>\n",
       "<table border=\"1\" class=\"dataframe\">\n",
       "  <thead>\n",
       "    <tr style=\"text-align: right;\">\n",
       "      <th></th>\n",
       "      <th>Company ID</th>\n",
       "      <th>Company</th>\n",
       "      <th>Statement ID</th>\n",
       "      <th>URL</th>\n",
       "      <th>statement(Edgar)</th>\n",
       "      <th>statement(Nitin)</th>\n",
       "      <th>final_statement</th>\n",
       "      <th>final_statement(E/N)</th>\n",
       "    </tr>\n",
       "  </thead>\n",
       "  <tbody>\n",
       "    <tr>\n",
       "      <th>0</th>\n",
       "      <td>7676</td>\n",
       "      <td>\"K\" Line Holding Europe Limited</td>\n",
       "      <td>35092</td>\n",
       "      <td>https://img1.wsimg.com/blobby/go/7695baff-3f0f...</td>\n",
       "      <td>K LINE\\nHOLDINC (EUROPE) LTD.\\nModern Slavery ...</td>\n",
       "      <td>K LINE\\nHOLDINC (EUROPE) LTD.\\nModern Slavery ...</td>\n",
       "      <td>K LINE\\nHOLDINC (EUROPE) LTD.\\nModern Slavery ...</td>\n",
       "      <td>E</td>\n",
       "    </tr>\n",
       "    <tr>\n",
       "      <th>1</th>\n",
       "      <td>28660</td>\n",
       "      <td>\"K\" Line Bulk Shipping (UK) Limited</td>\n",
       "      <td>35092</td>\n",
       "      <td>https://img1.wsimg.com/blobby/go/7695baff-3f0f...</td>\n",
       "      <td>K LINE\\nHOLDINC (EUROPE) LTD.\\nModern Slavery ...</td>\n",
       "      <td>K LINE\\nHOLDINC (EUROPE) LTD.\\nModern Slavery ...</td>\n",
       "      <td>K LINE\\nHOLDINC (EUROPE) LTD.\\nModern Slavery ...</td>\n",
       "      <td>E</td>\n",
       "    </tr>\n",
       "    <tr>\n",
       "      <th>2</th>\n",
       "      <td>28659</td>\n",
       "      <td>\"K\" Line (Europe) Limited</td>\n",
       "      <td>35092</td>\n",
       "      <td>https://img1.wsimg.com/blobby/go/7695baff-3f0f...</td>\n",
       "      <td>K LINE\\nHOLDINC (EUROPE) LTD.\\nModern Slavery ...</td>\n",
       "      <td>K LINE\\nHOLDINC (EUROPE) LTD.\\nModern Slavery ...</td>\n",
       "      <td>K LINE\\nHOLDINC (EUROPE) LTD.\\nModern Slavery ...</td>\n",
       "      <td>E</td>\n",
       "    </tr>\n",
       "    <tr>\n",
       "      <th>3</th>\n",
       "      <td>28661</td>\n",
       "      <td>\"K\" Line LNG Shipping Limited</td>\n",
       "      <td>35092</td>\n",
       "      <td>https://img1.wsimg.com/blobby/go/7695baff-3f0f...</td>\n",
       "      <td>K LINE\\nHOLDINC (EUROPE) LTD.\\nModern Slavery ...</td>\n",
       "      <td>K LINE\\nHOLDINC (EUROPE) LTD.\\nModern Slavery ...</td>\n",
       "      <td>K LINE\\nHOLDINC (EUROPE) LTD.\\nModern Slavery ...</td>\n",
       "      <td>E</td>\n",
       "    </tr>\n",
       "    <tr>\n",
       "      <th>4</th>\n",
       "      <td>28658</td>\n",
       "      <td>Polar LNG Shipping (UK) Limited</td>\n",
       "      <td>35092</td>\n",
       "      <td>https://img1.wsimg.com/blobby/go/7695baff-3f0f...</td>\n",
       "      <td>K LINE\\nHOLDINC (EUROPE) LTD.\\nModern Slavery ...</td>\n",
       "      <td>K LINE\\nHOLDINC (EUROPE) LTD.\\nModern Slavery ...</td>\n",
       "      <td>K LINE\\nHOLDINC (EUROPE) LTD.\\nModern Slavery ...</td>\n",
       "      <td>E</td>\n",
       "    </tr>\n",
       "  </tbody>\n",
       "</table>\n",
       "</div>"
      ],
      "text/plain": [
       "   Company ID                              Company Statement ID  \\\n",
       "0        7676      \"K\" Line Holding Europe Limited        35092   \n",
       "1       28660  \"K\" Line Bulk Shipping (UK) Limited        35092   \n",
       "2       28659            \"K\" Line (Europe) Limited        35092   \n",
       "3       28661        \"K\" Line LNG Shipping Limited        35092   \n",
       "4       28658      Polar LNG Shipping (UK) Limited        35092   \n",
       "\n",
       "                                                 URL  \\\n",
       "0  https://img1.wsimg.com/blobby/go/7695baff-3f0f...   \n",
       "1  https://img1.wsimg.com/blobby/go/7695baff-3f0f...   \n",
       "2  https://img1.wsimg.com/blobby/go/7695baff-3f0f...   \n",
       "3  https://img1.wsimg.com/blobby/go/7695baff-3f0f...   \n",
       "4  https://img1.wsimg.com/blobby/go/7695baff-3f0f...   \n",
       "\n",
       "                                    statement(Edgar)  \\\n",
       "0  K LINE\\nHOLDINC (EUROPE) LTD.\\nModern Slavery ...   \n",
       "1  K LINE\\nHOLDINC (EUROPE) LTD.\\nModern Slavery ...   \n",
       "2  K LINE\\nHOLDINC (EUROPE) LTD.\\nModern Slavery ...   \n",
       "3  K LINE\\nHOLDINC (EUROPE) LTD.\\nModern Slavery ...   \n",
       "4  K LINE\\nHOLDINC (EUROPE) LTD.\\nModern Slavery ...   \n",
       "\n",
       "                                    statement(Nitin)  \\\n",
       "0  K LINE\\nHOLDINC (EUROPE) LTD.\\nModern Slavery ...   \n",
       "1  K LINE\\nHOLDINC (EUROPE) LTD.\\nModern Slavery ...   \n",
       "2  K LINE\\nHOLDINC (EUROPE) LTD.\\nModern Slavery ...   \n",
       "3  K LINE\\nHOLDINC (EUROPE) LTD.\\nModern Slavery ...   \n",
       "4  K LINE\\nHOLDINC (EUROPE) LTD.\\nModern Slavery ...   \n",
       "\n",
       "                                     final_statement final_statement(E/N)  \n",
       "0  K LINE\\nHOLDINC (EUROPE) LTD.\\nModern Slavery ...                    E  \n",
       "1  K LINE\\nHOLDINC (EUROPE) LTD.\\nModern Slavery ...                    E  \n",
       "2  K LINE\\nHOLDINC (EUROPE) LTD.\\nModern Slavery ...                    E  \n",
       "3  K LINE\\nHOLDINC (EUROPE) LTD.\\nModern Slavery ...                    E  \n",
       "4  K LINE\\nHOLDINC (EUROPE) LTD.\\nModern Slavery ...                    E  "
      ]
     },
     "execution_count": 10,
     "metadata": {},
     "output_type": "execute_result"
    }
   ],
   "source": [
    "combine_data.head()"
   ]
  },
  {
   "cell_type": "code",
   "execution_count": 11,
   "metadata": {},
   "outputs": [],
   "source": [
    "def clean_text(text):\n",
    "    text = replace_unicode(text)\n",
    "    text = text.replace(\"\\n\",\" \")\n",
    "    text = text.replace(\"\\t\",\" \")\n",
    "    text = replace_special_chars(text, replace_digits=True)\n",
    "    text = remove_stopwords(text)\n",
    "    return text"
   ]
  },
  {
   "cell_type": "code",
   "execution_count": 12,
   "metadata": {},
   "outputs": [
    {
     "name": "stderr",
     "output_type": "stream",
     "text": [
      "100%|███████████████████████████████████████████████████████████████████████████| 28364/28364 [01:15<00:00, 375.47it/s]\n"
     ]
    }
   ],
   "source": [
    "statements = [clean_text(statement) if statement != \"#NA\" else statement for statement in tqdm(combine_data[\"final_statement\"])]\n",
    "statements = [statement if statement != \"\" else \"#NA\" for statement in statements]"
   ]
  },
  {
   "cell_type": "code",
   "execution_count": 13,
   "metadata": {},
   "outputs": [
    {
     "name": "stderr",
     "output_type": "stream",
     "text": [
      "28364it [00:00, 56632.94it/s]\n"
     ]
    }
   ],
   "source": [
    "companies = [clean_text(company) if statements[i] != \"#NA\" else company for i, company in tqdm(enumerate(combine_data[\"Company\"]))]"
   ]
  },
  {
   "cell_type": "code",
   "execution_count": 14,
   "metadata": {},
   "outputs": [],
   "source": [
    "def remove_company_name(company_name, statement):\n",
    "    mappings = find_ngrams_in_text(sentence=company_name,\n",
    "                                   text=statement)\n",
    "    # to remove big text first\n",
    "    mappings = {k:v for k,v in sorted(mappings.items(), key=lambda x:x[1])} \n",
    "    for ngram, cnt in mappings.items():\n",
    "        if cnt > 0:\n",
    "            ngram_splitted = ngram.split()\n",
    "            if not (len(ngram_splitted) == 1 and len(ngram_splitted[0]) == 1):\n",
    "                statement = statement.replace(ngram,\" \")\n",
    "\n",
    "    statement = \" \".join(statement.split())\n",
    "    return statement"
   ]
  },
  {
   "cell_type": "code",
   "execution_count": 15,
   "metadata": {},
   "outputs": [
    {
     "name": "stderr",
     "output_type": "stream",
     "text": [
      "28364it [00:15, 1841.78it/s]\n"
     ]
    }
   ],
   "source": [
    "cleaned_statements = []\n",
    "for company, statement in tqdm(zip(companies, statements)):\n",
    "    if statement != \"#NA\":\n",
    "        statement = remove_company_name(company_name=company, \n",
    "                                     statement=statement)\n",
    "    cleaned_statements.append(statement)"
   ]
  },
  {
   "cell_type": "code",
   "execution_count": 16,
   "metadata": {},
   "outputs": [],
   "source": [
    "combine_data[\"final_statement_cleaned\"] = cleaned_statements"
   ]
  },
  {
   "cell_type": "code",
   "execution_count": 17,
   "metadata": {},
   "outputs": [],
   "source": [
    "combine_data = fix_unicode(combine_data)\n",
    "combine_data.to_excel(f\"{SHEETS_PATH}\\\\combined_modern_slavery_statements.xlsx\", index = False)"
   ]
  },
  {
   "cell_type": "code",
   "execution_count": 18,
   "metadata": {},
   "outputs": [
    {
     "data": {
      "text/html": [
       "<div>\n",
       "<style scoped>\n",
       "    .dataframe tbody tr th:only-of-type {\n",
       "        vertical-align: middle;\n",
       "    }\n",
       "\n",
       "    .dataframe tbody tr th {\n",
       "        vertical-align: top;\n",
       "    }\n",
       "\n",
       "    .dataframe thead th {\n",
       "        text-align: right;\n",
       "    }\n",
       "</style>\n",
       "<table border=\"1\" class=\"dataframe\">\n",
       "  <thead>\n",
       "    <tr style=\"text-align: right;\">\n",
       "      <th></th>\n",
       "      <th>Company ID</th>\n",
       "      <th>Company</th>\n",
       "      <th>Statement ID</th>\n",
       "      <th>URL</th>\n",
       "      <th>statement(Edgar)</th>\n",
       "      <th>statement(Nitin)</th>\n",
       "      <th>final_statement</th>\n",
       "      <th>final_statement(E/N)</th>\n",
       "      <th>final_statement_cleaned</th>\n",
       "    </tr>\n",
       "  </thead>\n",
       "  <tbody>\n",
       "    <tr>\n",
       "      <th>0</th>\n",
       "      <td>7676</td>\n",
       "      <td>\"K\" Line Holding Europe Limited</td>\n",
       "      <td>35092</td>\n",
       "      <td>https://img1.wsimg.com/blobby/go/7695baff-3f0f...</td>\n",
       "      <td>K LINE\\nHOLDINC (EUROPE) LTD.\\nModern Slavery ...</td>\n",
       "      <td>K LINE\\nHOLDINC (EUROPE) LTD.\\nModern Slavery ...</td>\n",
       "      <td>K LINE\\nHOLDINC (EUROPE) LTD.\\nModern Slavery ...</td>\n",
       "      <td>E</td>\n",
       "      <td>holdinc europe ltd modern slavery act transpar...</td>\n",
       "    </tr>\n",
       "    <tr>\n",
       "      <th>1</th>\n",
       "      <td>28660</td>\n",
       "      <td>\"K\" Line Bulk Shipping (UK) Limited</td>\n",
       "      <td>35092</td>\n",
       "      <td>https://img1.wsimg.com/blobby/go/7695baff-3f0f...</td>\n",
       "      <td>K LINE\\nHOLDINC (EUROPE) LTD.\\nModern Slavery ...</td>\n",
       "      <td>K LINE\\nHOLDINC (EUROPE) LTD.\\nModern Slavery ...</td>\n",
       "      <td>K LINE\\nHOLDINC (EUROPE) LTD.\\nModern Slavery ...</td>\n",
       "      <td>E</td>\n",
       "      <td>holdinc europe ltd modern slavery act transpar...</td>\n",
       "    </tr>\n",
       "    <tr>\n",
       "      <th>2</th>\n",
       "      <td>28659</td>\n",
       "      <td>\"K\" Line (Europe) Limited</td>\n",
       "      <td>35092</td>\n",
       "      <td>https://img1.wsimg.com/blobby/go/7695baff-3f0f...</td>\n",
       "      <td>K LINE\\nHOLDINC (EUROPE) LTD.\\nModern Slavery ...</td>\n",
       "      <td>K LINE\\nHOLDINC (EUROPE) LTD.\\nModern Slavery ...</td>\n",
       "      <td>K LINE\\nHOLDINC (EUROPE) LTD.\\nModern Slavery ...</td>\n",
       "      <td>E</td>\n",
       "      <td>holdinc europe ltd modern slavery act transpar...</td>\n",
       "    </tr>\n",
       "    <tr>\n",
       "      <th>3</th>\n",
       "      <td>28661</td>\n",
       "      <td>\"K\" Line LNG Shipping Limited</td>\n",
       "      <td>35092</td>\n",
       "      <td>https://img1.wsimg.com/blobby/go/7695baff-3f0f...</td>\n",
       "      <td>K LINE\\nHOLDINC (EUROPE) LTD.\\nModern Slavery ...</td>\n",
       "      <td>K LINE\\nHOLDINC (EUROPE) LTD.\\nModern Slavery ...</td>\n",
       "      <td>K LINE\\nHOLDINC (EUROPE) LTD.\\nModern Slavery ...</td>\n",
       "      <td>E</td>\n",
       "      <td>holdinc europe ltd modern slavery act transpar...</td>\n",
       "    </tr>\n",
       "    <tr>\n",
       "      <th>4</th>\n",
       "      <td>28658</td>\n",
       "      <td>Polar LNG Shipping (UK) Limited</td>\n",
       "      <td>35092</td>\n",
       "      <td>https://img1.wsimg.com/blobby/go/7695baff-3f0f...</td>\n",
       "      <td>K LINE\\nHOLDINC (EUROPE) LTD.\\nModern Slavery ...</td>\n",
       "      <td>K LINE\\nHOLDINC (EUROPE) LTD.\\nModern Slavery ...</td>\n",
       "      <td>K LINE\\nHOLDINC (EUROPE) LTD.\\nModern Slavery ...</td>\n",
       "      <td>E</td>\n",
       "      <td>k line holdinc europe ltd modern slavery act t...</td>\n",
       "    </tr>\n",
       "  </tbody>\n",
       "</table>\n",
       "</div>"
      ],
      "text/plain": [
       "   Company ID                              Company Statement ID  \\\n",
       "0        7676      \"K\" Line Holding Europe Limited        35092   \n",
       "1       28660  \"K\" Line Bulk Shipping (UK) Limited        35092   \n",
       "2       28659            \"K\" Line (Europe) Limited        35092   \n",
       "3       28661        \"K\" Line LNG Shipping Limited        35092   \n",
       "4       28658      Polar LNG Shipping (UK) Limited        35092   \n",
       "\n",
       "                                                 URL  \\\n",
       "0  https://img1.wsimg.com/blobby/go/7695baff-3f0f...   \n",
       "1  https://img1.wsimg.com/blobby/go/7695baff-3f0f...   \n",
       "2  https://img1.wsimg.com/blobby/go/7695baff-3f0f...   \n",
       "3  https://img1.wsimg.com/blobby/go/7695baff-3f0f...   \n",
       "4  https://img1.wsimg.com/blobby/go/7695baff-3f0f...   \n",
       "\n",
       "                                    statement(Edgar)  \\\n",
       "0  K LINE\\nHOLDINC (EUROPE) LTD.\\nModern Slavery ...   \n",
       "1  K LINE\\nHOLDINC (EUROPE) LTD.\\nModern Slavery ...   \n",
       "2  K LINE\\nHOLDINC (EUROPE) LTD.\\nModern Slavery ...   \n",
       "3  K LINE\\nHOLDINC (EUROPE) LTD.\\nModern Slavery ...   \n",
       "4  K LINE\\nHOLDINC (EUROPE) LTD.\\nModern Slavery ...   \n",
       "\n",
       "                                    statement(Nitin)  \\\n",
       "0  K LINE\\nHOLDINC (EUROPE) LTD.\\nModern Slavery ...   \n",
       "1  K LINE\\nHOLDINC (EUROPE) LTD.\\nModern Slavery ...   \n",
       "2  K LINE\\nHOLDINC (EUROPE) LTD.\\nModern Slavery ...   \n",
       "3  K LINE\\nHOLDINC (EUROPE) LTD.\\nModern Slavery ...   \n",
       "4  K LINE\\nHOLDINC (EUROPE) LTD.\\nModern Slavery ...   \n",
       "\n",
       "                                     final_statement final_statement(E/N)  \\\n",
       "0  K LINE\\nHOLDINC (EUROPE) LTD.\\nModern Slavery ...                    E   \n",
       "1  K LINE\\nHOLDINC (EUROPE) LTD.\\nModern Slavery ...                    E   \n",
       "2  K LINE\\nHOLDINC (EUROPE) LTD.\\nModern Slavery ...                    E   \n",
       "3  K LINE\\nHOLDINC (EUROPE) LTD.\\nModern Slavery ...                    E   \n",
       "4  K LINE\\nHOLDINC (EUROPE) LTD.\\nModern Slavery ...                    E   \n",
       "\n",
       "                             final_statement_cleaned  \n",
       "0  holdinc europe ltd modern slavery act transpar...  \n",
       "1  holdinc europe ltd modern slavery act transpar...  \n",
       "2  holdinc europe ltd modern slavery act transpar...  \n",
       "3  holdinc europe ltd modern slavery act transpar...  \n",
       "4  k line holdinc europe ltd modern slavery act t...  "
      ]
     },
     "execution_count": 18,
     "metadata": {},
     "output_type": "execute_result"
    }
   ],
   "source": [
    "combine_data.head()"
   ]
  }
 ],
 "metadata": {
  "kernelspec": {
   "display_name": "modern-slavery",
   "language": "python",
   "name": "modern-slavery"
  },
  "language_info": {
   "codemirror_mode": {
    "name": "ipython",
    "version": 3
   },
   "file_extension": ".py",
   "mimetype": "text/x-python",
   "name": "python",
   "nbconvert_exporter": "python",
   "pygments_lexer": "ipython3",
   "version": "3.8.6"
  }
 },
 "nbformat": 4,
 "nbformat_minor": 4
}
