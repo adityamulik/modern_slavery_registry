{
 "cells": [
  {
   "cell_type": "code",
   "execution_count": 1,
   "metadata": {},
   "outputs": [],
   "source": [
    "# use if autocompletion is not working\n",
    "%config Completer.use_jedi = False"
   ]
  },
  {
   "cell_type": "code",
   "execution_count": 2,
   "metadata": {},
   "outputs": [],
   "source": [
    "%load_ext autoreload\n",
    "%autoreload 2"
   ]
  },
  {
   "cell_type": "code",
   "execution_count": 4,
   "metadata": {
    "id": "l7WeR-r6uf4x"
   },
   "outputs": [
    {
     "name": "stderr",
     "output_type": "stream",
     "text": [
      "<ipython-input-4-dc8f9ac616a0>:7: TqdmExperimentalWarning: Using `tqdm.autonotebook.tqdm` in notebook mode. Use `tqdm.tqdm` instead to force console mode (e.g. in jupyter console)\n",
      "  from tqdm.autonotebook import tqdm\n"
     ]
    }
   ],
   "source": [
    "import pandas as pd\n",
    "from sklearn.feature_extraction.text import (CountVectorizer)\n",
    "from sklearn.decomposition import LatentDirichletAllocation\n",
    "import numpy as np\n",
    "from os import getcwd, path\n",
    "import os\n",
    "from tqdm.autonotebook import tqdm\n",
    "from matplotlib.ticker import MaxNLocator\n",
    "#https://www.machinelearningplus.com/nlp/topic-modeling-gensim-python/\n",
    "# Gensim\n",
    "import gensim\n",
    "import gensim.corpora as corpora\n",
    "\n",
    "# plotting\n",
    "from matplotlib import pyplot as plt\n",
    "\n",
    "import json\n",
    "from typing import Dict"
   ]
  },
  {
   "cell_type": "code",
   "execution_count": 5,
   "metadata": {},
   "outputs": [],
   "source": [
    "from modern_slavery_registry.utils import (\n",
    "    dump_pickle,\n",
    "    load_pickle)\n",
    "from modern_slavery_registry import text_parser"
   ]
  },
  {
   "cell_type": "code",
   "execution_count": 6,
   "metadata": {},
   "outputs": [],
   "source": [
    "RANDOM_STATE = 40"
   ]
  },
  {
   "cell_type": "markdown",
   "metadata": {},
   "source": [
    "## Loading data with final cleaned statements"
   ]
  },
  {
   "cell_type": "code",
   "execution_count": 7,
   "metadata": {},
   "outputs": [],
   "source": [
    "PROJECT_PATH = getcwd().replace(\n",
    "    path.basename(getcwd()), \"\")\n",
    "DATA_PATH = path.join(PROJECT_PATH, \"data\")\n",
    "MODEL_SAVE_PATH = path.join(PROJECT_PATH, \"models\")\n",
    "SHEETS_PATH = path.join(DATA_PATH, \"sheets\")\n",
    "PICKLE_PATH = path.join(DATA_PATH, \"pickles\")"
   ]
  },
  {
   "cell_type": "code",
   "execution_count": 8,
   "metadata": {
    "id": "19-wl6Uw8GLu"
   },
   "outputs": [
    {
     "name": "stdout",
     "output_type": "stream",
     "text": [
      "Found 9993 non-NA statements\n"
     ]
    }
   ],
   "source": [
    "data = pd.read_excel(f\"{SHEETS_PATH}\\\\subset_data.xlsx\")\n",
    "data.fillna(\"#NA\", inplace=True)\n",
    "data = data[[\"URL\", \"final_statement_cleaned\"]]\n",
    "n_sentences = len(data)\n",
    "print(f\"Found {n_sentences} non-NA statements\")"
   ]
  },
  {
   "cell_type": "code",
   "execution_count": 9,
   "metadata": {
    "colab": {
     "base_uri": "https://localhost:8080/",
     "height": 289
    },
    "id": "jSU34WKL8ctQ",
    "outputId": "63b715fb-d36a-4718-9114-3a5b13b01375"
   },
   "outputs": [
    {
     "data": {
      "text/html": [
       "<div>\n",
       "<style scoped>\n",
       "    .dataframe tbody tr th:only-of-type {\n",
       "        vertical-align: middle;\n",
       "    }\n",
       "\n",
       "    .dataframe tbody tr th {\n",
       "        vertical-align: top;\n",
       "    }\n",
       "\n",
       "    .dataframe thead th {\n",
       "        text-align: right;\n",
       "    }\n",
       "</style>\n",
       "<table border=\"1\" class=\"dataframe\">\n",
       "  <thead>\n",
       "    <tr style=\"text-align: right;\">\n",
       "      <th></th>\n",
       "      <th>URL</th>\n",
       "      <th>final_statement_cleaned</th>\n",
       "    </tr>\n",
       "  </thead>\n",
       "  <tbody>\n",
       "    <tr>\n",
       "      <th>0</th>\n",
       "      <td>https://img1.wsimg.com/blobby/go/7695baff-3f0f...</td>\n",
       "      <td>66 99 km sh foor eum hold europe ltd 200 alder...</td>\n",
       "    </tr>\n",
       "    <tr>\n",
       "      <th>1</th>\n",
       "      <td>https://1spatial.com/who-we-are/legal/modern-s...</td>\n",
       "      <td>home solution government boundary law enforcem...</td>\n",
       "    </tr>\n",
       "    <tr>\n",
       "      <th>2</th>\n",
       "      <td>https://www.shazans.com/slavery-and-human-traf...</td>\n",
       "      <td>shazans shazan food continue monitor covid 19 ...</td>\n",
       "    </tr>\n",
       "    <tr>\n",
       "      <th>3</th>\n",
       "      <td>https://www.business-humanrights.org/sites/def...</td>\n",
       "      <td>28 2019 2018 statement make pursuant sec 54 20...</td>\n",
       "    </tr>\n",
       "    <tr>\n",
       "      <th>4</th>\n",
       "      <td>https://www.2agriculture.com/wp-content/upload...</td>\n",
       "      <td>fh 2015 introduction uk act require business s...</td>\n",
       "    </tr>\n",
       "  </tbody>\n",
       "</table>\n",
       "</div>"
      ],
      "text/plain": [
       "                                                 URL  \\\n",
       "0  https://img1.wsimg.com/blobby/go/7695baff-3f0f...   \n",
       "1  https://1spatial.com/who-we-are/legal/modern-s...   \n",
       "2  https://www.shazans.com/slavery-and-human-traf...   \n",
       "3  https://www.business-humanrights.org/sites/def...   \n",
       "4  https://www.2agriculture.com/wp-content/upload...   \n",
       "\n",
       "                             final_statement_cleaned  \n",
       "0  66 99 km sh foor eum hold europe ltd 200 alder...  \n",
       "1  home solution government boundary law enforcem...  \n",
       "2  shazans shazan food continue monitor covid 19 ...  \n",
       "3  28 2019 2018 statement make pursuant sec 54 20...  \n",
       "4  fh 2015 introduction uk act require business s...  "
      ]
     },
     "execution_count": 9,
     "metadata": {},
     "output_type": "execute_result"
    }
   ],
   "source": [
    "data.head()"
   ]
  },
  {
   "cell_type": "markdown",
   "metadata": {},
   "source": [
    "## Generating NGRAMS explicitly, not using Gensim NGRAMS - works like a black-box"
   ]
  },
  {
   "cell_type": "code",
   "execution_count": 20,
   "metadata": {},
   "outputs": [
    {
     "name": "stderr",
     "output_type": "stream",
     "text": [
      "100%|████████████████████████████████████████████████████████████████████████████| 9993/9993 [00:03<00:00, 2721.58it/s]\n"
     ]
    }
   ],
   "source": [
    "NGRAMS=(1,2)\n",
    "ngrams_from_corpus = text_parser.generate_ngrams(\n",
    "    data[\"final_statement_cleaned\"].values, \n",
    "    ngrams=NGRAMS)"
   ]
  },
  {
   "cell_type": "code",
   "execution_count": 21,
   "metadata": {},
   "outputs": [
    {
     "name": "stdout",
     "output_type": "stream",
     "text": [
      "['66', '99', 'km', 'sh', 'foor', 'eum', 'hold', 'europe', 'ltd', '200', 'aldersgate', 'street', 'london', 'ecia', '4hd', 'tel', '020', '7382', '6500', 'mail', 'keulongen', 'uk', 'kline', 'com', 'transparency', 'statement', 'crane', 'lineure', 'eee', 'publish', '22', 'march', '2019', '2015', 'require', 'large', 'entity', 'carry', 'business', 'publish', 'detail', 'effort', 'combat', 'human', 'traffic', 'relates', 'action', 'activity', 'financial', 'year', 'april', '2018', '31', 'part', 'ship', 'industry', 'group', 'recognize', 'responsibility', 'take', 'robust', 'approach', 'absolutely', 'commit', 'prevent', 'corporate', 'ensure', 'supply', 'chain', 'free', 'organizational', 'structure', 'global', 'entity', 'headquarter', 'tokyo', 'japan', 'network', 'office', 'around', 'globe', 'include', 'united', 'kingdom', 'comprise', 'bulk', 'lng', 'polar', 'unit', 'include', 'car', 'carrier', 'dry', 'management', 'operation', 'train', 'relevant', 'policy', 'charter', 'conduct', 'company', 'adhere', 'emphasizes', 'due', 'respect', 'right', 'compliance', 'applicable', 'law', 'ordinance', 'rule', 'abides', 'labor', 'regulation', 'tolerate', 'child', 'force', 'present', 'new', 'staff', 'full', 'view', 'whistleblowing', 'policy', 'organization', 'encourage', 'worker', 'customer', 'partner', 'report', 'concern', 'relate', 'direct', 'include', 'circumstance', 'may', 'give', 'rise', 'enhance', 'risk', 'whistieblowing', 'procedure', 'design', 'make', 'easy', 'disclosure', 'without', 'fear', 'retaliation', 'diligence', 'manage', 'part', 'chain', 'carry', 'inherent', 'risk', 'adverse', 'social', 'environmental', 'impact', 'less', 'oversight', 'control', 'work', 'condition', 'recruit', 'practice', 'would', 'ship', 'construction', 'dismantle', 'employment', 'subcontract', 'could', 'present', 'use', 'third', 'party', 'man', 'crew', 'agency', 'business', 'situation', 'site', 'visit', 'audit', 'type', 'process', 'formalize', 'assessment', 'employ', 'addition', 'directly', 'manage', 'relatively', 'sophisticated', 'sector', 'exposed', 'unsatisfactory', 'also', 'develop', 'guideline', 'detail', 'requirement', 'supplier', 'adherence', 'abolition', 'find', 'df', 'register', 'office', '6th', 'fioor', 'ec1a', 'company', 'england', 'ne', '5005018', 'awareness', 'raise', 'program', 'raise', 'issue', 'put', 'poster', 'across', 'premise', 'explain', 'basic', 'principle', 'external', 'help', 'available', 'example', 'helpline', 'note', 'transportation', 'must', 'already', 'ensure', 'vessel', 'use', 'illegal', 'purpose', 'people', 'engage', 'contractor', 'procedure', 'place', 'protect', 'activity', 'mr', 'akira', 'misaki', 'director', '66 99', '99 km', 'km sh', 'sh foor', 'foor eum', 'eum hold', 'hold europe', 'europe ltd', 'ltd 200', '200 aldersgate', 'aldersgate street', 'street london', 'london ecia', 'ecia 4hd', '4hd tel', 'tel 020', '020 7382', '7382 6500', '6500 mail', 'mail keulongen', 'keulongen uk', 'uk kline', 'kline com', 'com transparency', 'transparency statement', 'statement crane', 'crane lineure', 'lineure eee', 'eee publish', 'publish 22', '22 march', 'march 2019', '2019 2015', '2015 require', 'require large', 'large entity', 'entity carry', 'carry business', 'business publish', 'publish detail', 'detail effort', 'effort combat', 'combat human', 'human traffic', 'traffic relates', 'relates action', 'action activity', 'activity financial', 'financial year', 'year april', 'april 2018', '2018 31', '31 part', 'part ship', 'ship industry', 'industry group', 'group recognize', 'recognize responsibility', 'responsibility take', 'take robust', 'robust approach', 'approach absolutely', 'absolutely commit', 'commit prevent', 'prevent corporate', 'corporate ensure', 'ensure supply', 'supply chain', 'chain free', 'free organizational', 'organizational structure', 'structure global', 'global entity', 'entity headquarter', 'headquarter tokyo', 'tokyo japan', 'japan network', 'network office', 'office around', 'around globe', 'globe include', 'include united', 'united kingdom', 'kingdom comprise', 'comprise bulk', 'bulk lng', 'lng polar', 'polar unit', 'unit include', 'include car', 'car carrier', 'carrier dry', 'dry management', 'management operation', 'operation train', 'train relevant', 'relevant policy', 'policy charter', 'charter conduct', 'conduct company', 'company adhere', 'adhere emphasizes', 'emphasizes due', 'due respect', 'respect right', 'right compliance', 'compliance applicable', 'applicable law', 'law ordinance', 'ordinance rule', 'rule abides', 'abides labor', 'labor regulation', 'regulation tolerate', 'tolerate child', 'child force', 'force present', 'present new', 'new staff', 'staff full', 'full view', 'view whistleblowing', 'whistleblowing policy', 'policy organization', 'organization encourage', 'encourage worker', 'worker customer', 'customer partner', 'partner report', 'report concern', 'concern relate', 'relate direct', 'direct include', 'include circumstance', 'circumstance may', 'may give', 'give rise', 'rise enhance', 'enhance risk', 'risk whistieblowing', 'whistieblowing procedure', 'procedure design', 'design make', 'make easy', 'easy disclosure', 'disclosure without', 'without fear', 'fear retaliation', 'retaliation diligence', 'diligence manage', 'manage part', 'part chain', 'chain carry', 'carry inherent', 'inherent risk', 'risk adverse', 'adverse social', 'social environmental', 'environmental impact', 'impact less', 'less oversight', 'oversight control', 'control work', 'work condition', 'condition recruit', 'recruit practice', 'practice would', 'would ship', 'ship construction', 'construction dismantle', 'dismantle employment', 'employment subcontract', 'subcontract could', 'could present', 'present use', 'use third', 'third party', 'party man', 'man crew', 'crew agency', 'agency business', 'business situation', 'situation site', 'site visit', 'visit audit', 'audit type', 'type process', 'process formalize', 'formalize assessment', 'assessment employ', 'employ addition', 'addition directly', 'directly manage', 'manage relatively', 'relatively sophisticated', 'sophisticated sector', 'sector exposed', 'exposed unsatisfactory', 'unsatisfactory also', 'also develop', 'develop guideline', 'guideline detail', 'detail requirement', 'requirement supplier', 'supplier adherence', 'adherence abolition', 'abolition find', 'find df', 'df register', 'register office', 'office 6th', '6th fioor', 'fioor ec1a', 'ec1a company', 'company england', 'england ne', 'ne 5005018', '5005018 awareness', 'awareness raise', 'raise program', 'program raise', 'raise issue', 'issue put', 'put poster', 'poster across', 'across premise', 'premise explain', 'explain basic', 'basic principle', 'principle external', 'external help', 'help available', 'available example', 'example helpline', 'helpline note', 'note transportation', 'transportation must', 'must already', 'already ensure', 'ensure vessel', 'vessel use', 'use illegal', 'illegal purpose', 'purpose people', 'people engage']\n"
     ]
    }
   ],
   "source": [
    "print(ngrams_from_corpus[0][:500])"
   ]
  },
  {
   "cell_type": "markdown",
   "metadata": {},
   "source": [
    "Generating vocab from `NGRAMS`"
   ]
  },
  {
   "cell_type": "code",
   "execution_count": 22,
   "metadata": {},
   "outputs": [
    {
     "name": "stderr",
     "output_type": "stream",
     "text": [
      "9993it [00:08, 1196.50it/s]\n"
     ]
    }
   ],
   "source": [
    "term_freq, doc_freq = text_parser.compute_term_doc_freq(\n",
    "    ngrams_from_corpus=ngrams_from_corpus, \n",
    "    sort=True, \n",
    "    descending=True)"
   ]
  },
  {
   "cell_type": "code",
   "execution_count": 23,
   "metadata": {},
   "outputs": [
    {
     "name": "stdout",
     "output_type": "stream",
     "text": [
      "Vocab size: 1264192\n"
     ]
    }
   ],
   "source": [
    "print(f\"Vocab size: {len(term_freq)}\") # without padding last ngrams word in each sentence"
   ]
  },
  {
   "cell_type": "code",
   "execution_count": 29,
   "metadata": {},
   "outputs": [
    {
     "data": {
      "text/html": [
       "<div>\n",
       "<style scoped>\n",
       "    .dataframe tbody tr th:only-of-type {\n",
       "        vertical-align: middle;\n",
       "    }\n",
       "\n",
       "    .dataframe tbody tr th {\n",
       "        vertical-align: top;\n",
       "    }\n",
       "\n",
       "    .dataframe thead th {\n",
       "        text-align: right;\n",
       "    }\n",
       "</style>\n",
       "<table border=\"1\" class=\"dataframe\">\n",
       "  <thead>\n",
       "    <tr style=\"text-align: right;\">\n",
       "      <th></th>\n",
       "      <th>term_freq</th>\n",
       "      <th>doc_freq</th>\n",
       "    </tr>\n",
       "  </thead>\n",
       "  <tbody>\n",
       "    <tr>\n",
       "      <th>count</th>\n",
       "      <td>1.264192e+06</td>\n",
       "      <td>1.264192e+06</td>\n",
       "    </tr>\n",
       "    <tr>\n",
       "      <th>mean</th>\n",
       "      <td>5.070243e+00</td>\n",
       "      <td>4.820556e+00</td>\n",
       "    </tr>\n",
       "    <tr>\n",
       "      <th>std</th>\n",
       "      <td>9.578622e+01</td>\n",
       "      <td>7.809273e+01</td>\n",
       "    </tr>\n",
       "    <tr>\n",
       "      <th>min</th>\n",
       "      <td>1.000000e+00</td>\n",
       "      <td>1.000000e+00</td>\n",
       "    </tr>\n",
       "    <tr>\n",
       "      <th>25%</th>\n",
       "      <td>1.000000e+00</td>\n",
       "      <td>1.000000e+00</td>\n",
       "    </tr>\n",
       "    <tr>\n",
       "      <th>50%</th>\n",
       "      <td>1.000000e+00</td>\n",
       "      <td>1.000000e+00</td>\n",
       "    </tr>\n",
       "    <tr>\n",
       "      <th>75%</th>\n",
       "      <td>2.000000e+00</td>\n",
       "      <td>2.000000e+00</td>\n",
       "    </tr>\n",
       "    <tr>\n",
       "      <th>max</th>\n",
       "      <td>1.849500e+04</td>\n",
       "      <td>9.501000e+03</td>\n",
       "    </tr>\n",
       "  </tbody>\n",
       "</table>\n",
       "</div>"
      ],
      "text/plain": [
       "          term_freq      doc_freq\n",
       "count  1.264192e+06  1.264192e+06\n",
       "mean   5.070243e+00  4.820556e+00\n",
       "std    9.578622e+01  7.809273e+01\n",
       "min    1.000000e+00  1.000000e+00\n",
       "25%    1.000000e+00  1.000000e+00\n",
       "50%    1.000000e+00  1.000000e+00\n",
       "75%    2.000000e+00  2.000000e+00\n",
       "max    1.849500e+04  9.501000e+03"
      ]
     },
     "execution_count": 29,
     "metadata": {},
     "output_type": "execute_result"
    }
   ],
   "source": [
    "ngram_stat_table = pd.DataFrame(\n",
    "    {\"term_freq\": term_freq.values(), \"doc_freq\": doc_freq.values()})\n",
    "ngram_stat_table.describe()"
   ]
  },
  {
   "cell_type": "markdown",
   "metadata": {},
   "source": [
    "Selecting vocab of interests"
   ]
  },
  {
   "cell_type": "code",
   "execution_count": 30,
   "metadata": {
    "id": "66EntRIr8LwH"
   },
   "outputs": [
    {
     "name": "stdout",
     "output_type": "stream",
     "text": [
      "(1, 2)-grams vocab size with doc frequency ( 10.000,  1000.000): 48465\n",
      "(1, 2)-grams vocab size with doc frequency ( 10.000,  1000.000): 3.834 %\n"
     ]
    }
   ],
   "source": [
    "MIN_DF = 10 # ngrams present in atleast 10 docs out of total\n",
    "MAX_DF = 1000  # consider ngrams present in atmost 1000 docs out of total\n",
    "ngram_covered = len(ngram_stat_table[ngram_stat_table[\"doc_freq\"].between(MIN_DF, MAX_DF)])\n",
    "print(f\"{NGRAMS}-grams vocab size with doc frequency ({MIN_DF: .3f}, {MAX_DF: .3f}): \"\n",
    "      f\"{ngram_covered}\")\n",
    "print(f\"{NGRAMS}-grams vocab size with doc frequency ({MIN_DF: .3f}, {MAX_DF: .3f}): \"\n",
    "      f\"{ngram_covered*100/len(doc_freq):.3f} %\")"
   ]
  },
  {
   "cell_type": "markdown",
   "metadata": {},
   "source": [
    "## Preparing data for Gensim model"
   ]
  },
  {
   "cell_type": "code",
   "execution_count": 31,
   "metadata": {},
   "outputs": [
    {
     "name": "stdout",
     "output_type": "stream",
     "text": [
      "shape: (9993, 48465)\n"
     ]
    }
   ],
   "source": [
    "count_vect = CountVectorizer(ngram_range=NGRAMS, min_df=MIN_DF, max_df=MAX_DF)\n",
    "X = count_vect.fit_transform(data[\"final_statement_cleaned\"].values) \n",
    "print(f\"shape: {X.shape}\")"
   ]
  },
  {
   "cell_type": "code",
   "execution_count": 32,
   "metadata": {},
   "outputs": [
    {
     "data": {
      "application/vnd.jupyter.widget-view+json": {
       "model_id": "a3fd6983366a4b14a7d73c8dba79e4c5",
       "version_major": 2,
       "version_minor": 0
      },
      "text/plain": [
       "  0%|          | 0/9993 [00:00<?, ?it/s]"
      ]
     },
     "metadata": {},
     "output_type": "display_data"
    }
   ],
   "source": [
    "word2idx = count_vect.vocabulary_\n",
    "idx2word = {idx: word for word, idx in word2idx.items()}\n",
    "\n",
    "data_for_model = []\n",
    "for row in tqdm(X.toarray()):\n",
    "    idxs = np.where(row > 0)\n",
    "    data_for_model.append([(idx, row[idx]) for idx in idxs[0]])"
   ]
  },
  {
   "cell_type": "code",
   "execution_count": 34,
   "metadata": {},
   "outputs": [],
   "source": [
    "N_TOPICS = (2, 201)\n",
    "LDA_MODELS = {}\n",
    "model_name_template = \"sklearn_bigrams_gensim_lda2\""
   ]
  },
  {
   "cell_type": "code",
   "execution_count": 35,
   "metadata": {},
   "outputs": [
    {
     "data": {
      "application/vnd.jupyter.widget-view+json": {
       "model_id": "e9cec0290d434774a83b2b15d4b0bacc",
       "version_major": 2,
       "version_minor": 0
      },
      "text/plain": [
       "  0%|          | 0/199 [00:00<?, ?it/s]"
      ]
     },
     "metadata": {},
     "output_type": "display_data"
    },
    {
     "name": "stdout",
     "output_type": "stream",
     "text": [
      "Wall time: 5h 9min 35s\n"
     ]
    }
   ],
   "source": [
    "%%time\n",
    "# Build LDA model\n",
    "\n",
    "for n in tqdm(range(*N_TOPICS)):\n",
    "    LDA_MODELS[n] = gensim.models.ldamodel.LdaModel(\n",
    "        corpus=data_for_model,\n",
    "        id2word=idx2word, \n",
    "        num_topics=n,\n",
    "        update_every=1,\n",
    "        chunksize=1000,\n",
    "        passes=1,\n",
    "        alpha='auto',\n",
    "        per_word_topics=True,\n",
    "        iterations=50,\n",
    "        random_state=RANDOM_STATE)\n",
    "    dump_pickle(\n",
    "        obj=LDA_MODELS[n], filename=f\"{model_name_template}_{n}_topics\", path=MODEL_SAVE_PATH)"
   ]
  },
  {
   "cell_type": "code",
   "execution_count": 37,
   "metadata": {},
   "outputs": [],
   "source": [
    "def print_topic_keywords(\n",
    "    lda_model: gensim.models.ldamodel.LdaModel,\n",
    "    num_words: int=20,\n",
    "    num_topics: int=-1, \n",
    "    print_: bool=False)->Dict[int, str]:\n",
    "    topics_dict = {}\n",
    "    for topic in lda_model.print_topics(num_words=num_words, num_topics=num_topics):\n",
    "        topics_dict[topic[0]] = topic[1]\n",
    "        if print_:\n",
    "            print(f\"{topic[0]}: {topic[1:]}\")\n",
    "            print()\n",
    "            \n",
    "    return topics_dict"
   ]
  },
  {
   "cell_type": "code",
   "execution_count": 38,
   "metadata": {},
   "outputs": [
    {
     "data": {
      "application/vnd.jupyter.widget-view+json": {
       "model_id": "2e432ee775ee49319d02a2ac07a6435c",
       "version_major": 2,
       "version_minor": 0
      },
      "text/plain": [
       "  0%|          | 0/199 [00:00<?, ?it/s]"
      ]
     },
     "metadata": {},
     "output_type": "display_data"
    }
   ],
   "source": [
    "topics = {n_topic: print_topic_keywords(LDA_MODELS[n_topic]) for n_topic in tqdm(range(*N_TOPICS))}"
   ]
  },
  {
   "cell_type": "code",
   "execution_count": 47,
   "metadata": {},
   "outputs": [],
   "source": [
    "with open(path.join(DATA_PATH, f\"{model_name_template}_topics.json\"), \"w\") as f:\n",
    "    json.dump(topics, f)"
   ]
  },
  {
   "cell_type": "code",
   "execution_count": 39,
   "metadata": {},
   "outputs": [
    {
     "name": "stdout",
     "output_type": "stream",
     "text": [
      "0: ('0.002*\"compact\" + 0.002*\"asset\" + 0.002*\"un\" + 0.002*\"uphold\" + 0.002*\"fund\" + 0.001*\"regulate\" + 0.001*\"invest\" + 0.001*\"united nation\" + 0.001*\"channel\" + 0.001*\"2015 act\" + 0.001*\"investor\" + 0.001*\"global compact\" + 0.001*\"consideration\" + 0.001*\"european\" + 0.001*\"bank\" + 0.001*\"authorize\" + 0.001*\"internationally\" + 0.001*\"rule\" + 0.001*\"universal\" + 0.001*\"24\"',)\n",
      "\n",
      "1: ('0.004*\"france\" + 0.003*\"germany\" + 0.003*\"italy\" + 0.003*\"netherlands\" + 0.003*\"spain\" + 0.003*\"singapore\" + 0.002*\"australia\" + 0.002*\"canada\" + 0.002*\"kong\" + 0.002*\"belgium\" + 0.002*\"africa\" + 0.002*\"hong kong\" + 0.002*\"sweden\" + 0.002*\"hong\" + 0.002*\"india\" + 0.002*\"japan\" + 0.002*\"switzerland\" + 0.002*\"denmark\" + 0.002*\"republic\" + 0.002*\"poland\"',)\n",
      "\n",
      "2: ('0.001*\"raise awareness\" + 0.001*\"accordance section\" + 0.001*\"whilst\" + 0.001*\"sedex\" + 0.001*\"exposure\" + 0.001*\"retailer\" + 0.001*\"spend\" + 0.001*\"july\" + 0.001*\"division\" + 0.001*\"prevent human\" + 0.001*\"month\" + 0.001*\"roll\" + 0.001*\"recruit\" + 0.001*\"primarily\" + 0.001*\"spot\" + 0.001*\"plc\" + 0.001*\"best practice\" + 0.001*\"body\" + 0.001*\"31 march\" + 0.001*\"engineering\"',)\n",
      "\n",
      "3: ('0.001*\"store\" + 0.001*\"application\" + 0.001*\"payment\" + 0.001*\"interest\" + 0.001*\"shop\" + 0.001*\"submit\" + 0.001*\"notice\" + 0.001*\"language\" + 0.001*\"return\" + 0.001*\"privacy\" + 0.001*\"send\" + 0.001*\"track\" + 0.001*\"history\" + 0.001*\"goal\" + 0.001*\"component\" + 0.001*\"click\" + 0.001*\"innovation\" + 0.001*\"investor\" + 0.001*\"collect\" + 0.001*\"cost\"',)\n",
      "\n",
      "4: ('0.002*\"2015 set\" + 0.002*\"traffic take\" + 0.002*\"eligibility\" + 0.002*\"place within\" + 0.002*\"continue take\" + 0.002*\"offense\" + 0.002*\"within business\" + 0.001*\"tender\" + 0.001*\"equality\" + 0.001*\"reprisal\" + 0.001*\"integrity transparency\" + 0.001*\"commit act\" + 0.001*\"approach form\" + 0.001*\"explain\" + 0.001*\"fear reprisal\" + 0.001*\"take continue\" + 0.001*\"enforcement\" + 0.001*\"charity\" + 0.001*\"put effective\" + 0.001*\"transparent manner\"',)\n",
      "\n",
      "5: ('0.003*\"factory\" + 0.003*\"strengthen\" + 0.003*\"sedex\" + 0.002*\"eti\" + 0.002*\"collaboration\" + 0.002*\"map\" + 0.002*\"ilo\" + 0.002*\"embed\" + 0.002*\"convention\" + 0.002*\"collaborate\" + 0.002*\"attend\" + 0.002*\"priority\" + 0.002*\"target\" + 0.002*\"remediation\" + 0.002*\"un\" + 0.002*\"farm\" + 0.002*\"closely\" + 0.002*\"prioritize\" + 0.002*\"auditor\" + 0.002*\"bond\"',)\n",
      "\n",
      "6: ('0.003*\"exploit\" + 0.003*\"violation fundamental\" + 0.003*\"liberty\" + 0.002*\"control ensure\" + 0.002*\"various form\" + 0.002*\"dealing relationship\" + 0.002*\"commercial gain\" + 0.002*\"forced\" + 0.002*\"person liberty\" + 0.002*\"crime violation\" + 0.002*\"deprivation\" + 0.002*\"personal commercial\" + 0.002*\"forced compulsory\" + 0.002*\"common\" + 0.002*\"liberty another\" + 0.002*\"exploit personal\" + 0.002*\"take various\" + 0.002*\"deprivation person\" + 0.002*\"adequate\" + 0.002*\"form servitude\"',)\n",
      "\n",
      "7: ('0.004*\"easy\" + 0.003*\"put place\" + 0.003*\"potential risk\" + 0.003*\"commit prevent\" + 0.003*\"rise\" + 0.003*\"aim ensure\" + 0.003*\"understand potential\" + 0.003*\"circumstance\" + 0.003*\"reputable\" + 0.003*\"recognize responsibility\" + 0.003*\"give rise\" + 0.003*\"fear retaliation\" + 0.003*\"make clear\" + 0.003*\"take robust\" + 0.003*\"robust approach\" + 0.003*\"retaliation\" + 0.003*\"disclosure without\" + 0.003*\"responsibility take\" + 0.003*\"statement set\" + 0.003*\"maintain high\"',)\n",
      "\n",
      "8: ('0.003*\"threat\" + 0.003*\"physical\" + 0.002*\"knowingly\" + 0.002*\"mental\" + 0.002*\"definition\" + 0.002*\"movement\" + 0.002*\"strictly\" + 0.002*\"knowingly support\" + 0.002*\"forced\" + 0.002*\"orientation\" + 0.002*\"acknowledge responsibility\" + 0.002*\"mental physical\" + 0.002*\"commits\" + 0.002*\"sexual orientation\" + 0.002*\"freedom movement\" + 0.002*\"disability\" + 0.002*\"physically\" + 0.002*\"restriction\" + 0.002*\"involved\" + 0.002*\"encompass\"',)\n",
      "\n",
      "9: ('0.003*\"chain act\" + 0.002*\"whistle blower\" + 0.002*\"transparency supply\" + 0.002*\"initiative identify\" + 0.002*\"california transparency\" + 0.002*\"high level\" + 0.002*\"disclose\" + 0.002*\"organization structure\" + 0.002*\"alert\" + 0.002*\"corrective\" + 0.002*\"level understand\" + 0.002*\"retailer\" + 0.002*\"internal accountability\" + 0.002*\"comply applicable\" + 0.002*\"effectiveness combat\" + 0.002*\"prison\" + 0.001*\"adherence value\" + 0.001*\"corrective action\" + 0.001*\"stand\" + 0.001*\"inc\"',)\n",
      "\n"
     ]
    }
   ],
   "source": [
    "a = print_topic_keywords(LDA_MODELS[10], print_=True)"
   ]
  },
  {
   "cell_type": "markdown",
   "metadata": {},
   "source": [
    "## Computing log perpexity w.r.t. to number of topics"
   ]
  },
  {
   "cell_type": "code",
   "execution_count": 40,
   "metadata": {},
   "outputs": [
    {
     "data": {
      "application/vnd.jupyter.widget-view+json": {
       "model_id": "1c07f3e4a710412ea68daf88483760d7",
       "version_major": 2,
       "version_minor": 0
      },
      "text/plain": [
       "  0%|          | 0/199 [00:00<?, ?it/s]"
      ]
     },
     "metadata": {},
     "output_type": "display_data"
    }
   ],
   "source": [
    "LOG_PERPLEXITIES = {}\n",
    "for n in tqdm(range(*N_TOPICS)):\n",
    "    if n not in LOG_PERPLEXITIES.keys():\n",
    "        lda_model = load_pickle(filename=f\"{model_name_template}_{n}_topics\", path=MODEL_SAVE_PATH)\n",
    "        LOG_PERPLEXITIES[n] = lda_model.log_perplexity(data_for_model)"
   ]
  },
  {
   "cell_type": "code",
   "execution_count": 41,
   "metadata": {},
   "outputs": [
    {
     "data": {
      "image/png": "[encoded data removed]",
      "text/plain": [
       "<Figure size 432x288 with 1 Axes>"
      ]
     },
     "metadata": {
      "needs_background": "light"
     },
     "output_type": "display_data"
    }
   ],
   "source": [
    "plt.plot(list(LOG_PERPLEXITIES.values()))\n",
    "plt.xticks(range(*N_TOPICS, 20))\n",
    "plt.show()"
   ]
  },
  {
   "cell_type": "code",
   "execution_count": 44,
   "metadata": {},
   "outputs": [],
   "source": [
    "dump_pickle(\n",
    "    LOG_PERPLEXITIES, \n",
    "    filename=f\"{model_name_template}_log_perplexities_{N_TOPICS[0]}_{N_TOPICS[1]}_topics\", \n",
    "    path=PICKLE_PATH)"
   ]
  },
  {
   "cell_type": "code",
   "execution_count": 45,
   "metadata": {},
   "outputs": [],
   "source": [
    "# loading pre-computed log-perplexities\n",
    "LOG_PERPLEXITIES = load_pickle(\n",
    "    path.join(\n",
    "        PICKLE_PATH, \n",
    "        f\"{model_name_template}_log_perplexities_{N_TOPICS[0]}_{N_TOPICS[1]}_topics\"))"
   ]
  },
  {
   "cell_type": "code",
   "execution_count": 46,
   "metadata": {},
   "outputs": [
    {
     "data": {
      "image/png": "[encoded data removed]",
      "text/plain": [
       "<Figure size 432x288 with 1 Axes>"
      ]
     },
     "metadata": {
      "needs_background": "light"
     },
     "output_type": "display_data"
    }
   ],
   "source": [
    "MAX_N_TOPIC = 20\n",
    "_, ax = plt.subplots()\n",
    "ax.plot(\n",
    "    [i for i in range(*N_TOPICS)][:MAX_N_TOPIC], \n",
    "    list(LOG_PERPLEXITIES.values())[:MAX_N_TOPIC])\n",
    "ax.xaxis.set_major_locator(MaxNLocator(integer=True))\n",
    "ax.set_title(\"Log-Perplexities Vs Number of topics\")\n",
    "ax.set_xlabel(\"Number of topics\")\n",
    "ax.set_ylabel(\"Log-Perplexities\")\n",
    "ax.axvline(x=8, linestyle=\"dashed\", color=\"grey\")\n",
    "plt.show()"
   ]
  },
  {
   "cell_type": "markdown",
   "metadata": {},
   "source": [
    "From above, we can say <b>8</b> as correct number of topics for LDA on bigrams."
   ]
  }
 ],
 "metadata": {
  "accelerator": "GPU",
  "colab": {
   "collapsed_sections": [],
   "name": "20201203-Topic-Modelling-Slavery-Statements.ipynb",
   "provenance": []
  },
  "kernelspec": {
   "display_name": "modern_slavery",
   "language": "python",
   "name": "modern_slavery"
  },
  "language_info": {
   "codemirror_mode": {
    "name": "ipython",
    "version": 3
   },
   "file_extension": ".py",
   "mimetype": "text/x-python",
   "name": "python",
   "nbconvert_exporter": "python",
   "pygments_lexer": "ipython3",
   "version": "3.8.6"
  }
 },
 "nbformat": 4,
 "nbformat_minor": 4
}
