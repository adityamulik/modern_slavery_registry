{
 "cells": [
  {
   "cell_type": "markdown",
   "metadata": {},
   "source": [
    "# This notebook is used to add missing sectors for modern slavery statements extracted by me using modern slavery statements from modern slavery research package"
   ]
  },
  {
   "cell_type": "code",
   "execution_count": 1,
   "metadata": {},
   "outputs": [],
   "source": [
    "# use if autocompletion is not working\n",
    "%config Completer.use_jedi = False"
   ]
  },
  {
   "cell_type": "code",
   "execution_count": 2,
   "metadata": {},
   "outputs": [],
   "source": [
    "%load_ext autoreload\n",
    "%autoreload 2"
   ]
  },
  {
   "cell_type": "code",
   "execution_count": 3,
   "metadata": {},
   "outputs": [],
   "source": [
    "import os\n",
    "import pandas as pd\n",
    "import json\n",
    "import numpy as np\n",
    "from tqdm import tqdm\n",
    "\n",
    "from fuzzywuzzy import fuzz\n",
    "\n",
    "from typing import List, Callable, Tuple\n",
    "from copy import deepcopy\n",
    "from sys import getsizeof\n",
    "from time import sleep\n",
    "from IPython.display import clear_output\n",
    "\n",
    "import re"
   ]
  },
  {
   "cell_type": "code",
   "execution_count": 4,
   "metadata": {},
   "outputs": [],
   "source": [
    "from modern_slavery_registry import get_root_path"
   ]
  },
  {
   "cell_type": "code",
   "execution_count": 5,
   "metadata": {},
   "outputs": [],
   "source": [
    "PROJECT_PATH = get_root_path()\n",
    "DATA_PATH = os.path.join(PROJECT_PATH, \"data\")\n",
    "\n",
    "# COMPANIES_JSON = \"companies_060421.json\""
   ]
  },
  {
   "cell_type": "code",
   "execution_count": 6,
   "metadata": {},
   "outputs": [
    {
     "data": {
      "text/plain": [
       "['.ipynb_checkpoints',\n",
       " 'fuzzy_matches.xlsx',\n",
       " 'modern_slavery_dataset.csv',\n",
       " 'subset_data.xlsx',\n",
       " 'ext_shawn_creds.csv']"
      ]
     },
     "execution_count": 6,
     "metadata": {},
     "output_type": "execute_result"
    }
   ],
   "source": [
    "os.listdir(os.path.join(DATA_PATH, \"sheets\"))"
   ]
  },
  {
   "cell_type": "markdown",
   "metadata": {},
   "source": [
    "## Loading shared dataset from modern-slavery-research package"
   ]
  },
  {
   "cell_type": "code",
   "execution_count": 7,
   "metadata": {},
   "outputs": [],
   "source": [
    "shared_statements = pd.read_csv(os.path.join(DATA_PATH, \"sheets\", \"modern_slavery_dataset.csv\"))"
   ]
  },
  {
   "cell_type": "code",
   "execution_count": 8,
   "metadata": {},
   "outputs": [
    {
     "data": {
      "text/html": [
       "<div>\n",
       "<style scoped>\n",
       "    .dataframe tbody tr th:only-of-type {\n",
       "        vertical-align: middle;\n",
       "    }\n",
       "\n",
       "    .dataframe tbody tr th {\n",
       "        vertical-align: top;\n",
       "    }\n",
       "\n",
       "    .dataframe thead th {\n",
       "        text-align: right;\n",
       "    }\n",
       "</style>\n",
       "<table border=\"1\" class=\"dataframe\">\n",
       "  <thead>\n",
       "    <tr style=\"text-align: right;\">\n",
       "      <th></th>\n",
       "      <th>Company ID</th>\n",
       "      <th>Company</th>\n",
       "      <th>Is Publisher</th>\n",
       "      <th>Statement ID</th>\n",
       "      <th>URL</th>\n",
       "      <th>Override URL</th>\n",
       "      <th>Companies House Number</th>\n",
       "      <th>Industry</th>\n",
       "      <th>HQ</th>\n",
       "      <th>Is Also Covered</th>\n",
       "      <th>UK Modern Slavery Act</th>\n",
       "      <th>California Transparency in Supply Chains Act</th>\n",
       "      <th>Australia Modern Slavery Act</th>\n",
       "      <th>Period Covered</th>\n",
       "      <th>Text</th>\n",
       "    </tr>\n",
       "  </thead>\n",
       "  <tbody>\n",
       "    <tr>\n",
       "      <th>0</th>\n",
       "      <td>7676</td>\n",
       "      <td>\"K\" Line Holding Europe Limited</td>\n",
       "      <td>True</td>\n",
       "      <td>35092.0</td>\n",
       "      <td>https://img1.wsimg.com/blobby/go/7695baff-3f0f...</td>\n",
       "      <td>NaN</td>\n",
       "      <td>05005018</td>\n",
       "      <td>Marine</td>\n",
       "      <td>United Kingdom</td>\n",
       "      <td>False</td>\n",
       "      <td>True</td>\n",
       "      <td>False</td>\n",
       "      <td>False</td>\n",
       "      <td>2018-2019</td>\n",
       "      <td>K LINE\\nHOLDINC (EUROPE) LTD.\\nModern Slavery ...</td>\n",
       "    </tr>\n",
       "    <tr>\n",
       "      <th>1</th>\n",
       "      <td>28660</td>\n",
       "      <td>\"K\" Line Bulk Shipping (UK) Limited</td>\n",
       "      <td>False</td>\n",
       "      <td>35092.0</td>\n",
       "      <td>https://img1.wsimg.com/blobby/go/7695baff-3f0f...</td>\n",
       "      <td>NaN</td>\n",
       "      <td>04830352</td>\n",
       "      <td>Marine</td>\n",
       "      <td>United Kingdom</td>\n",
       "      <td>True</td>\n",
       "      <td>True</td>\n",
       "      <td>False</td>\n",
       "      <td>False</td>\n",
       "      <td>2018-2019</td>\n",
       "      <td>K LINE\\nHOLDINC (EUROPE) LTD.\\nModern Slavery ...</td>\n",
       "    </tr>\n",
       "    <tr>\n",
       "      <th>2</th>\n",
       "      <td>28659</td>\n",
       "      <td>\"K\" Line (Europe) Limited</td>\n",
       "      <td>False</td>\n",
       "      <td>35092.0</td>\n",
       "      <td>https://img1.wsimg.com/blobby/go/7695baff-3f0f...</td>\n",
       "      <td>NaN</td>\n",
       "      <td>05639474</td>\n",
       "      <td>Marine</td>\n",
       "      <td>United Kingdom</td>\n",
       "      <td>True</td>\n",
       "      <td>True</td>\n",
       "      <td>False</td>\n",
       "      <td>False</td>\n",
       "      <td>2018-2019</td>\n",
       "      <td>K LINE\\nHOLDINC (EUROPE) LTD.\\nModern Slavery ...</td>\n",
       "    </tr>\n",
       "    <tr>\n",
       "      <th>3</th>\n",
       "      <td>28661</td>\n",
       "      <td>\"K\" Line LNG Shipping Limited</td>\n",
       "      <td>False</td>\n",
       "      <td>35092.0</td>\n",
       "      <td>https://img1.wsimg.com/blobby/go/7695baff-3f0f...</td>\n",
       "      <td>NaN</td>\n",
       "      <td>NaN</td>\n",
       "      <td>Marine</td>\n",
       "      <td>United Kingdom</td>\n",
       "      <td>True</td>\n",
       "      <td>True</td>\n",
       "      <td>False</td>\n",
       "      <td>False</td>\n",
       "      <td>2018-2019</td>\n",
       "      <td>K LINE\\nHOLDINC (EUROPE) LTD.\\nModern Slavery ...</td>\n",
       "    </tr>\n",
       "    <tr>\n",
       "      <th>4</th>\n",
       "      <td>28658</td>\n",
       "      <td>Polar LNG Shipping (UK) Limited</td>\n",
       "      <td>False</td>\n",
       "      <td>35092.0</td>\n",
       "      <td>https://img1.wsimg.com/blobby/go/7695baff-3f0f...</td>\n",
       "      <td>NaN</td>\n",
       "      <td>02205323</td>\n",
       "      <td>Marine</td>\n",
       "      <td>United Kingdom</td>\n",
       "      <td>True</td>\n",
       "      <td>True</td>\n",
       "      <td>False</td>\n",
       "      <td>False</td>\n",
       "      <td>2018-2019</td>\n",
       "      <td>K LINE\\nHOLDINC (EUROPE) LTD.\\nModern Slavery ...</td>\n",
       "    </tr>\n",
       "  </tbody>\n",
       "</table>\n",
       "</div>"
      ],
      "text/plain": [
       "   Company ID                              Company Is Publisher  Statement ID  \\\n",
       "0        7676      \"K\" Line Holding Europe Limited         True       35092.0   \n",
       "1       28660  \"K\" Line Bulk Shipping (UK) Limited        False       35092.0   \n",
       "2       28659            \"K\" Line (Europe) Limited        False       35092.0   \n",
       "3       28661        \"K\" Line LNG Shipping Limited        False       35092.0   \n",
       "4       28658      Polar LNG Shipping (UK) Limited        False       35092.0   \n",
       "\n",
       "                                                 URL Override URL  \\\n",
       "0  https://img1.wsimg.com/blobby/go/7695baff-3f0f...          NaN   \n",
       "1  https://img1.wsimg.com/blobby/go/7695baff-3f0f...          NaN   \n",
       "2  https://img1.wsimg.com/blobby/go/7695baff-3f0f...          NaN   \n",
       "3  https://img1.wsimg.com/blobby/go/7695baff-3f0f...          NaN   \n",
       "4  https://img1.wsimg.com/blobby/go/7695baff-3f0f...          NaN   \n",
       "\n",
       "  Companies House Number Industry              HQ Is Also Covered  \\\n",
       "0               05005018   Marine  United Kingdom           False   \n",
       "1               04830352   Marine  United Kingdom            True   \n",
       "2               05639474   Marine  United Kingdom            True   \n",
       "3                    NaN   Marine  United Kingdom            True   \n",
       "4               02205323   Marine  United Kingdom            True   \n",
       "\n",
       "  UK Modern Slavery Act California Transparency in Supply Chains Act  \\\n",
       "0                  True                                        False   \n",
       "1                  True                                        False   \n",
       "2                  True                                        False   \n",
       "3                  True                                        False   \n",
       "4                  True                                        False   \n",
       "\n",
       "  Australia Modern Slavery Act Period Covered  \\\n",
       "0                        False      2018-2019   \n",
       "1                        False      2018-2019   \n",
       "2                        False      2018-2019   \n",
       "3                        False      2018-2019   \n",
       "4                        False      2018-2019   \n",
       "\n",
       "                                                Text  \n",
       "0  K LINE\\nHOLDINC (EUROPE) LTD.\\nModern Slavery ...  \n",
       "1  K LINE\\nHOLDINC (EUROPE) LTD.\\nModern Slavery ...  \n",
       "2  K LINE\\nHOLDINC (EUROPE) LTD.\\nModern Slavery ...  \n",
       "3  K LINE\\nHOLDINC (EUROPE) LTD.\\nModern Slavery ...  \n",
       "4  K LINE\\nHOLDINC (EUROPE) LTD.\\nModern Slavery ...  "
      ]
     },
     "execution_count": 8,
     "metadata": {},
     "output_type": "execute_result"
    }
   ],
   "source": [
    "shared_statements.head()"
   ]
  },
  {
   "cell_type": "code",
   "execution_count": 9,
   "metadata": {},
   "outputs": [
    {
     "data": {
      "text/plain": [
       "Company ID                                          0\n",
       "Company                                           889\n",
       "Is Publisher                                      889\n",
       "Statement ID                                      889\n",
       "URL                                                 0\n",
       "Override URL                                    28399\n",
       "Companies House Number                           6530\n",
       "Industry                                          889\n",
       "HQ                                                889\n",
       "Is Also Covered                                   889\n",
       "UK Modern Slavery Act                             889\n",
       "California Transparency in Supply Chains Act      889\n",
       "Australia Modern Slavery Act                      889\n",
       "Period Covered                                   1552\n",
       "Text                                             9795\n",
       "dtype: int64"
      ]
     },
     "execution_count": 9,
     "metadata": {},
     "output_type": "execute_result"
    }
   ],
   "source": [
    "shared_statements.isna().sum(axis=0)"
   ]
  },
  {
   "cell_type": "markdown",
   "metadata": {},
   "source": [
    "## Sectors available in AWS shared data"
   ]
  },
  {
   "cell_type": "code",
   "execution_count": 10,
   "metadata": {},
   "outputs": [
    {
     "data": {
      "text/plain": [
       "Industry unknown                                  6218\n",
       "Professional Services                             1436\n",
       "Commercial Services & Supplies                    1162\n",
       "Specialty Retail                                  1028\n",
       "Construction & Engineering                         909\n",
       "                                                  ... \n",
       "Biotechnology                                       36\n",
       "Wireless Telecommunication Services                 35\n",
       "Thrifts & Mortgage Finance                          16\n",
       "Health Care Technology                              16\n",
       "Mortgage Real Estate Investment Trusts (REITs)       2\n",
       "Name: Industry, Length: 71, dtype: int64"
      ]
     },
     "execution_count": 10,
     "metadata": {},
     "output_type": "execute_result"
    }
   ],
   "source": [
    "shared_statements[\"Industry\"].value_counts()"
   ]
  },
  {
   "cell_type": "markdown",
   "metadata": {},
   "source": [
    "Checking again because of Industry unknown flag"
   ]
  },
  {
   "cell_type": "code",
   "execution_count": 11,
   "metadata": {},
   "outputs": [
    {
     "data": {
      "text/plain": [
       "array(['Aerospace & Defense', 'Air Freight & Logistics', 'Airlines',\n",
       "       'Auto Components', 'Automobiles', 'Banks', 'Beverages',\n",
       "       'Biotechnology', 'Building Products', 'Capital Markets',\n",
       "       'Charity/Non-Profit', 'Chemicals',\n",
       "       'Commercial Services & Supplies', 'Communications Equipment',\n",
       "       'Construction & Engineering', 'Construction Materials',\n",
       "       'Consumer Finance', 'Containers & Packaging', 'Distributors',\n",
       "       'Diversified Consumer Services', 'Diversified Financial Services',\n",
       "       'Diversified Telecommunication Services', 'Electric Utilities',\n",
       "       'Electrical Equipment',\n",
       "       'Electronic Equipment, Instruments & Components',\n",
       "       'Energy Equipment & Services',\n",
       "       'Equity Real Estate Investment Trusts (REITs)',\n",
       "       'Food & Staples Retailing', 'Food Products', 'Gas Utilities',\n",
       "       'Health Care Equipment & Supplies',\n",
       "       'Health Care Providers & Services', 'Health Care Technology',\n",
       "       'Hotels, Restaurants & Leisure', 'Household Durables',\n",
       "       'Household Products', 'IT Services',\n",
       "       'Independent Power and Renewable Electricity Producers',\n",
       "       'Industrial Conglomerates', 'Industry unknown', 'Insurance',\n",
       "       'Internet & Direct Marketing Retail',\n",
       "       'Internet Software & Services', 'Leisure Products',\n",
       "       'Life Sciences Tools & Services', 'Machinery', 'Marine', 'Media',\n",
       "       'Metals & Mining',\n",
       "       'Mortgage Real Estate Investment Trusts (REITs)',\n",
       "       'Multi-Utilities', 'Multiline Retail',\n",
       "       'Oil, Gas & Consumable Fuels', 'Paper & Forest Products',\n",
       "       'Personal Products', 'Pharmaceuticals', 'Professional Services',\n",
       "       'Public Entities', 'Real Estate Management & Development',\n",
       "       'Road & Rail', 'Semiconductors & Semiconductor Equipment',\n",
       "       'Software', 'Specialty Retail',\n",
       "       'Technology Hardware, Storage & Peripherals',\n",
       "       'Textiles, Apparel & Luxury Goods', 'Thrifts & Mortgage Finance',\n",
       "       'Tobacco', 'Trading Companies & Distributors',\n",
       "       'Transportation Infrastructure', 'Water Utilities',\n",
       "       'Wireless Telecommunication Services', 'nan'], dtype=object)"
      ]
     },
     "execution_count": 11,
     "metadata": {},
     "output_type": "execute_result"
    }
   ],
   "source": [
    "np.unique(shared_statements[\"Industry\"].astype(str))"
   ]
  },
  {
   "cell_type": "code",
   "execution_count": 12,
   "metadata": {},
   "outputs": [
    {
     "data": {
      "text/html": [
       "<div>\n",
       "<style scoped>\n",
       "    .dataframe tbody tr th:only-of-type {\n",
       "        vertical-align: middle;\n",
       "    }\n",
       "\n",
       "    .dataframe tbody tr th {\n",
       "        vertical-align: top;\n",
       "    }\n",
       "\n",
       "    .dataframe thead th {\n",
       "        text-align: right;\n",
       "    }\n",
       "</style>\n",
       "<table border=\"1\" class=\"dataframe\">\n",
       "  <thead>\n",
       "    <tr style=\"text-align: right;\">\n",
       "      <th></th>\n",
       "      <th>Company</th>\n",
       "      <th>Industry</th>\n",
       "    </tr>\n",
       "  </thead>\n",
       "  <tbody>\n",
       "    <tr>\n",
       "      <th>0</th>\n",
       "      <td>\"K\" Line Holding Europe Limited</td>\n",
       "      <td>Marine</td>\n",
       "    </tr>\n",
       "    <tr>\n",
       "      <th>1</th>\n",
       "      <td>\"K\" Line Bulk Shipping (UK) Limited</td>\n",
       "      <td>Marine</td>\n",
       "    </tr>\n",
       "    <tr>\n",
       "      <th>2</th>\n",
       "      <td>\"K\" Line (Europe) Limited</td>\n",
       "      <td>Marine</td>\n",
       "    </tr>\n",
       "    <tr>\n",
       "      <th>3</th>\n",
       "      <td>\"K\" Line LNG Shipping Limited</td>\n",
       "      <td>Marine</td>\n",
       "    </tr>\n",
       "    <tr>\n",
       "      <th>4</th>\n",
       "      <td>Polar LNG Shipping (UK) Limited</td>\n",
       "      <td>Marine</td>\n",
       "    </tr>\n",
       "    <tr>\n",
       "      <th>...</th>\n",
       "      <td>...</td>\n",
       "      <td>...</td>\n",
       "    </tr>\n",
       "    <tr>\n",
       "      <th>27519</th>\n",
       "      <td>telent Technology Services Limited</td>\n",
       "      <td>IT Services</td>\n",
       "    </tr>\n",
       "    <tr>\n",
       "      <th>27521</th>\n",
       "      <td>voestalpine High Performance Metals UK Limited</td>\n",
       "      <td>Metals &amp; Mining</td>\n",
       "    </tr>\n",
       "    <tr>\n",
       "      <th>27522</th>\n",
       "      <td>voestalpine Metsec plc</td>\n",
       "      <td>Metals &amp; Mining</td>\n",
       "    </tr>\n",
       "    <tr>\n",
       "      <th>27524</th>\n",
       "      <td>wnDirect Limited</td>\n",
       "      <td>Air Freight &amp; Logistics</td>\n",
       "    </tr>\n",
       "    <tr>\n",
       "      <th>27527</th>\n",
       "      <td>Össur UK Ltd</td>\n",
       "      <td>Specialty Retail</td>\n",
       "    </tr>\n",
       "  </tbody>\n",
       "</table>\n",
       "<p>12884 rows × 2 columns</p>\n",
       "</div>"
      ],
      "text/plain": [
       "                                              Company                 Industry\n",
       "0                     \"K\" Line Holding Europe Limited                   Marine\n",
       "1                 \"K\" Line Bulk Shipping (UK) Limited                   Marine\n",
       "2                           \"K\" Line (Europe) Limited                   Marine\n",
       "3                       \"K\" Line LNG Shipping Limited                   Marine\n",
       "4                     Polar LNG Shipping (UK) Limited                   Marine\n",
       "...                                               ...                      ...\n",
       "27519              telent Technology Services Limited              IT Services\n",
       "27521  voestalpine High Performance Metals UK Limited          Metals & Mining\n",
       "27522                          voestalpine Metsec plc          Metals & Mining\n",
       "27524                                wnDirect Limited  Air Freight & Logistics\n",
       "27527                                    Össur UK Ltd         Specialty Retail\n",
       "\n",
       "[12884 rows x 2 columns]"
      ]
     },
     "execution_count": 12,
     "metadata": {},
     "output_type": "execute_result"
    }
   ],
   "source": [
    "shared_statements_sectors = shared_statements[shared_statements[\"Industry\"]!=\"Industry unknown\"][[\"Company\", \"Industry\"]].dropna().drop_duplicates()\n",
    "shared_statements_sectors"
   ]
  },
  {
   "cell_type": "code",
   "execution_count": 13,
   "metadata": {},
   "outputs": [
    {
     "data": {
      "text/plain": [
       "12884"
      ]
     },
     "execution_count": 13,
     "metadata": {},
     "output_type": "execute_result"
    }
   ],
   "source": [
    "shared_statements_sectors[\"Company\"].nunique()"
   ]
  },
  {
   "cell_type": "markdown",
   "metadata": {},
   "source": [
    "## Loading my statements"
   ]
  },
  {
   "cell_type": "code",
   "execution_count": 14,
   "metadata": {},
   "outputs": [],
   "source": [
    "my_statements = pd.read_json(os.path.join(DATA_PATH, \"subset-data-with-additional-info-v2.json\"))"
   ]
  },
  {
   "cell_type": "code",
   "execution_count": 15,
   "metadata": {},
   "outputs": [
    {
     "data": {
      "text/html": [
       "<div>\n",
       "<style scoped>\n",
       "    .dataframe tbody tr th:only-of-type {\n",
       "        vertical-align: middle;\n",
       "    }\n",
       "\n",
       "    .dataframe tbody tr th {\n",
       "        vertical-align: top;\n",
       "    }\n",
       "\n",
       "    .dataframe thead th {\n",
       "        text-align: right;\n",
       "    }\n",
       "</style>\n",
       "<table border=\"1\" class=\"dataframe\">\n",
       "  <thead>\n",
       "    <tr style=\"text-align: right;\">\n",
       "      <th></th>\n",
       "      <th>URL</th>\n",
       "      <th>Company</th>\n",
       "      <th>final_statement</th>\n",
       "      <th>years_with_and_without_act</th>\n",
       "      <th>years_with_act</th>\n",
       "      <th>final_statement_cleaned</th>\n",
       "      <th>len(final_statement_cleaned)</th>\n",
       "      <th>additional_info</th>\n",
       "    </tr>\n",
       "  </thead>\n",
       "  <tbody>\n",
       "    <tr>\n",
       "      <th>0</th>\n",
       "      <td>https://1spatial.com/who-we-are/legal/modern-s...</td>\n",
       "      <td>1Spatial Plc</td>\n",
       "      <td>1Spatial Modern Slavery Act Policy Statement H...</td>\n",
       "      <td>[2015]</td>\n",
       "      <td>[2015]</td>\n",
       "      <td>home solution government boundary law enforcem...</td>\n",
       "      <td>2128</td>\n",
       "      <td>{'id': ['903081'], 'headquarters': ['GB'], 'se...</td>\n",
       "    </tr>\n",
       "    <tr>\n",
       "      <th>1</th>\n",
       "      <td>https://www.shazans.com/slavery-and-human-traf...</td>\n",
       "      <td>1Stop Halal Limited</td>\n",
       "      <td>Slavery and Human Trafficking Statement – Shaz...</td>\n",
       "      <td>[2015, 2018]</td>\n",
       "      <td>[2015, 2018]</td>\n",
       "      <td>shazans shazan food continue monitor covid 19 ...</td>\n",
       "      <td>1840</td>\n",
       "      <td>{'id': ['903810'], 'headquarters': ['GB'], 'se...</td>\n",
       "    </tr>\n",
       "    <tr>\n",
       "      <th>2</th>\n",
       "      <td>https://www.business-humanrights.org/sites/def...</td>\n",
       "      <td>1st Step Solutions Limited</td>\n",
       "      <td>7/28/2019 Modern Slavery Statement 2018 - 1st ...</td>\n",
       "      <td>[2015, 2018]</td>\n",
       "      <td>[2015, 2018]</td>\n",
       "      <td>28 2019 2018 statement make pursuant sec 54 20...</td>\n",
       "      <td>1843</td>\n",
       "      <td>{'id': ['900634'], 'headquarters': ['GB'], 'se...</td>\n",
       "    </tr>\n",
       "    <tr>\n",
       "      <th>3</th>\n",
       "      <td>https://www.2agriculture.com/wp-content/upload...</td>\n",
       "      <td>2 Agriculture Limited</td>\n",
       "      <td>fh Modern Slavery Act 2015: slavery and human ...</td>\n",
       "      <td>[2015, 2018]</td>\n",
       "      <td>[2015, 2018]</td>\n",
       "      <td>fh 2015 introduction uk act require business s...</td>\n",
       "      <td>1372</td>\n",
       "      <td>{'id': ['901400'], 'headquarters': ['GB'], 'se...</td>\n",
       "    </tr>\n",
       "    <tr>\n",
       "      <th>4</th>\n",
       "      <td>https://www.2agriculture.com/wp-content/upload...</td>\n",
       "      <td>2 Agriculture Limited</td>\n",
       "      <td>1 Modern Slavery Act 2015: slavery and human t...</td>\n",
       "      <td>[2015, 2017]</td>\n",
       "      <td>[2015, 2017]</td>\n",
       "      <td>2015 introduction uk act require business stat...</td>\n",
       "      <td>1457</td>\n",
       "      <td>{'id': ['901400'], 'headquarters': ['GB'], 'se...</td>\n",
       "    </tr>\n",
       "  </tbody>\n",
       "</table>\n",
       "</div>"
      ],
      "text/plain": [
       "                                                 URL  \\\n",
       "0  https://1spatial.com/who-we-are/legal/modern-s...   \n",
       "1  https://www.shazans.com/slavery-and-human-traf...   \n",
       "2  https://www.business-humanrights.org/sites/def...   \n",
       "3  https://www.2agriculture.com/wp-content/upload...   \n",
       "4  https://www.2agriculture.com/wp-content/upload...   \n",
       "\n",
       "                      Company  \\\n",
       "0                1Spatial Plc   \n",
       "1         1Stop Halal Limited   \n",
       "2  1st Step Solutions Limited   \n",
       "3       2 Agriculture Limited   \n",
       "4       2 Agriculture Limited   \n",
       "\n",
       "                                     final_statement  \\\n",
       "0  1Spatial Modern Slavery Act Policy Statement H...   \n",
       "1  Slavery and Human Trafficking Statement – Shaz...   \n",
       "2  7/28/2019 Modern Slavery Statement 2018 - 1st ...   \n",
       "3  fh Modern Slavery Act 2015: slavery and human ...   \n",
       "4  1 Modern Slavery Act 2015: slavery and human t...   \n",
       "\n",
       "  years_with_and_without_act years_with_act  \\\n",
       "0                     [2015]         [2015]   \n",
       "1               [2015, 2018]   [2015, 2018]   \n",
       "2               [2015, 2018]   [2015, 2018]   \n",
       "3               [2015, 2018]   [2015, 2018]   \n",
       "4               [2015, 2017]   [2015, 2017]   \n",
       "\n",
       "                             final_statement_cleaned  \\\n",
       "0  home solution government boundary law enforcem...   \n",
       "1  shazans shazan food continue monitor covid 19 ...   \n",
       "2  28 2019 2018 statement make pursuant sec 54 20...   \n",
       "3  fh 2015 introduction uk act require business s...   \n",
       "4  2015 introduction uk act require business stat...   \n",
       "\n",
       "   len(final_statement_cleaned)  \\\n",
       "0                          2128   \n",
       "1                          1840   \n",
       "2                          1843   \n",
       "3                          1372   \n",
       "4                          1457   \n",
       "\n",
       "                                     additional_info  \n",
       "0  {'id': ['903081'], 'headquarters': ['GB'], 'se...  \n",
       "1  {'id': ['903810'], 'headquarters': ['GB'], 'se...  \n",
       "2  {'id': ['900634'], 'headquarters': ['GB'], 'se...  \n",
       "3  {'id': ['901400'], 'headquarters': ['GB'], 'se...  \n",
       "4  {'id': ['901400'], 'headquarters': ['GB'], 'se...  "
      ]
     },
     "execution_count": 15,
     "metadata": {},
     "output_type": "execute_result"
    }
   ],
   "source": [
    "my_statements.head()"
   ]
  },
  {
   "cell_type": "code",
   "execution_count": 16,
   "metadata": {},
   "outputs": [
    {
     "data": {
      "text/plain": [
       "{'id': ['903081'],\n",
       " 'headquarters': ['GB'],\n",
       " 'sectors': {'Technology': ['Technology: General']},\n",
       " 'matched_company': '1Spatial Plc'}"
      ]
     },
     "execution_count": 16,
     "metadata": {},
     "output_type": "execute_result"
    }
   ],
   "source": [
    "my_statements[\"additional_info\"].iloc[0]"
   ]
  },
  {
   "cell_type": "markdown",
   "metadata": {},
   "source": [
    "## Is there any company with multiple sectors?"
   ]
  },
  {
   "cell_type": "code",
   "execution_count": 17,
   "metadata": {},
   "outputs": [
    {
     "name": "stdout",
     "output_type": "stream",
     "text": [
      "{'id': ['906211'], 'headquarters': [None], 'sectors': {'Military/weapons/security equipment': ['Military/weapons/security equipment: General'], 'Services': ['Security companies']}, 'matched_company': 'A J Walter Aviation Limited'}\n"
     ]
    }
   ],
   "source": [
    "for add_info in my_statements[\"additional_info\"].values:\n",
    "    if len(add_info[\"sectors\"]) > 1:\n",
    "        print(add_info)\n",
    "        break"
   ]
  },
  {
   "cell_type": "markdown",
   "metadata": {},
   "source": [
    "Note: sectors are stored as key-value pairs. Need to fix sectors where values contains extact key keyword. \n",
    "\n",
    "For ex: {'id': ['906211'], 'headquarters': [None], 'sectors': {'Military/weapons/security equipment': ['Military/weapons/security equipment: General'], 'Services': ['Security companies']}, 'matched_company': 'A J Walter Aviation Limited'}"
   ]
  },
  {
   "cell_type": "markdown",
   "metadata": {},
   "source": [
    "### Quick fix for above problem"
   ]
  },
  {
   "cell_type": "code",
   "execution_count": 18,
   "metadata": {},
   "outputs": [
    {
     "name": "stderr",
     "output_type": "stream",
     "text": [
      "                                                      \r"
     ]
    }
   ],
   "source": [
    "updated_add_infos = []\n",
    "for add_info in tqdm(my_statements[\"additional_info\"].values, leave=False):\n",
    "    \n",
    "    updated_add_info = deepcopy(add_info)\n",
    "    if updated_add_info[\"sectors\"] is not None:\n",
    "        for k, v in updated_add_info[\"sectors\"].items():\n",
    "            new_v = []\n",
    "            for v_i in v: \n",
    "                new_v.append(\" \".join(v_i.replace(f\"{k}:\",\"\").split()))\n",
    "            updated_add_info[\"sectors\"][k] = list(set(new_v))\n",
    "\n",
    "    updated_add_infos.append(updated_add_info)"
   ]
  },
  {
   "cell_type": "code",
   "execution_count": 19,
   "metadata": {},
   "outputs": [
    {
     "name": "stdout",
     "output_type": "stream",
     "text": [
      "{'id': ['906211'], 'headquarters': [None], 'sectors': {'Military/weapons/security equipment': ['General'], 'Services': ['Security companies']}, 'matched_company': 'A J Walter Aviation Limited'}\n"
     ]
    }
   ],
   "source": [
    "for add_info in updated_add_infos:\n",
    "    if len(add_info[\"sectors\"]) > 1:\n",
    "        print(add_info)\n",
    "        break"
   ]
  },
  {
   "cell_type": "code",
   "execution_count": 20,
   "metadata": {},
   "outputs": [],
   "source": [
    "if \"additional_info\" in my_statements.columns: my_statements.drop(\"additional_info\", axis=1, inplace=True)"
   ]
  },
  {
   "cell_type": "code",
   "execution_count": 21,
   "metadata": {},
   "outputs": [],
   "source": [
    "my_statements[\"additional_info\"] = updated_add_infos\n",
    "del updated_add_infos, updated_add_info"
   ]
  },
  {
   "cell_type": "code",
   "execution_count": 22,
   "metadata": {},
   "outputs": [
    {
     "data": {
      "text/plain": [
       "{'Technology': ['General']}"
      ]
     },
     "execution_count": 22,
     "metadata": {},
     "output_type": "execute_result"
    }
   ],
   "source": [
    "my_statements[\"additional_info\"].iloc[0][\"sectors\"]"
   ]
  },
  {
   "cell_type": "markdown",
   "metadata": {},
   "source": [
    "## Sectors available from my statements"
   ]
  },
  {
   "cell_type": "code",
   "execution_count": 23,
   "metadata": {},
   "outputs": [
    {
     "name": "stderr",
     "output_type": "stream",
     "text": [
      "                                        \r"
     ]
    }
   ],
   "source": [
    "sectors = dict()\n",
    "for add_info in tqdm(my_statements[\"additional_info\"].values, leave=False):\n",
    "    for k,v in add_info[\"sectors\"].items():\n",
    "        if k in sectors:\n",
    "            sectors[k]+=deepcopy(v)\n",
    "        else:\n",
    "            sectors[k]=deepcopy(v)\n",
    "            \n",
    "for k, v in tqdm(sectors.items(), leave=False):\n",
    "    sectors[k] = np.unique(v)"
   ]
  },
  {
   "cell_type": "code",
   "execution_count": 24,
   "metadata": {},
   "outputs": [
    {
     "data": {
      "text/plain": [
       "{'Technology': array(['General', 'Internet & social media', 'Software & Services',\n",
       "        'Technology, telecom & electronics'], dtype='<U33'),\n",
       " 'Agriculture/food/beverage/tobacco/fishing': array(['Agricultural machinery', 'Agriculture & livestock',\n",
       "        'Chocolate & cocoa', 'Coffee', 'Fishing', 'Food & beverage',\n",
       "        'General', 'Tea', 'Tobacco'], dtype='<U23'),\n",
       " 'Services': array(['Call centre', 'Catering & food services',\n",
       "        'Cleaning & maintenance', 'Education companies', 'General',\n",
       "        'Printing & copying', 'Recruitment agencies', 'Security companies'],\n",
       "       dtype='<U24'),\n",
       " 'Real estate': array(['General', 'Property development', 'Property management',\n",
       "        'Real estate sales'], dtype='<U20'),\n",
       " 'Consumer products/retail': array(['Cosmetics', 'Department stores', 'Electrical appliance',\n",
       "        'General', 'Household products', 'Jewellery',\n",
       "        'Luggage, backpacks & bags', 'Office equipment', 'Perfume',\n",
       "        'Photographic', 'Retail', 'Supermarkets & grocery',\n",
       "        'Toiletries & soap', 'Toy', 'Watch & clock', 'Wholesale'],\n",
       "       dtype='<U25'),\n",
       " 'Travel': array(['Cruise ship', 'Hotel', 'Tourism'], dtype='<U11'),\n",
       " 'Manufacturing': array(['General', 'Machine & machine tools'], dtype='<U23'),\n",
       " 'Construction & building materials': array(['Building materials & equipment', 'Cement', 'Construction',\n",
       "        'Construction machinery & vehicles', 'General'], dtype='<U33'),\n",
       " 'Military/weapons/security equipment': array(['Arms/Weapons', 'General', 'Military/defence'], dtype='<U16'),\n",
       " 'Health Sector': array(['Biotechnology', 'General', 'Health care',\n",
       "        'Medical equipment/supplies', 'Pharmaceutical'], dtype='<U26'),\n",
       " 'Shipping & handling': array(['Express delivery', 'Freight handling', 'Packaging', 'Ports',\n",
       "        'Postal services', 'Shipping, ship-building & ship-scrapping'],\n",
       "       dtype='<U40'),\n",
       " 'Finance': array(['Finance & banking', 'Insurance', 'Stock exchanges'], dtype='<U17'),\n",
       " 'Metals/plastics/basic materials': array(['Metals & steel'], dtype='<U14'),\n",
       " 'Natural resources': array(['Diamond', 'Logging & lumber', 'Mining', 'Oil, gas & coal',\n",
       "        'Paper & cardboard'], dtype='<U17'),\n",
       " 'Professional Services': array(['Advertising & marketing', 'Architects',\n",
       "        'Auditing, consulting & accounting', 'Engineering', 'Law firms'],\n",
       "       dtype='<U33'),\n",
       " 'Media/publishing': array(['Media & publishing: General'], dtype='<U27'),\n",
       " 'Transport': array(['Aircraft/Airline', 'Airports', 'Auto parts', 'Auto rental',\n",
       "        'Automobile & other motor vehicles', 'Bicycle', 'Bus', 'Ferry',\n",
       "        'General', 'Tire'], dtype='<U33'),\n",
       " 'Leisure': array(['Entertainment', 'Gambling', 'Restaurants & bars'], dtype='<U18'),\n",
       " 'Energy': array(['Energy', 'Hydropower & dam projects', 'Nuclear energy',\n",
       "        'Renewable Energy', 'Solar energy', 'Wind energy'], dtype='<U25'),\n",
       " 'Other': array(['Charity/Non-Profit', 'Public Entities'], dtype='<U18'),\n",
       " 'Chemical': array(['Fertiliser', 'General', 'Industrial gases', 'Pesticide'],\n",
       "       dtype='<U16'),\n",
       " 'Apparel & textile': array(['Clothing & textile', 'Footwear', 'Leather & tanneries'],\n",
       "       dtype='<U19'),\n",
       " 'Utilities': array(['General', 'Waste disposal', 'Water companies'], dtype='<U15'),\n",
       " 'Conglomerates': array(['Diversified/Conglomerates'], dtype='<U25'),\n",
       " 'Furnishings': array(['Furniture'], dtype='<U9'),\n",
       " 'Sports': array(['Golf courses', 'Sporting goods', 'Sports teams, clubs & leagues'],\n",
       "       dtype='<U29'),\n",
       " 'Safety/environment': array(['Environmental equipment'], dtype='<U23'),\n",
       " 'Garden/landscaping': array(['Gardening & landscaping'], dtype='<U23')}"
      ]
     },
     "execution_count": 24,
     "metadata": {},
     "output_type": "execute_result"
    }
   ],
   "source": [
    "sectors"
   ]
  },
  {
   "cell_type": "code",
   "execution_count": 25,
   "metadata": {},
   "outputs": [
    {
     "data": {
      "text/plain": [
       "{'Technology': ['General']}"
      ]
     },
     "execution_count": 25,
     "metadata": {},
     "output_type": "execute_result"
    }
   ],
   "source": [
    "my_statements[\"additional_info\"].iloc[0][\"sectors\"]"
   ]
  },
  {
   "cell_type": "markdown",
   "metadata": {},
   "source": [
    "## Companies with no sector information from my statements"
   ]
  },
  {
   "cell_type": "code",
   "execution_count": 26,
   "metadata": {},
   "outputs": [
    {
     "data": {
      "text/plain": [
       "0"
      ]
     },
     "execution_count": 26,
     "metadata": {},
     "output_type": "execute_result"
    }
   ],
   "source": [
    "my_statements[\"additional_info\"].isna().sum()"
   ]
  },
  {
   "cell_type": "markdown",
   "metadata": {},
   "source": [
    "A dictionary with null values is inserted by default where no actual additional information is available."
   ]
  },
  {
   "cell_type": "code",
   "execution_count": 27,
   "metadata": {},
   "outputs": [
    {
     "name": "stdout",
     "output_type": "stream",
     "text": [
      "Found 2548 companies with no sectors.\n",
      "Found 2371 unique companies with no sectors.\n"
     ]
    }
   ],
   "source": [
    "comp_with_na_sectors = []\n",
    "for row in my_statements.iterrows():\n",
    "    row = row[1].to_dict()\n",
    "    if len(row[\"additional_info\"][\"sectors\"]) == 0:\n",
    "        comp_with_na_sectors.append(row[\"Company\"])\n",
    "\n",
    "print(f\"Found {len(comp_with_na_sectors)} companies with no sectors.\")\n",
    "print(f\"Found {len(set(comp_with_na_sectors))} unique companies with no sectors.\")"
   ]
  },
  {
   "cell_type": "code",
   "execution_count": 28,
   "metadata": {},
   "outputs": [
    {
     "data": {
      "text/html": [
       "<div>\n",
       "<style scoped>\n",
       "    .dataframe tbody tr th:only-of-type {\n",
       "        vertical-align: middle;\n",
       "    }\n",
       "\n",
       "    .dataframe tbody tr th {\n",
       "        vertical-align: top;\n",
       "    }\n",
       "\n",
       "    .dataframe thead th {\n",
       "        text-align: right;\n",
       "    }\n",
       "</style>\n",
       "<table border=\"1\" class=\"dataframe\">\n",
       "  <thead>\n",
       "    <tr style=\"text-align: right;\">\n",
       "      <th></th>\n",
       "      <th>Company</th>\n",
       "    </tr>\n",
       "  </thead>\n",
       "  <tbody>\n",
       "    <tr>\n",
       "      <th>0</th>\n",
       "      <td>Hendy Automotive Limited</td>\n",
       "    </tr>\n",
       "    <tr>\n",
       "      <th>1</th>\n",
       "      <td>Celsus Group Limited</td>\n",
       "    </tr>\n",
       "    <tr>\n",
       "      <th>2</th>\n",
       "      <td>Can (Offshore) Limited</td>\n",
       "    </tr>\n",
       "    <tr>\n",
       "      <th>3</th>\n",
       "      <td>The Education Alliance</td>\n",
       "    </tr>\n",
       "    <tr>\n",
       "      <th>4</th>\n",
       "      <td>Bemis Company, Inc.</td>\n",
       "    </tr>\n",
       "    <tr>\n",
       "      <th>...</th>\n",
       "      <td>...</td>\n",
       "    </tr>\n",
       "    <tr>\n",
       "      <th>2366</th>\n",
       "      <td>W R Ferris Limited</td>\n",
       "    </tr>\n",
       "    <tr>\n",
       "      <th>2367</th>\n",
       "      <td>Scot J C B Limited</td>\n",
       "    </tr>\n",
       "    <tr>\n",
       "      <th>2368</th>\n",
       "      <td>Chelmsford Star Co-operative Society Ltd</td>\n",
       "    </tr>\n",
       "    <tr>\n",
       "      <th>2369</th>\n",
       "      <td>Travelers Management Limited</td>\n",
       "    </tr>\n",
       "    <tr>\n",
       "      <th>2370</th>\n",
       "      <td>CPM United Kingdom Limited</td>\n",
       "    </tr>\n",
       "  </tbody>\n",
       "</table>\n",
       "<p>2371 rows × 1 columns</p>\n",
       "</div>"
      ],
      "text/plain": [
       "                                       Company\n",
       "0                     Hendy Automotive Limited\n",
       "1                         Celsus Group Limited\n",
       "2                       Can (Offshore) Limited\n",
       "3                       The Education Alliance\n",
       "4                          Bemis Company, Inc.\n",
       "...                                        ...\n",
       "2366                        W R Ferris Limited\n",
       "2367                        Scot J C B Limited\n",
       "2368  Chelmsford Star Co-operative Society Ltd\n",
       "2369              Travelers Management Limited\n",
       "2370                CPM United Kingdom Limited\n",
       "\n",
       "[2371 rows x 1 columns]"
      ]
     },
     "execution_count": 28,
     "metadata": {},
     "output_type": "execute_result"
    }
   ],
   "source": [
    "comp_with_na_sectors = pd.DataFrame(set(comp_with_na_sectors), columns=[\"Company\"])\n",
    "comp_with_na_sectors"
   ]
  },
  {
   "cell_type": "markdown",
   "metadata": {},
   "source": [
    "## Merging sector information from AWS shared data into my statements for companies with no sector information"
   ]
  },
  {
   "cell_type": "code",
   "execution_count": 29,
   "metadata": {},
   "outputs": [
    {
     "name": "stdout",
     "output_type": "stream",
     "text": [
      "Found sectors for 606 companies.\n"
     ]
    },
    {
     "data": {
      "text/html": [
       "<div>\n",
       "<style scoped>\n",
       "    .dataframe tbody tr th:only-of-type {\n",
       "        vertical-align: middle;\n",
       "    }\n",
       "\n",
       "    .dataframe tbody tr th {\n",
       "        vertical-align: top;\n",
       "    }\n",
       "\n",
       "    .dataframe thead th {\n",
       "        text-align: right;\n",
       "    }\n",
       "</style>\n",
       "<table border=\"1\" class=\"dataframe\">\n",
       "  <thead>\n",
       "    <tr style=\"text-align: right;\">\n",
       "      <th></th>\n",
       "      <th>sectors</th>\n",
       "    </tr>\n",
       "    <tr>\n",
       "      <th>Company</th>\n",
       "      <th></th>\n",
       "    </tr>\n",
       "  </thead>\n",
       "  <tbody>\n",
       "    <tr>\n",
       "      <th>Bemis Company, Inc.</th>\n",
       "      <td>{'Containers &amp; Packaging': []}</td>\n",
       "    </tr>\n",
       "    <tr>\n",
       "      <th>Oxford Health NHS Foundation Trust</th>\n",
       "      <td>{'Public Entities': []}</td>\n",
       "    </tr>\n",
       "    <tr>\n",
       "      <th>Virgin Active Limited</th>\n",
       "      <td>{'Hotels, Restaurants &amp; Leisure': []}</td>\n",
       "    </tr>\n",
       "    <tr>\n",
       "      <th>Asda Stores Limited</th>\n",
       "      <td>{'Food &amp; Staples Retailing': []}</td>\n",
       "    </tr>\n",
       "    <tr>\n",
       "      <th>Lincolnshire Co-operative Limited</th>\n",
       "      <td>{'Commercial Services &amp; Supplies': []}</td>\n",
       "    </tr>\n",
       "  </tbody>\n",
       "</table>\n",
       "</div>"
      ],
      "text/plain": [
       "                                                                    sectors\n",
       "Company                                                                    \n",
       "Bemis Company, Inc.                          {'Containers & Packaging': []}\n",
       "Oxford Health NHS Foundation Trust                  {'Public Entities': []}\n",
       "Virgin Active Limited                 {'Hotels, Restaurants & Leisure': []}\n",
       "Asda Stores Limited                        {'Food & Staples Retailing': []}\n",
       "Lincolnshire Co-operative Limited    {'Commercial Services & Supplies': []}"
      ]
     },
     "execution_count": 29,
     "metadata": {},
     "output_type": "execute_result"
    }
   ],
   "source": [
    "comp_with_na_sectors_fixed = pd.merge(\n",
    "    comp_with_na_sectors,\n",
    "    shared_statements_sectors,\n",
    "    on=\"Company\",\n",
    "    how=\"inner\").drop_duplicates()\n",
    "\n",
    "comp_with_na_sectors_fixed[\"sectors\"] = comp_with_na_sectors_fixed[\"Industry\"].apply(lambda x: {x:[]})\n",
    "comp_with_na_sectors_fixed.drop(\"Industry\", axis=1, inplace=True)\n",
    "print(f\"Found sectors for {len(comp_with_na_sectors_fixed)} companies.\")\n",
    "\n",
    "comp_with_na_sectors_fixed.set_index(\"Company\", inplace=True)\n",
    "comp_with_na_sectors_fixed.head()"
   ]
  },
  {
   "cell_type": "markdown",
   "metadata": {},
   "source": [
    "## Adding additional sectors found to my statement"
   ]
  },
  {
   "cell_type": "code",
   "execution_count": 30,
   "metadata": {},
   "outputs": [
    {
     "name": "stderr",
     "output_type": "stream",
     "text": [
      "                           \r"
     ]
    }
   ],
   "source": [
    "updated_add_infos = []\n",
    "\n",
    "for row in tqdm(my_statements.iterrows(), leave=False):\n",
    "    \n",
    "    row = deepcopy(row[1].to_dict())\n",
    "    \n",
    "    \n",
    "    if len(row[\"additional_info\"][\"sectors\"])==0 and row[\"Company\"] in comp_with_na_sectors_fixed.index:\n",
    "        row[\"additional_info\"][\"sectors\"] = comp_with_na_sectors_fixed.loc[row[\"Company\"]].values[0]\n",
    "    \n",
    "    updated_add_infos.append(row[\"additional_info\"])"
   ]
  },
  {
   "cell_type": "code",
   "execution_count": 31,
   "metadata": {},
   "outputs": [],
   "source": [
    "if \"additional_info\" in my_statements.columns: my_statements.drop(\"additional_info\", axis=1, inplace=True)"
   ]
  },
  {
   "cell_type": "code",
   "execution_count": 32,
   "metadata": {},
   "outputs": [],
   "source": [
    "my_statements[\"additional_info\"] = updated_add_infos\n",
    "del updated_add_infos"
   ]
  },
  {
   "cell_type": "code",
   "execution_count": 33,
   "metadata": {},
   "outputs": [
    {
     "name": "stdout",
     "output_type": "stream",
     "text": [
      "Found 1765 companies with no sectors.\n",
      "Found 1765 unique companies with no sectors.\n"
     ]
    }
   ],
   "source": [
    "comp_with_na_sectors = []\n",
    "for row in my_statements.iterrows():\n",
    "    row = row[1].to_dict()\n",
    "    if len(row[\"additional_info\"][\"sectors\"]) == 0:\n",
    "        comp_with_na_sectors.append(row[\"Company\"])\n",
    "\n",
    "print(f\"Found {len(comp_with_na_sectors)} companies with no sectors.\")\n",
    "print(f\"Found {len(set(comp_with_na_sectors))} unique companies with no sectors.\")"
   ]
  },
  {
   "cell_type": "code",
   "execution_count": 36,
   "metadata": {},
   "outputs": [],
   "source": [
    "rows = [row[1].to_dict() for row in my_statements.iterrows()]"
   ]
  },
  {
   "cell_type": "code",
   "execution_count": 38,
   "metadata": {},
   "outputs": [],
   "source": [
    "with open(os.path.join(DATA_PATH, 'subset-data-with-additional-info-v3.json'), 'w') as f:\n",
    "    json.dump(rows, f)"
   ]
  },
  {
   "cell_type": "code",
   "execution_count": 39,
   "metadata": {},
   "outputs": [
    {
     "data": {
      "text/plain": [
       "9993"
      ]
     },
     "execution_count": 39,
     "metadata": {},
     "output_type": "execute_result"
    }
   ],
   "source": [
    "len(rows)"
   ]
  }
 ],
 "metadata": {
  "kernelspec": {
   "display_name": "modern_slavery",
   "language": "python",
   "name": "modern_slavery"
  },
  "language_info": {
   "codemirror_mode": {
    "name": "ipython",
    "version": 3
   },
   "file_extension": ".py",
   "mimetype": "text/x-python",
   "name": "python",
   "nbconvert_exporter": "python",
   "pygments_lexer": "ipython3",
   "version": "3.9.4"
  }
 },
 "nbformat": 4,
 "nbformat_minor": 4
}
