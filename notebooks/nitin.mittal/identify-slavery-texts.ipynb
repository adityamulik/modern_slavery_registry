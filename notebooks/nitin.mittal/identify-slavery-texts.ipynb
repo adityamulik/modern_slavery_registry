{
 "cells": [
  {
   "cell_type": "markdown",
   "metadata": {},
   "source": [
    "# Used to check if extracted statements are Modern Slavery Statement"
   ]
  },
  {
   "cell_type": "code",
   "execution_count": 25,
   "metadata": {},
   "outputs": [
    {
     "name": "stdout",
     "output_type": "stream",
     "text": [
      "The autoreload extension is already loaded. To reload it, use:\n",
      "  %reload_ext autoreload\n"
     ]
    }
   ],
   "source": [
    "%load_ext autoreload\n",
    "%autoreload 2"
   ]
  },
  {
   "cell_type": "code",
   "execution_count": 56,
   "metadata": {},
   "outputs": [],
   "source": [
    "import pandas as pd\n",
    "import numpy as np\n",
    "from os import getcwd, path, remove\n",
    "import urllib\n",
    "import pickle\n",
    "from time import sleep\n",
    "import functools\n",
    "import glob\n",
    "from func_timeout import func_timeout, FunctionTimedOut\n",
    "import re\n",
    "from langdetect import detect\n",
    "from langdetect import lang_detect_exception"
   ]
  },
  {
   "cell_type": "code",
   "execution_count": 117,
   "metadata": {},
   "outputs": [],
   "source": [
    "PROJECT_NAME = 'modern_slavery_registry'\n",
    "PROJECT_PATH = f\"{getcwd()[:getcwd().find(PROJECT_NAME)]}{PROJECT_NAME}\"\n",
    "DATA_PATH = f\"{PROJECT_PATH}\\\\data\"\n",
    "PICKLE_PATH = f\"{DATA_PATH}\\\\pickles\"\n",
    "PDF_PATH = f\"{DATA_PATH}\\\\pdfs\"\n",
    "TEXT_PATH = f\"{DATA_PATH}\\\\texts\"\n",
    "SLAVERY_TEXT_PATH = f\"{DATA_PATH}\\\\slavery_texts\"\n",
    "SHEETS_PATH = f\"{DATA_PATH}\\\\sheets\"\n",
    "MAX_DOWNLOAD_TIME = 5"
   ]
  },
  {
   "cell_type": "code",
   "execution_count": 28,
   "metadata": {},
   "outputs": [],
   "source": [
    "def save_pickle(obj, file_name):\n",
    "    pickle.dump(obj, file=open(f\"{file_name}.pickle\",\"wb\"))\n",
    "    \n",
    "def load_pickle(file_name):\n",
    "    return pickle.load(file=open(f\"{file_name}.pickle\",\"rb\"))"
   ]
  },
  {
   "cell_type": "code",
   "execution_count": 29,
   "metadata": {},
   "outputs": [
    {
     "name": "stdout",
     "output_type": "stream",
     "text": [
      "E:\\Projects\\modern_slavery_registry\\data\\pickles\\slavery_text_SIDs already exists\n",
      "E:\\Projects\\modern_slavery_registry\\data\\pickles\\non_slavery_text_SIDs already exists\n"
     ]
    }
   ],
   "source": [
    "pickle_name = f\"{PICKLE_PATH}\\\\slavery_text_SIDs\"\n",
    "if path.exists(f\"{pickle_name}.pickle\"):\n",
    "    slavery_text_SIDs = load_pickle(pickle_name)\n",
    "    print(f\"{pickle_name} already exists\")\n",
    "else:\n",
    "    slavery_text_SIDs = []\n",
    "    save_pickle(slavery_text_SIDs, file_name=pickle_name)\n",
    "    print(f\"{pickle_name} created\")\n",
    "    \n",
    "    \n",
    "pickle_name = f\"{PICKLE_PATH}\\\\non_slavery_text_SIDs\"\n",
    "if path.exists(f\"{pickle_name}.pickle\"):\n",
    "    non_slavery_text_SIDs = load_pickle(pickle_name)\n",
    "    print(f\"{pickle_name} already exists\")\n",
    "else:\n",
    "    non_slavery_text_SIDs = []\n",
    "    save_pickle(non_slavery_text_SIDs, file_name=pickle_name)\n",
    "    print(f\"{pickle_name} created\")"
   ]
  },
  {
   "cell_type": "code",
   "execution_count": 30,
   "metadata": {},
   "outputs": [
    {
     "data": {
      "text/html": [
       "<div>\n",
       "<style scoped>\n",
       "    .dataframe tbody tr th:only-of-type {\n",
       "        vertical-align: middle;\n",
       "    }\n",
       "\n",
       "    .dataframe tbody tr th {\n",
       "        vertical-align: top;\n",
       "    }\n",
       "\n",
       "    .dataframe thead th {\n",
       "        text-align: right;\n",
       "    }\n",
       "</style>\n",
       "<table border=\"1\" class=\"dataframe\">\n",
       "  <thead>\n",
       "    <tr style=\"text-align: right;\">\n",
       "      <th></th>\n",
       "      <th>Company ID</th>\n",
       "      <th>Company</th>\n",
       "      <th>Is Publisher</th>\n",
       "      <th>Statement ID</th>\n",
       "      <th>URL</th>\n",
       "      <th>Override URL</th>\n",
       "      <th>Companies House Number</th>\n",
       "      <th>Industry</th>\n",
       "      <th>HQ</th>\n",
       "      <th>Is Also Covered</th>\n",
       "      <th>UK Modern Slavery Act</th>\n",
       "      <th>California Transparency in Supply Chains Act</th>\n",
       "      <th>Australia Modern Slavery Act</th>\n",
       "      <th>Period Covered</th>\n",
       "    </tr>\n",
       "  </thead>\n",
       "  <tbody>\n",
       "    <tr>\n",
       "      <th>0</th>\n",
       "      <td>7676</td>\n",
       "      <td>\"K\" Line Holding Europe Limited</td>\n",
       "      <td>True</td>\n",
       "      <td>35092</td>\n",
       "      <td>https://img1.wsimg.com/blobby/go/7695baff-3f0f...</td>\n",
       "      <td>NaN</td>\n",
       "      <td>05005018</td>\n",
       "      <td>Marine</td>\n",
       "      <td>United Kingdom</td>\n",
       "      <td>False</td>\n",
       "      <td>True</td>\n",
       "      <td>False</td>\n",
       "      <td>False</td>\n",
       "      <td>2018-2019</td>\n",
       "    </tr>\n",
       "    <tr>\n",
       "      <th>1</th>\n",
       "      <td>28660</td>\n",
       "      <td>\"K\" Line Bulk Shipping (UK) Limited</td>\n",
       "      <td>False</td>\n",
       "      <td>35092</td>\n",
       "      <td>https://img1.wsimg.com/blobby/go/7695baff-3f0f...</td>\n",
       "      <td>NaN</td>\n",
       "      <td>04830352</td>\n",
       "      <td>Marine</td>\n",
       "      <td>United Kingdom</td>\n",
       "      <td>True</td>\n",
       "      <td>True</td>\n",
       "      <td>False</td>\n",
       "      <td>False</td>\n",
       "      <td>2018-2019</td>\n",
       "    </tr>\n",
       "    <tr>\n",
       "      <th>2</th>\n",
       "      <td>28659</td>\n",
       "      <td>\"K\" Line (Europe) Limited</td>\n",
       "      <td>False</td>\n",
       "      <td>35092</td>\n",
       "      <td>https://img1.wsimg.com/blobby/go/7695baff-3f0f...</td>\n",
       "      <td>NaN</td>\n",
       "      <td>05639474</td>\n",
       "      <td>Marine</td>\n",
       "      <td>United Kingdom</td>\n",
       "      <td>True</td>\n",
       "      <td>True</td>\n",
       "      <td>False</td>\n",
       "      <td>False</td>\n",
       "      <td>2018-2019</td>\n",
       "    </tr>\n",
       "    <tr>\n",
       "      <th>3</th>\n",
       "      <td>28661</td>\n",
       "      <td>\"K\" Line LNG Shipping Limited</td>\n",
       "      <td>False</td>\n",
       "      <td>35092</td>\n",
       "      <td>https://img1.wsimg.com/blobby/go/7695baff-3f0f...</td>\n",
       "      <td>NaN</td>\n",
       "      <td>NaN</td>\n",
       "      <td>Marine</td>\n",
       "      <td>United Kingdom</td>\n",
       "      <td>True</td>\n",
       "      <td>True</td>\n",
       "      <td>False</td>\n",
       "      <td>False</td>\n",
       "      <td>2018-2019</td>\n",
       "    </tr>\n",
       "    <tr>\n",
       "      <th>4</th>\n",
       "      <td>28658</td>\n",
       "      <td>Polar LNG Shipping (UK) Limited</td>\n",
       "      <td>False</td>\n",
       "      <td>35092</td>\n",
       "      <td>https://img1.wsimg.com/blobby/go/7695baff-3f0f...</td>\n",
       "      <td>NaN</td>\n",
       "      <td>02205323</td>\n",
       "      <td>Marine</td>\n",
       "      <td>United Kingdom</td>\n",
       "      <td>True</td>\n",
       "      <td>True</td>\n",
       "      <td>False</td>\n",
       "      <td>False</td>\n",
       "      <td>2018-2019</td>\n",
       "    </tr>\n",
       "  </tbody>\n",
       "</table>\n",
       "</div>"
      ],
      "text/plain": [
       "   Company ID                              Company  Is Publisher  \\\n",
       "0        7676      \"K\" Line Holding Europe Limited          True   \n",
       "1       28660  \"K\" Line Bulk Shipping (UK) Limited         False   \n",
       "2       28659            \"K\" Line (Europe) Limited         False   \n",
       "3       28661        \"K\" Line LNG Shipping Limited         False   \n",
       "4       28658      Polar LNG Shipping (UK) Limited         False   \n",
       "\n",
       "   Statement ID                                                URL  \\\n",
       "0         35092  https://img1.wsimg.com/blobby/go/7695baff-3f0f...   \n",
       "1         35092  https://img1.wsimg.com/blobby/go/7695baff-3f0f...   \n",
       "2         35092  https://img1.wsimg.com/blobby/go/7695baff-3f0f...   \n",
       "3         35092  https://img1.wsimg.com/blobby/go/7695baff-3f0f...   \n",
       "4         35092  https://img1.wsimg.com/blobby/go/7695baff-3f0f...   \n",
       "\n",
       "  Override URL Companies House Number Industry              HQ  \\\n",
       "0          NaN               05005018   Marine  United Kingdom   \n",
       "1          NaN               04830352   Marine  United Kingdom   \n",
       "2          NaN               05639474   Marine  United Kingdom   \n",
       "3          NaN                    NaN   Marine  United Kingdom   \n",
       "4          NaN               02205323   Marine  United Kingdom   \n",
       "\n",
       "   Is Also Covered  UK Modern Slavery Act  \\\n",
       "0            False                   True   \n",
       "1             True                   True   \n",
       "2             True                   True   \n",
       "3             True                   True   \n",
       "4             True                   True   \n",
       "\n",
       "   California Transparency in Supply Chains Act  Australia Modern Slavery Act  \\\n",
       "0                                         False                         False   \n",
       "1                                         False                         False   \n",
       "2                                         False                         False   \n",
       "3                                         False                         False   \n",
       "4                                         False                         False   \n",
       "\n",
       "  Period Covered  \n",
       "0      2018-2019  \n",
       "1      2018-2019  \n",
       "2      2018-2019  \n",
       "3      2018-2019  \n",
       "4      2018-2019  "
      ]
     },
     "execution_count": 30,
     "metadata": {},
     "output_type": "execute_result"
    }
   ],
   "source": [
    "df = pd.read_csv(f\"{DATA_PATH}\\modernslaveryregistry-2020-09-14.csv\")\n",
    "df.head()"
   ]
  },
  {
   "cell_type": "code",
   "execution_count": 31,
   "metadata": {},
   "outputs": [
    {
     "name": "stdout",
     "output_type": "stream",
     "text": [
      "Total enteries : 27531, total unique statements in main DB : 17799\n"
     ]
    }
   ],
   "source": [
    "UNIQUE_SIDs = np.unique(df['Statement ID'].values)\n",
    "TOTAL_UNIQUE_SIDs = len(UNIQUE_SIDs)\n",
    "print(f\"Total enteries : {len(df)}, \"\n",
    "      f\"total unique statements in main DB : {TOTAL_UNIQUE_SIDs}\")"
   ]
  },
  {
   "cell_type": "code",
   "execution_count": 32,
   "metadata": {},
   "outputs": [],
   "source": [
    "def get_pdf_url_from_sid(sid):\n",
    "    \"\"\"Returns PDF url for input sid.\"\"\"\n",
    "    return df[df['Statement ID']==sid]['URL'].values[0]"
   ]
  },
  {
   "cell_type": "code",
   "execution_count": 33,
   "metadata": {},
   "outputs": [],
   "source": [
    "def get_sid_from_filename(file_name):\n",
    "    \"\"\"Extract and return SID from file_name.\"\"\"\n",
    "    return int(re.findall(pattern=r\"[\\d]+\",string=path.basename(file_name))[0])"
   ]
  },
  {
   "cell_type": "code",
   "execution_count": 34,
   "metadata": {},
   "outputs": [],
   "source": [
    "def clean_text(text):\n",
    "    \"\"\"Clean and return input text.\"\"\"\n",
    "    text = text.replace(\"\\n\", \" \")\n",
    "    text = text.replace(\"\\t\", \" \")\n",
    "    special_char = [\"\\\\\", \"b'\"]\n",
    "    for char_ in special_char:\n",
    "        text = text.replace(char_, \" \")\n",
    "    cleaned_text = []\n",
    "    for word in text.split():\n",
    "        if len(word) > 1 or word.isdigit():\n",
    "            cleaned_text.append(word)\n",
    "    cleaned_text = \" \".join(cleaned_text) \n",
    "    return cleaned_text"
   ]
  },
  {
   "cell_type": "code",
   "execution_count": 35,
   "metadata": {},
   "outputs": [],
   "source": [
    "def save_text(text, sid):\n",
    "    \"\"\"Save text in text file.\"\"\"\n",
    "    file_name = f\"SID-{sid}\" \n",
    "    file_obj = open(f\"{TEXT_PATH}//{file_name}.txt\", 'w', encoding='utf-8')\n",
    "    file_obj.write(text)\n",
    "    file_obj.close()"
   ]
  },
  {
   "cell_type": "code",
   "execution_count": 36,
   "metadata": {},
   "outputs": [],
   "source": [
    "def save_slavery_text(text, sid):\n",
    "    \"\"\"Save text in text file.\"\"\"\n",
    "    file_name = f\"SID-{sid}\" \n",
    "    file_obj = open(f\"{SLAVERY_TEXT_PATH}//{file_name}.txt\", 'w', encoding='utf-8')\n",
    "    file_obj.write(text)\n",
    "    file_obj.close()"
   ]
  },
  {
   "cell_type": "code",
   "execution_count": 75,
   "metadata": {},
   "outputs": [],
   "source": [
    "def print_loop_no(total_sids, sid, itr, type_, type_itr):\n",
    "    \"\"\"Print loop statements.\"\"\"\n",
    "    primary_text = f\"Running - {itr}/{total_sids} , SID - {sid}\"\n",
    "    if type_ == \"Success\":\n",
    "        primary_text = f\"{primary_text} - Success - {type_itr}\"\n",
    "    elif type_ == \"Failed\":\n",
    "        primary_text = f\"{primary_text} - Failed - {type_itr}\"\n",
    "    else:\n",
    "        primary_text = f\"{primary_text} - Processed - {type_itr}\"\n",
    "    if (itr + 1) % 1000 == 0: print(f\"{'-'*8} {primary_text} {'-'*8}\")        "
   ]
  },
  {
   "cell_type": "code",
   "execution_count": 38,
   "metadata": {},
   "outputs": [
    {
     "name": "stdout",
     "output_type": "stream",
     "text": [
      "Found 14640 text files\n"
     ]
    }
   ],
   "source": [
    "text_files = glob.glob(pathname=f\"{TEXT_PATH}\\\\*.txt\")\n",
    "TOTAL_TEXT_FILES = len(text_files)\n",
    "print(f\"Found {TOTAL_TEXT_FILES} text files\")"
   ]
  },
  {
   "cell_type": "code",
   "execution_count": 39,
   "metadata": {},
   "outputs": [],
   "source": [
    "def open_text_file(text_file_name):\n",
    "    \"\"\"Open text file.\"\"\"\n",
    "    return open(text_file_name, \"r\", encoding=\"utf8\")"
   ]
  },
  {
   "cell_type": "code",
   "execution_count": 40,
   "metadata": {},
   "outputs": [],
   "source": [
    "def is_modern_slavery_text(text):\n",
    "    \"\"\"Return True if text fulfils modern slavery statement conditions.\"\"\"\n",
    "    text = text.lower()\n",
    "    wanted_keywords = [\"slavery\", \"human trafficking\", \"child labour\"]\n",
    "    unwanted_keywords = [\"page not found\", \"403 forbidden\", \"404 not found\"]\n",
    "    text = re.sub('[^A-Za-z0-9]+', ' ', text) # removing special characters, ex. helps to identify human-trafficking\n",
    "    text = \" \".join(text.split())\n",
    "    if any([word in text for word in wanted_keywords]) and all([word not in text for word in unwanted_keywords]):\n",
    "        return True \n",
    "    return False"
   ]
  },
  {
   "cell_type": "code",
   "execution_count": 74,
   "metadata": {},
   "outputs": [],
   "source": [
    "slavery_text_SIDs = []\n",
    "non_slavery_text_SIDs = []"
   ]
  },
  {
   "cell_type": "code",
   "execution_count": 76,
   "metadata": {},
   "outputs": [
    {
     "name": "stdout",
     "output_type": "stream",
     "text": [
      "-------- Running - 999/14640 , SID - 11526 - Success - 746 --------\n",
      "-------- Running - 1999/14640 , SID - 13092 - Success - 1518 --------\n",
      "-------- Running - 2999/14640 , SID - 26834 - Success - 2314 --------\n",
      "-------- Running - 3999/14640 , SID - 28522 - Failed - 911 --------\n",
      "-------- Running - 4999/14640 , SID - 30485 - Failed - 1163 --------\n",
      "-------- Running - 5999/14640 , SID - 32527 - Success - 4651 --------\n",
      "-------- Running - 6999/14640 , SID - 34314 - Success - 5486 --------\n",
      "-------- Running - 7999/14640 , SID - 37626 - Failed - 1663 --------\n",
      "-------- Running - 8999/14640 , SID - 39608 - Success - 7140 --------\n",
      "-------- Running - 9999/14640 , SID - 40721 - Success - 8004 --------\n",
      "-------- Running - 10999/14640 , SID - 41837 - Success - 8852 --------\n",
      "-------- Running - 11999/14640 , SID - 42942 - Success - 9703 --------\n",
      "-------- Running - 12999/14640 , SID - 44060 - Success - 10549 --------\n",
      "-------- Running - 13999/14640 , SID - 9023 - Success - 11381 --------\n"
     ]
    }
   ],
   "source": [
    "for i, text_file_name in enumerate(text_files):\n",
    "    sid = get_sid_from_filename(file_name=text_file_name)\n",
    "    if sid not in slavery_text_SIDs +  non_slavery_text_SIDs:\n",
    "        text = open_text_file(text_file_name).read()\n",
    "        if is_modern_slavery_text(text):\n",
    "            save_slavery_text(text=text, sid=sid)\n",
    "            slavery_text_SIDs.append(sid)\n",
    "            print_loop_no(total_sids=TOTAL_TEXT_FILES,\n",
    "                                sid=sid, \n",
    "                                itr=i+1, \n",
    "                                type_=\"Success\",\n",
    "                                type_itr= len(slavery_text_SIDs))\n",
    "        else:\n",
    "            non_slavery_text_SIDs.append(sid)\n",
    "            print_loop_no(total_sids=TOTAL_TEXT_FILES,\n",
    "                                sid=sid, \n",
    "                                itr=i+1,\n",
    "                                type_=\"Failed\",\n",
    "                                type_itr= len(non_slavery_text_SIDs))\n",
    "    else:\n",
    "        print_loop_no(total_sids=TOTAL_TEXT_FILES,\n",
    "                            sid=sid,\n",
    "                            itr=i+1,\n",
    "                            type_=\"Processed\", \n",
    "                            type_itr= len(slavery_text_SIDs) + len(non_slavery_text_SIDs))"
   ]
  },
  {
   "cell_type": "code",
   "execution_count": 77,
   "metadata": {},
   "outputs": [
    {
     "name": "stdout",
     "output_type": "stream",
     "text": [
      "Total slavery statements : 11885\n",
      "Total non-slavery statements : 2755\n",
      "Total statements : 14640\n"
     ]
    }
   ],
   "source": [
    "print(f\"Total slavery statements : {len(slavery_text_SIDs)}\")\n",
    "print(f\"Total non-slavery statements : {len(non_slavery_text_SIDs)}\")\n",
    "print(f\"Total statements : {len(slavery_text_SIDs)+len(non_slavery_text_SIDs)}\")"
   ]
  },
  {
   "cell_type": "code",
   "execution_count": 78,
   "metadata": {},
   "outputs": [],
   "source": [
    "pickle_name = \"slavery_text_SIDs\"\n",
    "save_pickle(obj=slavery_text_SIDs,file_name= f\"{PICKLE_PATH}//{pickle_name}\")\n",
    "\n",
    "pickle_name = \"non_slavery_text_SIDs\"\n",
    "save_pickle(obj=non_slavery_text_SIDs,file_name= f\"{PICKLE_PATH}//{pickle_name}\")"
   ]
  },
  {
   "cell_type": "code",
   "execution_count": 47,
   "metadata": {},
   "outputs": [
    {
     "name": "stdout",
     "output_type": "stream",
     "text": [
      "SID - 12902\n"
     ]
    },
    {
     "data": {
      "text/plain": [
       "\"Modern Slavery Act JavaScript seems to be disabled in your browser. You must have JavaScript enabled in your browser to utilize the functionality of this website. Login/Register Pharmacy Finder Search: Search My Account My Cart Checkout Flu Vaccinations My Pharmacy My Pharmacy Services Careers My Prescription My Medicine Re-order Pad Paperless Prescriptions My Health Key Services Flu Vaccinations Travel Clinic Health A-Z Health News About Day Lewis About Day Lewis Other Business Activities Careers Executive Directors' Review Contact us Contact Day Lewis Contact My Pharmacy Covid-19 Day Lewis Slavery and Human Trafficking Statement Organization Structure and Business Activities. Day Lewis PLC is a family company based in Croydon, Surrey. It is the holding company of a number of subsidiaries and is owned and managed by three members of the Patel family, each of whom is an Executive Director. Day Lewis PLC operates two principle businesses and several small subsidiary businesses, all of w\""
      ]
     },
     "execution_count": 47,
     "metadata": {},
     "output_type": "execute_result"
    }
   ],
   "source": [
    "# Checking random slavery statement\n",
    "sid = np.random.choice(slavery_text_SIDs)\n",
    "print(f\"SID - {sid}\")\n",
    "open_text_file(f\"{SLAVERY_TEXT_PATH}\\\\SID-{sid}.txt\").read()[:1000]"
   ]
  },
  {
   "cell_type": "code",
   "execution_count": 46,
   "metadata": {},
   "outputs": [
    {
     "name": "stdout",
     "output_type": "stream",
     "text": [
      "SID - 42226\n"
     ]
    },
    {
     "data": {
      "text/plain": [
       "'KM_C227-20190404093859'"
      ]
     },
     "execution_count": 46,
     "metadata": {},
     "output_type": "execute_result"
    }
   ],
   "source": [
    "# Checking random non slavery statement\n",
    "sid = np.random.choice(non_slavery_text_SIDs)\n",
    "print(f\"SID - {sid}\")\n",
    "open_text_file(f\"{TEXT_PATH}\\\\SID-{sid}.txt\").read()[:1000]"
   ]
  },
  {
   "cell_type": "code",
   "execution_count": null,
   "metadata": {},
   "outputs": [],
   "source": [
    "# ## Second batch\n",
    "# second_batch_SIDs = [sid for sid in UNIQUE_SIDs if sid not in slavery_text_SIDs and sid not in pdf_not_found_SIDs]\n",
    "# print(f\"Total SIDs left : {len(second_batch_SIDs)}\")\n",
    "\n",
    "# pickle_name = \"leftover_pdf_to_downloads_SIDs\"\n",
    "# save_pickle(obj=second_batch_SIDs,file_name= f\"{PICKLE_PATH}//{pickle_name}\")"
   ]
  },
  {
   "cell_type": "code",
   "execution_count": null,
   "metadata": {},
   "outputs": [],
   "source": []
  },
  {
   "cell_type": "code",
   "execution_count": 24,
   "metadata": {},
   "outputs": [
    {
     "name": "stdout",
     "output_type": "stream",
     "text": [
      "SID - 24940- http://www.writtle.com/wp-content/uploads/2017/11/Modern-Slavery-Act-Statement.pdf\n"
     ]
    },
    {
     "data": {
      "text/plain": [
       "'Modern Slavery Act Statement Section 54(1) of the Modern Slavery Act 2015 requires any organisation operating in any sector, which supplies goods and services, and carries on a business or part of a business in the UK, with an annual turnover of £36 million or more, to publish an annual slavery and human trafficking statement. This statement constitutes Writtle group’s slavery and human trafficking statement for the group’s financial year ending 31 December 2016. Writtle is a UK-centred marketing services group with an international client base. The group directly employs over 600 people across 12 operating companies in the UK and Hong Kong. We do not tolerate any form of slavery or human trafficking in any part of our business or in our supply chain and we will never knowingly deal with any organisation which is connected to slavery or human trafficking. Given the location of our business and supply chain, and the nature of the goods and services that we provide, we consider that we are at a very low risk of exposure to slavery and human trafficking. We are not aware of any areas of our operations and supply chain likely to lead to a breach of the Modern Slavery Act 2015. Our policies and procedures are being reviewed and updated to specifically reference slavery and human trafficking. We aim to: • Educate relevant members of staff on the risks and issues of slavery and human trafficking; • Identify and assess potential risk areas in our supply chains; • Mitigate any risk of slavery and human trafficking occurring in our supply chains; • Continually monitor any such risk areas in our supply chains; • Protect whistle blowers. Robert Essex Chairman'"
      ]
     },
     "execution_count": 24,
     "metadata": {},
     "output_type": "execute_result"
    }
   ],
   "source": [
    "sid = 24940\n",
    "print(f\"SID - {sid}- {get_pdf_url_from_sid(sid)}\")\n",
    "open_text_file(f\"{SLAVERY_TEXT_PATH}\\\\SID-{sid}.txt\").read()"
   ]
  },
  {
   "cell_type": "markdown",
   "metadata": {},
   "source": [
    "# To get idea about how many words on average in slavery statement"
   ]
  },
  {
   "cell_type": "code",
   "execution_count": 48,
   "metadata": {},
   "outputs": [],
   "source": [
    "sum_lengths = 0\n",
    "for sid in slavery_text_SIDs:\n",
    "    text = open_text_file(f\"{SLAVERY_TEXT_PATH}\\\\SID-{sid}.txt\").read()\n",
    "    sum_lengths += len(text.split())"
   ]
  },
  {
   "cell_type": "code",
   "execution_count": 51,
   "metadata": {},
   "outputs": [
    {
     "name": "stdout",
     "output_type": "stream",
     "text": [
      "Average words in slavery statements : 1227\n"
     ]
    }
   ],
   "source": [
    "print(f\"Average words in slavery statements : {int(sum_lengths/len(slavery_text_SIDs))}\")"
   ]
  },
  {
   "cell_type": "code",
   "execution_count": 79,
   "metadata": {},
   "outputs": [
    {
     "name": "stdout",
     "output_type": "stream",
     "text": [
      "1000/11885\n",
      "2000/11885\n",
      "3000/11885\n",
      "4000/11885\n",
      "5000/11885\n",
      "6000/11885\n",
      "7000/11885\n",
      "8000/11885\n",
      "9000/11885\n",
      "10000/11885\n",
      "11000/11885\n"
     ]
    }
   ],
   "source": [
    "# removing statements with words less than threshold number of words\n",
    "threshold_num_words = 100\n",
    "filtered_slavery_text_SIDs = []\n",
    "for i, sid in enumerate(slavery_text_SIDs):\n",
    "    if (i+1)%1000==0: print(f\"{i+1}/{len(slavery_text_SIDs)}\")\n",
    "    text = open_text_file(f\"{SLAVERY_TEXT_PATH}\\\\SID-{sid}.txt\").read()\n",
    "    if len(text.split()) > 100:\n",
    "        filtered_slavery_text_SIDs.append(sid)"
   ]
  },
  {
   "cell_type": "code",
   "execution_count": 80,
   "metadata": {},
   "outputs": [
    {
     "name": "stdout",
     "output_type": "stream",
     "text": [
      "Remove 112 SIDs\n"
     ]
    }
   ],
   "source": [
    "# removing slavery statements with words less than threshold number of words\n",
    "remove_slavery_texts_SIDs = [sid for sid in slavery_text_SIDs if sid not in filtered_slavery_text_SIDs]\n",
    "print(f\"Remove {len(remove_slavery_texts_SIDs)} SIDs\")"
   ]
  },
  {
   "cell_type": "code",
   "execution_count": 81,
   "metadata": {},
   "outputs": [],
   "source": [
    "for sid in remove_slavery_texts_SIDs:\n",
    "    remove(f\"{SLAVERY_TEXT_PATH}//SID-{sid}.txt\")"
   ]
  },
  {
   "cell_type": "code",
   "execution_count": 82,
   "metadata": {},
   "outputs": [
    {
     "name": "stdout",
     "output_type": "stream",
     "text": [
      "Final number of slavery statements : 11773, 11773\n"
     ]
    }
   ],
   "source": [
    "t = len(glob.glob(f\"{SLAVERY_TEXT_PATH}//*.txt\"))\n",
    "print(f\"Final number of slavery statements : {t}, {len(filtered_slavery_text_SIDs)}\")"
   ]
  },
  {
   "cell_type": "markdown",
   "metadata": {},
   "source": [
    "# Summary Statistics"
   ]
  },
  {
   "cell_type": "code",
   "execution_count": 92,
   "metadata": {},
   "outputs": [],
   "source": [
    "pdf_not_found_SIDs = load_pickle(f\"{PICKLE_PATH}//pdf_not_found_SIDs\")\n",
    "failed_SIDs = [sid for sid in df['Statement ID'].drop_duplicates().values if sid not in pdf_not_found_SIDs + filtered_slavery_text_SIDs]\n",
    "len_pdf_not_found_SIDs = len(pdf_not_found_SIDs)\n",
    "len_failed_SIDs = len(failed_SIDs)"
   ]
  },
  {
   "cell_type": "code",
   "execution_count": 93,
   "metadata": {},
   "outputs": [
    {
     "name": "stdout",
     "output_type": "stream",
     "text": [
      "Successful slavery statements : 11773\n",
      "PDF not found                 : 2471\n",
      "PDF failed extraction         : 3555\n"
     ]
    }
   ],
   "source": [
    "print(f\"Successful slavery statements : {len(filtered_slavery_text_SIDs)}\")\n",
    "print(f\"PDF not found                 : {len(pdf_not_found_SIDs)}\")\n",
    "print(f\"PDF failed extraction         : {len(failed_SIDs)}\")"
   ]
  },
  {
   "cell_type": "code",
   "execution_count": 94,
   "metadata": {},
   "outputs": [
    {
     "data": {
      "text/plain": [
       "17799"
      ]
     },
     "execution_count": 94,
     "metadata": {},
     "output_type": "execute_result"
    }
   ],
   "source": [
    "11773 + 2471 + 3555"
   ]
  },
  {
   "cell_type": "code",
   "execution_count": 95,
   "metadata": {},
   "outputs": [
    {
     "data": {
      "text/plain": [
       "17799"
      ]
     },
     "execution_count": 95,
     "metadata": {},
     "output_type": "execute_result"
    }
   ],
   "source": [
    "len(df['Statement ID'].drop_duplicates().values)"
   ]
  },
  {
   "cell_type": "markdown",
   "metadata": {},
   "source": [
    "# Compiling into CSV"
   ]
  },
  {
   "cell_type": "code",
   "execution_count": 99,
   "metadata": {},
   "outputs": [],
   "source": [
    "filtered_slavery_text = {}\n",
    "for sid in filtered_slavery_text_SIDs:\n",
    "    filtered_slavery_text[sid] = open_text_file(f\"{SLAVERY_TEXT_PATH}\\\\SID-{sid}.txt\").read()"
   ]
  },
  {
   "cell_type": "code",
   "execution_count": 120,
   "metadata": {},
   "outputs": [],
   "source": [
    "filtered_slavery_text_df = pd.Series(filtered_slavery_text).reset_index()\n",
    "filtered_slavery_text_df.columns = ['Statement ID', 'statement']\n",
    "final_df = pd.merge(df, filtered_slavery_text_df, on=\"Statement ID\", how=\"left\")\n",
    "final_df['statement'].fillna(\"#N/A\", inplace=True)\n",
    "final_df.to_excel(f\"{SHEETS_PATH}//modern_slavery_statements.xlsx\", index=False)"
   ]
  },
  {
   "cell_type": "code",
   "execution_count": 121,
   "metadata": {},
   "outputs": [
    {
     "data": {
      "text/plain": [
       "11773"
      ]
     },
     "execution_count": 121,
     "metadata": {},
     "output_type": "execute_result"
    }
   ],
   "source": [
    "len(filtered_slavery_text_df)"
   ]
  },
  {
   "cell_type": "code",
   "execution_count": 122,
   "metadata": {},
   "outputs": [
    {
     "data": {
      "text/plain": [
       "11773"
      ]
     },
     "execution_count": 122,
     "metadata": {},
     "output_type": "execute_result"
    }
   ],
   "source": [
    "len([sid for sid in df['Statement ID'].drop_duplicates().values if sid in filtered_slavery_text_SIDs])"
   ]
  },
  {
   "cell_type": "code",
   "execution_count": 123,
   "metadata": {},
   "outputs": [
    {
     "data": {
      "text/plain": [
       "Company ID                                       int64\n",
       "Company                                         object\n",
       "Is Publisher                                      bool\n",
       "Statement ID                                     int64\n",
       "URL                                             object\n",
       "Override URL                                    object\n",
       "Companies House Number                          object\n",
       "Industry                                        object\n",
       "HQ                                              object\n",
       "Is Also Covered                                   bool\n",
       "UK Modern Slavery Act                             bool\n",
       "California Transparency in Supply Chains Act      bool\n",
       "Australia Modern Slavery Act                      bool\n",
       "Period Covered                                  object\n",
       "dtype: object"
      ]
     },
     "execution_count": 123,
     "metadata": {},
     "output_type": "execute_result"
    }
   ],
   "source": [
    "df.dtypes"
   ]
  },
  {
   "cell_type": "code",
   "execution_count": 135,
   "metadata": {},
   "outputs": [
    {
     "data": {
      "text/html": [
       "<div>\n",
       "<style scoped>\n",
       "    .dataframe tbody tr th:only-of-type {\n",
       "        vertical-align: middle;\n",
       "    }\n",
       "\n",
       "    .dataframe tbody tr th {\n",
       "        vertical-align: top;\n",
       "    }\n",
       "\n",
       "    .dataframe thead th {\n",
       "        text-align: right;\n",
       "    }\n",
       "</style>\n",
       "<table border=\"1\" class=\"dataframe\">\n",
       "  <thead>\n",
       "    <tr style=\"text-align: right;\">\n",
       "      <th></th>\n",
       "      <th>Statement ID</th>\n",
       "      <th>statement</th>\n",
       "    </tr>\n",
       "  </thead>\n",
       "  <tbody>\n",
       "    <tr>\n",
       "      <th>5337</th>\n",
       "      <td>34139</td>\n",
       "      <td>Safeguarding against modern slavery | Seetec A...</td>\n",
       "    </tr>\n",
       "    <tr>\n",
       "      <th>10166</th>\n",
       "      <td>43687</td>\n",
       "      <td>Safeguarding against modern slavery | Seetec A...</td>\n",
       "    </tr>\n",
       "  </tbody>\n",
       "</table>\n",
       "</div>"
      ],
      "text/plain": [
       "       Statement ID                                          statement\n",
       "5337          34139  Safeguarding against modern slavery | Seetec A...\n",
       "10166         43687  Safeguarding against modern slavery | Seetec A..."
      ]
     },
     "execution_count": 135,
     "metadata": {},
     "output_type": "execute_result"
    }
   ],
   "source": [
    "filtered_slavery_text_df[filtered_slavery_text_df['statement'] == filtered_slavery_text_df['statement'].iloc[10166]]"
   ]
  },
  {
   "cell_type": "code",
   "execution_count": 139,
   "metadata": {},
   "outputs": [
    {
     "data": {
      "text/plain": [
       "'https://www.seetec.co.uk/modern-slavery-statement'"
      ]
     },
     "execution_count": 139,
     "metadata": {},
     "output_type": "execute_result"
    }
   ],
   "source": [
    "get_pdf_url_from_sid(43687)"
   ]
  },
  {
   "cell_type": "code",
   "execution_count": 138,
   "metadata": {},
   "outputs": [
    {
     "data": {
      "text/plain": [
       "array([\"Safeguarding against modern slavery | Seetec An Employee Owned Company About Our Story Social Values Our People Accreditations Insights Partners Careers Contact Find a Centre Media Enquiries Complaints Contact Us Group Skills Employability Group Pluss Ireland Justice Modern Slavery Statement Introduction The UK Modern Slavery Act 2015 (the ‘Act’) requires businesses to state the actions they have taken during the financial year to ensure modern slavery is not taking place in their operations and supply chains. The Seetec Group is committed to developing its’ social and environmental responsibilities and are fully committed to playing our part in eradicating modern slavery. We advocate for transparency and collaboration to eliminate the risks of modern slavery and ensure that we take appropriate action where necessary. The Company’s committed to operating and promoting ethical and lawful business practices within the workplace. This is evidenced through our Investors in People Gold accreditation, IIP Health and Wellbeing award, Merlin and a Certified B Corporation®, ISO45001 (ISO accredited Occupational health and safety standard) ISO 14001 (minimising environmental impact) and we are a Disability Confident Leader and Real Living Wage employer. This statement refers to the financial year ending 31st March 2020 and relates to all businesses operating as part of the Group across the UK and Republic of Ireland during this time. It sets out the steps taken by Seetec to prevent modern slavery and human trafficking in our own operations and supply chains. Our Business areas and supply chains Seetec Group is a Public and Business Services provider and operates across the UK and in the Republic of Ireland. The Group consists of Seetec Business Technology Centre Ltd, Seetec Employment and Skills Ireland DAC, Seetec Pluss Ltd, Seetec Outsource Training and Skills Ltd, Pluss Community Interest Company and Kent, Surrey and Sussex Community Rehabilitation Company Ltd. The organisation undertakes due diligence when considering taking on new suppliers, and regularly reviews its existing suppliers. The organisation's due diligence and reviews include: Conducting supplier audits and / or assessments where general risks are identified Taking steps to improve suppliers' practices, including providing advice to suppliers and requiring them to implement action plans Invoking contractual remedies against suppliers that fail to improve their performance in line with their contractual requirements and / or any agreed action plan or seriously violate our supplier code of conduct, including the termination of the business relationship. Responsibility and Policies Responsibility for the organisation's Corporate Social Responsibility initiatives, which includes anti-slavery, sits with the Group Executive Board and corporate risks are regularly reviewed by the Audit, Risk and Assurance Committee. Our approach to addressing modern slavery is supported by a number of organisational policies and we take any breach of our policies or allegations extremely seriously. In the last 12 months there have been no reported incidents in relation to modern slavery or human trafficking. Modern Slavery Policy – sets out our commitment to preventing modern slavery or human trafficking in the delivery of our service and full support in the promotion of ethical and lawful business practices within the workplace. Whistleblowing policy- encourages all its workers, customers and other business partners to report any concerns related to the direct activities, or the supply chains of, the organisation. This includes any circumstances that may give rise to an enhanced risk of slavery or human trafficking. Employee code of conduct - makes clear to employees the actions and behaviour expected of them when representing the organisation. The organisation strives to maintain the highest standards of employee conduct and ethical behaviour. Our engagement process, Due Diligence, Contracts and Supply Chain Management Framework set out our commitment to ensuring that our supply chain adheres to the highest standards of ethics. Suppliers are required to demonstrate that they provide safe working conditions where necessary, treat their workers with dignity and respect, and act ethically and within the law at all times. The organisation works collaboratively with supply chain partners to ensure that they meet these and improve where required. However, serious violations of our code of conduct will lead to the termination of the business relationship. HR Vetting and Compliance Policy – specifies that we use only reputable employment agencies and always verify the practices of any new agency before accepting workers from that agency. All employees, contractors and agency workers have their right to work in the UK verified. As an organisation we ensure that we adhere to legislation in relation to minimum age requirements, wages and the Working Time Directive. Safeguarding Policy- outlines our commitment to providing a safe environment for our workforce and customers and the routes to escalate issues. We also have nominated safeguarding leads across the whole organisation to provide support and we operate a dedicated confidential Safeguarding phone line for external learners to report any causes for concern. Training We believe that awareness is one of our most effective methods to reduce the risk of modern slavery. Seetec requires all employees working within the organisation to complete training on our organisational policies. New employees complete our e-learning induction programme; this includes a safeguarding module which highlights the importance of recognising Modern Slavery. Further training is provided by our Learning and Development team who deliver modern slavery workshops which aim to enable employees to - Define Modern Slavery Recognise the types of individuals who might be at risk of becoming a victim of modern slavery Identify the warning signs of someone who is a victim of modern slavery Know where to signpost individuals to for help and support We continue to strengthen employee awareness of our stance on slavery and human trafficking through articles on our internal communications channels. In addition, as part of our compliance review process, we have conducted site visits with our Supply Chain Partners to review their compliance against policies and regulations and where gaps have been identified, worked with them to manage action plans to address any such gaps. Looking Ahead Over the course of the next financial year we will continue to raise awareness and understanding the risk of modern-day slavery within our business and enhance our procedures to help us identify, prevent and mitigate any risks of modern slavery or human trafficking in relation to new and existing suppliers. This statement has been formally approved by the Seetec’s Group Executive Board and signed on their behalf. Director's signature: John Baumback Group Chief Executive Officer Follow us Organisation Our Story Social Values Our People Accreditations Sitemap Contact Find a Centre Contact Us Group Employer Services Employability Pluss Ireland Justice Kent, Surrey & Sussex CRC Portals Customer Partnership Opportunities Partner Legal Gender Pay Gap Reporting Whistleblowing Policy Privacy Notice Safeguarding Mission Statement Environmental Policy Modern Slavery Statement Cookie Policy Registered Office: Main Road, Hockley, Essex, SS5 4RG Company Registration No: 2291188 VAT Registration No: GB507 510475 © 2020 Seetec. All Rights Reserved.\"],\n",
       "      dtype=object)"
      ]
     },
     "execution_count": 138,
     "metadata": {},
     "output_type": "execute_result"
    }
   ],
   "source": [
    "final_df[final_df['Statement ID']==34139]['statement'].values"
   ]
  },
  {
   "cell_type": "code",
   "execution_count": null,
   "metadata": {},
   "outputs": [],
   "source": [
    "final_df"
   ]
  }
 ],
 "metadata": {
  "kernelspec": {
   "display_name": "modern-slavery",
   "language": "python",
   "name": "modern-slavery"
  },
  "language_info": {
   "codemirror_mode": {
    "name": "ipython",
    "version": 3
   },
   "file_extension": ".py",
   "mimetype": "text/x-python",
   "name": "python",
   "nbconvert_exporter": "python",
   "pygments_lexer": "ipython3",
   "version": "3.8.5"
  }
 },
 "nbformat": 4,
 "nbformat_minor": 4
}
