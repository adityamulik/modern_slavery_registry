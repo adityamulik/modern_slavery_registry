{
 "cells": [
  {
   "cell_type": "code",
   "execution_count": null,
   "metadata": {},
   "outputs": [],
   "source": [
    "# use if autocompletion is not working\n",
    "%config Completer.use_jedi = False"
   ]
  },
  {
   "cell_type": "code",
   "execution_count": 2,
   "metadata": {},
   "outputs": [],
   "source": [
    "%load_ext autoreload\n",
    "%autoreload 2"
   ]
  },
  {
   "cell_type": "code",
   "execution_count": 4,
   "metadata": {
    "id": "l7WeR-r6uf4x"
   },
   "outputs": [],
   "source": [
    "import pandas as pd\n",
    "from sklearn.feature_extraction.text import (CountVectorizer)\n",
    "from sklearn.decomposition import LatentDirichletAllocation\n",
    "from matplotlib.ticker import MaxNLocator\n",
    "import numpy as np\n",
    "from os import getcwd, path\n",
    "import os\n",
    "from tqdm.autonotebook import tqdm\n",
    "\n",
    "#https://www.machinelearningplus.com/nlp/topic-modeling-gensim-python/\n",
    "# Gensim\n",
    "import gensim\n",
    "import gensim.corpora as corpora\n",
    "\n",
    "# plotting\n",
    "from matplotlib import pyplot as plt\n",
    "\n",
    "import json\n",
    "from typing import Dict"
   ]
  },
  {
   "cell_type": "code",
   "execution_count": 5,
   "metadata": {},
   "outputs": [],
   "source": [
    "from modern_slavery_registry.utils import (\n",
    "    dump_pickle,\n",
    "    load_pickle)"
   ]
  },
  {
   "cell_type": "code",
   "execution_count": 6,
   "metadata": {},
   "outputs": [],
   "source": [
    "RANDOM_STATE = 40"
   ]
  },
  {
   "cell_type": "markdown",
   "metadata": {},
   "source": [
    "## Loading data with final cleaned statements"
   ]
  },
  {
   "cell_type": "code",
   "execution_count": 7,
   "metadata": {},
   "outputs": [],
   "source": [
    "PROJECT_PATH = getcwd().replace(\n",
    "    path.basename(getcwd()), \"\")\n",
    "DATA_PATH = path.join(PROJECT_PATH, \"data\")\n",
    "MODEL_SAVE_PATH = path.join(PROJECT_PATH, \"models\")\n",
    "SHEETS_PATH = path.join(DATA_PATH, \"sheets\")\n",
    "PICKLE_PATH = path.join(DATA_PATH, \"pickles\")"
   ]
  },
  {
   "cell_type": "code",
   "execution_count": 7,
   "metadata": {
    "id": "19-wl6Uw8GLu"
   },
   "outputs": [
    {
     "name": "stdout",
     "output_type": "stream",
     "text": [
      "Found 9993 non-NA statements\n"
     ]
    }
   ],
   "source": [
    "data = pd.read_excel(f\"{SHEETS_PATH}\\\\subset_data.xlsx\")\n",
    "data.fillna(\"#NA\", inplace=True)\n",
    "data = data[[\"URL\", \"final_statement_cleaned\"]]\n",
    "n_sentences = len(data)\n",
    "print(f\"Found {n_sentences} non-NA statements\")"
   ]
  },
  {
   "cell_type": "code",
   "execution_count": 8,
   "metadata": {
    "colab": {
     "base_uri": "https://localhost:8080/",
     "height": 289
    },
    "id": "jSU34WKL8ctQ",
    "outputId": "63b715fb-d36a-4718-9114-3a5b13b01375"
   },
   "outputs": [
    {
     "data": {
      "text/html": [
       "<div>\n",
       "<style scoped>\n",
       "    .dataframe tbody tr th:only-of-type {\n",
       "        vertical-align: middle;\n",
       "    }\n",
       "\n",
       "    .dataframe tbody tr th {\n",
       "        vertical-align: top;\n",
       "    }\n",
       "\n",
       "    .dataframe thead th {\n",
       "        text-align: right;\n",
       "    }\n",
       "</style>\n",
       "<table border=\"1\" class=\"dataframe\">\n",
       "  <thead>\n",
       "    <tr style=\"text-align: right;\">\n",
       "      <th></th>\n",
       "      <th>URL</th>\n",
       "      <th>final_statement_cleaned</th>\n",
       "    </tr>\n",
       "  </thead>\n",
       "  <tbody>\n",
       "    <tr>\n",
       "      <th>0</th>\n",
       "      <td>https://img1.wsimg.com/blobby/go/7695baff-3f0f...</td>\n",
       "      <td>66 99 km sh foor eum hold europe ltd 200 alder...</td>\n",
       "    </tr>\n",
       "    <tr>\n",
       "      <th>1</th>\n",
       "      <td>https://1spatial.com/who-we-are/legal/modern-s...</td>\n",
       "      <td>modern slavery act policy statement home solut...</td>\n",
       "    </tr>\n",
       "    <tr>\n",
       "      <th>2</th>\n",
       "      <td>https://www.shazans.com/slavery-and-human-traf...</td>\n",
       "      <td>slavery human traffic statement shazans shazan...</td>\n",
       "    </tr>\n",
       "    <tr>\n",
       "      <th>3</th>\n",
       "      <td>https://www.business-humanrights.org/sites/def...</td>\n",
       "      <td>28 2019 modern slavery statement 2018 make pur...</td>\n",
       "    </tr>\n",
       "    <tr>\n",
       "      <th>4</th>\n",
       "      <td>https://www.2agriculture.com/wp-content/upload...</td>\n",
       "      <td>fh modern slavery act 2015 human traffic state...</td>\n",
       "    </tr>\n",
       "  </tbody>\n",
       "</table>\n",
       "</div>"
      ],
      "text/plain": [
       "                                                 URL  \\\n",
       "0  https://img1.wsimg.com/blobby/go/7695baff-3f0f...   \n",
       "1  https://1spatial.com/who-we-are/legal/modern-s...   \n",
       "2  https://www.shazans.com/slavery-and-human-traf...   \n",
       "3  https://www.business-humanrights.org/sites/def...   \n",
       "4  https://www.2agriculture.com/wp-content/upload...   \n",
       "\n",
       "                             final_statement_cleaned  \n",
       "0  66 99 km sh foor eum hold europe ltd 200 alder...  \n",
       "1  modern slavery act policy statement home solut...  \n",
       "2  slavery human traffic statement shazans shazan...  \n",
       "3  28 2019 modern slavery statement 2018 make pur...  \n",
       "4  fh modern slavery act 2015 human traffic state...  "
      ]
     },
     "execution_count": 8,
     "metadata": {},
     "output_type": "execute_result"
    }
   ],
   "source": [
    "data.head()"
   ]
  },
  {
   "cell_type": "markdown",
   "metadata": {},
   "source": [
    "## Generating TRIGRAMS explicitly, not using Gensim NGRAMS - works like a black-box"
   ]
  },
  {
   "cell_type": "code",
   "execution_count": 9,
   "metadata": {},
   "outputs": [
    {
     "data": {
      "application/vnd.jupyter.widget-view+json": {
       "model_id": "0a79ef7091c244b180f5bce21c73adfb",
       "version_major": 2,
       "version_minor": 0
      },
      "text/plain": [
       "  0%|          | 0/9993 [00:00<?, ?it/s]"
      ]
     },
     "metadata": {},
     "output_type": "display_data"
    }
   ],
   "source": [
    "NGRAMS = (1, 3)\n",
    "ngrams_from_sentences = []\n",
    "\n",
    "for sentence in tqdm(data[\"final_statement_cleaned\"].values):\n",
    "    sentence = sentence.split()\n",
    "    ngrams_from_sentence = []\n",
    "    len_sentence = len(sentence)\n",
    "    for n in range(NGRAMS[0], NGRAMS[1]+1):\n",
    "        for i in range(len_sentence-n + 1):\n",
    "            ngrams_from_sentence.append(\" \".join(sentence[i:i+n]))\n",
    "    #     # preparing ngrams at end of sentence\n",
    "    #     for i in range(len_sentence-ngram+1, len_sentence):\n",
    "    #         ngram_sentence.append(\" \".join(\n",
    "    #             sentence[i:] + [\"$PAD$\"] * (ngram -  len(sentence[i :]))))\n",
    "    ngrams_from_sentences.append(ngrams_from_sentence)"
   ]
  },
  {
   "cell_type": "code",
   "execution_count": 11,
   "metadata": {},
   "outputs": [
    {
     "name": "stdout",
     "output_type": "stream",
     "text": [
      "['66', '99', 'km', 'sh', 'foor', 'eum', 'hold', 'europe', 'ltd', '200', 'aldersgate', 'street', 'london', 'ecia', '4hd', 'tel', '020', '7382', '6500', 'mail', 'keulongen', 'uk', 'kline', 'com', 'modern', 'slavery', 'act', 'transparency', 'statement', 'crane', 'lineure', 'eee', 'publish', '22', 'march', '2019', '2015', 'require', 'large', 'entity', 'carry', 'business', 'publish', 'detail', 'effort', 'combat', 'human', 'traffic', 'day', 'relate', 'action', 'activity', 'financial', 'year', 'april', '2018', '31', 'part', 'ship', 'industry', 'group', 'recognize', 'responsibility', 'take', 'robust', 'approach', 'absolutely', 'commit', 'prevent', 'corporate', 'ensure', 'supply', 'chain', 'free', 'organizational', 'structure', 'global', 'entity', 'headquarter', 'tokyo', 'japan', 'network', 'office', 'around', 'globe', 'include', 'united', 'kingdom', 'comprise', 'bulk', 'lng', 'polar', 'unit', 'include', 'car', 'carrier', 'dry', 'management', 'operation', 'train', 'relevant', 'policy', 'charter', 'conduct', 'company', 'adhere', 'emphasizes', 'due', 'respect', 'right', 'compliance', 'applicable', 'law', 'ordinance', 'rule', 'abides', 'labor', 'regulation', 'tolerate', 'child', 'force', 'present', 'new', 'staff', 'full', 'view', 'whistleblowing', 'policy', 'organization', 'encourage', 'worker', 'customer', 'partner', 'report', 'concern', 'relate', 'direct', 'include', 'circumstance', 'may', 'give', 'rise', 'enhance', 'risk', 'whistieblowing', 'procedure', 'design', 'make', 'easy', 'disclosure', 'without', 'fear', 'retaliation', 'diligence', 'manage', 'part', 'chain', 'carry', 'inherent', 'risk', 'adverse', 'social', 'environmental', 'impact', 'less', 'oversight', 'control', 'work', 'condition', 'recruit', 'practice', 'would', 'ship', 'construction', 'dismantle', 'employment', 'subcontract', 'could', 'present', 'use', 'third', 'party', 'man', 'crew', 'agency', 'business', 'situation', 'site', 'visit', 'audit', 'type', 'process', 'formalize', 'assessment', 'employ', 'addition', 'directly', 'manage', 'relatively', 'sophisticated', 'sector', 'exposed', 'unsatisfactory', 'also', 'develop', 'guideline', 'detail', 'requirement', 'supplier', 'adherence', 'abolition', 'find', 'df', 'register', 'office', '6th', 'fioor', 'ec1a', 'company', 'england', 'ne', '5005018', 'awareness', 'raise', 'program', 'raise', 'issue', 'put', 'poster', 'across', 'premise', 'explain', 'basic', 'principle', 'external', 'help', 'available', 'example', 'helpline', 'note', 'transportation', 'must', 'already', 'ensure', 'vessel', 'use', 'illegal', 'purpose', 'people', 'engage', 'contractor', 'procedure', 'place', 'protect', 'activity', 'mr', 'akira', 'misaki', 'director', '66 99', '99 km', 'km sh', 'sh foor', 'foor eum', 'eum hold', 'hold europe', 'europe ltd', 'ltd 200', '200 aldersgate', 'aldersgate street', 'street london', 'london ecia', 'ecia 4hd', '4hd tel', 'tel 020', '020 7382', '7382 6500', '6500 mail', 'mail keulongen', 'keulongen uk', 'uk kline', 'kline com', 'com modern', 'modern slavery', 'slavery act', 'act transparency', 'transparency statement', 'statement crane', 'crane lineure', 'lineure eee', 'eee publish', 'publish 22', '22 march', 'march 2019', '2019 2015', '2015 require', 'require large', 'large entity', 'entity carry', 'carry business', 'business publish', 'publish detail', 'detail effort', 'effort combat', 'combat human', 'human traffic', 'traffic day', 'day relate', 'relate action', 'action activity', 'activity financial', 'financial year', 'year april', 'april 2018', '2018 31', '31 part', 'part ship', 'ship industry', 'industry group', 'group recognize', 'recognize responsibility', 'responsibility take', 'take robust', 'robust approach', 'approach absolutely', 'absolutely commit', 'commit prevent', 'prevent corporate', 'corporate ensure', 'ensure supply', 'supply chain', 'chain free', 'free organizational', 'organizational structure', 'structure global', 'global entity', 'entity headquarter', 'headquarter tokyo', 'tokyo japan', 'japan network', 'network office', 'office around', 'around globe', 'globe include', 'include united', 'united kingdom', 'kingdom comprise', 'comprise bulk', 'bulk lng', 'lng polar', 'polar unit', 'unit include', 'include car', 'car carrier', 'carrier dry', 'dry management', 'management operation', 'operation train', 'train relevant', 'relevant policy', 'policy charter', 'charter conduct', 'conduct company', 'company adhere', 'adhere emphasizes', 'emphasizes due', 'due respect', 'respect right', 'right compliance', 'compliance applicable', 'applicable law', 'law ordinance', 'ordinance rule', 'rule abides', 'abides labor', 'labor regulation', 'regulation tolerate', 'tolerate child', 'child force', 'force present', 'present new', 'new staff', 'staff full', 'full view', 'view whistleblowing', 'whistleblowing policy', 'policy organization', 'organization encourage', 'encourage worker', 'worker customer', 'customer partner', 'partner report', 'report concern', 'concern relate', 'relate direct', 'direct include', 'include circumstance', 'circumstance may', 'may give', 'give rise', 'rise enhance', 'enhance risk', 'risk whistieblowing', 'whistieblowing procedure', 'procedure design', 'design make', 'make easy', 'easy disclosure', 'disclosure without', 'without fear', 'fear retaliation', 'retaliation diligence', 'diligence manage', 'manage part', 'part chain', 'chain carry', 'carry inherent', 'inherent risk', 'risk adverse', 'adverse social', 'social environmental', 'environmental impact', 'impact less', 'less oversight', 'oversight control', 'control work', 'work condition', 'condition recruit', 'recruit practice', 'practice would', 'would ship', 'ship construction', 'construction dismantle', 'dismantle employment', 'employment subcontract', 'subcontract could', 'could present', 'present use', 'use third', 'third party', 'party man', 'man crew', 'crew agency', 'agency business', 'business situation', 'situation site', 'site visit', 'visit audit', 'audit type', 'type process', 'process formalize', 'formalize assessment', 'assessment employ', 'employ addition', 'addition directly', 'directly manage', 'manage relatively', 'relatively sophisticated', 'sophisticated sector', 'sector exposed', 'exposed unsatisfactory', 'unsatisfactory also', 'also develop', 'develop guideline', 'guideline detail', 'detail requirement', 'requirement supplier', 'supplier adherence', 'adherence abolition', 'abolition find', 'find df', 'df register', 'register office', 'office 6th', '6th fioor', 'fioor ec1a', 'ec1a company', 'company england', 'england ne', 'ne 5005018', '5005018 awareness', 'awareness raise', 'raise program', 'program raise', 'raise issue', 'issue put', 'put poster', 'poster across', 'across premise', 'premise explain', 'explain basic', 'basic principle', 'principle external', 'external help', 'help available', 'available example', 'example helpline', 'helpline note', 'note transportation', 'transportation must', 'must already', 'already ensure', 'ensure vessel', 'vessel use', 'use illegal', 'illegal purpose', 'purpose people', 'people engage', 'engage contractor', 'contractor procedure', 'procedure place', 'place protect', 'protect activity', 'activity mr', 'mr akira', 'akira misaki', 'misaki director', '66 99 km', '99 km sh', 'km sh foor', 'sh foor eum', 'foor eum hold', 'eum hold europe', 'hold europe ltd', 'europe ltd 200', 'ltd 200 aldersgate', '200 aldersgate street', 'aldersgate street london', 'street london ecia', 'london ecia 4hd', 'ecia 4hd tel', '4hd tel 020', 'tel 020 7382', '020 7382 6500', '7382 6500 mail', '6500 mail keulongen', 'mail keulongen uk', 'keulongen uk kline', 'uk kline com', 'kline com modern', 'com modern slavery', 'modern slavery act', 'slavery act transparency', 'act transparency statement', 'transparency statement crane', 'statement crane lineure', 'crane lineure eee', 'lineure eee publish', 'eee publish 22', 'publish 22 march', '22 march 2019', 'march 2019 2015', '2019 2015 require', '2015 require large', 'require large entity', 'large entity carry', 'entity carry business', 'carry business publish', 'business publish detail', 'publish detail effort', 'detail effort combat', 'effort combat human', 'combat human traffic', 'human traffic day', 'traffic day relate', 'day relate action', 'relate action activity', 'action activity financial', 'activity financial year', 'financial year april', 'year april 2018', 'april 2018 31', '2018 31 part', '31 part ship', 'part ship industry', 'ship industry group', 'industry group recognize', 'group recognize responsibility', 'recognize responsibility take', 'responsibility take robust', 'take robust approach', 'robust approach absolutely', 'approach absolutely commit', 'absolutely commit prevent', 'commit prevent corporate', 'prevent corporate ensure', 'corporate ensure supply', 'ensure supply chain', 'supply chain free', 'chain free organizational', 'free organizational structure', 'organizational structure global', 'structure global entity', 'global entity headquarter', 'entity headquarter tokyo', 'headquarter tokyo japan', 'tokyo japan network', 'japan network office', 'network office around', 'office around globe', 'around globe include', 'globe include united', 'include united kingdom', 'united kingdom comprise', 'kingdom comprise bulk', 'comprise bulk lng', 'bulk lng polar', 'lng polar unit', 'polar unit include', 'unit include car', 'include car carrier', 'car carrier dry', 'carrier dry management', 'dry management operation', 'management operation train', 'operation train relevant', 'train relevant policy', 'relevant policy charter', 'policy charter conduct', 'charter conduct company', 'conduct company adhere', 'company adhere emphasizes', 'adhere emphasizes due', 'emphasizes due respect', 'due respect right', 'respect right compliance', 'right compliance applicable', 'compliance applicable law', 'applicable law ordinance', 'law ordinance rule', 'ordinance rule abides', 'rule abides labor', 'abides labor regulation', 'labor regulation tolerate', 'regulation tolerate child', 'tolerate child force', 'child force present', 'force present new', 'present new staff', 'new staff full', 'staff full view', 'full view whistleblowing', 'view whistleblowing policy', 'whistleblowing policy organization', 'policy organization encourage', 'organization encourage worker', 'encourage worker customer', 'worker customer partner', 'customer partner report', 'partner report concern', 'report concern relate', 'concern relate direct', 'relate direct include', 'direct include circumstance', 'include circumstance may', 'circumstance may give', 'may give rise', 'give rise enhance', 'rise enhance risk', 'enhance risk whistieblowing', 'risk whistieblowing procedure', 'whistieblowing procedure design', 'procedure design make', 'design make easy', 'make easy disclosure', 'easy disclosure without', 'disclosure without fear', 'without fear retaliation', 'fear retaliation diligence', 'retaliation diligence manage', 'diligence manage part', 'manage part chain', 'part chain carry', 'chain carry inherent', 'carry inherent risk', 'inherent risk adverse', 'risk adverse social', 'adverse social environmental', 'social environmental impact', 'environmental impact less', 'impact less oversight', 'less oversight control', 'oversight control work', 'control work condition', 'work condition recruit', 'condition recruit practice', 'recruit practice would', 'practice would ship', 'would ship construction', 'ship construction dismantle', 'construction dismantle employment', 'dismantle employment subcontract', 'employment subcontract could', 'subcontract could present', 'could present use', 'present use third', 'use third party', 'third party man', 'party man crew', 'man crew agency', 'crew agency business', 'agency business situation', 'business situation site', 'situation site visit', 'site visit audit', 'visit audit type', 'audit type process', 'type process formalize', 'process formalize assessment', 'formalize assessment employ', 'assessment employ addition', 'employ addition directly', 'addition directly manage', 'directly manage relatively', 'manage relatively sophisticated', 'relatively sophisticated sector', 'sophisticated sector exposed', 'sector exposed unsatisfactory', 'exposed unsatisfactory also', 'unsatisfactory also develop', 'also develop guideline', 'develop guideline detail', 'guideline detail requirement', 'detail requirement supplier', 'requirement supplier adherence', 'supplier adherence abolition', 'adherence abolition find', 'abolition find df', 'find df register', 'df register office', 'register office 6th', 'office 6th fioor', '6th fioor ec1a', 'fioor ec1a company', 'ec1a company england', 'company england ne', 'england ne 5005018', 'ne 5005018 awareness', '5005018 awareness raise', 'awareness raise program', 'raise program raise', 'program raise issue', 'raise issue put', 'issue put poster', 'put poster across', 'poster across premise', 'across premise explain', 'premise explain basic', 'explain basic principle', 'basic principle external', 'principle external help', 'external help available', 'help available example', 'available example helpline', 'example helpline note', 'helpline note transportation', 'note transportation must', 'transportation must already', 'must already ensure', 'already ensure vessel', 'ensure vessel use', 'vessel use illegal', 'use illegal purpose', 'illegal purpose people', 'purpose people engage', 'people engage contractor', 'engage contractor procedure', 'contractor procedure place', 'procedure place protect', 'place protect activity', 'protect activity mr', 'activity mr akira', 'mr akira misaki', 'akira misaki director']\n"
     ]
    }
   ],
   "source": [
    "print(ngrams_from_sentences[0][:1500])"
   ]
  },
  {
   "cell_type": "markdown",
   "metadata": {},
   "source": [
    "Generating vocab from `NGRAMS`"
   ]
  },
  {
   "cell_type": "code",
   "execution_count": 12,
   "metadata": {},
   "outputs": [
    {
     "data": {
      "application/vnd.jupyter.widget-view+json": {
       "model_id": "d70030f15cf7468eaa82b0c648e533a2",
       "version_major": 2,
       "version_minor": 0
      },
      "text/plain": [
       "0it [00:00, ?it/s]"
      ]
     },
     "metadata": {},
     "output_type": "display_data"
    }
   ],
   "source": [
    "ngram_term_freq = {} # to keep track of term frequency\n",
    "ngram_document_freq = {} # to keep track of document-term frequency\n",
    "ngram_last_doc = {}\n",
    "for i, ngrams_from_sentence in tqdm(enumerate(ngrams_from_sentences)):\n",
    "    for ngram in ngrams_from_sentence:  \n",
    "        if ngram not in ngram_term_freq:\n",
    "            ngram_term_freq[ngram] = 1\n",
    "            ngram_document_freq[ngram] = 1\n",
    "        else:\n",
    "            ngram_term_freq[ngram] += 1\n",
    "            if ngram_last_doc[ngram] != i:\n",
    "                ngram_document_freq[ngram] += 1\n",
    "        ngram_last_doc[ngram] = i\n",
    "        \n",
    "ngram_document_freq = {ngram: freq/n_sentences for ngram, freq in ngram_document_freq.items()} \n",
    "del ngram_last_doc"
   ]
  },
  {
   "cell_type": "code",
   "execution_count": 13,
   "metadata": {},
   "outputs": [
    {
     "name": "stdout",
     "output_type": "stream",
     "text": [
      "Vocab size: 3458526\n"
     ]
    }
   ],
   "source": [
    "print(f\"Vocab size: {len(ngram_term_freq)}\") # without padding last ngrams word in each sentence"
   ]
  },
  {
   "cell_type": "code",
   "execution_count": 19,
   "metadata": {},
   "outputs": [
    {
     "data": {
      "text/html": [
       "<div>\n",
       "<style scoped>\n",
       "    .dataframe tbody tr th:only-of-type {\n",
       "        vertical-align: middle;\n",
       "    }\n",
       "\n",
       "    .dataframe tbody tr th {\n",
       "        vertical-align: top;\n",
       "    }\n",
       "\n",
       "    .dataframe thead th {\n",
       "        text-align: right;\n",
       "    }\n",
       "</style>\n",
       "<table border=\"1\" class=\"dataframe\">\n",
       "  <thead>\n",
       "    <tr style=\"text-align: right;\">\n",
       "      <th></th>\n",
       "      <th>term_freq</th>\n",
       "      <th>doc_freq</th>\n",
       "    </tr>\n",
       "  </thead>\n",
       "  <tbody>\n",
       "    <tr>\n",
       "      <th>count</th>\n",
       "      <td>3.458526e+06</td>\n",
       "      <td>3.458526e+06</td>\n",
       "    </tr>\n",
       "    <tr>\n",
       "      <th>mean</th>\n",
       "      <td>2.795792e+00</td>\n",
       "      <td>2.705721e-04</td>\n",
       "    </tr>\n",
       "    <tr>\n",
       "      <th>std</th>\n",
       "      <td>5.921949e+01</td>\n",
       "      <td>4.864562e-03</td>\n",
       "    </tr>\n",
       "    <tr>\n",
       "      <th>min</th>\n",
       "      <td>1.000000e+00</td>\n",
       "      <td>1.000700e-04</td>\n",
       "    </tr>\n",
       "    <tr>\n",
       "      <th>25%</th>\n",
       "      <td>1.000000e+00</td>\n",
       "      <td>1.000700e-04</td>\n",
       "    </tr>\n",
       "    <tr>\n",
       "      <th>50%</th>\n",
       "      <td>1.000000e+00</td>\n",
       "      <td>1.000700e-04</td>\n",
       "    </tr>\n",
       "    <tr>\n",
       "      <th>75%</th>\n",
       "      <td>1.000000e+00</td>\n",
       "      <td>1.000700e-04</td>\n",
       "    </tr>\n",
       "    <tr>\n",
       "      <th>max</th>\n",
       "      <td>1.850300e+04</td>\n",
       "      <td>9.589713e-01</td>\n",
       "    </tr>\n",
       "  </tbody>\n",
       "</table>\n",
       "</div>"
      ],
      "text/plain": [
       "          term_freq      doc_freq\n",
       "count  3.458526e+06  3.458526e+06\n",
       "mean   2.795792e+00  2.705721e-04\n",
       "std    5.921949e+01  4.864562e-03\n",
       "min    1.000000e+00  1.000700e-04\n",
       "25%    1.000000e+00  1.000700e-04\n",
       "50%    1.000000e+00  1.000700e-04\n",
       "75%    1.000000e+00  1.000700e-04\n",
       "max    1.850300e+04  9.589713e-01"
      ]
     },
     "execution_count": 19,
     "metadata": {},
     "output_type": "execute_result"
    }
   ],
   "source": [
    "ngram_stat_table = pd.DataFrame({\"ngram\": ngram_term_freq.keys(), \n",
    "                                 \"term_freq\": ngram_term_freq.values(),\n",
    "                                 \"doc_freq\": ngram_document_freq.values()})\n",
    "ngram_stat_table.describe()"
   ]
  },
  {
   "cell_type": "markdown",
   "metadata": {},
   "source": [
    "Selecting vocab of interests"
   ]
  },
  {
   "cell_type": "code",
   "execution_count": 20,
   "metadata": {
    "id": "66EntRIr8LwH"
   },
   "outputs": [
    {
     "name": "stdout",
     "output_type": "stream",
     "text": [
      "(1, 3)-grams vocab size with doc frequency ( 0.001,  0.100): 61279\n",
      "(1, 3)-grams vocab size with doc frequency ( 0.001,  0.100): 1.772 %\n"
     ]
    }
   ],
   "source": [
    "MIN_DF = 10/n_sentences # ngrams present in atleast 10 docs out of total\n",
    "MAX_DF = 1000/n_sentences  # consider ngrams present in atmost 1000 docs out of total\n",
    "ngram_covered = len(ngram_stat_table[ngram_stat_table[\"doc_freq\"].between(MIN_DF, MAX_DF)])\n",
    "print(f\"{NGRAMS}-grams vocab size with doc frequency ({MIN_DF: .3f}, {MAX_DF: .3f}): \"\n",
    "      f\"{ngram_covered}\")\n",
    "print(f\"{NGRAMS}-grams vocab size with doc frequency ({MIN_DF: .3f}, {MAX_DF: .3f}): \"\n",
    "      f\"{ngram_covered*100/len(ngram_document_freq):.3f} %\")\n",
    "del ngram_stat_table"
   ]
  },
  {
   "cell_type": "markdown",
   "metadata": {},
   "source": [
    "## Preparing data for Gensim model"
   ]
  },
  {
   "cell_type": "code",
   "execution_count": 21,
   "metadata": {},
   "outputs": [
    {
     "name": "stdout",
     "output_type": "stream",
     "text": [
      "shape: (9993, 61279)\n"
     ]
    }
   ],
   "source": [
    "count_vect = CountVectorizer(ngram_range=NGRAMS, min_df=MIN_DF, max_df=MAX_DF)\n",
    "X = count_vect.fit_transform(data[\"final_statement_cleaned\"].values) \n",
    "print(f\"shape: {X.shape}\")"
   ]
  },
  {
   "cell_type": "code",
   "execution_count": 22,
   "metadata": {},
   "outputs": [
    {
     "data": {
      "application/vnd.jupyter.widget-view+json": {
       "model_id": "2d9dcdc77d8445e8825859ab68ff531d",
       "version_major": 2,
       "version_minor": 0
      },
      "text/plain": [
       "  0%|          | 0/9993 [00:00<?, ?it/s]"
      ]
     },
     "metadata": {},
     "output_type": "display_data"
    }
   ],
   "source": [
    "word2idx = count_vect.vocabulary_\n",
    "idx2word = {idx: word for word, idx in word2idx.items()}\n",
    "\n",
    "data_for_model = []\n",
    "for row in tqdm(X.toarray()):\n",
    "    idxs = np.where(row > 0)\n",
    "    data_for_model.append([(idx, row[idx]) for idx in idxs[0]])"
   ]
  },
  {
   "cell_type": "code",
   "execution_count": 8,
   "metadata": {},
   "outputs": [],
   "source": [
    "N_TOPICS = (2, 201)\n",
    "LDA_MODELS = {}\n",
    "model_name_template = \"sklearn_trigrams_gensim_lda\""
   ]
  },
  {
   "cell_type": "code",
   "execution_count": 25,
   "metadata": {},
   "outputs": [
    {
     "data": {
      "application/vnd.jupyter.widget-view+json": {
       "model_id": "fef81310fe104a0c8188fd732cbb3a50",
       "version_major": 2,
       "version_minor": 0
      },
      "text/plain": [
       "  0%|          | 0/199 [00:00<?, ?it/s]"
      ]
     },
     "metadata": {},
     "output_type": "display_data"
    },
    {
     "name": "stdout",
     "output_type": "stream",
     "text": [
      "Wall time: 3h 52min 54s\n"
     ]
    }
   ],
   "source": [
    "%%time\n",
    "# Build LDA model\n",
    "\n",
    "for n in tqdm(range(*N_TOPICS)):\n",
    "    LDA_MODELS[n] = gensim.models.ldamodel.LdaModel(\n",
    "        corpus=data_for_model,\n",
    "        id2word=idx2word, \n",
    "        num_topics=n,\n",
    "        update_every=1,\n",
    "        chunksize=1000,\n",
    "        passes=1,\n",
    "        alpha='auto',\n",
    "        per_word_topics=True,\n",
    "        iterations=20,\n",
    "        random_state=RANDOM_STATE)\n",
    "    dump_pickle(\n",
    "        obj=LDA_MODELS[n], filename=f\"{model_name_template}_{n}_topics\", path=MODEL_SAVE_PATH)"
   ]
  },
  {
   "cell_type": "code",
   "execution_count": 26,
   "metadata": {},
   "outputs": [],
   "source": [
    "def print_topic_keywords(\n",
    "    lda_model: gensim.models.ldamodel.LdaModel,\n",
    "    num_words: int=10,\n",
    "    num_topics: int=-1, \n",
    "    print_: bool=False)->Dict[int, str]:\n",
    "    topics_dict = {}\n",
    "    for topic in lda_model.print_topics(num_words=num_words, num_topics=num_topics):\n",
    "        topics_dict[topic[0]] = topic[1]\n",
    "        if print_:\n",
    "            print(f\"{topic[0]}: {topic[1:]}\")\n",
    "            print()\n",
    "            \n",
    "    return topics_dict"
   ]
  },
  {
   "cell_type": "code",
   "execution_count": 27,
   "metadata": {},
   "outputs": [
    {
     "data": {
      "application/vnd.jupyter.widget-view+json": {
       "model_id": "22cce3e32f4e44b69dba53d937e8fcf7",
       "version_major": 2,
       "version_minor": 0
      },
      "text/plain": [
       "  0%|          | 0/199 [00:00<?, ?it/s]"
      ]
     },
     "metadata": {},
     "output_type": "display_data"
    }
   ],
   "source": [
    "topics = {n_topic: print_topic_keywords(LDA_MODELS[n_topic]) for n_topic in tqdm(range(*N_TOPICS))}"
   ]
  },
  {
   "cell_type": "code",
   "execution_count": 28,
   "metadata": {},
   "outputs": [],
   "source": [
    "with open(path.join(DATA_PATH, f\"{model_name_template}_topics.json\"), \"w\") as f:\n",
    "    json.dump(topics, f)"
   ]
  },
  {
   "cell_type": "code",
   "execution_count": 29,
   "metadata": {},
   "outputs": [
    {
     "name": "stdout",
     "output_type": "stream",
     "text": [
      "0: ('0.002*\"employment legislation\" + 0.002*\"physical\" + 0.002*\"knowingly\" + 0.002*\"mental\" + 0.002*\"knowingly support\" + 0.002*\"threat\" + 0.002*\"exposure\" + 0.002*\"find involve\" + 0.002*\"movement\" + 0.002*\"physically\"',)\n",
      "\n",
      "1: ('0.003*\"place within\" + 0.003*\"take place within\" + 0.003*\"eligibility\" + 0.003*\"ensure human\" + 0.003*\"integrity transparency\" + 0.003*\"continue take\" + 0.003*\"within business\" + 0.003*\"approach form\" + 0.003*\"tolerance approach form\" + 0.003*\"commit act\"',)\n",
      "\n",
      "2: ('0.002*\"understand potential\" + 0.002*\"commit prevent\" + 0.002*\"potential risk\" + 0.002*\"put place\" + 0.002*\"aim ensure\" + 0.002*\"recognize responsibility\" + 0.002*\"easy\" + 0.002*\"circumstance\" + 0.002*\"reputable\" + 0.002*\"understand potential risk\"',)\n",
      "\n",
      "3: ('0.001*\"award\" + 0.001*\"interest\" + 0.001*\"payment\" + 0.001*\"fund\" + 0.001*\"notice\" + 0.001*\"history\" + 0.001*\"investor\" + 0.001*\"user\" + 0.001*\"send\" + 0.001*\"covid\"',)\n",
      "\n",
      "4: ('0.001*\"modern act\" + 0.001*\"31 march\" + 0.001*\"chief executive officer\" + 0.001*\"executive officer\" + 0.001*\"hotline\" + 0.001*\"modern act 2015\" + 0.001*\"uphold\" + 0.001*\"headquarter\" + 0.001*\"clause\" + 0.001*\"comprise\"',)\n",
      "\n",
      "5: ('0.004*\"exploit\" + 0.004*\"violation fundamental\" + 0.004*\"various form\" + 0.004*\"liberty\" + 0.003*\"crime violation\" + 0.003*\"commercial gain\" + 0.003*\"person liberty\" + 0.003*\"deprivation\" + 0.003*\"crime violation fundamental\" + 0.003*\"dealing relationship\"',)\n",
      "\n",
      "6: ('0.003*\"whistle blower\" + 0.003*\"commitment act ethically\" + 0.003*\"level understand\" + 0.003*\"integrity relationship implement\" + 0.002*\"reflect commitment act\" + 0.002*\"initiative identify\" + 0.002*\"high level\" + 0.002*\"initiative identify mitigate\" + 0.002*\"take place anywhere\" + 0.002*\"understand risk\"',)\n",
      "\n",
      "7: ('0.003*\"france\" + 0.002*\"germany\" + 0.002*\"italy\" + 0.002*\"spain\" + 0.002*\"netherlands\" + 0.002*\"sweden\" + 0.002*\"denmark\" + 0.002*\"belgium\" + 0.002*\"australia\" + 0.002*\"portugal\"',)\n",
      "\n",
      "8: ('0.001*\"strengthen\" + 0.001*\"target\" + 0.001*\"factory\" + 0.001*\"map\" + 0.001*\"embed\" + 0.001*\"un\" + 0.001*\"roll\" + 0.001*\"launch\" + 0.001*\"expert\" + 0.001*\"spend\"',)\n",
      "\n",
      "9: ('0.003*\"chain act\" + 0.003*\"transparency supply\" + 0.003*\"transparency supply chain\" + 0.003*\"california transparency\" + 0.003*\"supply chain act\" + 0.002*\"disclose\" + 0.002*\"california transparency supply\" + 0.002*\"shop\" + 0.002*\"internal accountability\" + 0.002*\"store\"',)\n",
      "\n"
     ]
    }
   ],
   "source": [
    "a = print_topic_keywords(LDA_MODELS[10], print_=True)"
   ]
  },
  {
   "cell_type": "markdown",
   "metadata": {},
   "source": [
    "## Computing log perpexity w.r.t. to number of topics"
   ]
  },
  {
   "cell_type": "code",
   "execution_count": 30,
   "metadata": {},
   "outputs": [
    {
     "data": {
      "application/vnd.jupyter.widget-view+json": {
       "model_id": "c281013b2f5b4c8695384b3c854b6ae1",
       "version_major": 2,
       "version_minor": 0
      },
      "text/plain": [
       "  0%|          | 0/199 [00:00<?, ?it/s]"
      ]
     },
     "metadata": {},
     "output_type": "display_data"
    }
   ],
   "source": [
    "LOG_PERPLEXITIES = {}\n",
    "for n in tqdm(range(*N_TOPICS)):\n",
    "    if n not in LOG_PERPLEXITIES.keys():\n",
    "        lda_model = load_pickle(filename=f\"{model_name_template}_{n}_topics\", path=MODEL_SAVE_PATH)\n",
    "        LOG_PERPLEXITIES[n] = lda_model.log_perplexity(data_for_model)"
   ]
  },
  {
   "cell_type": "code",
   "execution_count": 31,
   "metadata": {},
   "outputs": [
    {
     "data": {
      "image/png": "[encoded data removed]",
      "text/plain": [
       "<Figure size 432x288 with 1 Axes>"
      ]
     },
     "metadata": {
      "needs_background": "light"
     },
     "output_type": "display_data"
    }
   ],
   "source": [
    "plt.plot(list(LOG_PERPLEXITIES.values()))\n",
    "plt.xticks(range(*N_TOPICS, 20))\n",
    "plt.show()"
   ]
  },
  {
   "cell_type": "code",
   "execution_count": 32,
   "metadata": {},
   "outputs": [],
   "source": [
    "dump_pickle(\n",
    "    LOG_PERPLEXITIES, \n",
    "    filename=f\"{model_name_template}_log_perplexities_{N_TOPICS[0]}_{N_TOPICS[1]}_topics\", \n",
    "    path=PICKLE_PATH)"
   ]
  },
  {
   "cell_type": "code",
   "execution_count": 9,
   "metadata": {},
   "outputs": [],
   "source": [
    "# loading pre-computed log-perplexities\n",
    "LOG_PERPLEXITIES = load_pickle(\n",
    "    path.join(\n",
    "        PICKLE_PATH, \n",
    "        f\"{model_name_template}_log_perplexities_{N_TOPICS[0]}_{N_TOPICS[1]}_topics\"))"
   ]
  },
  {
   "cell_type": "code",
   "execution_count": null,
   "metadata": {},
   "outputs": [],
   "source": [
    "MAX_N_TOPIC = 20\n",
    "_, ax = plt.subplots()\n",
    "ax.plot(\n",
    "    [i for i in range(*N_TOPICS)][:MAX_N_TOPIC], \n",
    "    list(LOG_PERPLEXITIES.values())[:MAX_N_TOPIC])\n",
    "ax.xaxis.set_major_locator(MaxNLocator(integer=True))\n",
    "ax.set_title(\"Log-Perplexities Vs Number of topics\")\n",
    "ax.set_xlabel(\"Number of topics\")\n",
    "ax.set_ylabel(\"Log-Perplexities\")\n",
    "ax.axvline(x=7, linestyle=\"dashed\", color=\"grey\")\n",
    "plt.show()"
   ]
  },
  {
   "cell_type": "markdown",
   "metadata": {},
   "source": [
    "From above, we can say <b>8</b> as correct number of topics for LDA on bigrams."
   ]
  }
 ],
 "metadata": {
  "accelerator": "GPU",
  "colab": {
   "collapsed_sections": [],
   "name": "20201203-Topic-Modelling-Slavery-Statements.ipynb",
   "provenance": []
  },
  "kernelspec": {
   "display_name": "modern_slavery",
   "language": "python",
   "name": "modern_slavery"
  },
  "language_info": {
   "codemirror_mode": {
    "name": "ipython",
    "version": 3
   },
   "file_extension": ".py",
   "mimetype": "text/x-python",
   "name": "python",
   "nbconvert_exporter": "python",
   "pygments_lexer": "ipython3",
   "version": "3.8.6"
  }
 },
 "nbformat": 4,
 "nbformat_minor": 4
}
