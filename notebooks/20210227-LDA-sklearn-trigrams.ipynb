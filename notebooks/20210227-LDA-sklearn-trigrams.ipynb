{
 "cells": [
  {
   "cell_type": "code",
   "execution_count": 1,
   "metadata": {},
   "outputs": [],
   "source": [
    "# use if autocompletion is not working\n",
    "%config Completer.use_jedi = False"
   ]
  },
  {
   "cell_type": "code",
   "execution_count": 2,
   "metadata": {},
   "outputs": [],
   "source": [
    "%load_ext autoreload\n",
    "%autoreload 2"
   ]
  },
  {
   "cell_type": "code",
   "execution_count": 3,
   "metadata": {
    "id": "l7WeR-r6uf4x"
   },
   "outputs": [
    {
     "name": "stderr",
     "output_type": "stream",
     "text": [
      "<ipython-input-3-dc8f9ac616a0>:7: TqdmExperimentalWarning: Using `tqdm.autonotebook.tqdm` in notebook mode. Use `tqdm.tqdm` instead to force console mode (e.g. in jupyter console)\n",
      "  from tqdm.autonotebook import tqdm\n"
     ]
    }
   ],
   "source": [
    "import pandas as pd\n",
    "from sklearn.feature_extraction.text import (CountVectorizer)\n",
    "from sklearn.decomposition import LatentDirichletAllocation\n",
    "import numpy as np\n",
    "from os import getcwd, path\n",
    "import os\n",
    "from tqdm.autonotebook import tqdm\n",
    "from matplotlib.ticker import MaxNLocator\n",
    "#https://www.machinelearningplus.com/nlp/topic-modeling-gensim-python/\n",
    "# Gensim\n",
    "import gensim\n",
    "import gensim.corpora as corpora\n",
    "\n",
    "# plotting\n",
    "from matplotlib import pyplot as plt\n",
    "\n",
    "import json\n",
    "from typing import Dict"
   ]
  },
  {
   "cell_type": "code",
   "execution_count": 4,
   "metadata": {},
   "outputs": [],
   "source": [
    "from modern_slavery_registry.utils import (\n",
    "    dump_pickle,\n",
    "    load_pickle)\n",
    "from modern_slavery_registry import text_parser"
   ]
  },
  {
   "cell_type": "code",
   "execution_count": 5,
   "metadata": {},
   "outputs": [],
   "source": [
    "RANDOM_STATE = 40"
   ]
  },
  {
   "cell_type": "markdown",
   "metadata": {},
   "source": [
    "## Loading data with final cleaned statements"
   ]
  },
  {
   "cell_type": "code",
   "execution_count": 6,
   "metadata": {},
   "outputs": [],
   "source": [
    "PROJECT_PATH = getcwd().replace(\n",
    "    path.basename(getcwd()), \"\")\n",
    "DATA_PATH = path.join(PROJECT_PATH, \"data\")\n",
    "MODEL_SAVE_PATH = path.join(PROJECT_PATH, \"models\")\n",
    "SHEETS_PATH = path.join(DATA_PATH, \"sheets\")\n",
    "PICKLE_PATH = path.join(DATA_PATH, \"pickles\")"
   ]
  },
  {
   "cell_type": "code",
   "execution_count": 7,
   "metadata": {
    "id": "19-wl6Uw8GLu"
   },
   "outputs": [
    {
     "name": "stdout",
     "output_type": "stream",
     "text": [
      "Found 9993 non-NA statements\n"
     ]
    }
   ],
   "source": [
    "data = pd.read_excel(f\"{SHEETS_PATH}\\\\subset_data.xlsx\")\n",
    "data.fillna(\"#NA\", inplace=True)\n",
    "data = data[[\"URL\", \"final_statement_cleaned\"]]\n",
    "n_sentences = len(data)\n",
    "print(f\"Found {n_sentences} non-NA statements\")"
   ]
  },
  {
   "cell_type": "code",
   "execution_count": 8,
   "metadata": {
    "colab": {
     "base_uri": "https://localhost:8080/",
     "height": 289
    },
    "id": "jSU34WKL8ctQ",
    "outputId": "63b715fb-d36a-4718-9114-3a5b13b01375"
   },
   "outputs": [
    {
     "data": {
      "text/html": [
       "<div>\n",
       "<style scoped>\n",
       "    .dataframe tbody tr th:only-of-type {\n",
       "        vertical-align: middle;\n",
       "    }\n",
       "\n",
       "    .dataframe tbody tr th {\n",
       "        vertical-align: top;\n",
       "    }\n",
       "\n",
       "    .dataframe thead th {\n",
       "        text-align: right;\n",
       "    }\n",
       "</style>\n",
       "<table border=\"1\" class=\"dataframe\">\n",
       "  <thead>\n",
       "    <tr style=\"text-align: right;\">\n",
       "      <th></th>\n",
       "      <th>URL</th>\n",
       "      <th>final_statement_cleaned</th>\n",
       "    </tr>\n",
       "  </thead>\n",
       "  <tbody>\n",
       "    <tr>\n",
       "      <th>0</th>\n",
       "      <td>https://img1.wsimg.com/blobby/go/7695baff-3f0f...</td>\n",
       "      <td>66 99 km sh foor eum hold europe ltd 200 alder...</td>\n",
       "    </tr>\n",
       "    <tr>\n",
       "      <th>1</th>\n",
       "      <td>https://1spatial.com/who-we-are/legal/modern-s...</td>\n",
       "      <td>home solution government boundary law enforcem...</td>\n",
       "    </tr>\n",
       "    <tr>\n",
       "      <th>2</th>\n",
       "      <td>https://www.shazans.com/slavery-and-human-traf...</td>\n",
       "      <td>shazans shazan food continue monitor covid 19 ...</td>\n",
       "    </tr>\n",
       "    <tr>\n",
       "      <th>3</th>\n",
       "      <td>https://www.business-humanrights.org/sites/def...</td>\n",
       "      <td>28 2019 2018 statement make pursuant sec 54 20...</td>\n",
       "    </tr>\n",
       "    <tr>\n",
       "      <th>4</th>\n",
       "      <td>https://www.2agriculture.com/wp-content/upload...</td>\n",
       "      <td>fh 2015 introduction uk act require business s...</td>\n",
       "    </tr>\n",
       "  </tbody>\n",
       "</table>\n",
       "</div>"
      ],
      "text/plain": [
       "                                                 URL  \\\n",
       "0  https://img1.wsimg.com/blobby/go/7695baff-3f0f...   \n",
       "1  https://1spatial.com/who-we-are/legal/modern-s...   \n",
       "2  https://www.shazans.com/slavery-and-human-traf...   \n",
       "3  https://www.business-humanrights.org/sites/def...   \n",
       "4  https://www.2agriculture.com/wp-content/upload...   \n",
       "\n",
       "                             final_statement_cleaned  \n",
       "0  66 99 km sh foor eum hold europe ltd 200 alder...  \n",
       "1  home solution government boundary law enforcem...  \n",
       "2  shazans shazan food continue monitor covid 19 ...  \n",
       "3  28 2019 2018 statement make pursuant sec 54 20...  \n",
       "4  fh 2015 introduction uk act require business s...  "
      ]
     },
     "execution_count": 8,
     "metadata": {},
     "output_type": "execute_result"
    }
   ],
   "source": [
    "data.head()"
   ]
  },
  {
   "cell_type": "markdown",
   "metadata": {},
   "source": [
    "## Generating NGRAMS explicitly, not using Gensim NGRAMS - works like a black-box"
   ]
  },
  {
   "cell_type": "code",
   "execution_count": 9,
   "metadata": {},
   "outputs": [
    {
     "name": "stderr",
     "output_type": "stream",
     "text": [
      "100%|████████████████████████████████████████████████████████████████████████████| 9993/9993 [00:05<00:00, 1884.55it/s]\n"
     ]
    }
   ],
   "source": [
    "NGRAMS=(1,3)\n",
    "ngrams_from_corpus = text_parser.generate_ngrams(\n",
    "    data[\"final_statement_cleaned\"].values, \n",
    "    ngrams=NGRAMS)"
   ]
  },
  {
   "cell_type": "code",
   "execution_count": 10,
   "metadata": {},
   "outputs": [
    {
     "name": "stdout",
     "output_type": "stream",
     "text": [
      "['66', '99', 'km', 'sh', 'foor', 'eum', 'hold', 'europe', 'ltd', '200', 'aldersgate', 'street', 'london', 'ecia', '4hd', 'tel', '020', '7382', '6500', 'mail', 'keulongen', 'uk', 'kline', 'com', 'transparency', 'statement', 'crane', 'lineure', 'eee', 'publish', '22', 'march', '2019', '2015', 'require', 'large', 'entity', 'carry', 'business', 'publish', 'detail', 'effort', 'combat', 'human', 'traffic', 'relates', 'action', 'activity', 'financial', 'year', 'april', '2018', '31', 'part', 'ship', 'industry', 'group', 'recognize', 'responsibility', 'take', 'robust', 'approach', 'absolutely', 'commit', 'prevent', 'corporate', 'ensure', 'supply', 'chain', 'free', 'organizational', 'structure', 'global', 'entity', 'headquarter', 'tokyo', 'japan', 'network', 'office', 'around', 'globe', 'include', 'united', 'kingdom', 'comprise', 'bulk', 'lng', 'polar', 'unit', 'include', 'car', 'carrier', 'dry', 'management', 'operation', 'train', 'relevant', 'policy', 'charter', 'conduct', 'company', 'adhere', 'emphasizes', 'due', 'respect', 'right', 'compliance', 'applicable', 'law', 'ordinance', 'rule', 'abides', 'labor', 'regulation', 'tolerate', 'child', 'force', 'present', 'new', 'staff', 'full', 'view', 'whistleblowing', 'policy', 'organization', 'encourage', 'worker', 'customer', 'partner', 'report', 'concern', 'relate', 'direct', 'include', 'circumstance', 'may', 'give', 'rise', 'enhance', 'risk', 'whistieblowing', 'procedure', 'design', 'make', 'easy', 'disclosure', 'without', 'fear', 'retaliation', 'diligence', 'manage', 'part', 'chain', 'carry', 'inherent', 'risk', 'adverse', 'social', 'environmental', 'impact', 'less', 'oversight', 'control', 'work', 'condition', 'recruit', 'practice', 'would', 'ship', 'construction', 'dismantle', 'employment', 'subcontract', 'could', 'present', 'use', 'third', 'party', 'man', 'crew', 'agency', 'business', 'situation', 'site', 'visit', 'audit', 'type', 'process', 'formalize', 'assessment', 'employ', 'addition', 'directly', 'manage', 'relatively', 'sophisticated', 'sector', 'exposed', 'unsatisfactory', 'also', 'develop', 'guideline', 'detail', 'requirement', 'supplier', 'adherence', 'abolition', 'find', 'df', 'register', 'office', '6th', 'fioor', 'ec1a', 'company', 'england', 'ne', '5005018', 'awareness', 'raise', 'program', 'raise', 'issue', 'put', 'poster', 'across', 'premise', 'explain', 'basic', 'principle', 'external', 'help', 'available', 'example', 'helpline', 'note', 'transportation', 'must', 'already', 'ensure', 'vessel', 'use', 'illegal', 'purpose', 'people', 'engage', 'contractor', 'procedure', 'place', 'protect', 'activity', 'mr', 'akira', 'misaki', 'director', '66 99', '99 km', 'km sh', 'sh foor', 'foor eum', 'eum hold', 'hold europe', 'europe ltd', 'ltd 200', '200 aldersgate', 'aldersgate street', 'street london', 'london ecia', 'ecia 4hd', '4hd tel', 'tel 020', '020 7382', '7382 6500', '6500 mail', 'mail keulongen', 'keulongen uk', 'uk kline', 'kline com', 'com transparency', 'transparency statement', 'statement crane', 'crane lineure', 'lineure eee', 'eee publish', 'publish 22', '22 march', 'march 2019', '2019 2015', '2015 require', 'require large', 'large entity', 'entity carry', 'carry business', 'business publish', 'publish detail', 'detail effort', 'effort combat', 'combat human', 'human traffic', 'traffic relates', 'relates action', 'action activity', 'activity financial', 'financial year', 'year april', 'april 2018', '2018 31', '31 part', 'part ship', 'ship industry', 'industry group', 'group recognize', 'recognize responsibility', 'responsibility take', 'take robust', 'robust approach', 'approach absolutely', 'absolutely commit', 'commit prevent', 'prevent corporate', 'corporate ensure', 'ensure supply', 'supply chain', 'chain free', 'free organizational', 'organizational structure', 'structure global', 'global entity', 'entity headquarter', 'headquarter tokyo', 'tokyo japan', 'japan network', 'network office', 'office around', 'around globe', 'globe include', 'include united', 'united kingdom', 'kingdom comprise', 'comprise bulk', 'bulk lng', 'lng polar', 'polar unit', 'unit include', 'include car', 'car carrier', 'carrier dry', 'dry management', 'management operation', 'operation train', 'train relevant', 'relevant policy', 'policy charter', 'charter conduct', 'conduct company', 'company adhere', 'adhere emphasizes', 'emphasizes due', 'due respect', 'respect right', 'right compliance', 'compliance applicable', 'applicable law', 'law ordinance', 'ordinance rule', 'rule abides', 'abides labor', 'labor regulation', 'regulation tolerate', 'tolerate child', 'child force', 'force present', 'present new', 'new staff', 'staff full', 'full view', 'view whistleblowing', 'whistleblowing policy', 'policy organization', 'organization encourage', 'encourage worker', 'worker customer', 'customer partner', 'partner report', 'report concern', 'concern relate', 'relate direct', 'direct include', 'include circumstance', 'circumstance may', 'may give', 'give rise', 'rise enhance', 'enhance risk', 'risk whistieblowing', 'whistieblowing procedure', 'procedure design', 'design make', 'make easy', 'easy disclosure', 'disclosure without', 'without fear', 'fear retaliation', 'retaliation diligence', 'diligence manage', 'manage part', 'part chain', 'chain carry', 'carry inherent', 'inherent risk', 'risk adverse', 'adverse social', 'social environmental', 'environmental impact', 'impact less', 'less oversight', 'oversight control', 'control work', 'work condition', 'condition recruit', 'recruit practice', 'practice would', 'would ship', 'ship construction', 'construction dismantle', 'dismantle employment', 'employment subcontract', 'subcontract could', 'could present', 'present use', 'use third', 'third party', 'party man', 'man crew', 'crew agency', 'agency business', 'business situation', 'situation site', 'site visit', 'visit audit', 'audit type', 'type process', 'process formalize', 'formalize assessment', 'assessment employ', 'employ addition', 'addition directly', 'directly manage', 'manage relatively', 'relatively sophisticated', 'sophisticated sector', 'sector exposed', 'exposed unsatisfactory', 'unsatisfactory also', 'also develop', 'develop guideline', 'guideline detail', 'detail requirement', 'requirement supplier', 'supplier adherence', 'adherence abolition', 'abolition find', 'find df', 'df register', 'register office', 'office 6th', '6th fioor', 'fioor ec1a', 'ec1a company', 'company england', 'england ne', 'ne 5005018', '5005018 awareness', 'awareness raise', 'raise program', 'program raise', 'raise issue', 'issue put', 'put poster', 'poster across', 'across premise', 'premise explain', 'explain basic', 'basic principle', 'principle external', 'external help', 'help available', 'available example', 'example helpline', 'helpline note', 'note transportation', 'transportation must', 'must already', 'already ensure', 'ensure vessel', 'vessel use', 'use illegal', 'illegal purpose', 'purpose people', 'people engage', 'engage contractor', 'contractor procedure', 'procedure place', 'place protect', 'protect activity', 'activity mr', 'mr akira', 'akira misaki', 'misaki director', '66 99 km', '99 km sh', 'km sh foor', 'sh foor eum', 'foor eum hold', 'eum hold europe', 'hold europe ltd', 'europe ltd 200', 'ltd 200 aldersgate', '200 aldersgate street', 'aldersgate street london', 'street london ecia', 'london ecia 4hd', 'ecia 4hd tel', '4hd tel 020', 'tel 020 7382', '020 7382 6500', '7382 6500 mail', '6500 mail keulongen', 'mail keulongen uk', 'keulongen uk kline', 'uk kline com', 'kline com transparency', 'com transparency statement', 'transparency statement crane', 'statement crane lineure', 'crane lineure eee', 'lineure eee publish', 'eee publish 22', 'publish 22 march', '22 march 2019', 'march 2019 2015', '2019 2015 require', '2015 require large', 'require large entity', 'large entity carry', 'entity carry business', 'carry business publish', 'business publish detail', 'publish detail effort', 'detail effort combat', 'effort combat human', 'combat human traffic', 'human traffic relates', 'traffic relates action', 'relates action activity', 'action activity financial', 'activity financial year', 'financial year april', 'year april 2018', 'april 2018 31', '2018 31 part', '31 part ship', 'part ship industry', 'ship industry group', 'industry group recognize', 'group recognize responsibility', 'recognize responsibility take', 'responsibility take robust', 'take robust approach', 'robust approach absolutely', 'approach absolutely commit', 'absolutely commit prevent', 'commit prevent corporate', 'prevent corporate ensure', 'corporate ensure supply', 'ensure supply chain', 'supply chain free', 'chain free organizational', 'free organizational structure', 'organizational structure global', 'structure global entity', 'global entity headquarter', 'entity headquarter tokyo', 'headquarter tokyo japan', 'tokyo japan network', 'japan network office', 'network office around', 'office around globe', 'around globe include', 'globe include united', 'include united kingdom', 'united kingdom comprise', 'kingdom comprise bulk', 'comprise bulk lng', 'bulk lng polar', 'lng polar unit', 'polar unit include', 'unit include car', 'include car carrier', 'car carrier dry']\n"
     ]
    }
   ],
   "source": [
    "print(ngrams_from_corpus[0][:600])"
   ]
  },
  {
   "cell_type": "markdown",
   "metadata": {},
   "source": [
    "Generating vocab from `NGRAMS`"
   ]
  },
  {
   "cell_type": "code",
   "execution_count": 11,
   "metadata": {},
   "outputs": [
    {
     "name": "stderr",
     "output_type": "stream",
     "text": [
      "9993it [00:12, 817.99it/s] \n"
     ]
    }
   ],
   "source": [
    "term_freq, doc_freq = text_parser.compute_term_doc_freq(\n",
    "    ngrams_from_corpus=ngrams_from_corpus, \n",
    "    sort=True, \n",
    "    descending=True)\n",
    "del ngrams_from_corpus "
   ]
  },
  {
   "cell_type": "code",
   "execution_count": 12,
   "metadata": {},
   "outputs": [
    {
     "name": "stdout",
     "output_type": "stream",
     "text": [
      "Vocab size: 3454439\n"
     ]
    }
   ],
   "source": [
    "print(f\"Vocab size: {len(term_freq)}\") # without padding last ngrams word in each sentence"
   ]
  },
  {
   "cell_type": "code",
   "execution_count": 13,
   "metadata": {},
   "outputs": [],
   "source": [
    "ngram_stat_table = pd.DataFrame(\n",
    "    {\"term_freq\": term_freq.values(), \"doc_freq\": doc_freq.values()})\n",
    "ngram_stat_table.describe()\n",
    "del term_freq, doc_freq"
   ]
  },
  {
   "cell_type": "markdown",
   "metadata": {},
   "source": [
    "Selecting vocab of interests"
   ]
  },
  {
   "cell_type": "code",
   "execution_count": 14,
   "metadata": {
    "id": "66EntRIr8LwH"
   },
   "outputs": [
    {
     "name": "stdout",
     "output_type": "stream",
     "text": [
      "(1, 3)-grams vocab size with doc frequency ( 10.000,  1000.000): 61064\n",
      "(1, 3)-grams vocab size with doc frequency ( 10.000,  1000.000): 1.768 %\n"
     ]
    }
   ],
   "source": [
    "MIN_DF = 10 # ngrams present in atleast 10 docs out of total\n",
    "MAX_DF = 1000  # consider ngrams present in atmost 1000 docs out of total\n",
    "ngram_covered = len(ngram_stat_table[ngram_stat_table[\"doc_freq\"].between(MIN_DF, MAX_DF)])\n",
    "print(f\"{NGRAMS}-grams vocab size with doc frequency ({MIN_DF: .3f}, {MAX_DF: .3f}): \"\n",
    "      f\"{ngram_covered}\")\n",
    "print(f\"{NGRAMS}-grams vocab size with doc frequency ({MIN_DF: .3f}, {MAX_DF: .3f}): \"\n",
    "      f\"{ngram_covered*100/len(ngram_stat_table):.3f} %\")\n",
    "del ngram_stat_table"
   ]
  },
  {
   "cell_type": "markdown",
   "metadata": {},
   "source": [
    "## Preparing data for Gensim model"
   ]
  },
  {
   "cell_type": "code",
   "execution_count": 15,
   "metadata": {},
   "outputs": [
    {
     "name": "stdout",
     "output_type": "stream",
     "text": [
      "shape: (9993, 61064)\n"
     ]
    }
   ],
   "source": [
    "count_vect = CountVectorizer(ngram_range=NGRAMS, min_df=MIN_DF, max_df=MAX_DF)\n",
    "X = count_vect.fit_transform(data[\"final_statement_cleaned\"].values) \n",
    "print(f\"shape: {X.shape}\")\n",
    "del data"
   ]
  },
  {
   "cell_type": "code",
   "execution_count": 16,
   "metadata": {},
   "outputs": [
    {
     "data": {
      "application/vnd.jupyter.widget-view+json": {
       "model_id": "5757121424e2403daf7ac6b1d53c29f0",
       "version_major": 2,
       "version_minor": 0
      },
      "text/plain": [
       "  0%|          | 0/9993 [00:00<?, ?it/s]"
      ]
     },
     "metadata": {},
     "output_type": "display_data"
    }
   ],
   "source": [
    "word2idx = count_vect.vocabulary_\n",
    "idx2word = {idx: word for word, idx in word2idx.items()}\n",
    "\n",
    "data_for_model = []\n",
    "for row in tqdm(X.toarray()):\n",
    "    idxs = np.where(row > 0)\n",
    "    data_for_model.append([(idx, row[idx]) for idx in idxs[0]])\n",
    "del count_vect, X, word2idx"
   ]
  },
  {
   "cell_type": "code",
   "execution_count": 17,
   "metadata": {},
   "outputs": [],
   "source": [
    "N_TOPICS = (2, 201)\n",
    "model_name_template = \"sklearn_trigrams_gensim_lda2\""
   ]
  },
  {
   "cell_type": "code",
   "execution_count": 18,
   "metadata": {},
   "outputs": [
    {
     "data": {
      "application/vnd.jupyter.widget-view+json": {
       "model_id": "fadd3fd0494a43be8b8e947398ac6dd8",
       "version_major": 2,
       "version_minor": 0
      },
      "text/plain": [
       "  0%|          | 0/199 [00:00<?, ?it/s]"
      ]
     },
     "metadata": {},
     "output_type": "display_data"
    },
    {
     "name": "stdout",
     "output_type": "stream",
     "text": [
      "Wall time: 5h 39min 47s\n"
     ]
    }
   ],
   "source": [
    "%%time\n",
    "# Build LDA model\n",
    "\n",
    "for n in tqdm(range(*N_TOPICS)):\n",
    "    lda_model = gensim.models.ldamodel.LdaModel(\n",
    "        corpus=data_for_model,\n",
    "        id2word=idx2word, \n",
    "        num_topics=n,\n",
    "        update_every=1,\n",
    "        chunksize=1000,\n",
    "        passes=1,\n",
    "        alpha='auto',\n",
    "        per_word_topics=True,\n",
    "        iterations=50,\n",
    "        random_state=RANDOM_STATE)\n",
    "    dump_pickle(\n",
    "        obj=lda_model, filename=f\"{model_name_template}_{n}_topics\", path=MODEL_SAVE_PATH)"
   ]
  },
  {
   "cell_type": "code",
   "execution_count": 19,
   "metadata": {},
   "outputs": [],
   "source": [
    "def print_topic_keywords(\n",
    "    lda_model: gensim.models.ldamodel.LdaModel,\n",
    "    num_words: int=20,\n",
    "    num_topics: int=-1, \n",
    "    print_: bool=False)->Dict[int, str]:\n",
    "    topics_dict = {}\n",
    "    for topic in lda_model.print_topics(num_words=num_words, num_topics=num_topics):\n",
    "        topics_dict[topic[0]] = topic[1]\n",
    "        if print_:\n",
    "            print(f\"{topic[0]}: {topic[1:]}\")\n",
    "            print()\n",
    "            \n",
    "    return topics_dict"
   ]
  },
  {
   "cell_type": "code",
   "execution_count": 20,
   "metadata": {},
   "outputs": [
    {
     "data": {
      "application/vnd.jupyter.widget-view+json": {
       "model_id": "f0098398f16a4875bb67058f294d0aec",
       "version_major": 2,
       "version_minor": 0
      },
      "text/plain": [
       "  0%|          | 0/199 [00:00<?, ?it/s]"
      ]
     },
     "metadata": {},
     "output_type": "display_data"
    }
   ],
   "source": [
    "topics = {n: print_topic_keywords(\n",
    "    load_pickle(\n",
    "        filename=f\"{model_name_template}_{n}_topics\",\n",
    "    path=MODEL_SAVE_PATH)) for n in tqdm(range(*N_TOPICS))}"
   ]
  },
  {
   "cell_type": "code",
   "execution_count": 21,
   "metadata": {},
   "outputs": [],
   "source": [
    "with open(path.join(DATA_PATH, f\"{model_name_template}_topics.json\"), \"w\") as f:\n",
    "    json.dump(topics, f)"
   ]
  },
  {
   "cell_type": "code",
   "execution_count": 29,
   "metadata": {},
   "outputs": [
    {
     "name": "stdout",
     "output_type": "stream",
     "text": [
      "0: ('0.004*\"place within\" + 0.004*\"integrity transparency\" + 0.004*\"take place within\" + 0.004*\"eligibility\" + 0.004*\"continue take\" + 0.004*\"approach form\" + 0.004*\"tolerance approach form\" + 0.004*\"within business\" + 0.004*\"ethically integrity transparency\" + 0.004*\"reprisal\" + 0.004*\"take continue\" + 0.004*\"continue take ensure\" + 0.004*\"commit act\" + 0.004*\"fear reprisal\" + 0.004*\"put effective\" + 0.004*\"within business supply\" + 0.003*\"transparency dealing\" + 0.003*\"place within business\" + 0.003*\"take continue take\" + 0.003*\"commit act ethically\"',)\n",
      "\n",
      "1: ('0.002*\"expert\" + 0.001*\"payment\" + 0.001*\"show\" + 0.001*\"interest\" + 0.001*\"send\" + 0.001*\"award\" + 0.001*\"bring\" + 0.001*\"cost\" + 0.001*\"like\" + 0.001*\"store\" + 0.001*\"application\" + 0.001*\"fund\" + 0.001*\"study\" + 0.001*\"privacy\" + 0.001*\"track\" + 0.001*\"notice\" + 0.001*\"model\" + 0.001*\"collect\" + 0.001*\"11\" + 0.001*\"return\"',)\n",
      "\n",
      "2: ('0.002*\"knowingly\" + 0.001*\"involved\" + 0.001*\"adequate\" + 0.001*\"eti\" + 0.001*\"living wage\" + 0.001*\"eu\" + 0.001*\"continually\" + 0.001*\"prevent human\" + 0.001*\"prevent human traffic\" + 0.001*\"sedex\" + 0.001*\"base code\" + 0.001*\"recruit\" + 0.001*\"within business\" + 0.001*\"identity\" + 0.001*\"trading initiative\" + 0.001*\"potentially\" + 0.001*\"review annually\" + 0.001*\"payment\" + 0.001*\"sub contractor\" + 0.001*\"knowingly involved\"',)\n",
      "\n",
      "3: ('0.003*\"commitment act ethically\" + 0.002*\"whistle blower\" + 0.002*\"reflect commitment act\" + 0.002*\"high level\" + 0.002*\"integrity relationship implement\" + 0.002*\"54 2015 constitutes\" + 0.002*\"level understand\" + 0.002*\"initiative identify\" + 0.002*\"initiative identify mitigate\" + 0.002*\"organization structure\" + 0.002*\"take place anywhere\" + 0.002*\"control ensure\" + 0.002*\"anti policy\" + 0.002*\"constitutes financial year\" + 0.002*\"policy reflect\" + 0.002*\"understand risk\" + 0.002*\"annual turnover\" + 0.002*\"identify mitigate risk\" + 0.002*\"system control ensure\" + 0.001*\"potential area\"',)\n",
      "\n",
      "4: ('0.003*\"understand potential\" + 0.003*\"potential risk\" + 0.003*\"commit prevent\" + 0.003*\"understand potential risk\" + 0.003*\"put place\" + 0.003*\"aim ensure\" + 0.003*\"fear retaliation\" + 0.003*\"circumstance\" + 0.003*\"easy\" + 0.003*\"without fear retaliation\" + 0.003*\"retaliation\" + 0.003*\"robust approach\" + 0.003*\"take robust\" + 0.003*\"recognize responsibility\" + 0.003*\"rise\" + 0.003*\"disclosure without\" + 0.003*\"disclosure without fear\" + 0.003*\"responsibility take\" + 0.003*\"give rise\" + 0.003*\"reputable\"',)\n",
      "\n",
      "5: ('0.005*\"exploit\" + 0.004*\"violation fundamental\" + 0.004*\"liberty\" + 0.004*\"various form\" + 0.004*\"commercial gain\" + 0.004*\"crime violation\" + 0.004*\"person liberty\" + 0.004*\"dealing relationship\" + 0.004*\"deprivation\" + 0.003*\"personal commercial\" + 0.003*\"personal commercial gain\" + 0.003*\"crime violation fundamental\" + 0.003*\"exploit personal\" + 0.003*\"liberty another\" + 0.003*\"forced\" + 0.003*\"take various\" + 0.003*\"deprivation person\" + 0.003*\"forced compulsory\" + 0.003*\"order exploit\" + 0.003*\"take various form\"',)\n",
      "\n",
      "6: ('0.002*\"vehicle\" + 0.002*\"car\" + 0.001*\"motor\" + 0.001*\"france\" + 0.001*\"spain\" + 0.001*\"insurance\" + 0.001*\"italy\" + 0.001*\"netherlands\" + 0.001*\"repair\" + 0.001*\"sweden\" + 0.001*\"germany\" + 0.001*\"denmark\" + 0.001*\"portugal\" + 0.001*\"switzerland\" + 0.001*\"belgium\" + 0.001*\"authorize\" + 0.001*\"republic\" + 0.001*\"austria\" + 0.001*\"czech\" + 0.001*\"poland\"',)\n",
      "\n",
      "7: ('0.002*\"corrective\" + 0.002*\"disclose\" + 0.002*\"factory\" + 0.002*\"chain act\" + 0.002*\"involuntary\" + 0.002*\"bond\" + 0.002*\"transparency supply\" + 0.002*\"transparency supply chain\" + 0.001*\"prison\" + 0.001*\"language\" + 0.001*\"california transparency\" + 0.001*\"supply chain act\" + 0.001*\"component\" + 0.001*\"corrective action\" + 0.001*\"among\" + 0.001*\"auditor\" + 0.001*\"hotline\" + 0.001*\"inc\" + 0.001*\"conflict\" + 0.001*\"unannounced\"',)\n",
      "\n",
      "8: ('0.001*\"strengthen\" + 0.001*\"roll\" + 0.001*\"spend\" + 0.001*\"embed\" + 0.001*\"un\" + 0.001*\"compact\" + 0.001*\"tender\" + 0.001*\"procure\" + 0.001*\"uphold\" + 0.001*\"2015 act\" + 0.001*\"factor\" + 0.001*\"target\" + 0.001*\"mandatory\" + 0.001*\"continuous\" + 0.001*\"raise awareness\" + 0.001*\"whilst\" + 0.001*\"actively\" + 0.001*\"asset\" + 0.001*\"strategic\" + 0.001*\"incident\"',)\n",
      "\n",
      "9: ('0.003*\"shop\" + 0.002*\"store\" + 0.002*\"gift\" + 0.002*\"chain act\" + 0.002*\"skip\" + 0.002*\"accessory\" + 0.002*\"supply chain act\" + 0.002*\"transparency supply\" + 0.002*\"retailer\" + 0.002*\"transparency supply chain\" + 0.002*\"contact us\" + 0.001*\"collection\" + 0.001*\"right reserve\" + 0.001*\"california transparency\" + 0.001*\"bag\" + 0.001*\"history\" + 0.001*\"factory\" + 0.001*\"material incorporate\" + 0.001*\"return\" + 0.001*\"light\"',)\n",
      "\n"
     ]
    }
   ],
   "source": [
    "a = print_topic_keywords(load_pickle(\n",
    "        filename=f\"{model_name_template}_{10}_topics\",\n",
    "    path=MODEL_SAVE_PATH), print_=True)"
   ]
  },
  {
   "cell_type": "markdown",
   "metadata": {},
   "source": [
    "## Computing log perpexity w.r.t. to number of topics"
   ]
  },
  {
   "cell_type": "code",
   "execution_count": 23,
   "metadata": {},
   "outputs": [
    {
     "data": {
      "application/vnd.jupyter.widget-view+json": {
       "model_id": "06b93a1a013f477f945b684d2b4ca9e0",
       "version_major": 2,
       "version_minor": 0
      },
      "text/plain": [
       "  0%|          | 0/199 [00:00<?, ?it/s]"
      ]
     },
     "metadata": {},
     "output_type": "display_data"
    }
   ],
   "source": [
    "LOG_PERPLEXITIES = {}\n",
    "for n in tqdm(range(*N_TOPICS)):\n",
    "    if n not in LOG_PERPLEXITIES.keys():\n",
    "        lda_model = load_pickle(filename=f\"{model_name_template}_{n}_topics\", path=MODEL_SAVE_PATH)\n",
    "        LOG_PERPLEXITIES[n] = lda_model.log_perplexity(data_for_model)"
   ]
  },
  {
   "cell_type": "code",
   "execution_count": 24,
   "metadata": {},
   "outputs": [
    {
     "data": {
      "image/png": "[encoded data removed]",
      "text/plain": [
       "<Figure size 432x288 with 1 Axes>"
      ]
     },
     "metadata": {
      "needs_background": "light"
     },
     "output_type": "display_data"
    }
   ],
   "source": [
    "plt.plot(list(LOG_PERPLEXITIES.values()))\n",
    "plt.xticks(range(*N_TOPICS, 20))\n",
    "plt.show()"
   ]
  },
  {
   "cell_type": "code",
   "execution_count": 25,
   "metadata": {},
   "outputs": [],
   "source": [
    "dump_pickle(\n",
    "    LOG_PERPLEXITIES, \n",
    "    filename=f\"{model_name_template}_log_perplexities_{N_TOPICS[0]}_{N_TOPICS[1]}_topics\", \n",
    "    path=PICKLE_PATH)"
   ]
  },
  {
   "cell_type": "code",
   "execution_count": 26,
   "metadata": {},
   "outputs": [],
   "source": [
    "# loading pre-computed log-perplexities\n",
    "LOG_PERPLEXITIES = load_pickle(\n",
    "    path.join(\n",
    "        PICKLE_PATH, \n",
    "        f\"{model_name_template}_log_perplexities_{N_TOPICS[0]}_{N_TOPICS[1]}_topics\"))"
   ]
  },
  {
   "cell_type": "code",
   "execution_count": 28,
   "metadata": {},
   "outputs": [
    {
     "data": {
      "image/png": "[encoded data removed]",
      "text/plain": [
       "<Figure size 432x288 with 1 Axes>"
      ]
     },
     "metadata": {
      "needs_background": "light"
     },
     "output_type": "display_data"
    }
   ],
   "source": [
    "MAX_N_TOPIC = 20\n",
    "_, ax = plt.subplots()\n",
    "ax.plot(\n",
    "    [i for i in range(*N_TOPICS)][:MAX_N_TOPIC], \n",
    "    list(LOG_PERPLEXITIES.values())[:MAX_N_TOPIC])\n",
    "ax.xaxis.set_major_locator(MaxNLocator(integer=True))\n",
    "ax.set_title(\"Log-Perplexities Vs Number of topics\")\n",
    "ax.set_xlabel(\"Number of topics\")\n",
    "ax.set_ylabel(\"Log-Perplexities\")\n",
    "ax.axvline(x=7, linestyle=\"dashed\", color=\"grey\")\n",
    "plt.show()"
   ]
  },
  {
   "cell_type": "markdown",
   "metadata": {},
   "source": [
    "From above, we can say <b>7</b> as correct number of topics for LDA on bigrams."
   ]
  },
  {
   "cell_type": "code",
   "execution_count": null,
   "metadata": {},
   "outputs": [],
   "source": []
  }
 ],
 "metadata": {
  "accelerator": "GPU",
  "colab": {
   "collapsed_sections": [],
   "name": "20201203-Topic-Modelling-Slavery-Statements.ipynb",
   "provenance": []
  },
  "kernelspec": {
   "display_name": "modern_slavery",
   "language": "python",
   "name": "modern_slavery"
  },
  "language_info": {
   "codemirror_mode": {
    "name": "ipython",
    "version": 3
   },
   "file_extension": ".py",
   "mimetype": "text/x-python",
   "name": "python",
   "nbconvert_exporter": "python",
   "pygments_lexer": "ipython3",
   "version": "3.8.6"
  }
 },
 "nbformat": 4,
 "nbformat_minor": 4
}
