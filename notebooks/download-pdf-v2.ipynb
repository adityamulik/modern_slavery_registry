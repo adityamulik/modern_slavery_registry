{
 "cells": [
  {
   "cell_type": "markdown",
   "metadata": {},
   "source": [
    "# First version to download Modern Slavery Statement PDFs.\n",
    "\n",
    "Can handle HTML format slavery statements"
   ]
  },
  {
   "cell_type": "code",
   "execution_count": 2,
   "metadata": {},
   "outputs": [],
   "source": [
    "%load_ext autoreload\n",
    "%autoreload 2"
   ]
  },
  {
   "cell_type": "code",
   "execution_count": 31,
   "metadata": {},
   "outputs": [],
   "source": [
    "import pandas as pd\n",
    "import numpy as np\n",
    "from os import getcwd, path\n",
    "from requests.exceptions import HTTPError\n",
    "import pickle\n",
    "from time import sleep\n",
    "import functools\n",
    "import requests\n",
    "from func_timeout import func_timeout, FunctionTimedOut\n",
    "from bs4 import BeautifulSoup as soup"
   ]
  },
  {
   "cell_type": "code",
   "execution_count": 86,
   "metadata": {},
   "outputs": [],
   "source": [
    "PROJECT_NAME = 'modern_slavery_registry'\n",
    "PROJECT_PATH = f\"{getcwd()[:getcwd().find(PROJECT_NAME)]}{PROJECT_NAME}\"\n",
    "DATA_PATH = f\"{PROJECT_PATH}\\\\data\"\n",
    "SHEET_PATH = f\"{DATA_PATH}\\\\sheets\"\n",
    "PICKLE_PATH = f\"{DATA_PATH}\\\\pickles\"\n",
    "PDF_PATH = f\"{DATA_PATH}\\\\pdfs\"\n",
    "TEXT_PATH = f\"{DATA_PATH}\\\\texts\"\n",
    "MAX_DOWNLOAD_TIME = 5"
   ]
  },
  {
   "cell_type": "code",
   "execution_count": 5,
   "metadata": {},
   "outputs": [],
   "source": [
    "def save_pickle(obj, file_name):\n",
    "    pickle.dump(obj, file=open(f\"{file_name}.pickle\",\"wb\"))\n",
    "    \n",
    "def load_pickle(file_name):\n",
    "    return pickle.load(file=open(f\"{file_name}.pickle\",\"rb\"))"
   ]
  },
  {
   "cell_type": "code",
   "execution_count": 89,
   "metadata": {},
   "outputs": [
    {
     "name": "stdout",
     "output_type": "stream",
     "text": [
      "Total SIDs - PDFs left to download : 6043\n"
     ]
    }
   ],
   "source": [
    "pickle_name = \"leftover_pdf_to_downloads_SIDs\"\n",
    "leftover_SIDs = load_pickle(file_name=f\"{PICKLE_PATH}\\\\{pickle_name}\")\n",
    "TOTAL_SIDs = len(leftover_SIDs)\n",
    "print(f\"Total SIDs - PDFs left to download : {len(leftover_SIDs)}\")"
   ]
  },
  {
   "cell_type": "code",
   "execution_count": 90,
   "metadata": {},
   "outputs": [
    {
     "data": {
      "text/html": [
       "<div>\n",
       "<style scoped>\n",
       "    .dataframe tbody tr th:only-of-type {\n",
       "        vertical-align: middle;\n",
       "    }\n",
       "\n",
       "    .dataframe tbody tr th {\n",
       "        vertical-align: top;\n",
       "    }\n",
       "\n",
       "    .dataframe thead th {\n",
       "        text-align: right;\n",
       "    }\n",
       "</style>\n",
       "<table border=\"1\" class=\"dataframe\">\n",
       "  <thead>\n",
       "    <tr style=\"text-align: right;\">\n",
       "      <th></th>\n",
       "      <th>Company ID</th>\n",
       "      <th>Company</th>\n",
       "      <th>Is Publisher</th>\n",
       "      <th>Statement ID</th>\n",
       "      <th>URL</th>\n",
       "      <th>Override URL</th>\n",
       "      <th>Companies House Number</th>\n",
       "      <th>Industry</th>\n",
       "      <th>HQ</th>\n",
       "      <th>Is Also Covered</th>\n",
       "      <th>UK Modern Slavery Act</th>\n",
       "      <th>California Transparency in Supply Chains Act</th>\n",
       "      <th>Australia Modern Slavery Act</th>\n",
       "      <th>Period Covered</th>\n",
       "    </tr>\n",
       "  </thead>\n",
       "  <tbody>\n",
       "    <tr>\n",
       "      <th>0</th>\n",
       "      <td>7676</td>\n",
       "      <td>\"K\" Line Holding Europe Limited</td>\n",
       "      <td>True</td>\n",
       "      <td>35092</td>\n",
       "      <td>https://img1.wsimg.com/blobby/go/7695baff-3f0f...</td>\n",
       "      <td>NaN</td>\n",
       "      <td>05005018</td>\n",
       "      <td>Marine</td>\n",
       "      <td>United Kingdom</td>\n",
       "      <td>False</td>\n",
       "      <td>True</td>\n",
       "      <td>False</td>\n",
       "      <td>False</td>\n",
       "      <td>2018-2019</td>\n",
       "    </tr>\n",
       "    <tr>\n",
       "      <th>1</th>\n",
       "      <td>28660</td>\n",
       "      <td>\"K\" Line Bulk Shipping (UK) Limited</td>\n",
       "      <td>False</td>\n",
       "      <td>35092</td>\n",
       "      <td>https://img1.wsimg.com/blobby/go/7695baff-3f0f...</td>\n",
       "      <td>NaN</td>\n",
       "      <td>04830352</td>\n",
       "      <td>Marine</td>\n",
       "      <td>United Kingdom</td>\n",
       "      <td>True</td>\n",
       "      <td>True</td>\n",
       "      <td>False</td>\n",
       "      <td>False</td>\n",
       "      <td>2018-2019</td>\n",
       "    </tr>\n",
       "    <tr>\n",
       "      <th>2</th>\n",
       "      <td>28659</td>\n",
       "      <td>\"K\" Line (Europe) Limited</td>\n",
       "      <td>False</td>\n",
       "      <td>35092</td>\n",
       "      <td>https://img1.wsimg.com/blobby/go/7695baff-3f0f...</td>\n",
       "      <td>NaN</td>\n",
       "      <td>05639474</td>\n",
       "      <td>Marine</td>\n",
       "      <td>United Kingdom</td>\n",
       "      <td>True</td>\n",
       "      <td>True</td>\n",
       "      <td>False</td>\n",
       "      <td>False</td>\n",
       "      <td>2018-2019</td>\n",
       "    </tr>\n",
       "    <tr>\n",
       "      <th>3</th>\n",
       "      <td>28661</td>\n",
       "      <td>\"K\" Line LNG Shipping Limited</td>\n",
       "      <td>False</td>\n",
       "      <td>35092</td>\n",
       "      <td>https://img1.wsimg.com/blobby/go/7695baff-3f0f...</td>\n",
       "      <td>NaN</td>\n",
       "      <td>NaN</td>\n",
       "      <td>Marine</td>\n",
       "      <td>United Kingdom</td>\n",
       "      <td>True</td>\n",
       "      <td>True</td>\n",
       "      <td>False</td>\n",
       "      <td>False</td>\n",
       "      <td>2018-2019</td>\n",
       "    </tr>\n",
       "    <tr>\n",
       "      <th>4</th>\n",
       "      <td>28658</td>\n",
       "      <td>Polar LNG Shipping (UK) Limited</td>\n",
       "      <td>False</td>\n",
       "      <td>35092</td>\n",
       "      <td>https://img1.wsimg.com/blobby/go/7695baff-3f0f...</td>\n",
       "      <td>NaN</td>\n",
       "      <td>02205323</td>\n",
       "      <td>Marine</td>\n",
       "      <td>United Kingdom</td>\n",
       "      <td>True</td>\n",
       "      <td>True</td>\n",
       "      <td>False</td>\n",
       "      <td>False</td>\n",
       "      <td>2018-2019</td>\n",
       "    </tr>\n",
       "  </tbody>\n",
       "</table>\n",
       "</div>"
      ],
      "text/plain": [
       "   Company ID                              Company  Is Publisher  \\\n",
       "0        7676      \"K\" Line Holding Europe Limited          True   \n",
       "1       28660  \"K\" Line Bulk Shipping (UK) Limited         False   \n",
       "2       28659            \"K\" Line (Europe) Limited         False   \n",
       "3       28661        \"K\" Line LNG Shipping Limited         False   \n",
       "4       28658      Polar LNG Shipping (UK) Limited         False   \n",
       "\n",
       "   Statement ID                                                URL  \\\n",
       "0         35092  https://img1.wsimg.com/blobby/go/7695baff-3f0f...   \n",
       "1         35092  https://img1.wsimg.com/blobby/go/7695baff-3f0f...   \n",
       "2         35092  https://img1.wsimg.com/blobby/go/7695baff-3f0f...   \n",
       "3         35092  https://img1.wsimg.com/blobby/go/7695baff-3f0f...   \n",
       "4         35092  https://img1.wsimg.com/blobby/go/7695baff-3f0f...   \n",
       "\n",
       "  Override URL Companies House Number Industry              HQ  \\\n",
       "0          NaN               05005018   Marine  United Kingdom   \n",
       "1          NaN               04830352   Marine  United Kingdom   \n",
       "2          NaN               05639474   Marine  United Kingdom   \n",
       "3          NaN                    NaN   Marine  United Kingdom   \n",
       "4          NaN               02205323   Marine  United Kingdom   \n",
       "\n",
       "   Is Also Covered  UK Modern Slavery Act  \\\n",
       "0            False                   True   \n",
       "1             True                   True   \n",
       "2             True                   True   \n",
       "3             True                   True   \n",
       "4             True                   True   \n",
       "\n",
       "   California Transparency in Supply Chains Act  Australia Modern Slavery Act  \\\n",
       "0                                         False                         False   \n",
       "1                                         False                         False   \n",
       "2                                         False                         False   \n",
       "3                                         False                         False   \n",
       "4                                         False                         False   \n",
       "\n",
       "  Period Covered  \n",
       "0      2018-2019  \n",
       "1      2018-2019  \n",
       "2      2018-2019  \n",
       "3      2018-2019  \n",
       "4      2018-2019  "
      ]
     },
     "execution_count": 90,
     "metadata": {},
     "output_type": "execute_result"
    }
   ],
   "source": [
    "df = pd.read_csv(f\"{DATA_PATH}\\modernslaveryregistry-2020-09-14.csv\")\n",
    "df.head()"
   ]
  },
  {
   "cell_type": "code",
   "execution_count": 91,
   "metadata": {},
   "outputs": [
    {
     "name": "stdout",
     "output_type": "stream",
     "text": [
      "Total enteries : 27531, total unique statements : 17799\n"
     ]
    }
   ],
   "source": [
    "TOTAL_UNIQUE_SIDs = len(np.unique(df['Statement ID'].values))\n",
    "print(f\"Total enteries : {len(df)}, \"\n",
    "      f\"total unique statements : {TOTAL_UNIQUE_SIDs}\")"
   ]
  },
  {
   "cell_type": "code",
   "execution_count": 92,
   "metadata": {},
   "outputs": [],
   "source": [
    "def download_pdf_from_url(url, sid):\n",
    "    \"\"\"Download PDF for input url.\"\"\"\n",
    "    response = urllib.request.urlopen(url=url)\n",
    "    file_name = f\"SID-{statement_id}\"\n",
    "    file = open(f\"{PDF_PATH}\\\\{file_name}.pdf\", 'wb')\n",
    "    file.write(response.read())\n",
    "    file.close()"
   ]
  },
  {
   "cell_type": "code",
   "execution_count": 93,
   "metadata": {},
   "outputs": [],
   "source": [
    "def get_pdf_url_from_sid(sid):\n",
    "    \"\"\"Return PDF url for input sid.\"\"\"\n",
    "    return df[df['Statement ID']==sid]['URL'].values[0]"
   ]
  },
  {
   "cell_type": "code",
   "execution_count": 179,
   "metadata": {},
   "outputs": [],
   "source": [
    "def print_loop_no(total_sids, sid, itr, type_, type_itr, msg=\"\"):\n",
    "    \"\"\"Print loop statements.\"\"\"\n",
    "    primary_text = f\"Running - {itr}/{total_sids} , SID - {sid}\"\n",
    "    if type_ == \"Success\":\n",
    "        primary_text = f\"{primary_text} - Success - {type_itr}\"\n",
    "    elif type_ == \"Failed\":\n",
    "        primary_text = f\"{primary_text} - Failed - {type_itr}\"\n",
    "    else:\n",
    "        primary_text = f\"{primary_text} - Processed - {type_itr}\"\n",
    "    print(f\"{'-'*8} {primary_text} - {msg} - {'-'*8}\")        "
   ]
  },
  {
   "cell_type": "code",
   "execution_count": 95,
   "metadata": {},
   "outputs": [],
   "source": [
    "def clean_text(text):\n",
    "    \"\"\"Clean and return input text.\"\"\"\n",
    "    text = text.replace(\"\\n\", \" \")\n",
    "    text = text.replace(\"\\t\", \" \")\n",
    "    return \" \".join(text.split())"
   ]
  },
  {
   "cell_type": "code",
   "execution_count": 171,
   "metadata": {},
   "outputs": [],
   "source": [
    "def is_response_html(response):\n",
    "    if \"<html>\" in str(response) or \"!DOCTYPE html\" in str(response):\n",
    "        return True\n",
    "    return False"
   ]
  },
  {
   "cell_type": "code",
   "execution_count": 164,
   "metadata": {},
   "outputs": [],
   "source": [
    "def is_response_pdf(response):\n",
    "    if \"%PDF\" in str(response):\n",
    "        return True\n",
    "    return False"
   ]
  },
  {
   "cell_type": "code",
   "execution_count": 97,
   "metadata": {},
   "outputs": [],
   "source": [
    "def clean_html_response(html_response):\n",
    "    text = soup(str(html_response)).text\n",
    "    text = clean_text(text)\n",
    "    special_char = [\"\\\\\", \"b'\"]\n",
    "    for char_ in special_char:\n",
    "        text = text.replace(char_, \" \")\n",
    "    cleaned_text = []\n",
    "    for word in text.split():\n",
    "        if len(word) > 1:\n",
    "            cleaned_text.append(word)\n",
    "    cleaned_text = \" \".join(cleaned_text) \n",
    "    return cleaned_text"
   ]
  },
  {
   "cell_type": "code",
   "execution_count": 98,
   "metadata": {},
   "outputs": [],
   "source": [
    "def save_text(text, sid):\n",
    "    \"\"\"Save text in text file.\"\"\"\n",
    "    file_name = f\"SID-{sid}\" \n",
    "    file_obj = open(f\"{TEXT_PATH}//{file_name}.txt\", 'w', encoding='utf-8')\n",
    "    file_obj.write(text)\n",
    "    file_obj.close()"
   ]
  },
  {
   "cell_type": "code",
   "execution_count": 145,
   "metadata": {},
   "outputs": [],
   "source": [
    "def save_pdf(pdf_response, sid):\n",
    "    \"\"\"Save text in text file.\"\"\"\n",
    "    file_name = f\"SID-{sid}\" \n",
    "    try:\n",
    "        file_obj = open(f\"{PDF_PATH}//{file_name}.pdf\", 'w', encoding='utf-8')\n",
    "        file_obj.write(pdf_response)\n",
    "    except TypeError as type_error:\n",
    "        try:\n",
    "            file_obj = open(f\"{PDF_PATH}//{file_name}.pdf\", 'wb')\n",
    "            file_obj.write(pdf_response)\n",
    "        except Exception as e:\n",
    "            print(e)\n",
    "    file_obj.close()"
   ]
  },
  {
   "cell_type": "code",
   "execution_count": 185,
   "metadata": {},
   "outputs": [],
   "source": [
    "saved_SIDs2 = []\n",
    "failed_SIDs2 = []"
   ]
  },
  {
   "cell_type": "code",
   "execution_count": null,
   "metadata": {},
   "outputs": [],
   "source": [
    "for i, sid in enumerate(leftover_SIDs):\n",
    "    url = get_pdf_url_from_sid(sid)\n",
    "    file_name = f\"SID-{sid}\"\n",
    "    if sid not in saved_SIDs2 + failed_SIDs2:\n",
    "        try:\n",
    "            response = requests.get(url, timeout=10, allow_redirects=True).content\n",
    "            if is_response_html(response=response): # if html response\n",
    "                # save in text format if html response\n",
    "                text_response = clean_html_response(html_response=response)\n",
    "                text_response = clean_html_response(html_response=text_response)\n",
    "                save_text(text=text_response, sid=sid)\n",
    "                saved_SIDs2.append(sid)\n",
    "                print_loop_no(total_sids=TOTAL_SIDs, \n",
    "                                    sid=sid,itr=i+1,\n",
    "                                    type_=\"Success\",\n",
    "                                    type_itr=len(saved_SIDs2),\n",
    "                                    msg=\"HTML\")\n",
    "            elif is_response_pdf(response): # if pdf response\n",
    "                save_pdf(pdf_response=response, sid=sid)\n",
    "                saved_SIDs2.append(sid)\n",
    "                print_loop_no(total_sids=TOTAL_SIDs, \n",
    "                                    sid=sid,itr=i+1,\n",
    "                                    type_=\"Success\",\n",
    "                                    type_itr=len(saved_SIDs2),\n",
    "                                    msg=\"PDF\")\n",
    "            else: # otherwise\n",
    "                failed_SIDs2.append(sid)\n",
    "                print_loop_no(total_sids=TOTAL_SIDs, \n",
    "                                    sid=sid,itr=i+1,\n",
    "                                    type_=\"Failed\",\n",
    "                                    type_itr=len(failed_SIDs2))\n",
    "        except:\n",
    "            failed_SIDs2.append(sid)\n",
    "            print_loop_no(total_sids=TOTAL_SIDs, \n",
    "                                sid=sid,itr=i+1,\n",
    "                                type_=\"Failed\",\n",
    "                                type_itr=len(failed_SIDs2))\n",
    "    else:\n",
    "        print_loop_no(total_sids=TOTAL_SIDs, \n",
    "                                sid=sid,itr=i+1,\n",
    "                                type_=\"Processed\",\n",
    "                                type_itr=len(saved_SIDs2) + len(failed_SIDs2))"
   ]
  },
  {
   "cell_type": "code",
   "execution_count": 189,
   "metadata": {},
   "outputs": [
    {
     "name": "stdout",
     "output_type": "stream",
     "text": [
      "Total leftover SIDs 2: 6043\n",
      "Total saved SIDs 2   : 4693\n",
      "Total failed SIDs 2  : 1350\n"
     ]
    }
   ],
   "source": [
    "print(f\"Total leftover SIDs 2: {len(saved_SIDs2) + len(failed_SIDs2)}\")\n",
    "print(f\"Total saved SIDs 2   : {len(saved_SIDs2)}\")\n",
    "print(f\"Total failed SIDs 2  : {len(failed_SIDs2)}\")"
   ]
  }
 ],
 "metadata": {
  "kernelspec": {
   "display_name": "modern-slavery",
   "language": "python",
   "name": "modern-slavery"
  },
  "language_info": {
   "codemirror_mode": {
    "name": "ipython",
    "version": 3
   },
   "file_extension": ".py",
   "mimetype": "text/x-python",
   "name": "python",
   "nbconvert_exporter": "python",
   "pygments_lexer": "ipython3",
   "version": "3.8.5"
  }
 },
 "nbformat": 4,
 "nbformat_minor": 4
}
