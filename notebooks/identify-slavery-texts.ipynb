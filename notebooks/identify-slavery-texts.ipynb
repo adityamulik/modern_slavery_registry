{
 "cells": [
  {
   "cell_type": "markdown",
   "metadata": {},
   "source": [
    "# Used to check if extracted statements are Modern Slavery Statement"
   ]
  },
  {
   "cell_type": "code",
   "execution_count": 2,
   "metadata": {},
   "outputs": [],
   "source": [
    "%load_ext autoreload\n",
    "%autoreload 2"
   ]
  },
  {
   "cell_type": "code",
   "execution_count": 3,
   "metadata": {},
   "outputs": [],
   "source": [
    "import pandas as pd\n",
    "import numpy as np\n",
    "from os import getcwd, path\n",
    "import urllib\n",
    "import pickle\n",
    "from time import sleep\n",
    "import functools\n",
    "import glob\n",
    "from func_timeout import func_timeout, FunctionTimedOut\n",
    "import re\n",
    "from langdetect import detect\n",
    "from langdetect import lang_detect_exception"
   ]
  },
  {
   "cell_type": "code",
   "execution_count": 4,
   "metadata": {},
   "outputs": [],
   "source": [
    "PROJECT_NAME = 'modern_slavery_registry'\n",
    "PROJECT_PATH = f\"{getcwd()[:getcwd().find(PROJECT_NAME)]}{PROJECT_NAME}\"\n",
    "DATA_PATH = f\"{PROJECT_PATH}\\\\data\"\n",
    "PICKLE_PATH = f\"{DATA_PATH}\\\\pickles\"\n",
    "PDF_PATH = f\"{DATA_PATH}\\\\pdfs\"\n",
    "TEXT_PATH = f\"{DATA_PATH}\\\\texts\"\n",
    "SLAVERY_TEXT_PATH = f\"{DATA_PATH}\\\\slavery_texts\"\n",
    "MAX_DOWNLOAD_TIME = 5"
   ]
  },
  {
   "cell_type": "code",
   "execution_count": 5,
   "metadata": {},
   "outputs": [],
   "source": [
    "def save_pickle(obj, file_name):\n",
    "    pickle.dump(obj, file=open(f\"{file_name}.pickle\",\"wb\"))\n",
    "    \n",
    "def load_pickle(file_name):\n",
    "    return pickle.load(file=open(f\"{file_name}.pickle\",\"rb\"))"
   ]
  },
  {
   "cell_type": "code",
   "execution_count": 6,
   "metadata": {},
   "outputs": [
    {
     "name": "stdout",
     "output_type": "stream",
     "text": [
      "E:\\Projects\\modern_slavery_registry\\data\\pickles\\slavery_text_SIDs already exists\n",
      "E:\\Projects\\modern_slavery_registry\\data\\pickles\\non_slavery_text_SIDs already exists\n"
     ]
    }
   ],
   "source": [
    "pickle_name = f\"{PICKLE_PATH}\\\\slavery_text_SIDs\"\n",
    "if path.exists(f\"{pickle_name}.pickle\"):\n",
    "    slavery_text_SIDs = load_pickle(pickle_name)\n",
    "    print(f\"{pickle_name} already exists\")\n",
    "else:\n",
    "    slavery_text_SIDs = []\n",
    "    save_pickle(slavery_text_SIDs, file_name=pickle_name)\n",
    "    print(f\"{pickle_name} created\")\n",
    "    \n",
    "    \n",
    "pickle_name = f\"{PICKLE_PATH}\\\\non_slavery_text_SIDs\"\n",
    "if path.exists(f\"{pickle_name}.pickle\"):\n",
    "    non_slavery_text_SIDs = load_pickle(pickle_name)\n",
    "    print(f\"{pickle_name} already exists\")\n",
    "else:\n",
    "    non_slavery_text_SIDs = []\n",
    "    save_pickle(non_slavery_text_SIDs, file_name=pickle_name)\n",
    "    print(f\"{pickle_name} created\")"
   ]
  },
  {
   "cell_type": "code",
   "execution_count": 7,
   "metadata": {},
   "outputs": [
    {
     "data": {
      "text/html": [
       "<div>\n",
       "<style scoped>\n",
       "    .dataframe tbody tr th:only-of-type {\n",
       "        vertical-align: middle;\n",
       "    }\n",
       "\n",
       "    .dataframe tbody tr th {\n",
       "        vertical-align: top;\n",
       "    }\n",
       "\n",
       "    .dataframe thead th {\n",
       "        text-align: right;\n",
       "    }\n",
       "</style>\n",
       "<table border=\"1\" class=\"dataframe\">\n",
       "  <thead>\n",
       "    <tr style=\"text-align: right;\">\n",
       "      <th></th>\n",
       "      <th>Company ID</th>\n",
       "      <th>Company</th>\n",
       "      <th>Is Publisher</th>\n",
       "      <th>Statement ID</th>\n",
       "      <th>URL</th>\n",
       "      <th>Override URL</th>\n",
       "      <th>Companies House Number</th>\n",
       "      <th>Industry</th>\n",
       "      <th>HQ</th>\n",
       "      <th>Is Also Covered</th>\n",
       "      <th>UK Modern Slavery Act</th>\n",
       "      <th>California Transparency in Supply Chains Act</th>\n",
       "      <th>Australia Modern Slavery Act</th>\n",
       "      <th>Period Covered</th>\n",
       "    </tr>\n",
       "  </thead>\n",
       "  <tbody>\n",
       "    <tr>\n",
       "      <th>0</th>\n",
       "      <td>7676</td>\n",
       "      <td>\"K\" Line Holding Europe Limited</td>\n",
       "      <td>True</td>\n",
       "      <td>35092</td>\n",
       "      <td>https://img1.wsimg.com/blobby/go/7695baff-3f0f...</td>\n",
       "      <td>NaN</td>\n",
       "      <td>05005018</td>\n",
       "      <td>Marine</td>\n",
       "      <td>United Kingdom</td>\n",
       "      <td>False</td>\n",
       "      <td>True</td>\n",
       "      <td>False</td>\n",
       "      <td>False</td>\n",
       "      <td>2018-2019</td>\n",
       "    </tr>\n",
       "    <tr>\n",
       "      <th>1</th>\n",
       "      <td>28660</td>\n",
       "      <td>\"K\" Line Bulk Shipping (UK) Limited</td>\n",
       "      <td>False</td>\n",
       "      <td>35092</td>\n",
       "      <td>https://img1.wsimg.com/blobby/go/7695baff-3f0f...</td>\n",
       "      <td>NaN</td>\n",
       "      <td>04830352</td>\n",
       "      <td>Marine</td>\n",
       "      <td>United Kingdom</td>\n",
       "      <td>True</td>\n",
       "      <td>True</td>\n",
       "      <td>False</td>\n",
       "      <td>False</td>\n",
       "      <td>2018-2019</td>\n",
       "    </tr>\n",
       "    <tr>\n",
       "      <th>2</th>\n",
       "      <td>28659</td>\n",
       "      <td>\"K\" Line (Europe) Limited</td>\n",
       "      <td>False</td>\n",
       "      <td>35092</td>\n",
       "      <td>https://img1.wsimg.com/blobby/go/7695baff-3f0f...</td>\n",
       "      <td>NaN</td>\n",
       "      <td>05639474</td>\n",
       "      <td>Marine</td>\n",
       "      <td>United Kingdom</td>\n",
       "      <td>True</td>\n",
       "      <td>True</td>\n",
       "      <td>False</td>\n",
       "      <td>False</td>\n",
       "      <td>2018-2019</td>\n",
       "    </tr>\n",
       "    <tr>\n",
       "      <th>3</th>\n",
       "      <td>28661</td>\n",
       "      <td>\"K\" Line LNG Shipping Limited</td>\n",
       "      <td>False</td>\n",
       "      <td>35092</td>\n",
       "      <td>https://img1.wsimg.com/blobby/go/7695baff-3f0f...</td>\n",
       "      <td>NaN</td>\n",
       "      <td>NaN</td>\n",
       "      <td>Marine</td>\n",
       "      <td>United Kingdom</td>\n",
       "      <td>True</td>\n",
       "      <td>True</td>\n",
       "      <td>False</td>\n",
       "      <td>False</td>\n",
       "      <td>2018-2019</td>\n",
       "    </tr>\n",
       "    <tr>\n",
       "      <th>4</th>\n",
       "      <td>28658</td>\n",
       "      <td>Polar LNG Shipping (UK) Limited</td>\n",
       "      <td>False</td>\n",
       "      <td>35092</td>\n",
       "      <td>https://img1.wsimg.com/blobby/go/7695baff-3f0f...</td>\n",
       "      <td>NaN</td>\n",
       "      <td>02205323</td>\n",
       "      <td>Marine</td>\n",
       "      <td>United Kingdom</td>\n",
       "      <td>True</td>\n",
       "      <td>True</td>\n",
       "      <td>False</td>\n",
       "      <td>False</td>\n",
       "      <td>2018-2019</td>\n",
       "    </tr>\n",
       "  </tbody>\n",
       "</table>\n",
       "</div>"
      ],
      "text/plain": [
       "   Company ID                              Company  Is Publisher  \\\n",
       "0        7676      \"K\" Line Holding Europe Limited          True   \n",
       "1       28660  \"K\" Line Bulk Shipping (UK) Limited         False   \n",
       "2       28659            \"K\" Line (Europe) Limited         False   \n",
       "3       28661        \"K\" Line LNG Shipping Limited         False   \n",
       "4       28658      Polar LNG Shipping (UK) Limited         False   \n",
       "\n",
       "   Statement ID                                                URL  \\\n",
       "0         35092  https://img1.wsimg.com/blobby/go/7695baff-3f0f...   \n",
       "1         35092  https://img1.wsimg.com/blobby/go/7695baff-3f0f...   \n",
       "2         35092  https://img1.wsimg.com/blobby/go/7695baff-3f0f...   \n",
       "3         35092  https://img1.wsimg.com/blobby/go/7695baff-3f0f...   \n",
       "4         35092  https://img1.wsimg.com/blobby/go/7695baff-3f0f...   \n",
       "\n",
       "  Override URL Companies House Number Industry              HQ  \\\n",
       "0          NaN               05005018   Marine  United Kingdom   \n",
       "1          NaN               04830352   Marine  United Kingdom   \n",
       "2          NaN               05639474   Marine  United Kingdom   \n",
       "3          NaN                    NaN   Marine  United Kingdom   \n",
       "4          NaN               02205323   Marine  United Kingdom   \n",
       "\n",
       "   Is Also Covered  UK Modern Slavery Act  \\\n",
       "0            False                   True   \n",
       "1             True                   True   \n",
       "2             True                   True   \n",
       "3             True                   True   \n",
       "4             True                   True   \n",
       "\n",
       "   California Transparency in Supply Chains Act  Australia Modern Slavery Act  \\\n",
       "0                                         False                         False   \n",
       "1                                         False                         False   \n",
       "2                                         False                         False   \n",
       "3                                         False                         False   \n",
       "4                                         False                         False   \n",
       "\n",
       "  Period Covered  \n",
       "0      2018-2019  \n",
       "1      2018-2019  \n",
       "2      2018-2019  \n",
       "3      2018-2019  \n",
       "4      2018-2019  "
      ]
     },
     "execution_count": 7,
     "metadata": {},
     "output_type": "execute_result"
    }
   ],
   "source": [
    "df = pd.read_csv(f\"{DATA_PATH}\\modernslaveryregistry-2020-09-14.csv\")\n",
    "df.head()"
   ]
  },
  {
   "cell_type": "code",
   "execution_count": 8,
   "metadata": {},
   "outputs": [
    {
     "name": "stdout",
     "output_type": "stream",
     "text": [
      "Total enteries : 27531, total unique statements in main DB : 17799\n"
     ]
    }
   ],
   "source": [
    "UNIQUE_SIDs = np.unique(df['Statement ID'].values)\n",
    "TOTAL_UNIQUE_SIDs = len(UNIQUE_SIDs)\n",
    "print(f\"Total enteries : {len(df)}, \"\n",
    "      f\"total unique statements in main DB : {TOTAL_UNIQUE_SIDs}\")"
   ]
  },
  {
   "cell_type": "code",
   "execution_count": 9,
   "metadata": {},
   "outputs": [],
   "source": [
    "def get_pdf_url_from_sid(sid):\n",
    "    \"\"\"Returns PDF url for input sid.\"\"\"\n",
    "    return df[df['Statement ID']==sid]['URL'].values[0]"
   ]
  },
  {
   "cell_type": "code",
   "execution_count": 10,
   "metadata": {},
   "outputs": [],
   "source": [
    "def get_sid_from_filename(file_name):\n",
    "    \"\"\"Extract and return SID from file_name.\"\"\"\n",
    "    return int(re.findall(pattern=r\"[\\d]+\",string=path.basename(file_name))[0])"
   ]
  },
  {
   "cell_type": "code",
   "execution_count": 11,
   "metadata": {},
   "outputs": [],
   "source": [
    "def clean_text(text):\n",
    "    \"\"\"Clean and return input text.\"\"\"\n",
    "    text = text.replace(\"\\n\", \" \")\n",
    "    text = text.replace(\"\\t\", \" \")\n",
    "    special_char = [\"\\\\\", \"b'\"]\n",
    "    for char_ in special_char:\n",
    "        text = text.replace(char_, \" \")\n",
    "    cleaned_text = []\n",
    "    for word in text.split():\n",
    "        if len(word) > 1 or word.isdigit():\n",
    "            cleaned_text.append(word)\n",
    "    cleaned_text = \" \".join(cleaned_text) \n",
    "    return cleaned_text"
   ]
  },
  {
   "cell_type": "code",
   "execution_count": 12,
   "metadata": {},
   "outputs": [],
   "source": [
    "def save_text(text, sid):\n",
    "    \"\"\"Save text in text file.\"\"\"\n",
    "    file_name = f\"SID-{sid}\" \n",
    "    file_obj = open(f\"{TEXT_PATH}//{file_name}.txt\", 'w', encoding='utf-8')\n",
    "    file_obj.write(text)\n",
    "    file_obj.close()"
   ]
  },
  {
   "cell_type": "code",
   "execution_count": 13,
   "metadata": {},
   "outputs": [],
   "source": [
    "def save_slavery_text(text, sid):\n",
    "    \"\"\"Save text in text file.\"\"\"\n",
    "    file_name = f\"SID-{sid}\" \n",
    "    file_obj = open(f\"{SLAVERY_TEXT_PATH}//{file_name}.txt\", 'w', encoding='utf-8')\n",
    "    file_obj.write(text)\n",
    "    file_obj.close()"
   ]
  },
  {
   "cell_type": "code",
   "execution_count": 14,
   "metadata": {},
   "outputs": [],
   "source": [
    "def print_loop_no(total_sids, sid, itr, type_, type_itr):\n",
    "    \"\"\"Print loop statements.\"\"\"\n",
    "    primary_text = f\"Running - {itr}/{total_sids} , SID - {sid}\"\n",
    "    if type_ == \"Success\":\n",
    "        primary_text = f\"{primary_text} - Success - {type_itr}\"\n",
    "    elif type_ == \"Failed\":\n",
    "        primary_text = f\"{primary_text} - Failed - {type_itr}\"\n",
    "    else:\n",
    "        primary_text = f\"{primary_text} - Processed - {type_itr}\"\n",
    "    print(f\"{'-'*8} {primary_text} {'-'*8}\")        "
   ]
  },
  {
   "cell_type": "code",
   "execution_count": 15,
   "metadata": {},
   "outputs": [
    {
     "name": "stdout",
     "output_type": "stream",
     "text": [
      "Found 14610 text files\n"
     ]
    }
   ],
   "source": [
    "text_files = glob.glob(pathname=f\"{TEXT_PATH}\\\\*.txt\")\n",
    "TOTAL_TEXT_FILES = len(text_files)\n",
    "print(f\"Found {TOTAL_TEXT_FILES} text files\")"
   ]
  },
  {
   "cell_type": "code",
   "execution_count": 16,
   "metadata": {},
   "outputs": [],
   "source": [
    "def open_text_file(text_file_name):\n",
    "    \"\"\"Open text file.\"\"\"\n",
    "    return open(text_file_name, \"r\", encoding=\"utf8\")"
   ]
  },
  {
   "cell_type": "code",
   "execution_count": 67,
   "metadata": {},
   "outputs": [],
   "source": [
    "def is_modern_slavery_text(text):\n",
    "    \"\"\"Return True if text fulfils modern slavery statement conditions.\"\"\"\n",
    "    text = text.lower()\n",
    "    wanted_keywords = [\"slavery\", \"human trafficking\", \"child labour\"]\n",
    "    unwanted_keywords = [\"page not found\", \"403 forbidden\", \"404 not found\"]\n",
    "    text = re.sub('[^A-Za-z0-9]+', ' ', text) # removing special characters, ex. helps to identify human-trafficking\n",
    "    text = \" \".join(text.split())\n",
    "    if any([word in text for word in wanted_keywords]) and all([word not in text for word in unwanted_keywords]):\n",
    "        return True \n",
    "    return False"
   ]
  },
  {
   "cell_type": "code",
   "execution_count": 60,
   "metadata": {},
   "outputs": [],
   "source": [
    "slavery_text_SIDs = []\n",
    "non_slavery_text_SIDs = []"
   ]
  },
  {
   "cell_type": "code",
   "execution_count": null,
   "metadata": {},
   "outputs": [],
   "source": [
    "for i, text_file_name in enumerate(text_files):\n",
    "    sid = get_sid_from_filename(file_name=text_file_name)\n",
    "    if sid not in slavery_text_SIDs +  non_slavery_text_SIDs:\n",
    "        text = open_text_file(text_file_name).read()\n",
    "        if is_modern_slavery_text(text):\n",
    "            save_slavery_text(text=text, sid=sid)\n",
    "            slavery_text_SIDs.append(sid)\n",
    "            print_loop_no(total_sids=TOTAL_TEXT_FILES,\n",
    "                                sid=sid, \n",
    "                                itr=i+1, \n",
    "                                type_=\"Success\",\n",
    "                                type_itr= len(slavery_text_SIDs))\n",
    "        else:\n",
    "            non_slavery_text_SIDs.append(sid)\n",
    "            print_loop_no(total_sids=TOTAL_TEXT_FILES,\n",
    "                                sid=sid, \n",
    "                                itr=i+1,\n",
    "                                type_=\"Failed\",\n",
    "                                type_itr= len(non_slavery_text_SIDs))\n",
    "    else:\n",
    "        print_loop_no(total_sids=TOTAL_TEXT_FILES,\n",
    "                            sid=sid,\n",
    "                            itr=i+1,\n",
    "                            type_=\"Processed\", \n",
    "                            type_itr= len(slavery_text_SIDs) + len(non_slavery_text_SIDs))"
   ]
  },
  {
   "cell_type": "code",
   "execution_count": 62,
   "metadata": {},
   "outputs": [
    {
     "name": "stdout",
     "output_type": "stream",
     "text": [
      "Total slavery statements : 11660\n",
      "Total non-slavery statements : 2950\n",
      "Total statements : 14610\n"
     ]
    }
   ],
   "source": [
    "print(f\"Total slavery statements : {len(slavery_text_SIDs)}\")\n",
    "print(f\"Total non-slavery statements : {len(non_slavery_text_SIDs)}\")\n",
    "print(f\"Total statements : {len(slavery_text_SIDs)+len(non_slavery_text_SIDs)}\")"
   ]
  },
  {
   "cell_type": "code",
   "execution_count": 98,
   "metadata": {},
   "outputs": [],
   "source": [
    "pickle_name = \"slavery_text_SIDs\"\n",
    "save_pickle(obj=slavery_text_SIDs,file_name= f\"{PICKLE_PATH}//{pickle_name}\")\n",
    "\n",
    "pickle_name = \"non_slavery_text_SIDs\"\n",
    "save_pickle(obj=non_slavery_text_SIDs,file_name= f\"{PICKLE_PATH}//{pickle_name}\")"
   ]
  },
  {
   "cell_type": "code",
   "execution_count": 97,
   "metadata": {},
   "outputs": [
    {
     "name": "stdout",
     "output_type": "stream",
     "text": [
      "SID - 40676\n"
     ]
    },
    {
     "data": {
      "text/plain": [
       "'JML Social audit policy SLAVERY AND HUMAN TRAFFICKING STATEMENT 2019/2020 JML (John Mills Ltd) is a UK based company who specialise in sourcing and supplying TV products to retailers and consumers. We operate a global supply chain, managed by our Product Development team in the UK. Most of our products are sourced from China which represents the area of greatest risk of exposure to, and association with slavery and human trafficking. Procedures in place include polices covering corporate social responsibility, ethical trading, working conditions, child labour, Health & Safety and training for relevant people within the business. JML are committed to ensure the wellbeing of all involved in the manufacture and supply of our products. We recognize the ETI base code as the minimum level of compliance and require all our factories to sign up to our code of conduct to ensure procedures are in place to cover the following e Employment is freely chosen e Freedom of association and the right to'"
      ]
     },
     "execution_count": 97,
     "metadata": {},
     "output_type": "execute_result"
    }
   ],
   "source": [
    "# Checking random slavery statement\n",
    "sid = np.random.choice(slavery_text_SIDs)\n",
    "print(f\"SID - {sid}\")\n",
    "open_text_file(f\"{TEXT_PATH}\\\\SID-{sid}.txt\").read()[:1000]"
   ]
  },
  {
   "cell_type": "code",
   "execution_count": 94,
   "metadata": {},
   "outputs": [
    {
     "name": "stdout",
     "output_type": "stream",
     "text": [
      "SID - 41596\n"
     ]
    },
    {
     "data": {
      "text/plain": [
       "'403 Forbidden 403 Forbidden nginx'"
      ]
     },
     "execution_count": 94,
     "metadata": {},
     "output_type": "execute_result"
    }
   ],
   "source": [
    "# Checking random non slavery statement\n",
    "sid = np.random.choice(non_slavery_text_SIDs)\n",
    "print(f\"SID - {sid}\")\n",
    "open_text_file(f\"{TEXT_PATH}\\\\SID-{sid}.txt\").read()[:1000]"
   ]
  },
  {
   "cell_type": "code",
   "execution_count": 99,
   "metadata": {},
   "outputs": [],
   "source": [
    "# ## Second batch\n",
    "# second_batch_SIDs = [sid for sid in UNIQUE_SIDs if sid not in slavery_text_SIDs and sid not in pdf_not_found_SIDs]\n",
    "# print(f\"Total SIDs left : {len(second_batch_SIDs)}\")\n",
    "\n",
    "# pickle_name = \"leftover_pdf_to_downloads_SIDs\"\n",
    "# save_pickle(obj=second_batch_SIDs,file_name= f\"{PICKLE_PATH}//{pickle_name}\")"
   ]
  },
  {
   "cell_type": "code",
   "execution_count": null,
   "metadata": {},
   "outputs": [],
   "source": []
  }
 ],
 "metadata": {
  "kernelspec": {
   "display_name": "modern-slavery",
   "language": "python",
   "name": "modern-slavery"
  },
  "language_info": {
   "codemirror_mode": {
    "name": "ipython",
    "version": 3
   },
   "file_extension": ".py",
   "mimetype": "text/x-python",
   "name": "python",
   "nbconvert_exporter": "python",
   "pygments_lexer": "ipython3",
   "version": "3.8.5"
  }
 },
 "nbformat": 4,
 "nbformat_minor": 4
}
