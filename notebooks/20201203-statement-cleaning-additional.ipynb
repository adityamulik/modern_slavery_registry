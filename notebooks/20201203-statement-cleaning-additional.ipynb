{
 "cells": [
  {
   "cell_type": "code",
   "execution_count": 2,
   "metadata": {},
   "outputs": [],
   "source": [
    "%load_ext autoreload\n",
    "%autoreload 2"
   ]
  },
  {
   "cell_type": "code",
   "execution_count": 3,
   "metadata": {},
   "outputs": [],
   "source": [
    "import pandas as pd\n",
    "from os import getcwd\n",
    "import numpy as np\n",
    "from tqdm import tqdm\n",
    "import re\n",
    "from typing import Tuple, Dict, Sequence, List, Union\n",
    "from copy import deepcopy\n",
    "from nltk.stem import WordNetLemmatizer\n",
    "from nltk.corpus import wordnet\n",
    "from matplotlib import pyplot as plt\n",
    "from matplotlib.ticker import MaxNLocator\n",
    "from copy import deepcopy"
   ]
  },
  {
   "cell_type": "code",
   "execution_count": 1,
   "metadata": {},
   "outputs": [],
   "source": [
    "from modern_slavery_registry.utils import (generate_hash,\n",
    "                                           sort_dict)"
   ]
  },
  {
   "cell_type": "code",
   "execution_count": 4,
   "metadata": {},
   "outputs": [],
   "source": [
    "DATA_PATH = getcwd()\n",
    "DATA_PATH = DATA_PATH.replace(\"notebooks\", \"\")\n",
    "DATA_PATH += \"data\"\n",
    "SHEETS_PATH = DATA_PATH + \"\\\\sheets\""
   ]
  },
  {
   "cell_type": "code",
   "execution_count": 5,
   "metadata": {},
   "outputs": [],
   "source": [
    "data = pd.read_excel(f\"{SHEETS_PATH}\\\\combined_modern_slavery_statements.xlsx\")\n",
    "data.fillna(\"#NA\", inplace=True)"
   ]
  },
  {
   "cell_type": "code",
   "execution_count": 6,
   "metadata": {},
   "outputs": [
    {
     "data": {
      "text/html": [
       "<div>\n",
       "<style scoped>\n",
       "    .dataframe tbody tr th:only-of-type {\n",
       "        vertical-align: middle;\n",
       "    }\n",
       "\n",
       "    .dataframe tbody tr th {\n",
       "        vertical-align: top;\n",
       "    }\n",
       "\n",
       "    .dataframe thead th {\n",
       "        text-align: right;\n",
       "    }\n",
       "</style>\n",
       "<table border=\"1\" class=\"dataframe\">\n",
       "  <thead>\n",
       "    <tr style=\"text-align: right;\">\n",
       "      <th></th>\n",
       "      <th>Company ID</th>\n",
       "      <th>Company</th>\n",
       "      <th>Statement ID</th>\n",
       "      <th>URL</th>\n",
       "      <th>statement(Edgar)</th>\n",
       "      <th>statement(Nitin)</th>\n",
       "      <th>final_statement</th>\n",
       "      <th>final_statement(E/N)</th>\n",
       "      <th>final_statement_cleaned</th>\n",
       "    </tr>\n",
       "  </thead>\n",
       "  <tbody>\n",
       "    <tr>\n",
       "      <th>0</th>\n",
       "      <td>7676</td>\n",
       "      <td>\"K\" Line Holding Europe Limited</td>\n",
       "      <td>35092</td>\n",
       "      <td>https://img1.wsimg.com/blobby/go/7695baff-3f0f...</td>\n",
       "      <td>K LINE\\nHOLDINC (EUROPE) LTD.\\nModern Slavery ...</td>\n",
       "      <td>K LINE\\nHOLDINC (EUROPE) LTD.\\nModern Slavery ...</td>\n",
       "      <td>K LINE\\nHOLDINC (EUROPE) LTD.\\nModern Slavery ...</td>\n",
       "      <td>E</td>\n",
       "      <td>holdinc europe ltd modern slavery act transpar...</td>\n",
       "    </tr>\n",
       "    <tr>\n",
       "      <th>1</th>\n",
       "      <td>28660</td>\n",
       "      <td>\"K\" Line Bulk Shipping (UK) Limited</td>\n",
       "      <td>35092</td>\n",
       "      <td>https://img1.wsimg.com/blobby/go/7695baff-3f0f...</td>\n",
       "      <td>K LINE\\nHOLDINC (EUROPE) LTD.\\nModern Slavery ...</td>\n",
       "      <td>K LINE\\nHOLDINC (EUROPE) LTD.\\nModern Slavery ...</td>\n",
       "      <td>K LINE\\nHOLDINC (EUROPE) LTD.\\nModern Slavery ...</td>\n",
       "      <td>E</td>\n",
       "      <td>holdinc europe ltd modern slavery act transpar...</td>\n",
       "    </tr>\n",
       "  </tbody>\n",
       "</table>\n",
       "</div>"
      ],
      "text/plain": [
       "   Company ID                              Company Statement ID  \\\n",
       "0        7676      \"K\" Line Holding Europe Limited        35092   \n",
       "1       28660  \"K\" Line Bulk Shipping (UK) Limited        35092   \n",
       "\n",
       "                                                 URL  \\\n",
       "0  https://img1.wsimg.com/blobby/go/7695baff-3f0f...   \n",
       "1  https://img1.wsimg.com/blobby/go/7695baff-3f0f...   \n",
       "\n",
       "                                    statement(Edgar)  \\\n",
       "0  K LINE\\nHOLDINC (EUROPE) LTD.\\nModern Slavery ...   \n",
       "1  K LINE\\nHOLDINC (EUROPE) LTD.\\nModern Slavery ...   \n",
       "\n",
       "                                    statement(Nitin)  \\\n",
       "0  K LINE\\nHOLDINC (EUROPE) LTD.\\nModern Slavery ...   \n",
       "1  K LINE\\nHOLDINC (EUROPE) LTD.\\nModern Slavery ...   \n",
       "\n",
       "                                     final_statement final_statement(E/N)  \\\n",
       "0  K LINE\\nHOLDINC (EUROPE) LTD.\\nModern Slavery ...                    E   \n",
       "1  K LINE\\nHOLDINC (EUROPE) LTD.\\nModern Slavery ...                    E   \n",
       "\n",
       "                             final_statement_cleaned  \n",
       "0  holdinc europe ltd modern slavery act transpar...  \n",
       "1  holdinc europe ltd modern slavery act transpar...  "
      ]
     },
     "execution_count": 6,
     "metadata": {},
     "output_type": "execute_result"
    }
   ],
   "source": [
    "data.head(2)"
   ]
  },
  {
   "cell_type": "markdown",
   "metadata": {},
   "source": [
    "# Further text cleaning"
   ]
  },
  {
   "cell_type": "code",
   "execution_count": 7,
   "metadata": {},
   "outputs": [
    {
     "name": "stderr",
     "output_type": "stream",
     "text": [
      "100%|█████████████████████████████████████████████████████████████████████████| 28364/28364 [00:00<00:00, 97502.70it/s]\n"
     ]
    }
   ],
   "source": [
    "# generating unique for statement to avoid processing multiple time processing of same statement\n",
    "data[\"statement_hash\"] = [\n",
    "    generate_hash(statement) for statement in tqdm(data[\"final_statement_cleaned\"])]"
   ]
  },
  {
   "cell_type": "code",
   "execution_count": 8,
   "metadata": {},
   "outputs": [],
   "source": [
    "subset_data = data[[\"statement_hash\", \n",
    "                    \"final_statement_cleaned\"]].drop_duplicates(\"statement_hash\")"
   ]
  },
  {
   "cell_type": "code",
   "execution_count": 9,
   "metadata": {},
   "outputs": [
    {
     "data": {
      "text/plain": [
       "(28364, 14588)"
      ]
     },
     "execution_count": 9,
     "metadata": {},
     "output_type": "execute_result"
    }
   ],
   "source": [
    "len(data), len(subset_data)"
   ]
  },
  {
   "cell_type": "code",
   "execution_count": 10,
   "metadata": {},
   "outputs": [
    {
     "data": {
      "text/html": [
       "<div>\n",
       "<style scoped>\n",
       "    .dataframe tbody tr th:only-of-type {\n",
       "        vertical-align: middle;\n",
       "    }\n",
       "\n",
       "    .dataframe tbody tr th {\n",
       "        vertical-align: top;\n",
       "    }\n",
       "\n",
       "    .dataframe thead th {\n",
       "        text-align: right;\n",
       "    }\n",
       "</style>\n",
       "<table border=\"1\" class=\"dataframe\">\n",
       "  <thead>\n",
       "    <tr style=\"text-align: right;\">\n",
       "      <th></th>\n",
       "      <th>statement_hash</th>\n",
       "      <th>final_statement_cleaned</th>\n",
       "    </tr>\n",
       "  </thead>\n",
       "  <tbody>\n",
       "    <tr>\n",
       "      <th>0</th>\n",
       "      <td>54a3be2e54d7e83866249741309a4fec</td>\n",
       "      <td>holdinc europe ltd modern slavery act transpar...</td>\n",
       "    </tr>\n",
       "    <tr>\n",
       "      <th>1</th>\n",
       "      <td>c20780d56b38fdee0d585b1dcf32b246</td>\n",
       "      <td>holdinc europe ltd modern slavery act transpar...</td>\n",
       "    </tr>\n",
       "    <tr>\n",
       "      <th>2</th>\n",
       "      <td>ba93a3f728608e0a8aa60765e7433654</td>\n",
       "      <td>holdinc europe ltd modern slavery act transpar...</td>\n",
       "    </tr>\n",
       "    <tr>\n",
       "      <th>3</th>\n",
       "      <td>160f2895b670d4054d3dfd9ae1231b87</td>\n",
       "      <td>holdinc europe ltd modern slavery act transpar...</td>\n",
       "    </tr>\n",
       "    <tr>\n",
       "      <th>4</th>\n",
       "      <td>c7892425aa35519093b7a0179d245a0d</td>\n",
       "      <td>k line holdinc europe ltd modern slavery act t...</td>\n",
       "    </tr>\n",
       "  </tbody>\n",
       "</table>\n",
       "</div>"
      ],
      "text/plain": [
       "                     statement_hash  \\\n",
       "0  54a3be2e54d7e83866249741309a4fec   \n",
       "1  c20780d56b38fdee0d585b1dcf32b246   \n",
       "2  ba93a3f728608e0a8aa60765e7433654   \n",
       "3  160f2895b670d4054d3dfd9ae1231b87   \n",
       "4  c7892425aa35519093b7a0179d245a0d   \n",
       "\n",
       "                             final_statement_cleaned  \n",
       "0  holdinc europe ltd modern slavery act transpar...  \n",
       "1  holdinc europe ltd modern slavery act transpar...  \n",
       "2  holdinc europe ltd modern slavery act transpar...  \n",
       "3  holdinc europe ltd modern slavery act transpar...  \n",
       "4  k line holdinc europe ltd modern slavery act t...  "
      ]
     },
     "execution_count": 10,
     "metadata": {},
     "output_type": "execute_result"
    }
   ],
   "source": [
    "subset_data.head()"
   ]
  },
  {
   "cell_type": "markdown",
   "metadata": {},
   "source": [
    "# Lemmatizing"
   ]
  },
  {
   "cell_type": "code",
   "execution_count": 11,
   "metadata": {},
   "outputs": [
    {
     "name": "stderr",
     "output_type": "stream",
     "text": [
      "100%|███████████████████████████████████████████████████████████████████████████| 14588/14588 [01:01<00:00, 238.56it/s]\n"
     ]
    }
   ],
   "source": [
    "lemmatizer = WordNetLemmatizer() # wordnet lemmatizer object\n",
    "cleaned_statements = []\n",
    "for statement in tqdm(subset_data[\"final_statement_cleaned\"], position=0, leave=True):\n",
    "    cleaned_statements.append(\n",
    "        \" \".join(\n",
    "            lemmatizer.lemmatize(word, pos=\"v\") for word in statement.split()))"
   ]
  },
  {
   "cell_type": "code",
   "execution_count": 12,
   "metadata": {},
   "outputs": [
    {
     "name": "stderr",
     "output_type": "stream",
     "text": [
      "100%|██████████████████████████████████████████████████████████████████████████| 14588/14588 [00:08<00:00, 1704.75it/s]\n"
     ]
    }
   ],
   "source": [
    "word_sizes = {}\n",
    "vocab = {}\n",
    "for statement in tqdm(cleaned_statements, position=0, leave=True):\n",
    "    for word in statement.split():\n",
    "        size = len(word)\n",
    "        if word not in vocab:\n",
    "            vocab[word] = 1\n",
    "        else:\n",
    "            vocab[word] += 1\n",
    "        if size not in word_sizes:\n",
    "            word_sizes[size] = 1\n",
    "        else:\n",
    "            word_sizes[size] += 1"
   ]
  },
  {
   "cell_type": "code",
   "execution_count": 13,
   "metadata": {},
   "outputs": [],
   "source": [
    "word_sizes = sort_dict(word_sizes, by=0)"
   ]
  },
  {
   "cell_type": "code",
   "execution_count": 14,
   "metadata": {},
   "outputs": [
    {
     "name": "stdout",
     "output_type": "stream",
     "text": [
      "Total vocab size: 47857, total distinct word sizes: 85\n"
     ]
    }
   ],
   "source": [
    "print(f\"Total vocab size: {len(vocab)}, total distinct word sizes: {len(word_sizes)}\")"
   ]
  },
  {
   "cell_type": "code",
   "execution_count": 15,
   "metadata": {},
   "outputs": [
    {
     "data": {
      "image/png": "[encoded data removed]",
      "text/plain": [
       "<Figure size 432x288 with 1 Axes>"
      ]
     },
     "metadata": {
      "needs_background": "light"
     },
     "output_type": "display_data"
    }
   ],
   "source": [
    "fig, ax = plt.subplots()\n",
    "ax.bar(word_sizes.keys(), word_sizes.values())\n",
    "ax.set_xlabel(\"word size\")\n",
    "ax.set_ylabel(\"count\")\n",
    "plt.show()"
   ]
  },
  {
   "cell_type": "code",
   "execution_count": 16,
   "metadata": {},
   "outputs": [
    {
     "data": {
      "image/png": "[encoded data removed]",
      "text/plain": [
       "<Figure size 432x288 with 1 Axes>"
      ]
     },
     "metadata": {
      "needs_background": "light"
     },
     "output_type": "display_data"
    }
   ],
   "source": [
    "fig, ax = plt.subplots()\n",
    "ax.bar(list(word_sizes.keys())[:20], list(word_sizes.values())[:20])\n",
    "ax.set_xlabel(\"word size\")\n",
    "ax.set_ylabel(\"count\")\n",
    "ax.xaxis.set_major_locator(MaxNLocator(integer=True))\n",
    "plt.show()"
   ]
  },
  {
   "cell_type": "markdown",
   "metadata": {},
   "source": [
    "From above plot, it seems like max word size can be restricted to 15 and min word size to 2"
   ]
  },
  {
   "cell_type": "code",
   "execution_count": 17,
   "metadata": {},
   "outputs": [],
   "source": [
    "MIN_WORD_SIZE = 2\n",
    "MAX_WORD_SIZE = 15"
   ]
  },
  {
   "cell_type": "code",
   "execution_count": 18,
   "metadata": {},
   "outputs": [
    {
     "name": "stderr",
     "output_type": "stream",
     "text": [
      "100%|██████████████████████████████████████████████████████████████████████████| 14588/14588 [00:02<00:00, 5200.48it/s]\n"
     ]
    }
   ],
   "source": [
    "temp_cleaned_statements = []\n",
    "for statement in tqdm(cleaned_statements, position=0, leave=True):\n",
    "    temp_cleaned_statements.append(\n",
    "        \" \".join([word for word in statement.split() \n",
    "                  if MIN_WORD_SIZE <= len(word) <= MAX_WORD_SIZE]))\n",
    "cleaned_statements = deepcopy(temp_cleaned_statements)"
   ]
  },
  {
   "cell_type": "code",
   "execution_count": 19,
   "metadata": {},
   "outputs": [
    {
     "name": "stderr",
     "output_type": "stream",
     "text": [
      "100%|██████████████████████████████████████████████████████████████████████████| 14588/14588 [00:08<00:00, 1628.83it/s]\n"
     ]
    }
   ],
   "source": [
    "sub_word_sizes = {}\n",
    "sub_vocab = {}\n",
    "for statement in tqdm(cleaned_statements, position=0, leave=True):\n",
    "    for word in statement.split():\n",
    "        size = len(word)\n",
    "        if word not in sub_vocab:\n",
    "            sub_vocab[word] = 1\n",
    "        else:\n",
    "            sub_vocab[word] += 1\n",
    "        if size not in sub_word_sizes:\n",
    "            sub_word_sizes[size] = 1\n",
    "        else:\n",
    "            sub_word_sizes[size] += 1"
   ]
  },
  {
   "cell_type": "code",
   "execution_count": 20,
   "metadata": {},
   "outputs": [],
   "source": [
    "sub_word_sizes = sort_dict(sub_word_sizes, by=0)\n",
    "sub_vocab = sort_dict(sub_vocab, by=1, reverse=True)"
   ]
  },
  {
   "cell_type": "code",
   "execution_count": 21,
   "metadata": {},
   "outputs": [
    {
     "name": "stdout",
     "output_type": "stream",
     "text": [
      "Total vocab size: 45961, total distinct word sizes: 14\n"
     ]
    }
   ],
   "source": [
    "print(f\"Total vocab size: {len(sub_vocab)}, total distinct word sizes: {len(sub_word_sizes)}\")"
   ]
  },
  {
   "cell_type": "code",
   "execution_count": 22,
   "metadata": {},
   "outputs": [],
   "source": [
    "subset_data[\"cleaned_statements\"] = cleaned_statements"
   ]
  },
  {
   "cell_type": "code",
   "execution_count": 30,
   "metadata": {},
   "outputs": [],
   "source": [
    "subset_data.to_excel(f\"{SHEETS_PATH}\\\\subset_data.xlsx\", index=False)"
   ]
  }
 ],
 "metadata": {
  "kernelspec": {
   "display_name": "modern_slavery",
   "language": "python",
   "name": "modern_slavery"
  },
  "language_info": {
   "codemirror_mode": {
    "name": "ipython",
    "version": 3
   },
   "file_extension": ".py",
   "mimetype": "text/x-python",
   "name": "python",
   "nbconvert_exporter": "python",
   "pygments_lexer": "ipython3",
   "version": "3.9.0"
  }
 },
 "nbformat": 4,
 "nbformat_minor": 4
}
