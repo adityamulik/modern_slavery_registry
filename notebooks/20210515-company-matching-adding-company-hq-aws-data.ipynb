{
 "cells": [
  {
   "cell_type": "markdown",
   "metadata": {},
   "source": [
    "# This notebook is used to add missing headquarters for modern slavery statements extracted by me using modern slavery statements from modern slavery research package"
   ]
  },
  {
   "cell_type": "code",
   "execution_count": 1,
   "metadata": {},
   "outputs": [],
   "source": [
    "# use if autocompletion is not working\n",
    "%config Completer.use_jedi = False"
   ]
  },
  {
   "cell_type": "code",
   "execution_count": 2,
   "metadata": {},
   "outputs": [],
   "source": [
    "%load_ext autoreload\n",
    "%autoreload 2"
   ]
  },
  {
   "cell_type": "code",
   "execution_count": 3,
   "metadata": {},
   "outputs": [],
   "source": [
    "import os\n",
    "import pandas as pd\n",
    "import json\n",
    "import numpy as np\n",
    "from tqdm import tqdm\n",
    "\n",
    "from fuzzywuzzy import fuzz\n",
    "\n",
    "from typing import List, Callable, Tuple\n",
    "from copy import deepcopy\n",
    "from sys import getsizeof\n",
    "from time import sleep\n",
    "from IPython.display import clear_output\n",
    "\n",
    "import re"
   ]
  },
  {
   "cell_type": "code",
   "execution_count": 4,
   "metadata": {},
   "outputs": [],
   "source": [
    "from modern_slavery_registry import get_root_path"
   ]
  },
  {
   "cell_type": "code",
   "execution_count": 5,
   "metadata": {},
   "outputs": [],
   "source": [
    "PROJECT_PATH = get_root_path()\n",
    "DATA_PATH = os.path.join(PROJECT_PATH, \"data\")\n",
    "\n",
    "# COMPANIES_JSON = \"companies_060421.json\""
   ]
  },
  {
   "cell_type": "code",
   "execution_count": 6,
   "metadata": {},
   "outputs": [
    {
     "data": {
      "text/plain": [
       "['.ipynb_checkpoints',\n",
       " 'fuzzy_matches.xlsx',\n",
       " 'modern_slavery_dataset.csv',\n",
       " 'subset_data.xlsx',\n",
       " 'ext_shawn_creds.csv']"
      ]
     },
     "execution_count": 6,
     "metadata": {},
     "output_type": "execute_result"
    }
   ],
   "source": [
    "os.listdir(os.path.join(DATA_PATH, \"sheets\"))"
   ]
  },
  {
   "cell_type": "markdown",
   "metadata": {},
   "source": [
    "## Loading shared dataset from modern-slavery-research package"
   ]
  },
  {
   "cell_type": "code",
   "execution_count": 7,
   "metadata": {},
   "outputs": [],
   "source": [
    "shared_statements = pd.read_csv(os.path.join(DATA_PATH, \"sheets\", \"modern_slavery_dataset.csv\"))"
   ]
  },
  {
   "cell_type": "code",
   "execution_count": 8,
   "metadata": {},
   "outputs": [
    {
     "data": {
      "text/html": [
       "<div>\n",
       "<style scoped>\n",
       "    .dataframe tbody tr th:only-of-type {\n",
       "        vertical-align: middle;\n",
       "    }\n",
       "\n",
       "    .dataframe tbody tr th {\n",
       "        vertical-align: top;\n",
       "    }\n",
       "\n",
       "    .dataframe thead th {\n",
       "        text-align: right;\n",
       "    }\n",
       "</style>\n",
       "<table border=\"1\" class=\"dataframe\">\n",
       "  <thead>\n",
       "    <tr style=\"text-align: right;\">\n",
       "      <th></th>\n",
       "      <th>Company ID</th>\n",
       "      <th>Company</th>\n",
       "      <th>Is Publisher</th>\n",
       "      <th>Statement ID</th>\n",
       "      <th>URL</th>\n",
       "      <th>Override URL</th>\n",
       "      <th>Companies House Number</th>\n",
       "      <th>Industry</th>\n",
       "      <th>HQ</th>\n",
       "      <th>Is Also Covered</th>\n",
       "      <th>UK Modern Slavery Act</th>\n",
       "      <th>California Transparency in Supply Chains Act</th>\n",
       "      <th>Australia Modern Slavery Act</th>\n",
       "      <th>Period Covered</th>\n",
       "      <th>Text</th>\n",
       "    </tr>\n",
       "  </thead>\n",
       "  <tbody>\n",
       "    <tr>\n",
       "      <th>0</th>\n",
       "      <td>7676</td>\n",
       "      <td>\"K\" Line Holding Europe Limited</td>\n",
       "      <td>True</td>\n",
       "      <td>35092.0</td>\n",
       "      <td>https://img1.wsimg.com/blobby/go/7695baff-3f0f...</td>\n",
       "      <td>NaN</td>\n",
       "      <td>05005018</td>\n",
       "      <td>Marine</td>\n",
       "      <td>United Kingdom</td>\n",
       "      <td>False</td>\n",
       "      <td>True</td>\n",
       "      <td>False</td>\n",
       "      <td>False</td>\n",
       "      <td>2018-2019</td>\n",
       "      <td>K LINE\\nHOLDINC (EUROPE) LTD.\\nModern Slavery ...</td>\n",
       "    </tr>\n",
       "    <tr>\n",
       "      <th>1</th>\n",
       "      <td>28660</td>\n",
       "      <td>\"K\" Line Bulk Shipping (UK) Limited</td>\n",
       "      <td>False</td>\n",
       "      <td>35092.0</td>\n",
       "      <td>https://img1.wsimg.com/blobby/go/7695baff-3f0f...</td>\n",
       "      <td>NaN</td>\n",
       "      <td>04830352</td>\n",
       "      <td>Marine</td>\n",
       "      <td>United Kingdom</td>\n",
       "      <td>True</td>\n",
       "      <td>True</td>\n",
       "      <td>False</td>\n",
       "      <td>False</td>\n",
       "      <td>2018-2019</td>\n",
       "      <td>K LINE\\nHOLDINC (EUROPE) LTD.\\nModern Slavery ...</td>\n",
       "    </tr>\n",
       "    <tr>\n",
       "      <th>2</th>\n",
       "      <td>28659</td>\n",
       "      <td>\"K\" Line (Europe) Limited</td>\n",
       "      <td>False</td>\n",
       "      <td>35092.0</td>\n",
       "      <td>https://img1.wsimg.com/blobby/go/7695baff-3f0f...</td>\n",
       "      <td>NaN</td>\n",
       "      <td>05639474</td>\n",
       "      <td>Marine</td>\n",
       "      <td>United Kingdom</td>\n",
       "      <td>True</td>\n",
       "      <td>True</td>\n",
       "      <td>False</td>\n",
       "      <td>False</td>\n",
       "      <td>2018-2019</td>\n",
       "      <td>K LINE\\nHOLDINC (EUROPE) LTD.\\nModern Slavery ...</td>\n",
       "    </tr>\n",
       "    <tr>\n",
       "      <th>3</th>\n",
       "      <td>28661</td>\n",
       "      <td>\"K\" Line LNG Shipping Limited</td>\n",
       "      <td>False</td>\n",
       "      <td>35092.0</td>\n",
       "      <td>https://img1.wsimg.com/blobby/go/7695baff-3f0f...</td>\n",
       "      <td>NaN</td>\n",
       "      <td>NaN</td>\n",
       "      <td>Marine</td>\n",
       "      <td>United Kingdom</td>\n",
       "      <td>True</td>\n",
       "      <td>True</td>\n",
       "      <td>False</td>\n",
       "      <td>False</td>\n",
       "      <td>2018-2019</td>\n",
       "      <td>K LINE\\nHOLDINC (EUROPE) LTD.\\nModern Slavery ...</td>\n",
       "    </tr>\n",
       "    <tr>\n",
       "      <th>4</th>\n",
       "      <td>28658</td>\n",
       "      <td>Polar LNG Shipping (UK) Limited</td>\n",
       "      <td>False</td>\n",
       "      <td>35092.0</td>\n",
       "      <td>https://img1.wsimg.com/blobby/go/7695baff-3f0f...</td>\n",
       "      <td>NaN</td>\n",
       "      <td>02205323</td>\n",
       "      <td>Marine</td>\n",
       "      <td>United Kingdom</td>\n",
       "      <td>True</td>\n",
       "      <td>True</td>\n",
       "      <td>False</td>\n",
       "      <td>False</td>\n",
       "      <td>2018-2019</td>\n",
       "      <td>K LINE\\nHOLDINC (EUROPE) LTD.\\nModern Slavery ...</td>\n",
       "    </tr>\n",
       "  </tbody>\n",
       "</table>\n",
       "</div>"
      ],
      "text/plain": [
       "   Company ID                              Company Is Publisher  Statement ID  \\\n",
       "0        7676      \"K\" Line Holding Europe Limited         True       35092.0   \n",
       "1       28660  \"K\" Line Bulk Shipping (UK) Limited        False       35092.0   \n",
       "2       28659            \"K\" Line (Europe) Limited        False       35092.0   \n",
       "3       28661        \"K\" Line LNG Shipping Limited        False       35092.0   \n",
       "4       28658      Polar LNG Shipping (UK) Limited        False       35092.0   \n",
       "\n",
       "                                                 URL Override URL  \\\n",
       "0  https://img1.wsimg.com/blobby/go/7695baff-3f0f...          NaN   \n",
       "1  https://img1.wsimg.com/blobby/go/7695baff-3f0f...          NaN   \n",
       "2  https://img1.wsimg.com/blobby/go/7695baff-3f0f...          NaN   \n",
       "3  https://img1.wsimg.com/blobby/go/7695baff-3f0f...          NaN   \n",
       "4  https://img1.wsimg.com/blobby/go/7695baff-3f0f...          NaN   \n",
       "\n",
       "  Companies House Number Industry              HQ Is Also Covered  \\\n",
       "0               05005018   Marine  United Kingdom           False   \n",
       "1               04830352   Marine  United Kingdom            True   \n",
       "2               05639474   Marine  United Kingdom            True   \n",
       "3                    NaN   Marine  United Kingdom            True   \n",
       "4               02205323   Marine  United Kingdom            True   \n",
       "\n",
       "  UK Modern Slavery Act California Transparency in Supply Chains Act  \\\n",
       "0                  True                                        False   \n",
       "1                  True                                        False   \n",
       "2                  True                                        False   \n",
       "3                  True                                        False   \n",
       "4                  True                                        False   \n",
       "\n",
       "  Australia Modern Slavery Act Period Covered  \\\n",
       "0                        False      2018-2019   \n",
       "1                        False      2018-2019   \n",
       "2                        False      2018-2019   \n",
       "3                        False      2018-2019   \n",
       "4                        False      2018-2019   \n",
       "\n",
       "                                                Text  \n",
       "0  K LINE\\nHOLDINC (EUROPE) LTD.\\nModern Slavery ...  \n",
       "1  K LINE\\nHOLDINC (EUROPE) LTD.\\nModern Slavery ...  \n",
       "2  K LINE\\nHOLDINC (EUROPE) LTD.\\nModern Slavery ...  \n",
       "3  K LINE\\nHOLDINC (EUROPE) LTD.\\nModern Slavery ...  \n",
       "4  K LINE\\nHOLDINC (EUROPE) LTD.\\nModern Slavery ...  "
      ]
     },
     "execution_count": 8,
     "metadata": {},
     "output_type": "execute_result"
    }
   ],
   "source": [
    "shared_statements.head()"
   ]
  },
  {
   "cell_type": "code",
   "execution_count": 9,
   "metadata": {},
   "outputs": [
    {
     "data": {
      "text/plain": [
       "Company ID                                          0\n",
       "Company                                           889\n",
       "Is Publisher                                      889\n",
       "Statement ID                                      889\n",
       "URL                                                 0\n",
       "Override URL                                    28399\n",
       "Companies House Number                           6530\n",
       "Industry                                          889\n",
       "HQ                                                889\n",
       "Is Also Covered                                   889\n",
       "UK Modern Slavery Act                             889\n",
       "California Transparency in Supply Chains Act      889\n",
       "Australia Modern Slavery Act                      889\n",
       "Period Covered                                   1552\n",
       "Text                                             9795\n",
       "dtype: int64"
      ]
     },
     "execution_count": 9,
     "metadata": {},
     "output_type": "execute_result"
    }
   ],
   "source": [
    "shared_statements.isna().sum(axis=0)"
   ]
  },
  {
   "cell_type": "code",
   "execution_count": 10,
   "metadata": {},
   "outputs": [
    {
     "data": {
      "text/plain": [
       "2018         5743\n",
       "2016         3683\n",
       "2017-2018    3420\n",
       "2017         3139\n",
       "2018-2019    3089\n",
       "2015-2016    2958\n",
       "2019         1992\n",
       "2016-2017    1988\n",
       "2019-2020     695\n",
       "2015           64\n",
       "2020           44\n",
       "2014           24\n",
       "2020-2021      17\n",
       "2015-2017       3\n",
       "2016-2018       2\n",
       "2014-2015       2\n",
       "2018-2020       1\n",
       "2015-2020       1\n",
       "Name: Period Covered, dtype: int64"
      ]
     },
     "execution_count": 10,
     "metadata": {},
     "output_type": "execute_result"
    }
   ],
   "source": [
    "shared_statements[\"Period Covered\"].value_counts()"
   ]
  },
  {
   "cell_type": "markdown",
   "metadata": {},
   "source": [
    "## Loading my statements"
   ]
  },
  {
   "cell_type": "code",
   "execution_count": 11,
   "metadata": {},
   "outputs": [],
   "source": [
    "my_statements = pd.read_json(os.path.join(DATA_PATH, \"subset_data_with_additional_info.json\"))"
   ]
  },
  {
   "cell_type": "code",
   "execution_count": 12,
   "metadata": {},
   "outputs": [
    {
     "data": {
      "text/plain": [
       "950"
      ]
     },
     "execution_count": 12,
     "metadata": {},
     "output_type": "execute_result"
    }
   ],
   "source": [
    "my_statements[\"additional_info\"].isna().sum()"
   ]
  },
  {
   "cell_type": "markdown",
   "metadata": {},
   "source": [
    "## Companies with no additional information in my statements"
   ]
  },
  {
   "cell_type": "code",
   "execution_count": 13,
   "metadata": {},
   "outputs": [
    {
     "data": {
      "text/plain": [
       "(950, 895)"
      ]
     },
     "execution_count": 13,
     "metadata": {},
     "output_type": "execute_result"
    }
   ],
   "source": [
    "comp_with_na_add_info = my_statements[my_statements[\"additional_info\"].isna()][\"Company\"]\n",
    "len(comp_with_na_add_info), len(comp_with_na_add_info.drop_duplicates())"
   ]
  },
  {
   "cell_type": "markdown",
   "metadata": {},
   "source": [
    "## Getting different headquarter values from my statements"
   ]
  },
  {
   "cell_type": "code",
   "execution_count": 14,
   "metadata": {},
   "outputs": [
    {
     "name": "stderr",
     "output_type": "stream",
     "text": [
      "                  \r"
     ]
    },
    {
     "data": {
      "text/plain": [
       "{'',\n",
       " 'AE',\n",
       " 'AF',\n",
       " 'AT',\n",
       " 'AU',\n",
       " 'BE',\n",
       " 'BH',\n",
       " 'BM',\n",
       " 'BR',\n",
       " 'CA',\n",
       " 'CH',\n",
       " 'CL',\n",
       " 'CN',\n",
       " 'CY',\n",
       " 'DE',\n",
       " 'DK',\n",
       " 'ES',\n",
       " 'FI',\n",
       " 'FR',\n",
       " 'GB',\n",
       " 'GE',\n",
       " 'GG',\n",
       " 'GL',\n",
       " 'HK',\n",
       " 'HN',\n",
       " 'IE',\n",
       " 'IL',\n",
       " 'IN',\n",
       " 'IO',\n",
       " 'IT',\n",
       " 'JE',\n",
       " 'JP',\n",
       " 'KR',\n",
       " 'KW',\n",
       " 'KZ',\n",
       " 'LU',\n",
       " 'MX',\n",
       " 'MY',\n",
       " 'NL',\n",
       " 'NO',\n",
       " 'NZ',\n",
       " None,\n",
       " 'OM',\n",
       " 'PH',\n",
       " 'PL',\n",
       " 'QA',\n",
       " 'RU',\n",
       " 'SA',\n",
       " 'SE',\n",
       " 'SG',\n",
       " 'TH',\n",
       " 'TR',\n",
       " 'TW',\n",
       " 'UG',\n",
       " 'US',\n",
       " 'VN',\n",
       " 'ZA'}"
      ]
     },
     "execution_count": 14,
     "metadata": {},
     "output_type": "execute_result"
    }
   ],
   "source": [
    "comp_from_my_statements = set()\n",
    "\n",
    "for i, add_info in tqdm(enumerate(my_statements[\"additional_info\"].values), leave=False):\n",
    "    if add_info is not None:\n",
    "        for HQ in add_info[\"headquarters\"]: \n",
    "            comp_from_my_statements.add(HQ)\n",
    "\n",
    "comp_from_my_statements"
   ]
  },
  {
   "cell_type": "markdown",
   "metadata": {},
   "source": [
    "## Checking additional info values where headquarter is either None or empty (\"\")"
   ]
  },
  {
   "cell_type": "code",
   "execution_count": 15,
   "metadata": {},
   "outputs": [
    {
     "name": "stderr",
     "output_type": "stream",
     "text": [
      "                  "
     ]
    },
    {
     "name": "stdout",
     "output_type": "stream",
     "text": [
      "243 {'id': ['895747'], 'headquarters': [None], 'sectors': {'Professional Services': ['Law firms']}, 'matched_company': 'Akin Gump Strauss Hauer & Feld LLP'}\n",
      "21 {'id': ['906211'], 'headquarters': [''], 'sectors': {'Military/weapons/security equipment': ['Military/weapons/security equipment: General'], 'Services': ['Security companies']}, 'matched_company': 'A J Walter Aviation Limited'}\n"
     ]
    },
    {
     "name": "stderr",
     "output_type": "stream",
     "text": [
      "\r"
     ]
    }
   ],
   "source": [
    "stop = False\n",
    "for i, add_info in tqdm(enumerate(my_statements[\"additional_info\"].values), leave=False):\n",
    "    if add_info is not None:  \n",
    "        for HQ in add_info[\"headquarters\"]: \n",
    "            if HQ==None:\n",
    "                print(i, add_info)\n",
    "                stop=True\n",
    "    if stop: break\n",
    "\n",
    "stop = False\n",
    "for i, add_info in tqdm(enumerate(my_statements[\"additional_info\"].values), leave=False):\n",
    "    if add_info is not None:\n",
    "        for HQ in add_info[\"headquarters\"]: \n",
    "            if HQ==\"\":\n",
    "                print(i, add_info)\n",
    "                stop=True\n",
    "            \n",
    "    if stop: break\n"
   ]
  },
  {
   "cell_type": "markdown",
   "metadata": {},
   "source": [
    "## Finding companies with missing headquarters in my statements\n",
    "\n",
    "Missing headquarters can be where there is no additional information or where `None` or `\"\"` are present as values in headquarters"
   ]
  },
  {
   "cell_type": "code",
   "execution_count": 16,
   "metadata": {},
   "outputs": [
    {
     "name": "stderr",
     "output_type": "stream",
     "text": [
      "                                        "
     ]
    },
    {
     "name": "stdout",
     "output_type": "stream",
     "text": [
      "Found 1214 with missing hq.\n"
     ]
    },
    {
     "name": "stderr",
     "output_type": "stream",
     "text": [
      "\r"
     ]
    }
   ],
   "source": [
    "comp_with_na_hq = set()\n",
    "\n",
    "for comp, add_info in tqdm(my_statements[[\"Company\", \"additional_info\"]].values, leave=False):\n",
    "    if add_info is None:\n",
    "        comp_with_na_hq.add(comp)\n",
    "    else:\n",
    "        for hq in add_info[\"headquarters\"]:\n",
    "            if hq in [None, \"\", np.NaN]:\n",
    "                comp_with_na_hq.add(comp)\n",
    "                \n",
    "                \n",
    "print(f\"Found {len(comp_with_na_hq)} with missing hq.\")\n",
    "\n",
    "comp_with_na_hq = pd.DataFrame(comp_with_na_hq, columns=[\"Company\"])"
   ]
  },
  {
   "cell_type": "markdown",
   "metadata": {},
   "source": [
    "## Checking headquarters in shared statements"
   ]
  },
  {
   "cell_type": "code",
   "execution_count": 17,
   "metadata": {},
   "outputs": [
    {
     "data": {
      "text/plain": [
       "United Kingdom                    20981\n",
       "Country unknown                    2690\n",
       "United States                      2182\n",
       "Germany                             199\n",
       "Ireland                             132\n",
       "                                  ...  \n",
       "Iraq                                  1\n",
       "British Indian Ocean Territory        1\n",
       "Uruguay                               1\n",
       "Bahamas                               1\n",
       "Sri Lanka                             1\n",
       "Name: HQ, Length: 80, dtype: int64"
      ]
     },
     "execution_count": 17,
     "metadata": {},
     "output_type": "execute_result"
    }
   ],
   "source": [
    "shared_statements[\"HQ\"].value_counts()"
   ]
  },
  {
   "cell_type": "markdown",
   "metadata": {},
   "source": [
    "## Extracting HQ from shared statements wherever available"
   ]
  },
  {
   "cell_type": "code",
   "execution_count": 18,
   "metadata": {},
   "outputs": [],
   "source": [
    "comp_with_na_hq_fixed = pd.merge(\n",
    "    comp_with_na_hq,\n",
    "    shared_statements[shared_statements[\"HQ\"]!=\"Country unknown\"][[\"Company\", \"HQ\"]].drop_duplicates().dropna(),\n",
    "    on=\"Company\",\n",
    "    how=\"left\")\n",
    "\n",
    "comp_with_na_hq_fixed = comp_with_na_hq_fixed.set_index(\"Company\").to_dict()[\"HQ\"]"
   ]
  },
  {
   "cell_type": "code",
   "execution_count": 19,
   "metadata": {},
   "outputs": [],
   "source": [
    "add_info_structure = {'id': [None], 'headquarters': [None], 'sectors': {}, 'matched_company': None}"
   ]
  },
  {
   "cell_type": "markdown",
   "metadata": {},
   "source": [
    "## Adding missing HQ in my statements"
   ]
  },
  {
   "cell_type": "code",
   "execution_count": 20,
   "metadata": {},
   "outputs": [
    {
     "name": "stderr",
     "output_type": "stream",
     "text": [
      "                           \r"
     ]
    }
   ],
   "source": [
    "fixed_rows = []\n",
    "for row in tqdm(my_statements.iterrows(), leave=False):\n",
    "    row = deepcopy(row[1].to_dict())\n",
    "    if row[\"additional_info\"] is None:\n",
    "        row[\"additional_info\"] = add_info_structure\n",
    "    \n",
    "    if len(set([\"\", None]).intersection(row[\"additional_info\"][\"headquarters\"])) > 0:\n",
    "        row[\"additional_info\"][\"headquarters\"] = [comp_with_na_hq_fixed[row[\"Company\"]]]\n",
    "    \n",
    "    fixed_rows.append(row)"
   ]
  },
  {
   "cell_type": "code",
   "execution_count": 21,
   "metadata": {},
   "outputs": [
    {
     "name": "stderr",
     "output_type": "stream",
     "text": [
      "                                        "
     ]
    },
    {
     "name": "stdout",
     "output_type": "stream",
     "text": [
      "Found 75 companies with missing hq.\n",
      "Found 8102 companies with hq.\n"
     ]
    },
    {
     "name": "stderr",
     "output_type": "stream",
     "text": [
      "\r"
     ]
    }
   ],
   "source": [
    "comp_with_na_hq = set()\n",
    "comp_with_hq = set()\n",
    "\n",
    "for row in tqdm(fixed_rows, leave=False):\n",
    "    for hq in row[\"additional_info\"][\"headquarters\"]:\n",
    "        if hq in [None, \"\", np.NaN]:\n",
    "            comp_with_na_hq.add(row[\"Company\"])\n",
    "        else:\n",
    "            comp_with_hq.add(row[\"Company\"])\n",
    "                      \n",
    "print(f\"Found {len(comp_with_na_hq)} companies with missing hq.\")\n",
    "print(f\"Found {len(comp_with_hq)} companies with hq.\")"
   ]
  },
  {
   "cell_type": "code",
   "execution_count": 22,
   "metadata": {},
   "outputs": [
    {
     "name": "stdout",
     "output_type": "stream",
     "text": [
      "Total 8177 unique companies\n"
     ]
    }
   ],
   "source": [
    "print(f\"Total {len(my_statements['Company'].unique())} unique companies\")"
   ]
  },
  {
   "cell_type": "code",
   "execution_count": 23,
   "metadata": {},
   "outputs": [],
   "source": [
    "with open(os.path.join(DATA_PATH, 'subset-data-with-additional-info-v2.json'), 'w') as f:\n",
    "    json.dump(fixed_rows, f)"
   ]
  },
  {
   "cell_type": "code",
   "execution_count": 24,
   "metadata": {},
   "outputs": [],
   "source": [
    "my_statements = pd.read_json(os.path.join(DATA_PATH, \"subset-data-with-additional-info-v2.json\"))"
   ]
  },
  {
   "cell_type": "code",
   "execution_count": 25,
   "metadata": {},
   "outputs": [],
   "source": [
    "headquarters = set()\n",
    "for row in my_statements[\"additional_info\"].values:\n",
    "    for hq in row[\"headquarters\"]:\n",
    "        headquarters.add(hq)"
   ]
  },
  {
   "cell_type": "code",
   "execution_count": 26,
   "metadata": {},
   "outputs": [
    {
     "data": {
      "text/plain": [
       "{'AE',\n",
       " 'AF',\n",
       " 'AT',\n",
       " 'AU',\n",
       " 'Australia',\n",
       " 'Austria',\n",
       " 'BE',\n",
       " 'BH',\n",
       " 'BM',\n",
       " 'BR',\n",
       " 'Belgium',\n",
       " 'CA',\n",
       " 'CH',\n",
       " 'CL',\n",
       " 'CN',\n",
       " 'CY',\n",
       " 'Canada',\n",
       " 'DE',\n",
       " 'DK',\n",
       " 'ES',\n",
       " 'FI',\n",
       " 'FR',\n",
       " 'Finland',\n",
       " 'GB',\n",
       " 'GE',\n",
       " 'GG',\n",
       " 'GL',\n",
       " 'Germany',\n",
       " 'HK',\n",
       " 'HN',\n",
       " 'Hong Kong',\n",
       " 'IE',\n",
       " 'IL',\n",
       " 'IN',\n",
       " 'IO',\n",
       " 'IT',\n",
       " 'India',\n",
       " 'Ireland',\n",
       " 'JE',\n",
       " 'JP',\n",
       " 'Japan',\n",
       " 'KR',\n",
       " 'KW',\n",
       " 'KZ',\n",
       " 'LU',\n",
       " 'Luxembourg',\n",
       " 'MX',\n",
       " 'MY',\n",
       " 'NL',\n",
       " 'NO',\n",
       " 'NZ',\n",
       " 'Netherlands',\n",
       " None,\n",
       " 'OM',\n",
       " 'PH',\n",
       " 'PL',\n",
       " 'QA',\n",
       " 'RU',\n",
       " 'SA',\n",
       " 'SE',\n",
       " 'SG',\n",
       " 'Spain',\n",
       " 'Sweden',\n",
       " 'TH',\n",
       " 'TR',\n",
       " 'TW',\n",
       " 'Taiwan',\n",
       " 'UG',\n",
       " 'US',\n",
       " 'United Arab Emirates',\n",
       " 'United Kingdom',\n",
       " 'United States',\n",
       " 'VN',\n",
       " 'ZA'}"
      ]
     },
     "execution_count": 26,
     "metadata": {},
     "output_type": "execute_result"
    }
   ],
   "source": [
    "headquarters"
   ]
  },
  {
   "cell_type": "code",
   "execution_count": 27,
   "metadata": {},
   "outputs": [
    {
     "data": {
      "text/plain": [
       "9993"
      ]
     },
     "execution_count": 27,
     "metadata": {},
     "output_type": "execute_result"
    }
   ],
   "source": [
    "len(my_statements)"
   ]
  },
  {
   "cell_type": "code",
   "execution_count": null,
   "metadata": {},
   "outputs": [],
   "source": []
  }
 ],
 "metadata": {
  "kernelspec": {
   "display_name": "modern_slavery",
   "language": "python",
   "name": "modern_slavery"
  },
  "language_info": {
   "codemirror_mode": {
    "name": "ipython",
    "version": 3
   },
   "file_extension": ".py",
   "mimetype": "text/x-python",
   "name": "python",
   "nbconvert_exporter": "python",
   "pygments_lexer": "ipython3",
   "version": "3.9.4"
  }
 },
 "nbformat": 4,
 "nbformat_minor": 4
}
