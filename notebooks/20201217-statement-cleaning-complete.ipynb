{
 "cells": [
  {
   "cell_type": "markdown",
   "metadata": {},
   "source": [
    "# Notebook Outline"
   ]
  },
  {
   "cell_type": "markdown",
   "metadata": {},
   "source": [
    "1. Loading statements from Nitin and Edgar \n",
    "\n",
    "1. Combining statements from Nitin and Edgar\n",
    "\n",
    "1. Selecting unique and non-NA statements\n",
    "\n",
    "1. Extracting year from statement\n",
    "\n",
    "1. Text processing and cleaning  \n",
    "  \n",
    "    * uk to us conversion, for ex. organisation -> organization\n",
    "    * extracting and removing urls from text\n",
    "    * removing sentences with words \"privacy\", \"cookies\"\n",
    "    * removing stopwords, special characters\n",
    "    * fixing word contractions, for ex. they'll -> they will\n",
    "    * removing company name from the statement - company name in the statement is not relevant for textual analysis\n",
    "    * lemmatization (lemmatize automatically using NLTK POS tagger)\n",
    "    * filtering words with word-size between 2 and 15\n",
    "    \n",
    "1. Generating similarity score between statements and removing 99% duplicate statements\n",
    "\n",
    "1. Finding a threshold length to check whether a statement is modern slavery statement or scrap statement"
   ]
  },
  {
   "cell_type": "code",
   "execution_count": 1,
   "metadata": {},
   "outputs": [],
   "source": [
    "# use if autocompletion is not working\n",
    "%config Completer.use_jedi = False"
   ]
  },
  {
   "cell_type": "code",
   "execution_count": 2,
   "metadata": {},
   "outputs": [],
   "source": [
    "%load_ext autoreload\n",
    "%autoreload 2"
   ]
  },
  {
   "cell_type": "code",
   "execution_count": null,
   "metadata": {},
   "outputs": [],
   "source": [
    "import pandas as pd\n",
    "from os import getcwd\n",
    "import numpy as np\n",
    "from tqdm import tqdm\n",
    "import re\n",
    "from typing import Tuple, Dict, Sequence, List, Union\n",
    "from copy import deepcopy\n",
    "from urlextract import URLExtract\n",
    "from nltk.stem import WordNetLemmatizer\n",
    "from matplotlib import pyplot as plt\n",
    "from matplotlib.ticker import MaxNLocator\n",
    "from sklearn.feature_extraction.text import CountVectorizer\n",
    "from sklearn.metrics.pairwise import cosine_similarity\n",
    "from spacy import load\n",
    "\n",
    "import nltk\n",
    "from nltk.corpus import wordnet"
   ]
  },
  {
   "cell_type": "code",
   "execution_count": 4,
   "metadata": {},
   "outputs": [],
   "source": [
    "from modern_slavery_registry import text_parser, utils"
   ]
  },
  {
   "cell_type": "code",
   "execution_count": 5,
   "metadata": {},
   "outputs": [],
   "source": [
    "PROJECT_PATH = getcwd()\n",
    "PROJECT_PATH = PROJECT_PATH.replace(\"\\\\notebooks\", \"\")\n",
    "DATA_PATH = PROJECT_PATH +  \"\\\\data\"\n",
    "SHEETS_PATH = DATA_PATH + \"\\\\sheets\"\n",
    "RANDOM_STATE = 42"
   ]
  },
  {
   "cell_type": "markdown",
   "metadata": {},
   "source": [
    "## Loading modern slavery statements from Edgar and Nitin"
   ]
  },
  {
   "cell_type": "code",
   "execution_count": 6,
   "metadata": {},
   "outputs": [
    {
     "name": "stdout",
     "output_type": "stream",
     "text": [
      "Total statements (non-NA and NA) Edgar: 28361, Nitin: 27527 \n"
     ]
    }
   ],
   "source": [
    "prof_data = pd.read_json(f\"{SHEETS_PATH}\\\\modern_slavery_dataset_prof.json\")\n",
    "cols_to_keep = [\"Company ID\", \"Company\", \"Statement ID\", \"URL\", \"Text\"]\n",
    "prof_data.drop_duplicates(inplace=True)\n",
    "prof_data.dropna(subset=[\"Company ID\"], inplace=True)\n",
    "prof_data.reset_index(drop=True, inplace=True)\n",
    "prof_data = prof_data[cols_to_keep]\n",
    "cols_type = [\"int32\", str, float, str, str]\n",
    "for i, col in enumerate(prof_data.columns):\n",
    "    prof_data[col] = prof_data[col].astype(cols_type[i])\n",
    "prof_data.rename(columns = {\"Text\": \"statement(Edgar)\"},  \n",
    "                 inplace = True) \n",
    "\n",
    "\n",
    "\n",
    "my_data = pd.read_excel(f\"{SHEETS_PATH}\\\\modern_slavery_dataset_nitin.xlsx\")\n",
    "cols_to_keep = [\"Company ID\", \"Company\", \"Statement ID\", \"URL\", \"statement\"]\n",
    "my_data.drop_duplicates(inplace=True)\n",
    "my_data.dropna(subset=[\"Company ID\"], inplace=True)\n",
    "my_data.reset_index(drop=True, inplace=True)\n",
    "my_data = my_data[cols_to_keep]\n",
    "for i, col in enumerate(my_data.columns):\n",
    "    my_data[col] = my_data[col].astype(cols_type[i])\n",
    "my_data.rename(columns = {\"statement\": \"statement(Nitin)\"},  \n",
    "               inplace = True)\n",
    "\n",
    "print(f\"Total statements (non-NA and NA) Edgar: {len(prof_data)}, Nitin: {len(my_data)} \")"
   ]
  },
  {
   "cell_type": "code",
   "execution_count": 7,
   "metadata": {},
   "outputs": [
    {
     "data": {
      "text/html": [
       "<div>\n",
       "<style scoped>\n",
       "    .dataframe tbody tr th:only-of-type {\n",
       "        vertical-align: middle;\n",
       "    }\n",
       "\n",
       "    .dataframe tbody tr th {\n",
       "        vertical-align: top;\n",
       "    }\n",
       "\n",
       "    .dataframe thead th {\n",
       "        text-align: right;\n",
       "    }\n",
       "</style>\n",
       "<table border=\"1\" class=\"dataframe\">\n",
       "  <thead>\n",
       "    <tr style=\"text-align: right;\">\n",
       "      <th></th>\n",
       "      <th>Company ID</th>\n",
       "      <th>Company</th>\n",
       "      <th>Statement ID</th>\n",
       "      <th>URL</th>\n",
       "      <th>statement(Edgar)</th>\n",
       "    </tr>\n",
       "  </thead>\n",
       "  <tbody>\n",
       "    <tr>\n",
       "      <th>0</th>\n",
       "      <td>7676</td>\n",
       "      <td>\"K\" Line Holding Europe Limited</td>\n",
       "      <td>35092.0</td>\n",
       "      <td>https://img1.wsimg.com/blobby/go/7695baff-3f0f...</td>\n",
       "      <td>K LINE\\nHOLDINC (EUROPE) LTD.\\nModern Slavery ...</td>\n",
       "    </tr>\n",
       "    <tr>\n",
       "      <th>1</th>\n",
       "      <td>28660</td>\n",
       "      <td>\"K\" Line Bulk Shipping (UK) Limited</td>\n",
       "      <td>35092.0</td>\n",
       "      <td>https://img1.wsimg.com/blobby/go/7695baff-3f0f...</td>\n",
       "      <td>K LINE\\nHOLDINC (EUROPE) LTD.\\nModern Slavery ...</td>\n",
       "    </tr>\n",
       "    <tr>\n",
       "      <th>2</th>\n",
       "      <td>28659</td>\n",
       "      <td>\"K\" Line (Europe) Limited</td>\n",
       "      <td>35092.0</td>\n",
       "      <td>https://img1.wsimg.com/blobby/go/7695baff-3f0f...</td>\n",
       "      <td>K LINE\\nHOLDINC (EUROPE) LTD.\\nModern Slavery ...</td>\n",
       "    </tr>\n",
       "  </tbody>\n",
       "</table>\n",
       "</div>"
      ],
      "text/plain": [
       "   Company ID                              Company  Statement ID  \\\n",
       "0        7676      \"K\" Line Holding Europe Limited       35092.0   \n",
       "1       28660  \"K\" Line Bulk Shipping (UK) Limited       35092.0   \n",
       "2       28659            \"K\" Line (Europe) Limited       35092.0   \n",
       "\n",
       "                                                 URL  \\\n",
       "0  https://img1.wsimg.com/blobby/go/7695baff-3f0f...   \n",
       "1  https://img1.wsimg.com/blobby/go/7695baff-3f0f...   \n",
       "2  https://img1.wsimg.com/blobby/go/7695baff-3f0f...   \n",
       "\n",
       "                                    statement(Edgar)  \n",
       "0  K LINE\\nHOLDINC (EUROPE) LTD.\\nModern Slavery ...  \n",
       "1  K LINE\\nHOLDINC (EUROPE) LTD.\\nModern Slavery ...  \n",
       "2  K LINE\\nHOLDINC (EUROPE) LTD.\\nModern Slavery ...  "
      ]
     },
     "execution_count": 7,
     "metadata": {},
     "output_type": "execute_result"
    }
   ],
   "source": [
    "prof_data.head(3)"
   ]
  },
  {
   "cell_type": "code",
   "execution_count": 8,
   "metadata": {},
   "outputs": [
    {
     "data": {
      "text/html": [
       "<div>\n",
       "<style scoped>\n",
       "    .dataframe tbody tr th:only-of-type {\n",
       "        vertical-align: middle;\n",
       "    }\n",
       "\n",
       "    .dataframe tbody tr th {\n",
       "        vertical-align: top;\n",
       "    }\n",
       "\n",
       "    .dataframe thead th {\n",
       "        text-align: right;\n",
       "    }\n",
       "</style>\n",
       "<table border=\"1\" class=\"dataframe\">\n",
       "  <thead>\n",
       "    <tr style=\"text-align: right;\">\n",
       "      <th></th>\n",
       "      <th>Company ID</th>\n",
       "      <th>Company</th>\n",
       "      <th>Statement ID</th>\n",
       "      <th>URL</th>\n",
       "      <th>statement(Nitin)</th>\n",
       "    </tr>\n",
       "  </thead>\n",
       "  <tbody>\n",
       "    <tr>\n",
       "      <th>0</th>\n",
       "      <td>7676</td>\n",
       "      <td>\"K\" Line Holding Europe Limited</td>\n",
       "      <td>35092.0</td>\n",
       "      <td>https://img1.wsimg.com/blobby/go/7695baff-3f0f...</td>\n",
       "      <td>66 99 “K” Line Holding (Europe) Limited kM K L...</td>\n",
       "    </tr>\n",
       "    <tr>\n",
       "      <th>1</th>\n",
       "      <td>28660</td>\n",
       "      <td>\"K\" Line Bulk Shipping (UK) Limited</td>\n",
       "      <td>35092.0</td>\n",
       "      <td>https://img1.wsimg.com/blobby/go/7695baff-3f0f...</td>\n",
       "      <td>66 99 “K” Line Holding (Europe) Limited kM K L...</td>\n",
       "    </tr>\n",
       "    <tr>\n",
       "      <th>2</th>\n",
       "      <td>28659</td>\n",
       "      <td>\"K\" Line (Europe) Limited</td>\n",
       "      <td>35092.0</td>\n",
       "      <td>https://img1.wsimg.com/blobby/go/7695baff-3f0f...</td>\n",
       "      <td>66 99 “K” Line Holding (Europe) Limited kM K L...</td>\n",
       "    </tr>\n",
       "  </tbody>\n",
       "</table>\n",
       "</div>"
      ],
      "text/plain": [
       "   Company ID                              Company  Statement ID  \\\n",
       "0        7676      \"K\" Line Holding Europe Limited       35092.0   \n",
       "1       28660  \"K\" Line Bulk Shipping (UK) Limited       35092.0   \n",
       "2       28659            \"K\" Line (Europe) Limited       35092.0   \n",
       "\n",
       "                                                 URL  \\\n",
       "0  https://img1.wsimg.com/blobby/go/7695baff-3f0f...   \n",
       "1  https://img1.wsimg.com/blobby/go/7695baff-3f0f...   \n",
       "2  https://img1.wsimg.com/blobby/go/7695baff-3f0f...   \n",
       "\n",
       "                                    statement(Nitin)  \n",
       "0  66 99 “K” Line Holding (Europe) Limited kM K L...  \n",
       "1  66 99 “K” Line Holding (Europe) Limited kM K L...  \n",
       "2  66 99 “K” Line Holding (Europe) Limited kM K L...  "
      ]
     },
     "execution_count": 8,
     "metadata": {},
     "output_type": "execute_result"
    }
   ],
   "source": [
    "my_data.head(3)"
   ]
  },
  {
   "cell_type": "markdown",
   "metadata": {},
   "source": [
    "## Combining both datasets "
   ]
  },
  {
   "cell_type": "code",
   "execution_count": 9,
   "metadata": {},
   "outputs": [],
   "source": [
    "combine_data = pd.merge(prof_data,\n",
    "                        my_data,\n",
    "                        on = [\"Company ID\", \"Company\", \"Statement ID\", \"URL\"], \n",
    "                        how = \"outer\")\n",
    "combine_data.drop_duplicates(inplace=True)\n",
    "combine_data.reset_index(drop=True, inplace=True)\n",
    "combine_data.fillna(\"#NA\", inplace=True)\n",
    "combine_data[\"statement(Edgar)\"] = [\"#NA\" if text in (\"nan\", \"None\") or text == \"\" else text for text in combine_data[\"statement(Edgar)\"]]\n",
    "combine_data[\"statement(Nitin)\"] = [\"#NA\" if text in (\"nan\", \"None\") or text == \"\" else text for text in combine_data[\"statement(Nitin)\"]]\n",
    "\n",
    "PRIMARY = \"Nitin\"\n",
    "if PRIMARY == \"Nitin\":\n",
    "    secondary = \"Edgar\"\n",
    "    primary_code = \"N\"\n",
    "    secondary_code = \"E\"\n",
    "else:\n",
    "    secondary = \"Nitin\"\n",
    "    primary_code = \"E\"\n",
    "    secondary_code = \"N\"\n",
    "    \n",
    "    \n",
    "statements = [\n",
    "    (primary_code, combine_data[f\"statement({PRIMARY})\"].iloc[i]) if combine_data[f\"statement({PRIMARY})\"].iloc[i] != \"#NA\" else \n",
    "    (secondary_code, combine_data[f\"statement({secondary})\"].iloc[i]) for i in range(len(combine_data))\n",
    "]\n",
    "\n",
    "choice = [_[0] for _ in statements]\n",
    "statements = [_[1] for _ in statements]\n",
    "combine_data[\"final_statement\"] = statements\n",
    "combine_data[\"final_statement(E/N)\"] = choice"
   ]
  },
  {
   "cell_type": "code",
   "execution_count": 10,
   "metadata": {},
   "outputs": [
    {
     "data": {
      "text/html": [
       "<div>\n",
       "<style scoped>\n",
       "    .dataframe tbody tr th:only-of-type {\n",
       "        vertical-align: middle;\n",
       "    }\n",
       "\n",
       "    .dataframe tbody tr th {\n",
       "        vertical-align: top;\n",
       "    }\n",
       "\n",
       "    .dataframe thead th {\n",
       "        text-align: right;\n",
       "    }\n",
       "</style>\n",
       "<table border=\"1\" class=\"dataframe\">\n",
       "  <thead>\n",
       "    <tr style=\"text-align: right;\">\n",
       "      <th></th>\n",
       "      <th>Company ID</th>\n",
       "      <th>Company</th>\n",
       "      <th>Statement ID</th>\n",
       "      <th>URL</th>\n",
       "      <th>statement(Edgar)</th>\n",
       "      <th>statement(Nitin)</th>\n",
       "      <th>final_statement</th>\n",
       "      <th>final_statement(E/N)</th>\n",
       "    </tr>\n",
       "  </thead>\n",
       "  <tbody>\n",
       "    <tr>\n",
       "      <th>0</th>\n",
       "      <td>7676</td>\n",
       "      <td>\"K\" Line Holding Europe Limited</td>\n",
       "      <td>35092.0</td>\n",
       "      <td>https://img1.wsimg.com/blobby/go/7695baff-3f0f...</td>\n",
       "      <td>K LINE\\nHOLDINC (EUROPE) LTD.\\nModern Slavery ...</td>\n",
       "      <td>66 99 “K” Line Holding (Europe) Limited kM K L...</td>\n",
       "      <td>66 99 “K” Line Holding (Europe) Limited kM K L...</td>\n",
       "      <td>N</td>\n",
       "    </tr>\n",
       "    <tr>\n",
       "      <th>1</th>\n",
       "      <td>28660</td>\n",
       "      <td>\"K\" Line Bulk Shipping (UK) Limited</td>\n",
       "      <td>35092.0</td>\n",
       "      <td>https://img1.wsimg.com/blobby/go/7695baff-3f0f...</td>\n",
       "      <td>K LINE\\nHOLDINC (EUROPE) LTD.\\nModern Slavery ...</td>\n",
       "      <td>66 99 “K” Line Holding (Europe) Limited kM K L...</td>\n",
       "      <td>66 99 “K” Line Holding (Europe) Limited kM K L...</td>\n",
       "      <td>N</td>\n",
       "    </tr>\n",
       "    <tr>\n",
       "      <th>2</th>\n",
       "      <td>28659</td>\n",
       "      <td>\"K\" Line (Europe) Limited</td>\n",
       "      <td>35092.0</td>\n",
       "      <td>https://img1.wsimg.com/blobby/go/7695baff-3f0f...</td>\n",
       "      <td>K LINE\\nHOLDINC (EUROPE) LTD.\\nModern Slavery ...</td>\n",
       "      <td>66 99 “K” Line Holding (Europe) Limited kM K L...</td>\n",
       "      <td>66 99 “K” Line Holding (Europe) Limited kM K L...</td>\n",
       "      <td>N</td>\n",
       "    </tr>\n",
       "    <tr>\n",
       "      <th>3</th>\n",
       "      <td>28661</td>\n",
       "      <td>\"K\" Line LNG Shipping Limited</td>\n",
       "      <td>35092.0</td>\n",
       "      <td>https://img1.wsimg.com/blobby/go/7695baff-3f0f...</td>\n",
       "      <td>K LINE\\nHOLDINC (EUROPE) LTD.\\nModern Slavery ...</td>\n",
       "      <td>66 99 “K” Line Holding (Europe) Limited kM K L...</td>\n",
       "      <td>66 99 “K” Line Holding (Europe) Limited kM K L...</td>\n",
       "      <td>N</td>\n",
       "    </tr>\n",
       "    <tr>\n",
       "      <th>4</th>\n",
       "      <td>28658</td>\n",
       "      <td>Polar LNG Shipping (UK) Limited</td>\n",
       "      <td>35092.0</td>\n",
       "      <td>https://img1.wsimg.com/blobby/go/7695baff-3f0f...</td>\n",
       "      <td>K LINE\\nHOLDINC (EUROPE) LTD.\\nModern Slavery ...</td>\n",
       "      <td>66 99 “K” Line Holding (Europe) Limited kM K L...</td>\n",
       "      <td>66 99 “K” Line Holding (Europe) Limited kM K L...</td>\n",
       "      <td>N</td>\n",
       "    </tr>\n",
       "  </tbody>\n",
       "</table>\n",
       "</div>"
      ],
      "text/plain": [
       "   Company ID                              Company Statement ID  \\\n",
       "0        7676      \"K\" Line Holding Europe Limited      35092.0   \n",
       "1       28660  \"K\" Line Bulk Shipping (UK) Limited      35092.0   \n",
       "2       28659            \"K\" Line (Europe) Limited      35092.0   \n",
       "3       28661        \"K\" Line LNG Shipping Limited      35092.0   \n",
       "4       28658      Polar LNG Shipping (UK) Limited      35092.0   \n",
       "\n",
       "                                                 URL  \\\n",
       "0  https://img1.wsimg.com/blobby/go/7695baff-3f0f...   \n",
       "1  https://img1.wsimg.com/blobby/go/7695baff-3f0f...   \n",
       "2  https://img1.wsimg.com/blobby/go/7695baff-3f0f...   \n",
       "3  https://img1.wsimg.com/blobby/go/7695baff-3f0f...   \n",
       "4  https://img1.wsimg.com/blobby/go/7695baff-3f0f...   \n",
       "\n",
       "                                    statement(Edgar)  \\\n",
       "0  K LINE\\nHOLDINC (EUROPE) LTD.\\nModern Slavery ...   \n",
       "1  K LINE\\nHOLDINC (EUROPE) LTD.\\nModern Slavery ...   \n",
       "2  K LINE\\nHOLDINC (EUROPE) LTD.\\nModern Slavery ...   \n",
       "3  K LINE\\nHOLDINC (EUROPE) LTD.\\nModern Slavery ...   \n",
       "4  K LINE\\nHOLDINC (EUROPE) LTD.\\nModern Slavery ...   \n",
       "\n",
       "                                    statement(Nitin)  \\\n",
       "0  66 99 “K” Line Holding (Europe) Limited kM K L...   \n",
       "1  66 99 “K” Line Holding (Europe) Limited kM K L...   \n",
       "2  66 99 “K” Line Holding (Europe) Limited kM K L...   \n",
       "3  66 99 “K” Line Holding (Europe) Limited kM K L...   \n",
       "4  66 99 “K” Line Holding (Europe) Limited kM K L...   \n",
       "\n",
       "                                     final_statement final_statement(E/N)  \n",
       "0  66 99 “K” Line Holding (Europe) Limited kM K L...                    N  \n",
       "1  66 99 “K” Line Holding (Europe) Limited kM K L...                    N  \n",
       "2  66 99 “K” Line Holding (Europe) Limited kM K L...                    N  \n",
       "3  66 99 “K” Line Holding (Europe) Limited kM K L...                    N  \n",
       "4  66 99 “K” Line Holding (Europe) Limited kM K L...                    N  "
      ]
     },
     "execution_count": 10,
     "metadata": {},
     "output_type": "execute_result"
    }
   ],
   "source": [
    "combine_data.head()"
   ]
  },
  {
   "cell_type": "code",
   "execution_count": 11,
   "metadata": {},
   "outputs": [
    {
     "name": "stdout",
     "output_type": "stream",
     "text": [
      "Before cleaning\n",
      "Total final statements: 28364\n",
      "Total NA final_statements: 7663\n",
      "Total non-NA final_statements: 20701\n",
      "Total non-NA final_statements(E): 2365\n",
      "Total non-NA final_statements(N): 18336\n"
     ]
    }
   ],
   "source": [
    "print(\"Before cleaning\")\n",
    "print(f\"Total final statements: {len(combine_data)}\")\n",
    "print(f\"Total NA final_statements: {np.sum((combine_data['final_statement'] == '#NA'))}\")\n",
    "print(f\"Total non-NA final_statements: {np.sum((combine_data['final_statement'] != '#NA'))}\")\n",
    "print(\"Total non-NA final_statements(E): \"\n",
    "      f\"{np.sum((combine_data['final_statement'] != '#NA') & (combine_data['final_statement(E/N)'] == 'E'))}\")\n",
    "print(\"Total non-NA final_statements(N): \"\n",
    "      f\"{np.sum((combine_data['final_statement'] != '#NA') & (combine_data['final_statement(E/N)'] == 'N'))}\")"
   ]
  },
  {
   "cell_type": "markdown",
   "metadata": {},
   "source": [
    "## Selecting unique statements"
   ]
  },
  {
   "cell_type": "code",
   "execution_count": 12,
   "metadata": {},
   "outputs": [
    {
     "data": {
      "text/html": [
       "<div>\n",
       "<style scoped>\n",
       "    .dataframe tbody tr th:only-of-type {\n",
       "        vertical-align: middle;\n",
       "    }\n",
       "\n",
       "    .dataframe tbody tr th {\n",
       "        vertical-align: top;\n",
       "    }\n",
       "\n",
       "    .dataframe thead th {\n",
       "        text-align: right;\n",
       "    }\n",
       "</style>\n",
       "<table border=\"1\" class=\"dataframe\">\n",
       "  <thead>\n",
       "    <tr style=\"text-align: right;\">\n",
       "      <th></th>\n",
       "      <th>URL</th>\n",
       "      <th>Company</th>\n",
       "      <th>final_statement</th>\n",
       "    </tr>\n",
       "  </thead>\n",
       "  <tbody>\n",
       "    <tr>\n",
       "      <th>0</th>\n",
       "      <td>https://img1.wsimg.com/blobby/go/7695baff-3f0f...</td>\n",
       "      <td>\"K\" Line Holding Europe Limited</td>\n",
       "      <td>66 99 “K” Line Holding (Europe) Limited kM K L...</td>\n",
       "    </tr>\n",
       "    <tr>\n",
       "      <th>10</th>\n",
       "      <td>https://1spatial.com/who-we-are/legal/modern-s...</td>\n",
       "      <td>1Spatial Plc</td>\n",
       "      <td>1Spatial Modern Slavery Act Policy Statement H...</td>\n",
       "    </tr>\n",
       "    <tr>\n",
       "      <th>11</th>\n",
       "      <td>https://www.shazans.com/slavery-and-human-traf...</td>\n",
       "      <td>1Stop Halal Limited</td>\n",
       "      <td>Slavery and Human Trafficking Statement – Shaz...</td>\n",
       "    </tr>\n",
       "    <tr>\n",
       "      <th>12</th>\n",
       "      <td>https://www.business-humanrights.org/sites/def...</td>\n",
       "      <td>1st Step Solutions Limited</td>\n",
       "      <td>7/28/2019 Modern Slavery Statement 2018 - 1st ...</td>\n",
       "    </tr>\n",
       "    <tr>\n",
       "      <th>13</th>\n",
       "      <td>https://www.2agriculture.com/wp-content/upload...</td>\n",
       "      <td>2 Agriculture Limited</td>\n",
       "      <td>fh Modern Slavery Act 2015: slavery and human ...</td>\n",
       "    </tr>\n",
       "  </tbody>\n",
       "</table>\n",
       "</div>"
      ],
      "text/plain": [
       "                                                  URL  \\\n",
       "0   https://img1.wsimg.com/blobby/go/7695baff-3f0f...   \n",
       "10  https://1spatial.com/who-we-are/legal/modern-s...   \n",
       "11  https://www.shazans.com/slavery-and-human-traf...   \n",
       "12  https://www.business-humanrights.org/sites/def...   \n",
       "13  https://www.2agriculture.com/wp-content/upload...   \n",
       "\n",
       "                            Company  \\\n",
       "0   \"K\" Line Holding Europe Limited   \n",
       "10                     1Spatial Plc   \n",
       "11              1Stop Halal Limited   \n",
       "12       1st Step Solutions Limited   \n",
       "13            2 Agriculture Limited   \n",
       "\n",
       "                                      final_statement  \n",
       "0   66 99 “K” Line Holding (Europe) Limited kM K L...  \n",
       "10  1Spatial Modern Slavery Act Policy Statement H...  \n",
       "11  Slavery and Human Trafficking Statement – Shaz...  \n",
       "12  7/28/2019 Modern Slavery Statement 2018 - 1st ...  \n",
       "13  fh Modern Slavery Act 2015: slavery and human ...  "
      ]
     },
     "execution_count": 12,
     "metadata": {},
     "output_type": "execute_result"
    }
   ],
   "source": [
    "subset_data = combine_data[\n",
    "    combine_data[\"final_statement\"]!=\"#NA\"][[\"URL\", \"Company\", \"final_statement\"]].copy()\n",
    "subset_data.drop_duplicates(subset=\"URL\", inplace=True)\n",
    "subset_data.head()"
   ]
  },
  {
   "cell_type": "code",
   "execution_count": 13,
   "metadata": {},
   "outputs": [
    {
     "name": "stdout",
     "output_type": "stream",
     "text": [
      "Unique non-NA statements in subset data: 11969\n"
     ]
    }
   ],
   "source": [
    "print(f\"Unique non-NA statements in subset data: {len(subset_data)}\")"
   ]
  },
  {
   "cell_type": "code",
   "execution_count": 14,
   "metadata": {},
   "outputs": [],
   "source": [
    "n_sentences = len(subset_data)"
   ]
  },
  {
   "cell_type": "markdown",
   "metadata": {},
   "source": [
    "## Extracting year from statement\n",
    "\n",
    "Using regular expression for this: an approximate to find year can be 4 digit number where first digit can between 1 and 2 all inclusive and last 3 digits can be between 0 and 9 all inclusive."
   ]
  },
  {
   "cell_type": "code",
   "execution_count": 15,
   "metadata": {},
   "outputs": [],
   "source": [
    "def extract_year(text: str) -> List[str]:\n",
    "    text = text.split(\".\")\n",
    "    years = []\n",
    "    for sentence in text: \n",
    "        years += re.findall(r\"\\b[2][0-9]{3}\\b\", sentence)\n",
    "    return list(set(years))\n",
    "\n",
    "def extract_year_with_act_in_statement(text: str) -> List[str]:\n",
    "    text = text.split(\".\")\n",
    "    years = []\n",
    "    for sentence in text:\n",
    "        if len(re.findall(r\"\\bact\\b\", sentence.lower())) > 0:\n",
    "               years += re.findall(r\"\\b[2][0-9]{3}\\b\", sentence)\n",
    "    return list(set(years))"
   ]
  },
  {
   "cell_type": "code",
   "execution_count": 16,
   "metadata": {},
   "outputs": [
    {
     "name": "stdout",
     "output_type": "stream",
     "text": [
      "All years: ['2012', '2019', '2018']\n",
      "All years with act in statement: ['2019', '2018']\n"
     ]
    }
   ],
   "source": [
    "print(f\"All years: {extract_year('modern slavery act act 2019 2018. This is not an year: 12343434. This is: 2012, but not year for statement.')}\")\n",
    "print(f\"All years with act in statement: {extract_year_with_act_in_statement('modern slavery act act 2019 2018. This is not an year: 12343434. This is: 2012, but not year for statement.')}\")"
   ]
  },
  {
   "cell_type": "code",
   "execution_count": 17,
   "metadata": {},
   "outputs": [
    {
     "name": "stderr",
     "output_type": "stream",
     "text": [
      "100%|██████████████████████████████████████████████████████████████████████████| 11969/11969 [00:03<00:00, 3107.59it/s]\n",
      "100%|██████████████████████████████████████████████████████████████████████████| 11969/11969 [00:06<00:00, 1959.56it/s]\n"
     ]
    }
   ],
   "source": [
    "subset_data[\"years_with_and_without_act\"] = [\n",
    "    extract_year(statement) for statement in tqdm(subset_data[\"final_statement\"].values)]\n",
    "\n",
    "subset_data[\"years_with_act\"] = [\n",
    "    extract_year_with_act_in_statement(statement) for statement in tqdm(subset_data[\"final_statement\"].values)]"
   ]
  },
  {
   "cell_type": "code",
   "execution_count": 18,
   "metadata": {},
   "outputs": [
    {
     "data": {
      "text/html": [
       "<div>\n",
       "<style scoped>\n",
       "    .dataframe tbody tr th:only-of-type {\n",
       "        vertical-align: middle;\n",
       "    }\n",
       "\n",
       "    .dataframe tbody tr th {\n",
       "        vertical-align: top;\n",
       "    }\n",
       "\n",
       "    .dataframe thead th {\n",
       "        text-align: right;\n",
       "    }\n",
       "</style>\n",
       "<table border=\"1\" class=\"dataframe\">\n",
       "  <thead>\n",
       "    <tr style=\"text-align: right;\">\n",
       "      <th></th>\n",
       "      <th>URL</th>\n",
       "      <th>Company</th>\n",
       "      <th>final_statement</th>\n",
       "      <th>years_with_and_without_act</th>\n",
       "      <th>years_with_act</th>\n",
       "    </tr>\n",
       "  </thead>\n",
       "  <tbody>\n",
       "    <tr>\n",
       "      <th>0</th>\n",
       "      <td>https://img1.wsimg.com/blobby/go/7695baff-3f0f...</td>\n",
       "      <td>\"K\" Line Holding Europe Limited</td>\n",
       "      <td>66 99 “K” Line Holding (Europe) Limited kM K L...</td>\n",
       "      <td>[2015, 2019, 2018]</td>\n",
       "      <td>[2015, 2019]</td>\n",
       "    </tr>\n",
       "    <tr>\n",
       "      <th>10</th>\n",
       "      <td>https://1spatial.com/who-we-are/legal/modern-s...</td>\n",
       "      <td>1Spatial Plc</td>\n",
       "      <td>1Spatial Modern Slavery Act Policy Statement H...</td>\n",
       "      <td>[2015]</td>\n",
       "      <td>[2015]</td>\n",
       "    </tr>\n",
       "    <tr>\n",
       "      <th>11</th>\n",
       "      <td>https://www.shazans.com/slavery-and-human-traf...</td>\n",
       "      <td>1Stop Halal Limited</td>\n",
       "      <td>Slavery and Human Trafficking Statement – Shaz...</td>\n",
       "      <td>[2015, 2019, 2018]</td>\n",
       "      <td>[2015, 2018]</td>\n",
       "    </tr>\n",
       "    <tr>\n",
       "      <th>12</th>\n",
       "      <td>https://www.business-humanrights.org/sites/def...</td>\n",
       "      <td>1st Step Solutions Limited</td>\n",
       "      <td>7/28/2019 Modern Slavery Statement 2018 - 1st ...</td>\n",
       "      <td>[2015, 2019, 2018]</td>\n",
       "      <td>[2015, 2018]</td>\n",
       "    </tr>\n",
       "    <tr>\n",
       "      <th>13</th>\n",
       "      <td>https://www.2agriculture.com/wp-content/upload...</td>\n",
       "      <td>2 Agriculture Limited</td>\n",
       "      <td>fh Modern Slavery Act 2015: slavery and human ...</td>\n",
       "      <td>[2015, 2019, 2018]</td>\n",
       "      <td>[2015, 2018]</td>\n",
       "    </tr>\n",
       "  </tbody>\n",
       "</table>\n",
       "</div>"
      ],
      "text/plain": [
       "                                                  URL  \\\n",
       "0   https://img1.wsimg.com/blobby/go/7695baff-3f0f...   \n",
       "10  https://1spatial.com/who-we-are/legal/modern-s...   \n",
       "11  https://www.shazans.com/slavery-and-human-traf...   \n",
       "12  https://www.business-humanrights.org/sites/def...   \n",
       "13  https://www.2agriculture.com/wp-content/upload...   \n",
       "\n",
       "                            Company  \\\n",
       "0   \"K\" Line Holding Europe Limited   \n",
       "10                     1Spatial Plc   \n",
       "11              1Stop Halal Limited   \n",
       "12       1st Step Solutions Limited   \n",
       "13            2 Agriculture Limited   \n",
       "\n",
       "                                      final_statement  \\\n",
       "0   66 99 “K” Line Holding (Europe) Limited kM K L...   \n",
       "10  1Spatial Modern Slavery Act Policy Statement H...   \n",
       "11  Slavery and Human Trafficking Statement – Shaz...   \n",
       "12  7/28/2019 Modern Slavery Statement 2018 - 1st ...   \n",
       "13  fh Modern Slavery Act 2015: slavery and human ...   \n",
       "\n",
       "   years_with_and_without_act years_with_act  \n",
       "0          [2015, 2019, 2018]   [2015, 2019]  \n",
       "10                     [2015]         [2015]  \n",
       "11         [2015, 2019, 2018]   [2015, 2018]  \n",
       "12         [2015, 2019, 2018]   [2015, 2018]  \n",
       "13         [2015, 2019, 2018]   [2015, 2018]  "
      ]
     },
     "execution_count": 18,
     "metadata": {},
     "output_type": "execute_result"
    }
   ],
   "source": [
    "subset_data.head()"
   ]
  },
  {
   "cell_type": "markdown",
   "metadata": {},
   "source": [
    "## Text Cleaning and Preprocessing"
   ]
  },
  {
   "cell_type": "markdown",
   "metadata": {},
   "source": [
    "UK-to-US word mappings"
   ]
  },
  {
   "cell_type": "code",
   "execution_count": 19,
   "metadata": {},
   "outputs": [],
   "source": [
    "uk_to_us_mappings = pd.read_excel(f\"{DATA_PATH}\\\\UK_to_US_word_mappings.xlsx\")\n",
    "uk_to_us_mappings = {row[0]: row[1] for row in  uk_to_us_mappings.values}\n",
    "\n",
    "url_extractor = URLExtract()"
   ]
  },
  {
   "cell_type": "code",
   "execution_count": 20,
   "metadata": {},
   "outputs": [],
   "source": [
    "def clean_text(text: str):\n",
    "    text = text.lower()\n",
    "    text = text.replace(\"\\n\",\" \")\n",
    "    text = text.replace(\"\\t\",\" \")\n",
    "    \n",
    "    urls = url_extractor.find_urls(text)\n",
    "    for url in urls:\n",
    "        text = text.replace(url, \" \")\n",
    "    \n",
    "    remove_tokens = [\n",
    "        [\"privacy\", \"policy\"],\n",
    "        \"cookies\",\n",
    "        \"skip content\",\n",
    "        \"please donate\",\n",
    "        \"signup\",\n",
    "        \"download\",\n",
    "        \"newsletter\"]\n",
    "    text = text_parser.remove_sentences_with_tokens(text, tokens=remove_tokens)\n",
    "    \n",
    "    text = text_parser.replace_special_chars(\n",
    "        text, replace_digits=False)\n",
    "    \n",
    "    text = text_parser.remove_stopwords(text)\n",
    "    \n",
    "    words_in_text = []\n",
    "    for word in text.split():\n",
    "        word = text_parser.word_expantions[word] if word in text_parser.word_expantions else word\n",
    "        word = uk_to_us_mappings[word] if word in uk_to_us_mappings else word\n",
    "        words_in_text.append(word)\n",
    "    \n",
    "    text = \" \".join(words_in_text)\n",
    "    \n",
    "    # additional filtering and removing phrases\n",
    "    remove_phrases = [\n",
    "#         \"uk modern slavery act statement\",\n",
    "#         \"uk modern slavery act\",\n",
    "#         \"california transparency supply chain act statement\",\n",
    "#         \"california transparency supply chain act\",\n",
    "        \"modern slavery act statement\",\n",
    "        \"modern slavery act\",\n",
    "        \"transparency supply chain act statement\", \n",
    "        \"transparency supply chain act\",\n",
    "        \"modern slavery statement\",\n",
    "        \"modern slavery act\",\n",
    "        \"modern slavery\", \n",
    "        \"modern day slavery statement\", \n",
    "        \"modern day slavery\", \n",
    "        \"slavery\", \n",
    "        \"human trafficking statement\",\n",
    "        \"policy statement\"]\n",
    "   \n",
    "    for phrases in remove_phrases:\n",
    "        text = text.replace(phrases, \"\")\n",
    "        \n",
    "    return \" \".join(text.split())"
   ]
  },
  {
   "cell_type": "code",
   "execution_count": 21,
   "metadata": {},
   "outputs": [
    {
     "name": "stderr",
     "output_type": "stream",
     "text": [
      "100%|████████████████████████████████████████████████████████████████████████████| 11969/11969 [17:43<00:00, 11.25it/s]"
     ]
    },
    {
     "name": "stdout",
     "output_type": "stream",
     "text": [
      "Unique non-NA cleaned statements in subset data: 11917\n"
     ]
    },
    {
     "name": "stderr",
     "output_type": "stream",
     "text": [
      "\n"
     ]
    }
   ],
   "source": [
    "subset_data[\"final_statement_cleaned\"] = [\n",
    "    clean_text(statement) for statement in tqdm(subset_data[\"final_statement\"].values, position=0, leave=True)]\n",
    "subset_data = subset_data[subset_data[\"final_statement_cleaned\"] != \"\"]\n",
    "print(f\"Unique non-NA cleaned statements in subset data: {len(subset_data)}\")"
   ]
  },
  {
   "cell_type": "code",
   "execution_count": 22,
   "metadata": {},
   "outputs": [
    {
     "name": "stderr",
     "output_type": "stream",
     "text": [
      "100%|██████████████████████████████████████████████████████████████████████████| 11917/11917 [00:04<00:00, 2797.06it/s]\n"
     ]
    }
   ],
   "source": [
    "subset_data[\"company_cleaned\"] = [\n",
    "    clean_text(company) for company in tqdm(subset_data[\"Company\"], position=0, leave=True)]"
   ]
  },
  {
   "cell_type": "code",
   "execution_count": 23,
   "metadata": {},
   "outputs": [
    {
     "data": {
      "text/html": [
       "<div>\n",
       "<style scoped>\n",
       "    .dataframe tbody tr th:only-of-type {\n",
       "        vertical-align: middle;\n",
       "    }\n",
       "\n",
       "    .dataframe tbody tr th {\n",
       "        vertical-align: top;\n",
       "    }\n",
       "\n",
       "    .dataframe thead th {\n",
       "        text-align: right;\n",
       "    }\n",
       "</style>\n",
       "<table border=\"1\" class=\"dataframe\">\n",
       "  <thead>\n",
       "    <tr style=\"text-align: right;\">\n",
       "      <th></th>\n",
       "      <th>URL</th>\n",
       "      <th>Company</th>\n",
       "      <th>final_statement</th>\n",
       "      <th>years_with_and_without_act</th>\n",
       "      <th>years_with_act</th>\n",
       "      <th>final_statement_cleaned</th>\n",
       "      <th>company_cleaned</th>\n",
       "    </tr>\n",
       "  </thead>\n",
       "  <tbody>\n",
       "    <tr>\n",
       "      <th>0</th>\n",
       "      <td>https://img1.wsimg.com/blobby/go/7695baff-3f0f...</td>\n",
       "      <td>\"K\" Line Holding Europe Limited</td>\n",
       "      <td>66 99 “K” Line Holding (Europe) Limited kM K L...</td>\n",
       "      <td>[2015, 2019, 2018]</td>\n",
       "      <td>[2015, 2019]</td>\n",
       "      <td>66 99 k line holding europe limited km k line ...</td>\n",
       "      <td>k line holding europe limited</td>\n",
       "    </tr>\n",
       "    <tr>\n",
       "      <th>10</th>\n",
       "      <td>https://1spatial.com/who-we-are/legal/modern-s...</td>\n",
       "      <td>1Spatial Plc</td>\n",
       "      <td>1Spatial Modern Slavery Act Policy Statement H...</td>\n",
       "      <td>[2015]</td>\n",
       "      <td>[2015]</td>\n",
       "      <td>1spatial home solutions solutions government b...</td>\n",
       "      <td>1spatial plc</td>\n",
       "    </tr>\n",
       "    <tr>\n",
       "      <th>11</th>\n",
       "      <td>https://www.shazans.com/slavery-and-human-traf...</td>\n",
       "      <td>1Stop Halal Limited</td>\n",
       "      <td>Slavery and Human Trafficking Statement – Shaz...</td>\n",
       "      <td>[2015, 2019, 2018]</td>\n",
       "      <td>[2015, 2018]</td>\n",
       "      <td>shazans shazan foods continues monitor covid 1...</td>\n",
       "      <td>1stop halal limited</td>\n",
       "    </tr>\n",
       "    <tr>\n",
       "      <th>12</th>\n",
       "      <td>https://www.business-humanrights.org/sites/def...</td>\n",
       "      <td>1st Step Solutions Limited</td>\n",
       "      <td>7/28/2019 Modern Slavery Statement 2018 - 1st ...</td>\n",
       "      <td>[2015, 2019, 2018]</td>\n",
       "      <td>[2015, 2018]</td>\n",
       "      <td>7 28 2019 2018 1st step solutions 1 6 e r n l ...</td>\n",
       "      <td>1st step solutions limited</td>\n",
       "    </tr>\n",
       "    <tr>\n",
       "      <th>13</th>\n",
       "      <td>https://www.2agriculture.com/wp-content/upload...</td>\n",
       "      <td>2 Agriculture Limited</td>\n",
       "      <td>fh Modern Slavery Act 2015: slavery and human ...</td>\n",
       "      <td>[2015, 2019, 2018]</td>\n",
       "      <td>[2015, 2018]</td>\n",
       "      <td>fh 2015 introduction uk 2015 act requires busi...</td>\n",
       "      <td>2 agriculture limited</td>\n",
       "    </tr>\n",
       "  </tbody>\n",
       "</table>\n",
       "</div>"
      ],
      "text/plain": [
       "                                                  URL  \\\n",
       "0   https://img1.wsimg.com/blobby/go/7695baff-3f0f...   \n",
       "10  https://1spatial.com/who-we-are/legal/modern-s...   \n",
       "11  https://www.shazans.com/slavery-and-human-traf...   \n",
       "12  https://www.business-humanrights.org/sites/def...   \n",
       "13  https://www.2agriculture.com/wp-content/upload...   \n",
       "\n",
       "                            Company  \\\n",
       "0   \"K\" Line Holding Europe Limited   \n",
       "10                     1Spatial Plc   \n",
       "11              1Stop Halal Limited   \n",
       "12       1st Step Solutions Limited   \n",
       "13            2 Agriculture Limited   \n",
       "\n",
       "                                      final_statement  \\\n",
       "0   66 99 “K” Line Holding (Europe) Limited kM K L...   \n",
       "10  1Spatial Modern Slavery Act Policy Statement H...   \n",
       "11  Slavery and Human Trafficking Statement – Shaz...   \n",
       "12  7/28/2019 Modern Slavery Statement 2018 - 1st ...   \n",
       "13  fh Modern Slavery Act 2015: slavery and human ...   \n",
       "\n",
       "   years_with_and_without_act years_with_act  \\\n",
       "0          [2015, 2019, 2018]   [2015, 2019]   \n",
       "10                     [2015]         [2015]   \n",
       "11         [2015, 2019, 2018]   [2015, 2018]   \n",
       "12         [2015, 2019, 2018]   [2015, 2018]   \n",
       "13         [2015, 2019, 2018]   [2015, 2018]   \n",
       "\n",
       "                              final_statement_cleaned  \\\n",
       "0   66 99 k line holding europe limited km k line ...   \n",
       "10  1spatial home solutions solutions government b...   \n",
       "11  shazans shazan foods continues monitor covid 1...   \n",
       "12  7 28 2019 2018 1st step solutions 1 6 e r n l ...   \n",
       "13  fh 2015 introduction uk 2015 act requires busi...   \n",
       "\n",
       "                  company_cleaned  \n",
       "0   k line holding europe limited  \n",
       "10                   1spatial plc  \n",
       "11            1stop halal limited  \n",
       "12     1st step solutions limited  \n",
       "13          2 agriculture limited  "
      ]
     },
     "execution_count": 23,
     "metadata": {},
     "output_type": "execute_result"
    }
   ],
   "source": [
    "subset_data.head()"
   ]
  },
  {
   "cell_type": "code",
   "execution_count": 24,
   "metadata": {},
   "outputs": [
    {
     "name": "stderr",
     "output_type": "stream",
     "text": [
      "100%|███████████████████████████████████████████████████████████████████████████| 11917/11917 [00:14<00:00, 822.53it/s]\n"
     ]
    }
   ],
   "source": [
    "NGRAMS=(1,4)\n",
    "ngrams_from_corpus = text_parser.generate_ngrams(\n",
    "    subset_data[\"final_statement_cleaned\"].values, \n",
    "    ngrams=NGRAMS)"
   ]
  },
  {
   "cell_type": "code",
   "execution_count": 25,
   "metadata": {},
   "outputs": [
    {
     "name": "stderr",
     "output_type": "stream",
     "text": [
      "11917it [00:34, 347.53it/s]\n"
     ]
    }
   ],
   "source": [
    "term_freq, doc_freq = text_parser.compute_term_doc_freq(\n",
    "    ngrams_from_corpus=ngrams_from_corpus, \n",
    "    sort=True, \n",
    "    descending=True)"
   ]
  },
  {
   "cell_type": "code",
   "execution_count": 26,
   "metadata": {},
   "outputs": [],
   "source": [
    "MAX = 20\n",
    "popular_ngrams = {n: {\"count\": 0, \"ngrams\": []} for n in range(NGRAMS[0], NGRAMS[-1]+1)}\n",
    "sum_count = 0 \n",
    "for i, (k,v) in enumerate(term_freq.items()):\n",
    "    if sum([popular_ngrams[n][\"count\"] for n in popular_ngrams.keys()]) == MAX*NGRAMS[-1]:\n",
    "        break\n",
    "    n = len(k.split())\n",
    "    if popular_ngrams[n][\"count\"] < MAX:\n",
    "        popular_ngrams[n][\"ngrams\"].append((k, v))\n",
    "        popular_ngrams[n][\"count\"]+=1"
   ]
  },
  {
   "cell_type": "code",
   "execution_count": 27,
   "metadata": {},
   "outputs": [
    {
     "data": {
      "text/plain": [
       "{1: {'count': 20,\n",
       "  'ngrams': [('human', 89751),\n",
       "   ('supply', 85133),\n",
       "   ('business', 80592),\n",
       "   ('suppliers', 72750),\n",
       "   ('trafficking', 66129),\n",
       "   ('risk', 46975),\n",
       "   ('chain', 45353),\n",
       "   ('group', 42754),\n",
       "   ('policy', 39044),\n",
       "   ('supplier', 35449),\n",
       "   ('chains', 35158),\n",
       "   ('uk', 34927),\n",
       "   ('labor', 34003),\n",
       "   ('employees', 33834),\n",
       "   ('company', 31414),\n",
       "   ('ensure', 31070),\n",
       "   ('services', 30852),\n",
       "   ('rights', 29933),\n",
       "   ('statement', 29193),\n",
       "   ('code', 28307)]},\n",
       " 2: {'count': 20,\n",
       "  'ngrams': [('human trafficking', 62615),\n",
       "   ('supply chain', 43959),\n",
       "   ('supply chains', 34916),\n",
       "   ('human rights', 22933),\n",
       "   ('code conduct', 15572),\n",
       "   ('due diligence', 14814),\n",
       "   ('business supply', 12491),\n",
       "   ('financial year', 10535),\n",
       "   ('forced labor', 8338),\n",
       "   ('taking place', 7483),\n",
       "   ('third party', 6905),\n",
       "   ('section 54', 6700),\n",
       "   ('supplier code', 5945),\n",
       "   ('statement made', 5509),\n",
       "   ('within business', 5474),\n",
       "   ('zero tolerance', 5445),\n",
       "   ('risk human', 5419),\n",
       "   ('ensure human', 5308),\n",
       "   ('trafficking taking', 5236),\n",
       "   ('risk assessment', 5200)]},\n",
       " 3: {'count': 20,\n",
       "  'ngrams': [('business supply chains', 6965),\n",
       "   ('business supply chain', 5425),\n",
       "   ('trafficking taking place', 5182),\n",
       "   ('risk human trafficking', 5179),\n",
       "   ('human trafficking taking', 5163),\n",
       "   ('ensure human trafficking', 5155),\n",
       "   ('supplier code conduct', 4891),\n",
       "   ('human trafficking supply', 4818),\n",
       "   ('pursuant section 54', 4429),\n",
       "   ('financial year ending', 3977),\n",
       "   ('section 54 1', 3909),\n",
       "   ('made pursuant section', 3710),\n",
       "   ('statement made pursuant', 3703),\n",
       "   ('trafficking supply chains', 3532),\n",
       "   ('labor human trafficking', 3444),\n",
       "   ('54 1 2015', 3400),\n",
       "   ('anti human trafficking', 3284),\n",
       "   ('risks human trafficking', 3048),\n",
       "   ('within business supply', 3008),\n",
       "   ('ensuring human trafficking', 2952)]},\n",
       " 4: {'count': 20,\n",
       "  'ngrams': [('human trafficking taking place', 5117),\n",
       "   ('made pursuant section 54', 3696),\n",
       "   ('ensure human trafficking taking', 3691),\n",
       "   ('section 54 1 2015', 3358),\n",
       "   ('human trafficking supply chains', 3348),\n",
       "   ('statement made pursuant section', 3198),\n",
       "   ('pursuant section 54 1', 3153),\n",
       "   ('54 1 2015 constitutes', 2294),\n",
       "   ('acting ethically integrity business', 2284),\n",
       "   ('within business supply chain', 2247),\n",
       "   ('transparency supply chains act', 2119),\n",
       "   ('california transparency supply chains', 2029),\n",
       "   ('financial year ending 31', 1917),\n",
       "   ('human trafficking business supply', 1902),\n",
       "   ('ethically integrity business relationships', 1847),\n",
       "   ('supply chains part business', 1805),\n",
       "   ('committed ensuring human trafficking', 1744),\n",
       "   ('implementing enforcing effective systems', 1702),\n",
       "   ('effective systems controls ensure', 1698),\n",
       "   ('enforcing effective systems controls', 1675)]}}"
      ]
     },
     "execution_count": 27,
     "metadata": {},
     "output_type": "execute_result"
    }
   ],
   "source": [
    "popular_ngrams"
   ]
  },
  {
   "cell_type": "markdown",
   "metadata": {},
   "source": [
    "Removing company name from the company"
   ]
  },
  {
   "cell_type": "code",
   "execution_count": 28,
   "metadata": {},
   "outputs": [],
   "source": [
    "del ngrams_from_corpus, term_freq, doc_freq"
   ]
  },
  {
   "cell_type": "code",
   "execution_count": 29,
   "metadata": {},
   "outputs": [],
   "source": [
    "def remove_company_name(company_name: str, \n",
    "                        statement: str) -> str:\n",
    "    \"\"\"Remove company name instances present in the statement.\"\"\"\n",
    "    mappings = text_parser.find_ngrams_in_text(sentence=company_name,\n",
    "                                   text=statement)\n",
    "    # to remove big text first\n",
    "    mappings = {k:v for k,v in sorted(mappings.items(), key=lambda x:x[1])} \n",
    "    for ngram, cnt in mappings.items():\n",
    "        if cnt > 0:\n",
    "            ngram_splitted = ngram.split()\n",
    "            # to skip unigram of length 1 and single character in unigram\n",
    "            if not (len(ngram_splitted) == 1 and len(ngram_splitted[0]) == 1): \n",
    "                statement = statement.replace(ngram,\" \")\n",
    "\n",
    "    statement = \" \".join(statement.split())\n",
    "    return statement"
   ]
  },
  {
   "cell_type": "code",
   "execution_count": 30,
   "metadata": {},
   "outputs": [
    {
     "name": "stderr",
     "output_type": "stream",
     "text": [
      "100%|██████████████████████████████████████████████████████████████████████████| 11917/11917 [00:09<00:00, 1310.61it/s]\n"
     ]
    },
    {
     "data": {
      "text/html": [
       "<div>\n",
       "<style scoped>\n",
       "    .dataframe tbody tr th:only-of-type {\n",
       "        vertical-align: middle;\n",
       "    }\n",
       "\n",
       "    .dataframe tbody tr th {\n",
       "        vertical-align: top;\n",
       "    }\n",
       "\n",
       "    .dataframe thead th {\n",
       "        text-align: right;\n",
       "    }\n",
       "</style>\n",
       "<table border=\"1\" class=\"dataframe\">\n",
       "  <thead>\n",
       "    <tr style=\"text-align: right;\">\n",
       "      <th></th>\n",
       "      <th>URL</th>\n",
       "      <th>Company</th>\n",
       "      <th>final_statement</th>\n",
       "      <th>years_with_and_without_act</th>\n",
       "      <th>years_with_act</th>\n",
       "      <th>final_statement_cleaned</th>\n",
       "    </tr>\n",
       "  </thead>\n",
       "  <tbody>\n",
       "    <tr>\n",
       "      <th>0</th>\n",
       "      <td>https://img1.wsimg.com/blobby/go/7695baff-3f0f...</td>\n",
       "      <td>\"K\" Line Holding Europe Limited</td>\n",
       "      <td>66 99 “K” Line Holding (Europe) Limited kM K L...</td>\n",
       "      <td>[2015, 2019, 2018]</td>\n",
       "      <td>[2015, 2019]</td>\n",
       "      <td>66 99 km sh foor eum holding europe ltd 200 al...</td>\n",
       "    </tr>\n",
       "    <tr>\n",
       "      <th>10</th>\n",
       "      <td>https://1spatial.com/who-we-are/legal/modern-s...</td>\n",
       "      <td>1Spatial Plc</td>\n",
       "      <td>1Spatial Modern Slavery Act Policy Statement H...</td>\n",
       "      <td>[2015]</td>\n",
       "      <td>[2015]</td>\n",
       "      <td>home solutions solutions government boundaries...</td>\n",
       "    </tr>\n",
       "    <tr>\n",
       "      <th>11</th>\n",
       "      <td>https://www.shazans.com/slavery-and-human-traf...</td>\n",
       "      <td>1Stop Halal Limited</td>\n",
       "      <td>Slavery and Human Trafficking Statement – Shaz...</td>\n",
       "      <td>[2015, 2019, 2018]</td>\n",
       "      <td>[2015, 2018]</td>\n",
       "      <td>shazans shazan foods continues monitor covid 1...</td>\n",
       "    </tr>\n",
       "    <tr>\n",
       "      <th>12</th>\n",
       "      <td>https://www.business-humanrights.org/sites/def...</td>\n",
       "      <td>1st Step Solutions Limited</td>\n",
       "      <td>7/28/2019 Modern Slavery Statement 2018 - 1st ...</td>\n",
       "      <td>[2015, 2019, 2018]</td>\n",
       "      <td>[2015, 2018]</td>\n",
       "      <td>7 28 2019 2018 1 6 e r n l v e r e e n 2 0 1 8...</td>\n",
       "    </tr>\n",
       "    <tr>\n",
       "      <th>13</th>\n",
       "      <td>https://www.2agriculture.com/wp-content/upload...</td>\n",
       "      <td>2 Agriculture Limited</td>\n",
       "      <td>fh Modern Slavery Act 2015: slavery and human ...</td>\n",
       "      <td>[2015, 2019, 2018]</td>\n",
       "      <td>[2015, 2018]</td>\n",
       "      <td>fh 2015 introduction uk 2015 act requires busi...</td>\n",
       "    </tr>\n",
       "  </tbody>\n",
       "</table>\n",
       "</div>"
      ],
      "text/plain": [
       "                                                  URL  \\\n",
       "0   https://img1.wsimg.com/blobby/go/7695baff-3f0f...   \n",
       "10  https://1spatial.com/who-we-are/legal/modern-s...   \n",
       "11  https://www.shazans.com/slavery-and-human-traf...   \n",
       "12  https://www.business-humanrights.org/sites/def...   \n",
       "13  https://www.2agriculture.com/wp-content/upload...   \n",
       "\n",
       "                            Company  \\\n",
       "0   \"K\" Line Holding Europe Limited   \n",
       "10                     1Spatial Plc   \n",
       "11              1Stop Halal Limited   \n",
       "12       1st Step Solutions Limited   \n",
       "13            2 Agriculture Limited   \n",
       "\n",
       "                                      final_statement  \\\n",
       "0   66 99 “K” Line Holding (Europe) Limited kM K L...   \n",
       "10  1Spatial Modern Slavery Act Policy Statement H...   \n",
       "11  Slavery and Human Trafficking Statement – Shaz...   \n",
       "12  7/28/2019 Modern Slavery Statement 2018 - 1st ...   \n",
       "13  fh Modern Slavery Act 2015: slavery and human ...   \n",
       "\n",
       "   years_with_and_without_act years_with_act  \\\n",
       "0          [2015, 2019, 2018]   [2015, 2019]   \n",
       "10                     [2015]         [2015]   \n",
       "11         [2015, 2019, 2018]   [2015, 2018]   \n",
       "12         [2015, 2019, 2018]   [2015, 2018]   \n",
       "13         [2015, 2019, 2018]   [2015, 2018]   \n",
       "\n",
       "                              final_statement_cleaned  \n",
       "0   66 99 km sh foor eum holding europe ltd 200 al...  \n",
       "10  home solutions solutions government boundaries...  \n",
       "11  shazans shazan foods continues monitor covid 1...  \n",
       "12  7 28 2019 2018 1 6 e r n l v e r e e n 2 0 1 8...  \n",
       "13  fh 2015 introduction uk 2015 act requires busi...  "
      ]
     },
     "execution_count": 30,
     "metadata": {},
     "output_type": "execute_result"
    }
   ],
   "source": [
    "subset_data[\"final_statement_cleaned\"] = [remove_company_name(company_name=row[0], \n",
    "                                                              statement=row[1]) \n",
    "                                          for row in tqdm(subset_data[[\"company_cleaned\",\n",
    "                                                                       \"final_statement_cleaned\"]].values,\n",
    "                                                          position=0, \n",
    "                                                          leave=True)]\n",
    "subset_data = subset_data[subset_data[\"final_statement_cleaned\"] != \"\"]\n",
    "subset_data.drop(\"company_cleaned\", axis=1, inplace=True)\n",
    "subset_data.head()"
   ]
  },
  {
   "cell_type": "code",
   "execution_count": 31,
   "metadata": {},
   "outputs": [
    {
     "name": "stdout",
     "output_type": "stream",
     "text": [
      "Unique non-NA cleaned statements in subset data: 11917\n"
     ]
    }
   ],
   "source": [
    "print(f\"Unique non-NA cleaned statements in subset data: {len(subset_data)}\")"
   ]
  },
  {
   "cell_type": "markdown",
   "metadata": {},
   "source": [
    "Lemmatizing"
   ]
  },
  {
   "cell_type": "code",
   "execution_count": 32,
   "metadata": {},
   "outputs": [],
   "source": [
    "# https://gaurav5430.medium.com/using-nltk-for-lemmatizing-sentences-c1bfff963258\n",
    "# nltk.download(\"punkt\")\n",
    "# nltk.download(\"averaged_perceptron_tagger\")\n",
    "\n",
    "lemmatizer = WordNetLemmatizer()\n",
    "\n",
    "# function to convert nltk tag to wordnet tag\n",
    "def nltk_tag_to_wordnet_tag(nltk_tag):\n",
    "    if nltk_tag.startswith('J'):\n",
    "        return wordnet.ADJ\n",
    "    elif nltk_tag.startswith('V'):\n",
    "        return wordnet.VERB\n",
    "    elif nltk_tag.startswith('N'):\n",
    "        return wordnet.NOUN\n",
    "    elif nltk_tag.startswith('R'):\n",
    "        return wordnet.ADV\n",
    "    else:          \n",
    "        return None\n",
    "    \n",
    "    \n",
    "def lemmatize_sentence(sentence):\n",
    "    #tokenize the sentence and find the POS tag for each token\n",
    "    nltk_tagged = nltk.pos_tag(nltk.word_tokenize(sentence))  \n",
    "    #tuple of (token, wordnet_tag)\n",
    "    wordnet_tagged = {x[0]:nltk_tag_to_wordnet_tag(x[1]) for x in nltk_tagged}\n",
    "    lemmatized_sentence = []\n",
    "    for word, tag in wordnet_tagged.items():\n",
    "        if tag is None:\n",
    "            #if there is no available tag, append the token as is\n",
    "            lemmatized_sentence.append(word)\n",
    "        else:        \n",
    "            #else use the tag to lemmatize the token\n",
    "            lemmatized_sentence.append(lemmatizer.lemmatize(word, tag))\n",
    "    return \" \".join(lemmatized_sentence)"
   ]
  },
  {
   "cell_type": "code",
   "execution_count": 33,
   "metadata": {},
   "outputs": [
    {
     "name": "stderr",
     "output_type": "stream",
     "text": [
      "100%|████████████████████████████████████████████████████████████████████████████| 11917/11917 [10:13<00:00, 19.43it/s]\n"
     ]
    }
   ],
   "source": [
    "cleaned_statements = [\n",
    "    lemmatize_sentence(sentence=statement) for statement in tqdm(\n",
    "        subset_data[\"final_statement_cleaned\"], position=0, leave=True)]"
   ]
  },
  {
   "cell_type": "markdown",
   "metadata": {},
   "source": [
    "## Analying single word sizes"
   ]
  },
  {
   "cell_type": "code",
   "execution_count": 34,
   "metadata": {},
   "outputs": [
    {
     "name": "stderr",
     "output_type": "stream",
     "text": [
      "100%|██████████████████████████████████████████████████████████████████████████| 11917/11917 [00:02<00:00, 5413.77it/s]"
     ]
    },
    {
     "name": "stdout",
     "output_type": "stream",
     "text": [
      "Total distinct word sizes: 106\n"
     ]
    },
    {
     "name": "stderr",
     "output_type": "stream",
     "text": [
      "\n"
     ]
    }
   ],
   "source": [
    "word_sizes = {}\n",
    "for statement in tqdm(cleaned_statements, position=0, leave=True):\n",
    "    for word in statement.split():\n",
    "        size = len(word)\n",
    "        if size not in word_sizes:\n",
    "            word_sizes[size] = 1\n",
    "        else:\n",
    "            word_sizes[size] += 1\n",
    "word_sizes = utils.sort_dict(word_sizes, by=0)\n",
    "print(f\"Total distinct word sizes: {len(word_sizes)}\")"
   ]
  },
  {
   "cell_type": "code",
   "execution_count": 35,
   "metadata": {},
   "outputs": [
    {
     "data": {
      "image/png": "[encoded data removed]",
      "text/plain": [
       "<Figure size 432x288 with 1 Axes>"
      ]
     },
     "metadata": {
      "needs_background": "light"
     },
     "output_type": "display_data"
    }
   ],
   "source": [
    "fig, ax = plt.subplots()\n",
    "ax.bar(word_sizes.keys(), word_sizes.values())\n",
    "ax.set_xlabel(\"word size\")\n",
    "ax.set_ylabel(\"count\")\n",
    "plt.show()"
   ]
  },
  {
   "cell_type": "code",
   "execution_count": 36,
   "metadata": {},
   "outputs": [
    {
     "data": {
      "image/png": "[encoded data removed]",
      "text/plain": [
       "<Figure size 432x288 with 1 Axes>"
      ]
     },
     "metadata": {
      "needs_background": "light"
     },
     "output_type": "display_data"
    }
   ],
   "source": [
    "fig, ax = plt.subplots()\n",
    "upper_limit = 20\n",
    "ax.bar(list(word_sizes.keys())[:upper_limit], list(word_sizes.values())[:upper_limit])\n",
    "ax.set_xlabel(\"word size\")\n",
    "ax.set_ylabel(\"count\")\n",
    "ax.xaxis.set_major_locator(MaxNLocator(integer=True))\n",
    "plt.show()"
   ]
  },
  {
   "cell_type": "markdown",
   "metadata": {},
   "source": [
    "From above plot, it seems like max word size can be restricted to 15 and min word size to 2"
   ]
  },
  {
   "cell_type": "code",
   "execution_count": 37,
   "metadata": {},
   "outputs": [
    {
     "name": "stderr",
     "output_type": "stream",
     "text": [
      "100%|█████████████████████████████████████████████████████████████████████████| 11917/11917 [00:01<00:00, 10427.36it/s]\n"
     ]
    }
   ],
   "source": [
    "MIN_WORD_SIZE = 2\n",
    "MAX_WORD_SIZE = 15\n",
    "temp_cleaned_statements = []\n",
    "for statement in tqdm(cleaned_statements, position=0, leave=True):\n",
    "    temp_cleaned_statements.append(\n",
    "        \" \".join([word for word in statement.split() \n",
    "                  if MIN_WORD_SIZE <= len(word) <= MAX_WORD_SIZE]))\n",
    "cleaned_statements = deepcopy(temp_cleaned_statements)\n",
    "del temp_cleaned_statements"
   ]
  },
  {
   "cell_type": "code",
   "execution_count": 38,
   "metadata": {},
   "outputs": [
    {
     "data": {
      "text/html": [
       "<div>\n",
       "<style scoped>\n",
       "    .dataframe tbody tr th:only-of-type {\n",
       "        vertical-align: middle;\n",
       "    }\n",
       "\n",
       "    .dataframe tbody tr th {\n",
       "        vertical-align: top;\n",
       "    }\n",
       "\n",
       "    .dataframe thead th {\n",
       "        text-align: right;\n",
       "    }\n",
       "</style>\n",
       "<table border=\"1\" class=\"dataframe\">\n",
       "  <thead>\n",
       "    <tr style=\"text-align: right;\">\n",
       "      <th></th>\n",
       "      <th>URL</th>\n",
       "      <th>Company</th>\n",
       "      <th>final_statement</th>\n",
       "      <th>years_with_and_without_act</th>\n",
       "      <th>years_with_act</th>\n",
       "      <th>final_statement_cleaned</th>\n",
       "    </tr>\n",
       "  </thead>\n",
       "  <tbody>\n",
       "    <tr>\n",
       "      <th>0</th>\n",
       "      <td>https://img1.wsimg.com/blobby/go/7695baff-3f0f...</td>\n",
       "      <td>\"K\" Line Holding Europe Limited</td>\n",
       "      <td>66 99 “K” Line Holding (Europe) Limited kM K L...</td>\n",
       "      <td>[2015, 2019, 2018]</td>\n",
       "      <td>[2015, 2019]</td>\n",
       "      <td>66 99 km sh foor eum holding europe ltd 200 al...</td>\n",
       "    </tr>\n",
       "    <tr>\n",
       "      <th>10</th>\n",
       "      <td>https://1spatial.com/who-we-are/legal/modern-s...</td>\n",
       "      <td>1Spatial Plc</td>\n",
       "      <td>1Spatial Modern Slavery Act Policy Statement H...</td>\n",
       "      <td>[2015]</td>\n",
       "      <td>[2015]</td>\n",
       "      <td>home solutions solutions government boundaries...</td>\n",
       "    </tr>\n",
       "    <tr>\n",
       "      <th>11</th>\n",
       "      <td>https://www.shazans.com/slavery-and-human-traf...</td>\n",
       "      <td>1Stop Halal Limited</td>\n",
       "      <td>Slavery and Human Trafficking Statement – Shaz...</td>\n",
       "      <td>[2015, 2019, 2018]</td>\n",
       "      <td>[2015, 2018]</td>\n",
       "      <td>shazans shazan foods continues monitor covid 1...</td>\n",
       "    </tr>\n",
       "    <tr>\n",
       "      <th>12</th>\n",
       "      <td>https://www.business-humanrights.org/sites/def...</td>\n",
       "      <td>1st Step Solutions Limited</td>\n",
       "      <td>7/28/2019 Modern Slavery Statement 2018 - 1st ...</td>\n",
       "      <td>[2015, 2019, 2018]</td>\n",
       "      <td>[2015, 2018]</td>\n",
       "      <td>7 28 2019 2018 1 6 e r n l v e r e e n 2 0 1 8...</td>\n",
       "    </tr>\n",
       "    <tr>\n",
       "      <th>13</th>\n",
       "      <td>https://www.2agriculture.com/wp-content/upload...</td>\n",
       "      <td>2 Agriculture Limited</td>\n",
       "      <td>fh Modern Slavery Act 2015: slavery and human ...</td>\n",
       "      <td>[2015, 2019, 2018]</td>\n",
       "      <td>[2015, 2018]</td>\n",
       "      <td>fh 2015 introduction uk 2015 act requires busi...</td>\n",
       "    </tr>\n",
       "    <tr>\n",
       "      <th>...</th>\n",
       "      <td>...</td>\n",
       "      <td>...</td>\n",
       "      <td>...</td>\n",
       "      <td>...</td>\n",
       "      <td>...</td>\n",
       "      <td>...</td>\n",
       "    </tr>\n",
       "    <tr>\n",
       "      <th>27521</th>\n",
       "      <td>https://wndirect.com/download_file/view_inline...</td>\n",
       "      <td>wnDirect Limited</td>\n",
       "      <td>(Cwnwect wnDirect Slavery and Human Traffickin...</td>\n",
       "      <td>[2015, 2016]</td>\n",
       "      <td>[2015, 2016]</td>\n",
       "      <td>cwnwect 2016 introduction stuart hill ceo find...</td>\n",
       "    </tr>\n",
       "    <tr>\n",
       "      <th>27522</th>\n",
       "      <td>https://www.your-move.co.uk/help/modern-slavery</td>\n",
       "      <td>your-move.co.uk Limited</td>\n",
       "      <td>Modern Slavery We use cookies to provide the b...</td>\n",
       "      <td>[2019, 2017, 2020, 2006, 2016, 2015, 2018]</td>\n",
       "      <td>[2015, 2006, 2019, 2018]</td>\n",
       "      <td>manage preferences banner via browser anytime ...</td>\n",
       "    </tr>\n",
       "    <tr>\n",
       "      <th>28361</th>\n",
       "      <td>https://nilehq.com/modern-slavery-statement/</td>\n",
       "      <td>Nile HQ Limited</td>\n",
       "      <td>Modern Slavery Statement | Nile Skip to conten...</td>\n",
       "      <td>[2015, 2020]</td>\n",
       "      <td>[2015]</td>\n",
       "      <td>skip content main menu helpmenu toggle helphow...</td>\n",
       "    </tr>\n",
       "    <tr>\n",
       "      <th>28362</th>\n",
       "      <td>https://www.princesgroup.com/wp-content/upload...</td>\n",
       "      <td>Princes Limited</td>\n",
       "      <td>MODERN SLAVERY ACT STATEMENT for the Financial...</td>\n",
       "      <td>[2019, 2030, 2017, 2020, 2023, 2015, 2018]</td>\n",
       "      <td>[2015, 2020]</td>\n",
       "      <td>financial year ended 31 march 2020 statement d...</td>\n",
       "    </tr>\n",
       "    <tr>\n",
       "      <th>28363</th>\n",
       "      <td>https://www.woolworthsgroup.com.au/content/Doc...</td>\n",
       "      <td>Woolworths Group</td>\n",
       "      <td>Modern Slavery Statement W O O LW O R T H S G ...</td>\n",
       "      <td>[2015, 2017, 2020, 2018]</td>\n",
       "      <td>[2015, 2018]</td>\n",
       "      <td>w lw r h g r u p l e b n 8 8 0 0 0 0 1 4 6 7 5...</td>\n",
       "    </tr>\n",
       "  </tbody>\n",
       "</table>\n",
       "<p>11917 rows × 6 columns</p>\n",
       "</div>"
      ],
      "text/plain": [
       "                                                     URL  \\\n",
       "0      https://img1.wsimg.com/blobby/go/7695baff-3f0f...   \n",
       "10     https://1spatial.com/who-we-are/legal/modern-s...   \n",
       "11     https://www.shazans.com/slavery-and-human-traf...   \n",
       "12     https://www.business-humanrights.org/sites/def...   \n",
       "13     https://www.2agriculture.com/wp-content/upload...   \n",
       "...                                                  ...   \n",
       "27521  https://wndirect.com/download_file/view_inline...   \n",
       "27522    https://www.your-move.co.uk/help/modern-slavery   \n",
       "28361       https://nilehq.com/modern-slavery-statement/   \n",
       "28362  https://www.princesgroup.com/wp-content/upload...   \n",
       "28363  https://www.woolworthsgroup.com.au/content/Doc...   \n",
       "\n",
       "                               Company  \\\n",
       "0      \"K\" Line Holding Europe Limited   \n",
       "10                        1Spatial Plc   \n",
       "11                 1Stop Halal Limited   \n",
       "12          1st Step Solutions Limited   \n",
       "13               2 Agriculture Limited   \n",
       "...                                ...   \n",
       "27521                 wnDirect Limited   \n",
       "27522          your-move.co.uk Limited   \n",
       "28361                  Nile HQ Limited   \n",
       "28362                  Princes Limited   \n",
       "28363                 Woolworths Group   \n",
       "\n",
       "                                         final_statement  \\\n",
       "0      66 99 “K” Line Holding (Europe) Limited kM K L...   \n",
       "10     1Spatial Modern Slavery Act Policy Statement H...   \n",
       "11     Slavery and Human Trafficking Statement – Shaz...   \n",
       "12     7/28/2019 Modern Slavery Statement 2018 - 1st ...   \n",
       "13     fh Modern Slavery Act 2015: slavery and human ...   \n",
       "...                                                  ...   \n",
       "27521  (Cwnwect wnDirect Slavery and Human Traffickin...   \n",
       "27522  Modern Slavery We use cookies to provide the b...   \n",
       "28361  Modern Slavery Statement | Nile Skip to conten...   \n",
       "28362  MODERN SLAVERY ACT STATEMENT for the Financial...   \n",
       "28363  Modern Slavery Statement W O O LW O R T H S G ...   \n",
       "\n",
       "                       years_with_and_without_act            years_with_act  \\\n",
       "0                              [2015, 2019, 2018]              [2015, 2019]   \n",
       "10                                         [2015]                    [2015]   \n",
       "11                             [2015, 2019, 2018]              [2015, 2018]   \n",
       "12                             [2015, 2019, 2018]              [2015, 2018]   \n",
       "13                             [2015, 2019, 2018]              [2015, 2018]   \n",
       "...                                           ...                       ...   \n",
       "27521                                [2015, 2016]              [2015, 2016]   \n",
       "27522  [2019, 2017, 2020, 2006, 2016, 2015, 2018]  [2015, 2006, 2019, 2018]   \n",
       "28361                                [2015, 2020]                    [2015]   \n",
       "28362  [2019, 2030, 2017, 2020, 2023, 2015, 2018]              [2015, 2020]   \n",
       "28363                    [2015, 2017, 2020, 2018]              [2015, 2018]   \n",
       "\n",
       "                                 final_statement_cleaned  \n",
       "0      66 99 km sh foor eum holding europe ltd 200 al...  \n",
       "10     home solutions solutions government boundaries...  \n",
       "11     shazans shazan foods continues monitor covid 1...  \n",
       "12     7 28 2019 2018 1 6 e r n l v e r e e n 2 0 1 8...  \n",
       "13     fh 2015 introduction uk 2015 act requires busi...  \n",
       "...                                                  ...  \n",
       "27521  cwnwect 2016 introduction stuart hill ceo find...  \n",
       "27522  manage preferences banner via browser anytime ...  \n",
       "28361  skip content main menu helpmenu toggle helphow...  \n",
       "28362  financial year ended 31 march 2020 statement d...  \n",
       "28363  w lw r h g r u p l e b n 8 8 0 0 0 0 1 4 6 7 5...  \n",
       "\n",
       "[11917 rows x 6 columns]"
      ]
     },
     "execution_count": 38,
     "metadata": {},
     "output_type": "execute_result"
    }
   ],
   "source": [
    "subset_data"
   ]
  },
  {
   "cell_type": "code",
   "execution_count": 39,
   "metadata": {},
   "outputs": [
    {
     "data": {
      "text/plain": [
       "URL                           object\n",
       "Company                       object\n",
       "final_statement               object\n",
       "years_with_and_without_act    object\n",
       "years_with_act                object\n",
       "final_statement_cleaned       object\n",
       "dtype: object"
      ]
     },
     "execution_count": 39,
     "metadata": {},
     "output_type": "execute_result"
    }
   ],
   "source": [
    "subset_data.dtypes"
   ]
  },
  {
   "cell_type": "code",
   "execution_count": 41,
   "metadata": {},
   "outputs": [
    {
     "data": {
      "text/html": [
       "<div>\n",
       "<style scoped>\n",
       "    .dataframe tbody tr th:only-of-type {\n",
       "        vertical-align: middle;\n",
       "    }\n",
       "\n",
       "    .dataframe tbody tr th {\n",
       "        vertical-align: top;\n",
       "    }\n",
       "\n",
       "    .dataframe thead th {\n",
       "        text-align: right;\n",
       "    }\n",
       "</style>\n",
       "<table border=\"1\" class=\"dataframe\">\n",
       "  <thead>\n",
       "    <tr style=\"text-align: right;\">\n",
       "      <th></th>\n",
       "      <th>URL</th>\n",
       "      <th>Company</th>\n",
       "      <th>final_statement</th>\n",
       "      <th>years_with_and_without_act</th>\n",
       "      <th>years_with_act</th>\n",
       "      <th>final_statement_cleaned</th>\n",
       "    </tr>\n",
       "  </thead>\n",
       "  <tbody>\n",
       "    <tr>\n",
       "      <th>0</th>\n",
       "      <td>https://img1.wsimg.com/blobby/go/7695baff-3f0f...</td>\n",
       "      <td>\"K\" Line Holding Europe Limited</td>\n",
       "      <td>66 99 “K” Line Holding (Europe) Limited kM K L...</td>\n",
       "      <td>[2015, 2019, 2018]</td>\n",
       "      <td>[2015, 2019]</td>\n",
       "      <td>66 99 km sh foor eum hold europe ltd 200 alder...</td>\n",
       "    </tr>\n",
       "    <tr>\n",
       "      <th>10</th>\n",
       "      <td>https://1spatial.com/who-we-are/legal/modern-s...</td>\n",
       "      <td>1Spatial Plc</td>\n",
       "      <td>1Spatial Modern Slavery Act Policy Statement H...</td>\n",
       "      <td>[2015]</td>\n",
       "      <td>[2015]</td>\n",
       "      <td>home solution government boundary law enforcem...</td>\n",
       "    </tr>\n",
       "    <tr>\n",
       "      <th>11</th>\n",
       "      <td>https://www.shazans.com/slavery-and-human-traf...</td>\n",
       "      <td>1Stop Halal Limited</td>\n",
       "      <td>Slavery and Human Trafficking Statement – Shaz...</td>\n",
       "      <td>[2015, 2019, 2018]</td>\n",
       "      <td>[2015, 2018]</td>\n",
       "      <td>shazans shazan food continue monitor covid 19 ...</td>\n",
       "    </tr>\n",
       "    <tr>\n",
       "      <th>12</th>\n",
       "      <td>https://www.business-humanrights.org/sites/def...</td>\n",
       "      <td>1st Step Solutions Limited</td>\n",
       "      <td>7/28/2019 Modern Slavery Statement 2018 - 1st ...</td>\n",
       "      <td>[2015, 2019, 2018]</td>\n",
       "      <td>[2015, 2018]</td>\n",
       "      <td>28 2019 2018 statement make pursuant sec 54 20...</td>\n",
       "    </tr>\n",
       "    <tr>\n",
       "      <th>13</th>\n",
       "      <td>https://www.2agriculture.com/wp-content/upload...</td>\n",
       "      <td>2 Agriculture Limited</td>\n",
       "      <td>fh Modern Slavery Act 2015: slavery and human ...</td>\n",
       "      <td>[2015, 2019, 2018]</td>\n",
       "      <td>[2015, 2018]</td>\n",
       "      <td>fh 2015 introduction uk act require business s...</td>\n",
       "    </tr>\n",
       "  </tbody>\n",
       "</table>\n",
       "</div>"
      ],
      "text/plain": [
       "                                                  URL  \\\n",
       "0   https://img1.wsimg.com/blobby/go/7695baff-3f0f...   \n",
       "10  https://1spatial.com/who-we-are/legal/modern-s...   \n",
       "11  https://www.shazans.com/slavery-and-human-traf...   \n",
       "12  https://www.business-humanrights.org/sites/def...   \n",
       "13  https://www.2agriculture.com/wp-content/upload...   \n",
       "\n",
       "                            Company  \\\n",
       "0   \"K\" Line Holding Europe Limited   \n",
       "10                     1Spatial Plc   \n",
       "11              1Stop Halal Limited   \n",
       "12       1st Step Solutions Limited   \n",
       "13            2 Agriculture Limited   \n",
       "\n",
       "                                      final_statement  \\\n",
       "0   66 99 “K” Line Holding (Europe) Limited kM K L...   \n",
       "10  1Spatial Modern Slavery Act Policy Statement H...   \n",
       "11  Slavery and Human Trafficking Statement – Shaz...   \n",
       "12  7/28/2019 Modern Slavery Statement 2018 - 1st ...   \n",
       "13  fh Modern Slavery Act 2015: slavery and human ...   \n",
       "\n",
       "   years_with_and_without_act years_with_act  \\\n",
       "0          [2015, 2019, 2018]   [2015, 2019]   \n",
       "10                     [2015]         [2015]   \n",
       "11         [2015, 2019, 2018]   [2015, 2018]   \n",
       "12         [2015, 2019, 2018]   [2015, 2018]   \n",
       "13         [2015, 2019, 2018]   [2015, 2018]   \n",
       "\n",
       "                              final_statement_cleaned  \n",
       "0   66 99 km sh foor eum hold europe ltd 200 alder...  \n",
       "10  home solution government boundary law enforcem...  \n",
       "11  shazans shazan food continue monitor covid 19 ...  \n",
       "12  28 2019 2018 statement make pursuant sec 54 20...  \n",
       "13  fh 2015 introduction uk act require business s...  "
      ]
     },
     "execution_count": 41,
     "metadata": {},
     "output_type": "execute_result"
    }
   ],
   "source": [
    "subset_data[\"final_statement_cleaned\"] = cleaned_statements\n",
    "subset_data = subset_data[subset_data[\"final_statement_cleaned\"] != \"\"]\n",
    "# list unhashable, avoid while using drop duplicate command\n",
    "subset_data.drop_duplicates(subset_data.columns.difference([\"years_with_and_without_act\", \"years_with_act\"]), inplace=True)\n",
    "subset_data.head()"
   ]
  },
  {
   "cell_type": "code",
   "execution_count": 42,
   "metadata": {},
   "outputs": [
    {
     "name": "stdout",
     "output_type": "stream",
     "text": [
      "Unique non-NA cleaned statements in subset data: 11917\n"
     ]
    }
   ],
   "source": [
    "print(f\"Unique non-NA cleaned statements in subset data: {len(subset_data)}\")"
   ]
  },
  {
   "cell_type": "markdown",
   "metadata": {},
   "source": [
    "## Generating similarity score (positional similarity) between statements and removing 98% duplicate statements"
   ]
  },
  {
   "cell_type": "code",
   "execution_count": 43,
   "metadata": {},
   "outputs": [
    {
     "name": "stdout",
     "output_type": "stream",
     "text": [
      "Count vector shape: (11917, 87074)\n"
     ]
    }
   ],
   "source": [
    "N_GRAM = (1, 1)\n",
    "count_vect = CountVectorizer(ngram_range=N_GRAM)\n",
    "X = count_vect.fit_transform(subset_data[\"final_statement_cleaned\"])\n",
    "print(f\"Count vector shape: {X.shape}\")"
   ]
  },
  {
   "cell_type": "code",
   "execution_count": 44,
   "metadata": {},
   "outputs": [],
   "source": [
    "similarity_matrix = cosine_similarity(X, X)"
   ]
  },
  {
   "cell_type": "code",
   "execution_count": 45,
   "metadata": {},
   "outputs": [
    {
     "name": "stderr",
     "output_type": "stream",
     "text": [
      "100%|██████████████████████████████████████████████████████████████████████████| 11917/11917 [00:02<00:00, 4595.84it/s]\n"
     ]
    }
   ],
   "source": [
    "DUPLICATE_SIMILARITY_SCORE_THRESHOLD = .98\n",
    "n = X.shape[0]\n",
    "dup_mapping = {} \n",
    "dup_idxs = []\n",
    "for idx in tqdm(range(n), position=0, leave=True):\n",
    "    if idx not in dup_idxs:\n",
    "        idxs = np.argwhere(similarity_matrix[idx][idx+1:] > DUPLICATE_SIMILARITY_SCORE_THRESHOLD).ravel()\n",
    "        if len(idxs) > 0:\n",
    "            idxs += idx+1 # shifting\n",
    "            dup_mapping[idx] = idxs\n",
    "            dup_idxs += list(idxs)\n",
    "dup_mapping = {subset_data.index[k]:[subset_data.index[idx] for idx in v] for k,v in dup_mapping.items()}\n",
    "dup_idxs = [subset_data.index[idx] for idx in dup_idxs]"
   ]
  },
  {
   "cell_type": "code",
   "execution_count": 46,
   "metadata": {},
   "outputs": [
    {
     "name": "stdout",
     "output_type": "stream",
     "text": [
      "Found 1126 out of 11917 with 98.0% duplicacy\n"
     ]
    }
   ],
   "source": [
    "print(f\"Found {len(np.unique(dup_idxs))} out of {len(subset_data)} with {DUPLICATE_SIMILARITY_SCORE_THRESHOLD*100}% duplicacy\")"
   ]
  },
  {
   "cell_type": "code",
   "execution_count": 47,
   "metadata": {},
   "outputs": [
    {
     "name": "stdout",
     "output_type": "stream",
     "text": [
      "orig:  url: https://cdn.shopify.com/s/files/1/1217/7686/t/2/assets/Modern-slavery-and-human-trafficking-statement.pdf?98 \n",
      "statement: page date 01 apr 19 document sect2 policy27 issue date 04 version revise allcorn authorize newcombe barber cheesemakers group aj rg ltd ditcheat somerset ba4 6pr ford farm ashley chase estate litton cheney dorset dt2 9az introduction statement set action understand potential risk relate business put place step aim ensure human traffic supply chain relate activity financial year april 2019 31 march 2020 part uk dairy industry organization recognize responsibility take robust approach absolutely c\n",
      "\n",
      "dup-0: url: https://cdn.shopify.com/s/files/1/1217/7686/t/2/assets/Modern-slavery-and-human-trafficking-statement.pdf?10982987683653637190 \n",
      "statement: page date 01 apr 19 document sect2 policy27 issue date 04 version revise allcorn authorize newcombe barber cheesemakers group aj rg ltd ditcheat somerset ba4 6pr ford farm ashley chase estate litton cheney dorset dt2 9az introduction statement set action understand potential risk relate business put place step aim ensure human traffic supply chain relate activity financial year april 2019 31 march 2020 part uk dairy industry organization recognize responsibility take robust approach absolutely c\n",
      "\n",
      "dup-1: url: https://cdn.shopify.com/s/files/1/1217/7686/t/2/assets/Modern-slavery-and-human-trafficking-statement.pdf?131 \n",
      "statement: page date 01 apr 19 document sect2 policy27 issue date 04 version revise allcorn authorize newcombe barber cheesemakers group aj rg ltd ditcheat somerset ba4 6pr ford farm ashley chase estate litton cheney dorset dt2 9az introduction statement set action understand potential risk relate business put place step aim ensure human traffic supply chain relate activity financial year april 2019 31 march 2020 part uk dairy industry organization recognize responsibility take robust approach absolutely c\n",
      "\n"
     ]
    }
   ],
   "source": [
    "i = 0\n",
    "orig, dups = list(dup_mapping.items())[i]\n",
    "print(f\"orig:  url: {subset_data['URL'].loc[orig]} \\nstatement: {subset_data['final_statement_cleaned'].loc[orig][:500]}\\n\")\n",
    "for j, k in enumerate(dups):\n",
    "    print(f\"dup-{j}: url: {subset_data['URL'].loc[k]} \\nstatement: {subset_data['final_statement_cleaned'].loc[k][:500]}\\n\")\n",
    "    "
   ]
  },
  {
   "cell_type": "code",
   "execution_count": 48,
   "metadata": {},
   "outputs": [
    {
     "name": "stdout",
     "output_type": "stream",
     "text": [
      "Unique non-NA cleaned statements in subset data: 10791\n"
     ]
    }
   ],
   "source": [
    "subset_data.drop(dup_idxs, axis=0, inplace=True)\n",
    "print(f\"Unique non-NA cleaned statements in subset data: {len(subset_data)}\")"
   ]
  },
  {
   "cell_type": "markdown",
   "metadata": {},
   "source": [
    "## Finding a threshold length to validate that a statement is modern slavery statement or scrap text"
   ]
  },
  {
   "cell_type": "code",
   "execution_count": 49,
   "metadata": {},
   "outputs": [],
   "source": [
    "subset_data[\"len(final_statement_cleaned)\"] = subset_data[\"final_statement_cleaned\"].apply(lambda x: len(x))"
   ]
  },
  {
   "cell_type": "code",
   "execution_count": 50,
   "metadata": {},
   "outputs": [
    {
     "data": {
      "image/png": "[encoded data removed]",
      "text/plain": [
       "<Figure size 864x360 with 2 Axes>"
      ]
     },
     "metadata": {
      "needs_background": "light"
     },
     "output_type": "display_data"
    }
   ],
   "source": [
    "fig, (ax1, ax2) = plt.subplots(ncols=2, figsize=(12, 5))\n",
    "ax1.boxplot(subset_data[\"len(final_statement_cleaned)\"])\n",
    "ax2.hist(subset_data[\"len(final_statement_cleaned)\"], bins=100)\n",
    "plt.show()"
   ]
  },
  {
   "cell_type": "code",
   "execution_count": 51,
   "metadata": {},
   "outputs": [
    {
     "data": {
      "text/html": [
       "<div>\n",
       "<style scoped>\n",
       "    .dataframe tbody tr th:only-of-type {\n",
       "        vertical-align: middle;\n",
       "    }\n",
       "\n",
       "    .dataframe tbody tr th {\n",
       "        vertical-align: top;\n",
       "    }\n",
       "\n",
       "    .dataframe thead th {\n",
       "        text-align: right;\n",
       "    }\n",
       "</style>\n",
       "<table border=\"1\" class=\"dataframe\">\n",
       "  <thead>\n",
       "    <tr style=\"text-align: right;\">\n",
       "      <th></th>\n",
       "      <th>URL</th>\n",
       "      <th>Company</th>\n",
       "      <th>final_statement</th>\n",
       "      <th>years_with_and_without_act</th>\n",
       "      <th>years_with_act</th>\n",
       "      <th>final_statement_cleaned</th>\n",
       "      <th>len(final_statement_cleaned)</th>\n",
       "    </tr>\n",
       "  </thead>\n",
       "  <tbody>\n",
       "    <tr>\n",
       "      <th>17</th>\n",
       "      <td>http://www.2020projects.co.uk/modernslaverypolicy</td>\n",
       "      <td>20/20 Projects</td>\n",
       "      <td>Contact\\n&lt; class=\"entry-title\"&gt;Not found, erro...</td>\n",
       "      <td>[]</td>\n",
       "      <td>[]</td>\n",
       "      <td>contact class entry title find error 404 page ...</td>\n",
       "      <td>130</td>\n",
       "    </tr>\n",
       "    <tr>\n",
       "      <th>80</th>\n",
       "      <td>https://www.aschulman.com/regulatory/californi...</td>\n",
       "      <td>A. Schulman Inc.</td>\n",
       "      <td>Page Not Found\\nUnfortunately, we could not fi...</td>\n",
       "      <td>[]</td>\n",
       "      <td>[]</td>\n",
       "      <td>page find unfortunately could find look please...</td>\n",
       "      <td>122</td>\n",
       "    </tr>\n",
       "    <tr>\n",
       "      <th>85</th>\n",
       "      <td>https://www.agbarr.co.uk/modern-slavery-statem...</td>\n",
       "      <td>A.G. BARR plc</td>\n",
       "      <td>International\\nPage not found!\\nSorry, the pag...</td>\n",
       "      <td>[]</td>\n",
       "      <td>[]</td>\n",
       "      <td>international page find sorry look can not mig...</td>\n",
       "      <td>105</td>\n",
       "    </tr>\n",
       "    <tr>\n",
       "      <th>129</th>\n",
       "      <td>http://abmna.com/ctscad/</td>\n",
       "      <td>AB Mauri Food Inc.</td>\n",
       "      <td>Back Home\\nABOUT US\\nAB Mauri® North America i...</td>\n",
       "      <td>[]</td>\n",
       "      <td>[]</td>\n",
       "      <td>back home us mauri north america division glob...</td>\n",
       "      <td>226</td>\n",
       "    </tr>\n",
       "    <tr>\n",
       "      <th>142</th>\n",
       "      <td>https://www.abcsupply.com/help/ca-supply-chain...</td>\n",
       "      <td>ABC Supply Co, Inc.</td>\n",
       "      <td>CA Supply Chain Transparency Act Skip to main ...</td>\n",
       "      <td>[2020]</td>\n",
       "      <td>[2020]</td>\n",
       "      <td>buy substantially product sale north american ...</td>\n",
       "      <td>266</td>\n",
       "    </tr>\n",
       "  </tbody>\n",
       "</table>\n",
       "</div>"
      ],
      "text/plain": [
       "                                                   URL              Company  \\\n",
       "17   http://www.2020projects.co.uk/modernslaverypolicy      20/20 Projects    \n",
       "80   https://www.aschulman.com/regulatory/californi...    A. Schulman Inc.    \n",
       "85   https://www.agbarr.co.uk/modern-slavery-statem...        A.G. BARR plc   \n",
       "129                           http://abmna.com/ctscad/   AB Mauri Food Inc.   \n",
       "142  https://www.abcsupply.com/help/ca-supply-chain...  ABC Supply Co, Inc.   \n",
       "\n",
       "                                       final_statement  \\\n",
       "17   Contact\\n< class=\"entry-title\">Not found, erro...   \n",
       "80   Page Not Found\\nUnfortunately, we could not fi...   \n",
       "85   International\\nPage not found!\\nSorry, the pag...   \n",
       "129  Back Home\\nABOUT US\\nAB Mauri® North America i...   \n",
       "142  CA Supply Chain Transparency Act Skip to main ...   \n",
       "\n",
       "    years_with_and_without_act years_with_act  \\\n",
       "17                          []             []   \n",
       "80                          []             []   \n",
       "85                          []             []   \n",
       "129                         []             []   \n",
       "142                     [2020]         [2020]   \n",
       "\n",
       "                               final_statement_cleaned  \\\n",
       "17   contact class entry title find error 404 page ...   \n",
       "80   page find unfortunately could find look please...   \n",
       "85   international page find sorry look can not mig...   \n",
       "129  back home us mauri north america division glob...   \n",
       "142  buy substantially product sale north american ...   \n",
       "\n",
       "     len(final_statement_cleaned)  \n",
       "17                            130  \n",
       "80                            122  \n",
       "85                            105  \n",
       "129                           226  \n",
       "142                           266  "
      ]
     },
     "execution_count": 51,
     "metadata": {},
     "output_type": "execute_result"
    }
   ],
   "source": [
    "THRESHOLD_WORD_COUNT = 500\n",
    "scrap_data = subset_data[subset_data[\"len(final_statement_cleaned)\"] < THRESHOLD_WORD_COUNT]\n",
    "scrap_data.head()"
   ]
  },
  {
   "cell_type": "code",
   "execution_count": 52,
   "metadata": {},
   "outputs": [
    {
     "name": "stdout",
     "output_type": "stream",
     "text": [
      "24447: sorry page try view exist look like result either mistyped address use search box site\n",
      "----------------------------------------------------------------------------------------------------\n",
      "23357: submit search\n",
      "----------------------------------------------------------------------------------------------------\n",
      "3109: right reserve partner 2020 fine site hide message\n",
      "----------------------------------------------------------------------------------------------------\n",
      "18974: uh oh lose track shopping please select confirm inventory ready delivery zip code enter would like u\n",
      "----------------------------------------------------------------------------------------------------\n",
      "3141: enter register email address click send reset password follow link see sec\n",
      "----------------------------------------------------------------------------------------------------\n"
     ]
    }
   ],
   "source": [
    "np.random.seed(RANDOM_STATE)\n",
    "for i in np.random.choice(scrap_data.index, replace=False, size=5):\n",
    "    print(f\"{i}: {scrap_data['final_statement_cleaned'].loc[i][:100]}\")\n",
    "    print(f\"{'-'*100}\")"
   ]
  },
  {
   "cell_type": "code",
   "execution_count": 53,
   "metadata": {},
   "outputs": [
    {
     "name": "stdout",
     "output_type": "stream",
     "text": [
      "Found 798 scrap statements out of 10791 modern slavery statements with 500 threshold word count\n"
     ]
    }
   ],
   "source": [
    "print(f\"Found {len(scrap_data)} scrap statements out of {len(subset_data)} modern slavery statements with {THRESHOLD_WORD_COUNT} threshold word count\")"
   ]
  },
  {
   "cell_type": "code",
   "execution_count": 54,
   "metadata": {},
   "outputs": [
    {
     "name": "stdout",
     "output_type": "stream",
     "text": [
      "Unique non-NA, cleaned and filtered statements in subset data: 9993\n"
     ]
    }
   ],
   "source": [
    "subset_data = subset_data[subset_data[\"len(final_statement_cleaned)\"] >= THRESHOLD_WORD_COUNT]\n",
    "print(f\"Unique non-NA, cleaned and filtered statements in subset data: {len(subset_data)}\")"
   ]
  },
  {
   "cell_type": "code",
   "execution_count": 55,
   "metadata": {},
   "outputs": [],
   "source": [
    "subset_data.to_excel(f\"{SHEETS_PATH}\\\\subset_data.xlsx\", engine='xlsxwriter', index=False)"
   ]
  }
 ],
 "metadata": {
  "kernelspec": {
   "display_name": "modern_slavery",
   "language": "python",
   "name": "modern_slavery"
  },
  "language_info": {
   "codemirror_mode": {
    "name": "ipython",
    "version": 3
   },
   "file_extension": ".py",
   "mimetype": "text/x-python",
   "name": "python",
   "nbconvert_exporter": "python",
   "pygments_lexer": "ipython3",
   "version": "3.9.5"
  }
 },
 "nbformat": 4,
 "nbformat_minor": 4
}
