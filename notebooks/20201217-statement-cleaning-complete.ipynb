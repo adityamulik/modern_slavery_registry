{
 "cells": [
  {
   "cell_type": "markdown",
   "metadata": {},
   "source": [
    "1. Loading statements from Nitin and Edgar \n",
    "\n",
    "2. Combining statements from Nitin and Edgar\n",
    "\n",
    "3. Selecting unique and non-NA statements\n",
    "\n",
    "4. Text processing and cleaning  \n",
    "  \n",
    "  4.1 Initial text preprocessing\n",
    "    * extracting and removing urls from text\n",
    "    * fixing word contractions, for ex. they'll -> they will\n",
    "    * uk to us conversion, for ex. organisation -> organization\n",
    "    * removing sentences with words \"privacy\", \"cookies\"\n",
    "    * removing stopwords, special characters\n",
    "    * removing company name from the statement - company name in the statement is not relevant for textual analysis\n",
    "  \n",
    "  4.2 Lemmatization and filtering words with word-size between 2 and 15\n",
    "    \n",
    "5. Generating similarity score between statements and removing 99% duplicate statements\n",
    "\n",
    "6. Finding a threshold length to check whether a statement is modern slavery statement or scrap statement"
   ]
  },
  {
   "cell_type": "code",
   "execution_count": 1,
   "metadata": {},
   "outputs": [],
   "source": [
    "%load_ext autoreload\n",
    "%autoreload 2"
   ]
  },
  {
   "cell_type": "code",
   "execution_count": 2,
   "metadata": {},
   "outputs": [],
   "source": [
    "import pandas as pd\n",
    "from os import getcwd\n",
    "import numpy as np\n",
    "from tqdm import tqdm\n",
    "import re\n",
    "from typing import Tuple, Dict, Sequence, List, Union\n",
    "from copy import deepcopy\n",
    "from urlextract import URLExtract\n",
    "from nltk.stem import WordNetLemmatizer\n",
    "from matplotlib import pyplot as plt\n",
    "from matplotlib.ticker import MaxNLocator\n",
    "from sklearn.feature_extraction.text import CountVectorizer\n",
    "from sklearn.metrics.pairwise import cosine_similarity"
   ]
  },
  {
   "cell_type": "code",
   "execution_count": 3,
   "metadata": {},
   "outputs": [],
   "source": [
    "from modern_slavery_registry import text_parser, utils"
   ]
  },
  {
   "cell_type": "code",
   "execution_count": 4,
   "metadata": {},
   "outputs": [],
   "source": [
    "PROJECT_PATH = getcwd()\n",
    "PROJECT_PATH = PROJECT_PATH.replace(\"\\\\notebooks\", \"\")\n",
    "DATA_PATH = PROJECT_PATH +  \"\\\\data\"\n",
    "SHEETS_PATH = DATA_PATH + \"\\\\sheets\"\n",
    "RANDOM_STATE = 42"
   ]
  },
  {
   "cell_type": "markdown",
   "metadata": {},
   "source": [
    "# 1. Loading modern slavery statements from Edgar and Nitin"
   ]
  },
  {
   "cell_type": "code",
   "execution_count": 5,
   "metadata": {},
   "outputs": [
    {
     "name": "stdout",
     "output_type": "stream",
     "text": [
      "Total statements (non-NA and NA) Edgar: 28361, Nitin: 27527 \n"
     ]
    }
   ],
   "source": [
    "prof_data = pd.read_json(f\"{SHEETS_PATH}\\\\modern_slavery_dataset_prof.json\")\n",
    "cols_to_keep = [\"Company ID\", \"Company\", \"Statement ID\", \"URL\", \"Text\"]\n",
    "prof_data.drop_duplicates(inplace=True)\n",
    "prof_data.dropna(subset=[\"Company ID\"], inplace=True)\n",
    "prof_data.reset_index(drop=True, inplace=True)\n",
    "prof_data = prof_data[cols_to_keep]\n",
    "cols_type = [\"int32\", str, float, str, str]\n",
    "for i, col in enumerate(prof_data.columns):\n",
    "    prof_data[col] = prof_data[col].astype(cols_type[i])\n",
    "prof_data.rename(columns = {\"Text\": \"statement(Edgar)\"},  \n",
    "                 inplace = True) \n",
    "\n",
    "\n",
    "\n",
    "my_data = pd.read_excel(f\"{SHEETS_PATH}\\\\modern_slavery_dataset_nitin.xlsx\")\n",
    "cols_to_keep = [\"Company ID\", \"Company\", \"Statement ID\", \"URL\", \"statement\"]\n",
    "my_data.drop_duplicates(inplace=True)\n",
    "my_data.dropna(subset=[\"Company ID\"], inplace=True)\n",
    "my_data.reset_index(drop=True, inplace=True)\n",
    "my_data = my_data[cols_to_keep]\n",
    "for i, col in enumerate(my_data.columns):\n",
    "    my_data[col] = my_data[col].astype(cols_type[i])\n",
    "my_data.rename(columns = {\"statement\": \"statement(Nitin)\"},  \n",
    "               inplace = True)\n",
    "\n",
    "print(f\"Total statements (non-NA and NA) Edgar: {len(prof_data)}, Nitin: {len(my_data)} \")"
   ]
  },
  {
   "cell_type": "code",
   "execution_count": 6,
   "metadata": {},
   "outputs": [
    {
     "data": {
      "text/html": [
       "<div>\n",
       "<style scoped>\n",
       "    .dataframe tbody tr th:only-of-type {\n",
       "        vertical-align: middle;\n",
       "    }\n",
       "\n",
       "    .dataframe tbody tr th {\n",
       "        vertical-align: top;\n",
       "    }\n",
       "\n",
       "    .dataframe thead th {\n",
       "        text-align: right;\n",
       "    }\n",
       "</style>\n",
       "<table border=\"1\" class=\"dataframe\">\n",
       "  <thead>\n",
       "    <tr style=\"text-align: right;\">\n",
       "      <th></th>\n",
       "      <th>Company ID</th>\n",
       "      <th>Company</th>\n",
       "      <th>Statement ID</th>\n",
       "      <th>URL</th>\n",
       "      <th>statement(Edgar)</th>\n",
       "    </tr>\n",
       "  </thead>\n",
       "  <tbody>\n",
       "    <tr>\n",
       "      <th>0</th>\n",
       "      <td>7676</td>\n",
       "      <td>\"K\" Line Holding Europe Limited</td>\n",
       "      <td>35092.0</td>\n",
       "      <td>https://img1.wsimg.com/blobby/go/7695baff-3f0f...</td>\n",
       "      <td>K LINE\\nHOLDINC (EUROPE) LTD.\\nModern Slavery ...</td>\n",
       "    </tr>\n",
       "    <tr>\n",
       "      <th>1</th>\n",
       "      <td>28660</td>\n",
       "      <td>\"K\" Line Bulk Shipping (UK) Limited</td>\n",
       "      <td>35092.0</td>\n",
       "      <td>https://img1.wsimg.com/blobby/go/7695baff-3f0f...</td>\n",
       "      <td>K LINE\\nHOLDINC (EUROPE) LTD.\\nModern Slavery ...</td>\n",
       "    </tr>\n",
       "    <tr>\n",
       "      <th>2</th>\n",
       "      <td>28659</td>\n",
       "      <td>\"K\" Line (Europe) Limited</td>\n",
       "      <td>35092.0</td>\n",
       "      <td>https://img1.wsimg.com/blobby/go/7695baff-3f0f...</td>\n",
       "      <td>K LINE\\nHOLDINC (EUROPE) LTD.\\nModern Slavery ...</td>\n",
       "    </tr>\n",
       "  </tbody>\n",
       "</table>\n",
       "</div>"
      ],
      "text/plain": [
       "   Company ID                              Company  Statement ID  \\\n",
       "0        7676      \"K\" Line Holding Europe Limited       35092.0   \n",
       "1       28660  \"K\" Line Bulk Shipping (UK) Limited       35092.0   \n",
       "2       28659            \"K\" Line (Europe) Limited       35092.0   \n",
       "\n",
       "                                                 URL  \\\n",
       "0  https://img1.wsimg.com/blobby/go/7695baff-3f0f...   \n",
       "1  https://img1.wsimg.com/blobby/go/7695baff-3f0f...   \n",
       "2  https://img1.wsimg.com/blobby/go/7695baff-3f0f...   \n",
       "\n",
       "                                    statement(Edgar)  \n",
       "0  K LINE\\nHOLDINC (EUROPE) LTD.\\nModern Slavery ...  \n",
       "1  K LINE\\nHOLDINC (EUROPE) LTD.\\nModern Slavery ...  \n",
       "2  K LINE\\nHOLDINC (EUROPE) LTD.\\nModern Slavery ...  "
      ]
     },
     "execution_count": 6,
     "metadata": {},
     "output_type": "execute_result"
    }
   ],
   "source": [
    "prof_data.head(3)"
   ]
  },
  {
   "cell_type": "code",
   "execution_count": 7,
   "metadata": {},
   "outputs": [
    {
     "data": {
      "text/html": [
       "<div>\n",
       "<style scoped>\n",
       "    .dataframe tbody tr th:only-of-type {\n",
       "        vertical-align: middle;\n",
       "    }\n",
       "\n",
       "    .dataframe tbody tr th {\n",
       "        vertical-align: top;\n",
       "    }\n",
       "\n",
       "    .dataframe thead th {\n",
       "        text-align: right;\n",
       "    }\n",
       "</style>\n",
       "<table border=\"1\" class=\"dataframe\">\n",
       "  <thead>\n",
       "    <tr style=\"text-align: right;\">\n",
       "      <th></th>\n",
       "      <th>Company ID</th>\n",
       "      <th>Company</th>\n",
       "      <th>Statement ID</th>\n",
       "      <th>URL</th>\n",
       "      <th>statement(Nitin)</th>\n",
       "    </tr>\n",
       "  </thead>\n",
       "  <tbody>\n",
       "    <tr>\n",
       "      <th>0</th>\n",
       "      <td>7676</td>\n",
       "      <td>\"K\" Line Holding Europe Limited</td>\n",
       "      <td>35092.0</td>\n",
       "      <td>https://img1.wsimg.com/blobby/go/7695baff-3f0f...</td>\n",
       "      <td>66 99 “K” Line Holding (Europe) Limited kM K L...</td>\n",
       "    </tr>\n",
       "    <tr>\n",
       "      <th>1</th>\n",
       "      <td>28660</td>\n",
       "      <td>\"K\" Line Bulk Shipping (UK) Limited</td>\n",
       "      <td>35092.0</td>\n",
       "      <td>https://img1.wsimg.com/blobby/go/7695baff-3f0f...</td>\n",
       "      <td>66 99 “K” Line Holding (Europe) Limited kM K L...</td>\n",
       "    </tr>\n",
       "    <tr>\n",
       "      <th>2</th>\n",
       "      <td>28659</td>\n",
       "      <td>\"K\" Line (Europe) Limited</td>\n",
       "      <td>35092.0</td>\n",
       "      <td>https://img1.wsimg.com/blobby/go/7695baff-3f0f...</td>\n",
       "      <td>66 99 “K” Line Holding (Europe) Limited kM K L...</td>\n",
       "    </tr>\n",
       "  </tbody>\n",
       "</table>\n",
       "</div>"
      ],
      "text/plain": [
       "   Company ID                              Company  Statement ID  \\\n",
       "0        7676      \"K\" Line Holding Europe Limited       35092.0   \n",
       "1       28660  \"K\" Line Bulk Shipping (UK) Limited       35092.0   \n",
       "2       28659            \"K\" Line (Europe) Limited       35092.0   \n",
       "\n",
       "                                                 URL  \\\n",
       "0  https://img1.wsimg.com/blobby/go/7695baff-3f0f...   \n",
       "1  https://img1.wsimg.com/blobby/go/7695baff-3f0f...   \n",
       "2  https://img1.wsimg.com/blobby/go/7695baff-3f0f...   \n",
       "\n",
       "                                    statement(Nitin)  \n",
       "0  66 99 “K” Line Holding (Europe) Limited kM K L...  \n",
       "1  66 99 “K” Line Holding (Europe) Limited kM K L...  \n",
       "2  66 99 “K” Line Holding (Europe) Limited kM K L...  "
      ]
     },
     "execution_count": 7,
     "metadata": {},
     "output_type": "execute_result"
    }
   ],
   "source": [
    "my_data.head(3)"
   ]
  },
  {
   "cell_type": "markdown",
   "metadata": {},
   "source": [
    "# 2. Combining both datasets "
   ]
  },
  {
   "cell_type": "code",
   "execution_count": 8,
   "metadata": {},
   "outputs": [],
   "source": [
    "combine_data = pd.merge(prof_data,\n",
    "                        my_data,\n",
    "                        on = [\"Company ID\", \"Company\", \"Statement ID\", \"URL\"], \n",
    "                        how = \"outer\")\n",
    "combine_data.drop_duplicates(inplace=True)\n",
    "combine_data.reset_index(drop=True, inplace=True)\n",
    "combine_data.fillna(\"#NA\", inplace=True)\n",
    "combine_data[\"statement(Edgar)\"] = [\"#NA\" if text in (\"nan\", \"None\") or text == \"\" else text for text in combine_data[\"statement(Edgar)\"]]\n",
    "combine_data[\"statement(Nitin)\"] = [\"#NA\" if text in (\"nan\", \"None\") or text == \"\" else text for text in combine_data[\"statement(Nitin)\"]]\n",
    "\n",
    "PRIMARY = \"Nitin\"\n",
    "if PRIMARY == \"Nitin\":\n",
    "    secondary = \"Edgar\"\n",
    "    primary_code = \"N\"\n",
    "    secondary_code = \"E\"\n",
    "else:\n",
    "    secondary = \"Nitin\"\n",
    "    primary_code = \"E\"\n",
    "    secondary_code = \"N\"\n",
    "    \n",
    "    \n",
    "statements = [\n",
    "    (primary_code, combine_data[f\"statement({PRIMARY})\"].iloc[i]) if combine_data[f\"statement({PRIMARY})\"].iloc[i] != \"#NA\" else \n",
    "    (secondary_code, combine_data[f\"statement({secondary})\"].iloc[i]) for i in range(len(combine_data))\n",
    "]\n",
    "\n",
    "choice = [_[0] for _ in statements]\n",
    "statements = [_[1] for _ in statements]\n",
    "combine_data[\"final_statement\"] = statements\n",
    "combine_data[\"final_statement(E/N)\"] = choice"
   ]
  },
  {
   "cell_type": "code",
   "execution_count": 9,
   "metadata": {},
   "outputs": [
    {
     "data": {
      "text/html": [
       "<div>\n",
       "<style scoped>\n",
       "    .dataframe tbody tr th:only-of-type {\n",
       "        vertical-align: middle;\n",
       "    }\n",
       "\n",
       "    .dataframe tbody tr th {\n",
       "        vertical-align: top;\n",
       "    }\n",
       "\n",
       "    .dataframe thead th {\n",
       "        text-align: right;\n",
       "    }\n",
       "</style>\n",
       "<table border=\"1\" class=\"dataframe\">\n",
       "  <thead>\n",
       "    <tr style=\"text-align: right;\">\n",
       "      <th></th>\n",
       "      <th>Company ID</th>\n",
       "      <th>Company</th>\n",
       "      <th>Statement ID</th>\n",
       "      <th>URL</th>\n",
       "      <th>statement(Edgar)</th>\n",
       "      <th>statement(Nitin)</th>\n",
       "      <th>final_statement</th>\n",
       "      <th>final_statement(E/N)</th>\n",
       "    </tr>\n",
       "  </thead>\n",
       "  <tbody>\n",
       "    <tr>\n",
       "      <th>0</th>\n",
       "      <td>7676</td>\n",
       "      <td>\"K\" Line Holding Europe Limited</td>\n",
       "      <td>35092</td>\n",
       "      <td>https://img1.wsimg.com/blobby/go/7695baff-3f0f...</td>\n",
       "      <td>K LINE\\nHOLDINC (EUROPE) LTD.\\nModern Slavery ...</td>\n",
       "      <td>66 99 “K” Line Holding (Europe) Limited kM K L...</td>\n",
       "      <td>66 99 “K” Line Holding (Europe) Limited kM K L...</td>\n",
       "      <td>N</td>\n",
       "    </tr>\n",
       "    <tr>\n",
       "      <th>1</th>\n",
       "      <td>28660</td>\n",
       "      <td>\"K\" Line Bulk Shipping (UK) Limited</td>\n",
       "      <td>35092</td>\n",
       "      <td>https://img1.wsimg.com/blobby/go/7695baff-3f0f...</td>\n",
       "      <td>K LINE\\nHOLDINC (EUROPE) LTD.\\nModern Slavery ...</td>\n",
       "      <td>66 99 “K” Line Holding (Europe) Limited kM K L...</td>\n",
       "      <td>66 99 “K” Line Holding (Europe) Limited kM K L...</td>\n",
       "      <td>N</td>\n",
       "    </tr>\n",
       "    <tr>\n",
       "      <th>2</th>\n",
       "      <td>28659</td>\n",
       "      <td>\"K\" Line (Europe) Limited</td>\n",
       "      <td>35092</td>\n",
       "      <td>https://img1.wsimg.com/blobby/go/7695baff-3f0f...</td>\n",
       "      <td>K LINE\\nHOLDINC (EUROPE) LTD.\\nModern Slavery ...</td>\n",
       "      <td>66 99 “K” Line Holding (Europe) Limited kM K L...</td>\n",
       "      <td>66 99 “K” Line Holding (Europe) Limited kM K L...</td>\n",
       "      <td>N</td>\n",
       "    </tr>\n",
       "    <tr>\n",
       "      <th>3</th>\n",
       "      <td>28661</td>\n",
       "      <td>\"K\" Line LNG Shipping Limited</td>\n",
       "      <td>35092</td>\n",
       "      <td>https://img1.wsimg.com/blobby/go/7695baff-3f0f...</td>\n",
       "      <td>K LINE\\nHOLDINC (EUROPE) LTD.\\nModern Slavery ...</td>\n",
       "      <td>66 99 “K” Line Holding (Europe) Limited kM K L...</td>\n",
       "      <td>66 99 “K” Line Holding (Europe) Limited kM K L...</td>\n",
       "      <td>N</td>\n",
       "    </tr>\n",
       "    <tr>\n",
       "      <th>4</th>\n",
       "      <td>28658</td>\n",
       "      <td>Polar LNG Shipping (UK) Limited</td>\n",
       "      <td>35092</td>\n",
       "      <td>https://img1.wsimg.com/blobby/go/7695baff-3f0f...</td>\n",
       "      <td>K LINE\\nHOLDINC (EUROPE) LTD.\\nModern Slavery ...</td>\n",
       "      <td>66 99 “K” Line Holding (Europe) Limited kM K L...</td>\n",
       "      <td>66 99 “K” Line Holding (Europe) Limited kM K L...</td>\n",
       "      <td>N</td>\n",
       "    </tr>\n",
       "  </tbody>\n",
       "</table>\n",
       "</div>"
      ],
      "text/plain": [
       "   Company ID                              Company Statement ID  \\\n",
       "0        7676      \"K\" Line Holding Europe Limited        35092   \n",
       "1       28660  \"K\" Line Bulk Shipping (UK) Limited        35092   \n",
       "2       28659            \"K\" Line (Europe) Limited        35092   \n",
       "3       28661        \"K\" Line LNG Shipping Limited        35092   \n",
       "4       28658      Polar LNG Shipping (UK) Limited        35092   \n",
       "\n",
       "                                                 URL  \\\n",
       "0  https://img1.wsimg.com/blobby/go/7695baff-3f0f...   \n",
       "1  https://img1.wsimg.com/blobby/go/7695baff-3f0f...   \n",
       "2  https://img1.wsimg.com/blobby/go/7695baff-3f0f...   \n",
       "3  https://img1.wsimg.com/blobby/go/7695baff-3f0f...   \n",
       "4  https://img1.wsimg.com/blobby/go/7695baff-3f0f...   \n",
       "\n",
       "                                    statement(Edgar)  \\\n",
       "0  K LINE\\nHOLDINC (EUROPE) LTD.\\nModern Slavery ...   \n",
       "1  K LINE\\nHOLDINC (EUROPE) LTD.\\nModern Slavery ...   \n",
       "2  K LINE\\nHOLDINC (EUROPE) LTD.\\nModern Slavery ...   \n",
       "3  K LINE\\nHOLDINC (EUROPE) LTD.\\nModern Slavery ...   \n",
       "4  K LINE\\nHOLDINC (EUROPE) LTD.\\nModern Slavery ...   \n",
       "\n",
       "                                    statement(Nitin)  \\\n",
       "0  66 99 “K” Line Holding (Europe) Limited kM K L...   \n",
       "1  66 99 “K” Line Holding (Europe) Limited kM K L...   \n",
       "2  66 99 “K” Line Holding (Europe) Limited kM K L...   \n",
       "3  66 99 “K” Line Holding (Europe) Limited kM K L...   \n",
       "4  66 99 “K” Line Holding (Europe) Limited kM K L...   \n",
       "\n",
       "                                     final_statement final_statement(E/N)  \n",
       "0  66 99 “K” Line Holding (Europe) Limited kM K L...                    N  \n",
       "1  66 99 “K” Line Holding (Europe) Limited kM K L...                    N  \n",
       "2  66 99 “K” Line Holding (Europe) Limited kM K L...                    N  \n",
       "3  66 99 “K” Line Holding (Europe) Limited kM K L...                    N  \n",
       "4  66 99 “K” Line Holding (Europe) Limited kM K L...                    N  "
      ]
     },
     "execution_count": 9,
     "metadata": {},
     "output_type": "execute_result"
    }
   ],
   "source": [
    "combine_data.head()"
   ]
  },
  {
   "cell_type": "code",
   "execution_count": 10,
   "metadata": {},
   "outputs": [
    {
     "name": "stdout",
     "output_type": "stream",
     "text": [
      "Before cleaning\n",
      "Total final statements: 28364\n",
      "Total NA final_statements: 7663\n",
      "Total non-NA final_statements: 20701\n",
      "Total non-NA final_statements(E): 2365\n",
      "Total non-NA final_statements(N): 18336\n"
     ]
    }
   ],
   "source": [
    "print(\"Before cleaning\")\n",
    "print(f\"Total final statements: {len(combine_data)}\")\n",
    "print(f\"Total NA final_statements: {np.sum((combine_data['final_statement'] == '#NA'))}\")\n",
    "print(f\"Total non-NA final_statements: {np.sum((combine_data['final_statement'] != '#NA'))}\")\n",
    "print(\"Total non-NA final_statements(E): \"\n",
    "      f\"{np.sum((combine_data['final_statement'] != '#NA') & (combine_data['final_statement(E/N)'] == 'E'))}\")\n",
    "print(\"Total non-NA final_statements(N): \"\n",
    "      f\"{np.sum((combine_data['final_statement'] != '#NA') & (combine_data['final_statement(E/N)'] == 'N'))}\")"
   ]
  },
  {
   "cell_type": "markdown",
   "metadata": {},
   "source": [
    "# 3.  Selecting unique statements"
   ]
  },
  {
   "cell_type": "code",
   "execution_count": 11,
   "metadata": {},
   "outputs": [
    {
     "data": {
      "text/html": [
       "<div>\n",
       "<style scoped>\n",
       "    .dataframe tbody tr th:only-of-type {\n",
       "        vertical-align: middle;\n",
       "    }\n",
       "\n",
       "    .dataframe tbody tr th {\n",
       "        vertical-align: top;\n",
       "    }\n",
       "\n",
       "    .dataframe thead th {\n",
       "        text-align: right;\n",
       "    }\n",
       "</style>\n",
       "<table border=\"1\" class=\"dataframe\">\n",
       "  <thead>\n",
       "    <tr style=\"text-align: right;\">\n",
       "      <th></th>\n",
       "      <th>URL</th>\n",
       "      <th>Company</th>\n",
       "      <th>final_statement</th>\n",
       "    </tr>\n",
       "  </thead>\n",
       "  <tbody>\n",
       "    <tr>\n",
       "      <th>0</th>\n",
       "      <td>https://img1.wsimg.com/blobby/go/7695baff-3f0f...</td>\n",
       "      <td>\"K\" Line Holding Europe Limited</td>\n",
       "      <td>66 99 “K” Line Holding (Europe) Limited kM K L...</td>\n",
       "    </tr>\n",
       "    <tr>\n",
       "      <th>10</th>\n",
       "      <td>https://1spatial.com/who-we-are/legal/modern-s...</td>\n",
       "      <td>1Spatial Plc</td>\n",
       "      <td>1Spatial Modern Slavery Act Policy Statement H...</td>\n",
       "    </tr>\n",
       "    <tr>\n",
       "      <th>11</th>\n",
       "      <td>https://www.shazans.com/slavery-and-human-traf...</td>\n",
       "      <td>1Stop Halal Limited</td>\n",
       "      <td>Slavery and Human Trafficking Statement – Shaz...</td>\n",
       "    </tr>\n",
       "    <tr>\n",
       "      <th>12</th>\n",
       "      <td>https://www.business-humanrights.org/sites/def...</td>\n",
       "      <td>1st Step Solutions Limited</td>\n",
       "      <td>7/28/2019 Modern Slavery Statement 2018 - 1st ...</td>\n",
       "    </tr>\n",
       "    <tr>\n",
       "      <th>13</th>\n",
       "      <td>https://www.2agriculture.com/wp-content/upload...</td>\n",
       "      <td>2 Agriculture Limited</td>\n",
       "      <td>fh Modern Slavery Act 2015: slavery and human ...</td>\n",
       "    </tr>\n",
       "  </tbody>\n",
       "</table>\n",
       "</div>"
      ],
      "text/plain": [
       "                                                  URL  \\\n",
       "0   https://img1.wsimg.com/blobby/go/7695baff-3f0f...   \n",
       "10  https://1spatial.com/who-we-are/legal/modern-s...   \n",
       "11  https://www.shazans.com/slavery-and-human-traf...   \n",
       "12  https://www.business-humanrights.org/sites/def...   \n",
       "13  https://www.2agriculture.com/wp-content/upload...   \n",
       "\n",
       "                            Company  \\\n",
       "0   \"K\" Line Holding Europe Limited   \n",
       "10                     1Spatial Plc   \n",
       "11              1Stop Halal Limited   \n",
       "12       1st Step Solutions Limited   \n",
       "13            2 Agriculture Limited   \n",
       "\n",
       "                                      final_statement  \n",
       "0   66 99 “K” Line Holding (Europe) Limited kM K L...  \n",
       "10  1Spatial Modern Slavery Act Policy Statement H...  \n",
       "11  Slavery and Human Trafficking Statement – Shaz...  \n",
       "12  7/28/2019 Modern Slavery Statement 2018 - 1st ...  \n",
       "13  fh Modern Slavery Act 2015: slavery and human ...  "
      ]
     },
     "execution_count": 11,
     "metadata": {},
     "output_type": "execute_result"
    }
   ],
   "source": [
    "subset_data = combine_data[combine_data[\"final_statement\"]!=\"#NA\"][[\"URL\", \"Company\", \"final_statement\"]].copy()\n",
    "subset_data.drop_duplicates(subset=\"URL\", inplace=True)\n",
    "subset_data.head()"
   ]
  },
  {
   "cell_type": "code",
   "execution_count": 12,
   "metadata": {},
   "outputs": [
    {
     "name": "stdout",
     "output_type": "stream",
     "text": [
      "Unique non-NA statements in subset data: 11969\n"
     ]
    }
   ],
   "source": [
    "print(f\"Unique non-NA statements in subset data: {len(subset_data)}\")"
   ]
  },
  {
   "cell_type": "markdown",
   "metadata": {},
   "source": [
    "# 4. Text Cleaning and Preprocessing"
   ]
  },
  {
   "cell_type": "markdown",
   "metadata": {},
   "source": [
    "### 4.1 Initial text preprocessing"
   ]
  },
  {
   "cell_type": "code",
   "execution_count": 13,
   "metadata": {},
   "outputs": [],
   "source": [
    "uk_to_us_mappings = pd.read_excel(f\"{DATA_PATH}\\\\UK_to_US_word_mappings.xlsx\")\n",
    "uk_to_us_mappings = {row[0]: row[1] for row in  uk_to_us_mappings.values}\n",
    "\n",
    "url_extractor = URLExtract()"
   ]
  },
  {
   "cell_type": "code",
   "execution_count": 14,
   "metadata": {},
   "outputs": [],
   "source": [
    "def clean_text(text: str):\n",
    "    text = text.lower()\n",
    "    text = text.replace(\"\\n\",\" \")\n",
    "    text = text.replace(\"\\t\",\" \")\n",
    "    \n",
    "    urls = url_extractor.find_urls(text)\n",
    "    for url in urls:\n",
    "        text = text.replace(url, \" \")\n",
    "    \n",
    "    remove_tokens = [[\"privacy\", \"policy\"], \"cookies\", \"skip content\", \"please donate\", \"signup\", \"download\", \"newsletter\"]\n",
    "    text = text_parser.remove_sentences_with_tokens(text, tokens=remove_tokens)\n",
    "    \n",
    "    text = text_parser.replace_special_chars(text, replace_digits=True)\n",
    "    \n",
    "    text = text_parser.remove_stopwords(text)\n",
    "    \n",
    "    words = []\n",
    "    for word in text.split():\n",
    "        word = text_parser.word_expantions[word] if word in text_parser.word_expantions else word\n",
    "        word = uk_to_us_mappings[word] if word in uk_to_us_mappings else word\n",
    "        words.append(word)\n",
    "\n",
    "    return \" \".join(words)"
   ]
  },
  {
   "cell_type": "code",
   "execution_count": 15,
   "metadata": {},
   "outputs": [
    {
     "name": "stderr",
     "output_type": "stream",
     "text": [
      "100%|████████████████████████████████████████████████████████████| 11969/11969 [17:45<00:00, 11.24it/s]"
     ]
    },
    {
     "name": "stdout",
     "output_type": "stream",
     "text": [
      "Unique non-NA cleaned statements in subset data: 11916\n"
     ]
    },
    {
     "name": "stderr",
     "output_type": "stream",
     "text": [
      "\n"
     ]
    }
   ],
   "source": [
    "subset_data[\"final_statement_cleaned\"] = [\n",
    "    clean_text(statement) for statement in tqdm(subset_data[\"final_statement\"].values, position=0, leave=True)]\n",
    "subset_data = subset_data[subset_data[\"final_statement_cleaned\"] != \"\"]\n",
    "print(f\"Unique non-NA cleaned statements in subset data: {len(subset_data)}\")"
   ]
  },
  {
   "cell_type": "code",
   "execution_count": 16,
   "metadata": {},
   "outputs": [
    {
     "name": "stderr",
     "output_type": "stream",
     "text": [
      "100%|██████████████████████████████████████████████████████████| 11916/11916 [00:04<00:00, 2551.10it/s]\n"
     ]
    }
   ],
   "source": [
    "subset_data[\"company_cleaned\"] = [clean_text(company) for company in tqdm(subset_data[\"Company\"], position=0, leave=True)]"
   ]
  },
  {
   "cell_type": "code",
   "execution_count": 17,
   "metadata": {},
   "outputs": [
    {
     "data": {
      "text/html": [
       "<div>\n",
       "<style scoped>\n",
       "    .dataframe tbody tr th:only-of-type {\n",
       "        vertical-align: middle;\n",
       "    }\n",
       "\n",
       "    .dataframe tbody tr th {\n",
       "        vertical-align: top;\n",
       "    }\n",
       "\n",
       "    .dataframe thead th {\n",
       "        text-align: right;\n",
       "    }\n",
       "</style>\n",
       "<table border=\"1\" class=\"dataframe\">\n",
       "  <thead>\n",
       "    <tr style=\"text-align: right;\">\n",
       "      <th></th>\n",
       "      <th>URL</th>\n",
       "      <th>Company</th>\n",
       "      <th>final_statement</th>\n",
       "      <th>final_statement_cleaned</th>\n",
       "      <th>company_cleaned</th>\n",
       "    </tr>\n",
       "  </thead>\n",
       "  <tbody>\n",
       "    <tr>\n",
       "      <th>0</th>\n",
       "      <td>https://img1.wsimg.com/blobby/go/7695baff-3f0f...</td>\n",
       "      <td>\"K\" Line Holding Europe Limited</td>\n",
       "      <td>66 99 “K” Line Holding (Europe) Limited kM K L...</td>\n",
       "      <td>k line holding europe limited km k line sh foo...</td>\n",
       "      <td>k line holding europe limited</td>\n",
       "    </tr>\n",
       "    <tr>\n",
       "      <th>10</th>\n",
       "      <td>https://1spatial.com/who-we-are/legal/modern-s...</td>\n",
       "      <td>1Spatial Plc</td>\n",
       "      <td>1Spatial Modern Slavery Act Policy Statement H...</td>\n",
       "      <td>spatial modern slavery act policy statement ho...</td>\n",
       "      <td>spatial plc</td>\n",
       "    </tr>\n",
       "    <tr>\n",
       "      <th>11</th>\n",
       "      <td>https://www.shazans.com/slavery-and-human-traf...</td>\n",
       "      <td>1Stop Halal Limited</td>\n",
       "      <td>Slavery and Human Trafficking Statement – Shaz...</td>\n",
       "      <td>slavery human trafficking statement shazans sh...</td>\n",
       "      <td>stop halal limited</td>\n",
       "    </tr>\n",
       "    <tr>\n",
       "      <th>12</th>\n",
       "      <td>https://www.business-humanrights.org/sites/def...</td>\n",
       "      <td>1st Step Solutions Limited</td>\n",
       "      <td>7/28/2019 Modern Slavery Statement 2018 - 1st ...</td>\n",
       "      <td>modern slavery statement st step solutions e r...</td>\n",
       "      <td>st step solutions limited</td>\n",
       "    </tr>\n",
       "    <tr>\n",
       "      <th>13</th>\n",
       "      <td>https://www.2agriculture.com/wp-content/upload...</td>\n",
       "      <td>2 Agriculture Limited</td>\n",
       "      <td>fh Modern Slavery Act 2015: slavery and human ...</td>\n",
       "      <td>fh modern slavery act slavery human traffickin...</td>\n",
       "      <td>agriculture limited</td>\n",
       "    </tr>\n",
       "  </tbody>\n",
       "</table>\n",
       "</div>"
      ],
      "text/plain": [
       "                                                  URL  \\\n",
       "0   https://img1.wsimg.com/blobby/go/7695baff-3f0f...   \n",
       "10  https://1spatial.com/who-we-are/legal/modern-s...   \n",
       "11  https://www.shazans.com/slavery-and-human-traf...   \n",
       "12  https://www.business-humanrights.org/sites/def...   \n",
       "13  https://www.2agriculture.com/wp-content/upload...   \n",
       "\n",
       "                            Company  \\\n",
       "0   \"K\" Line Holding Europe Limited   \n",
       "10                     1Spatial Plc   \n",
       "11              1Stop Halal Limited   \n",
       "12       1st Step Solutions Limited   \n",
       "13            2 Agriculture Limited   \n",
       "\n",
       "                                      final_statement  \\\n",
       "0   66 99 “K” Line Holding (Europe) Limited kM K L...   \n",
       "10  1Spatial Modern Slavery Act Policy Statement H...   \n",
       "11  Slavery and Human Trafficking Statement – Shaz...   \n",
       "12  7/28/2019 Modern Slavery Statement 2018 - 1st ...   \n",
       "13  fh Modern Slavery Act 2015: slavery and human ...   \n",
       "\n",
       "                              final_statement_cleaned  \\\n",
       "0   k line holding europe limited km k line sh foo...   \n",
       "10  spatial modern slavery act policy statement ho...   \n",
       "11  slavery human trafficking statement shazans sh...   \n",
       "12  modern slavery statement st step solutions e r...   \n",
       "13  fh modern slavery act slavery human traffickin...   \n",
       "\n",
       "                  company_cleaned  \n",
       "0   k line holding europe limited  \n",
       "10                    spatial plc  \n",
       "11             stop halal limited  \n",
       "12      st step solutions limited  \n",
       "13            agriculture limited  "
      ]
     },
     "execution_count": 17,
     "metadata": {},
     "output_type": "execute_result"
    }
   ],
   "source": [
    "subset_data.head()"
   ]
  },
  {
   "cell_type": "code",
   "execution_count": 18,
   "metadata": {},
   "outputs": [],
   "source": [
    "def remove_company_name(company_name: str, \n",
    "                        statement: str) -> str:\n",
    "    \"\"\"Remove company name instances present in the statement.\"\"\"\n",
    "    mappings = text_parser.find_ngrams_in_text(sentence=company_name,\n",
    "                                   text=statement)\n",
    "    # to remove big text first\n",
    "    mappings = {k:v for k,v in sorted(mappings.items(), key=lambda x:x[1])} \n",
    "    for ngram, cnt in mappings.items():\n",
    "        if cnt > 0:\n",
    "            ngram_splitted = ngram.split()\n",
    "            # to skip unigram of length 1 and single character in unigram\n",
    "            if not (len(ngram_splitted) == 1 and len(ngram_splitted[0]) == 1): \n",
    "                statement = statement.replace(ngram,\" \")\n",
    "\n",
    "    statement = \" \".join(statement.split())\n",
    "    return statement"
   ]
  },
  {
   "cell_type": "code",
   "execution_count": 19,
   "metadata": {},
   "outputs": [
    {
     "name": "stderr",
     "output_type": "stream",
     "text": [
      "100%|██████████████████████████████████████████████████████████| 11916/11916 [00:10<00:00, 1124.23it/s]\n"
     ]
    },
    {
     "data": {
      "text/html": [
       "<div>\n",
       "<style scoped>\n",
       "    .dataframe tbody tr th:only-of-type {\n",
       "        vertical-align: middle;\n",
       "    }\n",
       "\n",
       "    .dataframe tbody tr th {\n",
       "        vertical-align: top;\n",
       "    }\n",
       "\n",
       "    .dataframe thead th {\n",
       "        text-align: right;\n",
       "    }\n",
       "</style>\n",
       "<table border=\"1\" class=\"dataframe\">\n",
       "  <thead>\n",
       "    <tr style=\"text-align: right;\">\n",
       "      <th></th>\n",
       "      <th>URL</th>\n",
       "      <th>Company</th>\n",
       "      <th>final_statement</th>\n",
       "      <th>final_statement_cleaned</th>\n",
       "    </tr>\n",
       "  </thead>\n",
       "  <tbody>\n",
       "    <tr>\n",
       "      <th>0</th>\n",
       "      <td>https://img1.wsimg.com/blobby/go/7695baff-3f0f...</td>\n",
       "      <td>\"K\" Line Holding Europe Limited</td>\n",
       "      <td>66 99 “K” Line Holding (Europe) Limited kM K L...</td>\n",
       "      <td>km sh foor eum holding europe ltd aldersgate s...</td>\n",
       "    </tr>\n",
       "    <tr>\n",
       "      <th>10</th>\n",
       "      <td>https://1spatial.com/who-we-are/legal/modern-s...</td>\n",
       "      <td>1Spatial Plc</td>\n",
       "      <td>1Spatial Modern Slavery Act Policy Statement H...</td>\n",
       "      <td>modern slavery act policy statement home solut...</td>\n",
       "    </tr>\n",
       "    <tr>\n",
       "      <th>11</th>\n",
       "      <td>https://www.shazans.com/slavery-and-human-traf...</td>\n",
       "      <td>1Stop Halal Limited</td>\n",
       "      <td>Slavery and Human Trafficking Statement – Shaz...</td>\n",
       "      <td>slavery human trafficking statement shazans sh...</td>\n",
       "    </tr>\n",
       "    <tr>\n",
       "      <th>12</th>\n",
       "      <td>https://www.business-humanrights.org/sites/def...</td>\n",
       "      <td>1st Step Solutions Limited</td>\n",
       "      <td>7/28/2019 Modern Slavery Statement 2018 - 1st ...</td>\n",
       "      <td>modern slavery atement e r n l v e r e e n ate...</td>\n",
       "    </tr>\n",
       "    <tr>\n",
       "      <th>13</th>\n",
       "      <td>https://www.2agriculture.com/wp-content/upload...</td>\n",
       "      <td>2 Agriculture Limited</td>\n",
       "      <td>fh Modern Slavery Act 2015: slavery and human ...</td>\n",
       "      <td>fh modern slavery act slavery human traffickin...</td>\n",
       "    </tr>\n",
       "  </tbody>\n",
       "</table>\n",
       "</div>"
      ],
      "text/plain": [
       "                                                  URL  \\\n",
       "0   https://img1.wsimg.com/blobby/go/7695baff-3f0f...   \n",
       "10  https://1spatial.com/who-we-are/legal/modern-s...   \n",
       "11  https://www.shazans.com/slavery-and-human-traf...   \n",
       "12  https://www.business-humanrights.org/sites/def...   \n",
       "13  https://www.2agriculture.com/wp-content/upload...   \n",
       "\n",
       "                            Company  \\\n",
       "0   \"K\" Line Holding Europe Limited   \n",
       "10                     1Spatial Plc   \n",
       "11              1Stop Halal Limited   \n",
       "12       1st Step Solutions Limited   \n",
       "13            2 Agriculture Limited   \n",
       "\n",
       "                                      final_statement  \\\n",
       "0   66 99 “K” Line Holding (Europe) Limited kM K L...   \n",
       "10  1Spatial Modern Slavery Act Policy Statement H...   \n",
       "11  Slavery and Human Trafficking Statement – Shaz...   \n",
       "12  7/28/2019 Modern Slavery Statement 2018 - 1st ...   \n",
       "13  fh Modern Slavery Act 2015: slavery and human ...   \n",
       "\n",
       "                              final_statement_cleaned  \n",
       "0   km sh foor eum holding europe ltd aldersgate s...  \n",
       "10  modern slavery act policy statement home solut...  \n",
       "11  slavery human trafficking statement shazans sh...  \n",
       "12  modern slavery atement e r n l v e r e e n ate...  \n",
       "13  fh modern slavery act slavery human traffickin...  "
      ]
     },
     "execution_count": 19,
     "metadata": {},
     "output_type": "execute_result"
    }
   ],
   "source": [
    "subset_data[\"final_statement_cleaned\"] = [remove_company_name(company_name=row[0], \n",
    "                                                              statement=row[1]) \n",
    "                                          for row in tqdm(subset_data[[\"company_cleaned\",\n",
    "                                                                       \"final_statement_cleaned\"]].values,\n",
    "                                                          position=0, \n",
    "                                                          leave=True)]\n",
    "subset_data = subset_data[subset_data[\"final_statement_cleaned\"] != \"\"]\n",
    "subset_data.drop(\"company_cleaned\", axis=1, inplace=True)\n",
    "subset_data.head()"
   ]
  },
  {
   "cell_type": "code",
   "execution_count": 20,
   "metadata": {},
   "outputs": [
    {
     "name": "stdout",
     "output_type": "stream",
     "text": [
      "Unique non-NA cleaned statements in subset data: 11916\n"
     ]
    }
   ],
   "source": [
    "print(f\"Unique non-NA cleaned statements in subset data: {len(subset_data)}\")"
   ]
  },
  {
   "cell_type": "markdown",
   "metadata": {},
   "source": [
    "### 4.2 Lemmatizing"
   ]
  },
  {
   "cell_type": "code",
   "execution_count": 21,
   "metadata": {},
   "outputs": [
    {
     "name": "stderr",
     "output_type": "stream",
     "text": [
      "100%|███████████████████████████████████████████████████████████| 11916/11916 [00:58<00:00, 204.89it/s]\n"
     ]
    }
   ],
   "source": [
    "lemmatizer = WordNetLemmatizer() # wordnet lemmatizer object\n",
    "cleaned_statements = []\n",
    "for statement in tqdm(subset_data[\"final_statement_cleaned\"], position=0, leave=True):\n",
    "    cleaned_statements.append(\n",
    "        \" \".join(\n",
    "            lemmatizer.lemmatize(word, pos=\"v\") for word in statement.split()))"
   ]
  },
  {
   "cell_type": "code",
   "execution_count": 22,
   "metadata": {},
   "outputs": [
    {
     "name": "stderr",
     "output_type": "stream",
     "text": [
      "100%|██████████████████████████████████████████████████████████| 11916/11916 [00:06<00:00, 1726.59it/s]"
     ]
    },
    {
     "name": "stdout",
     "output_type": "stream",
     "text": [
      "Total vocab size: 72006, total distinct word sizes: 77\n"
     ]
    },
    {
     "name": "stderr",
     "output_type": "stream",
     "text": [
      "\n"
     ]
    }
   ],
   "source": [
    "word_sizes = {}\n",
    "vocab = {}\n",
    "for statement in tqdm(cleaned_statements, position=0, leave=True):\n",
    "    for word in statement.split():\n",
    "        size = len(word)\n",
    "        if word not in vocab:\n",
    "            vocab[word] = 1\n",
    "        else:\n",
    "            vocab[word] += 1\n",
    "        if size not in word_sizes:\n",
    "            word_sizes[size] = 1\n",
    "        else:\n",
    "            word_sizes[size] += 1\n",
    "word_sizes = utils.sort_dict(word_sizes, by=0)\n",
    "print(f\"Total vocab size: {len(vocab)}, total distinct word sizes: {len(word_sizes)}\")"
   ]
  },
  {
   "cell_type": "code",
   "execution_count": 23,
   "metadata": {},
   "outputs": [
    {
     "data": {
      "image/png": "[encoded data removed]",
      "text/plain": [
       "<Figure size 432x288 with 1 Axes>"
      ]
     },
     "metadata": {
      "needs_background": "light"
     },
     "output_type": "display_data"
    }
   ],
   "source": [
    "fig, ax = plt.subplots()\n",
    "ax.bar(word_sizes.keys(), word_sizes.values())\n",
    "ax.set_xlabel(\"word size\")\n",
    "ax.set_ylabel(\"count\")\n",
    "plt.show()"
   ]
  },
  {
   "cell_type": "code",
   "execution_count": 24,
   "metadata": {},
   "outputs": [
    {
     "data": {
      "image/png": "[encoded data removed]",
      "text/plain": [
       "<Figure size 432x288 with 1 Axes>"
      ]
     },
     "metadata": {
      "needs_background": "light"
     },
     "output_type": "display_data"
    }
   ],
   "source": [
    "fig, ax = plt.subplots()\n",
    "upper_limit = 20\n",
    "ax.bar(list(word_sizes.keys())[:upper_limit], list(word_sizes.values())[:upper_limit])\n",
    "ax.set_xlabel(\"word size\")\n",
    "ax.set_ylabel(\"count\")\n",
    "ax.xaxis.set_major_locator(MaxNLocator(integer=True))\n",
    "plt.show()"
   ]
  },
  {
   "cell_type": "markdown",
   "metadata": {},
   "source": [
    "From above plot, it seems like max word size can be restricted to 15 and min word size to 2"
   ]
  },
  {
   "cell_type": "code",
   "execution_count": 25,
   "metadata": {},
   "outputs": [],
   "source": [
    "MIN_WORD_SIZE = 2\n",
    "MAX_WORD_SIZE = 15"
   ]
  },
  {
   "cell_type": "code",
   "execution_count": 26,
   "metadata": {},
   "outputs": [
    {
     "name": "stderr",
     "output_type": "stream",
     "text": [
      "100%|██████████████████████████████████████████████████████████| 11916/11916 [00:02<00:00, 4869.46it/s]\n"
     ]
    }
   ],
   "source": [
    "temp_cleaned_statements = []\n",
    "for statement in tqdm(cleaned_statements, position=0, leave=True):\n",
    "    temp_cleaned_statements.append(\n",
    "        \" \".join([word for word in statement.split() \n",
    "                  if MIN_WORD_SIZE <= len(word) <= MAX_WORD_SIZE]))\n",
    "cleaned_statements = deepcopy(temp_cleaned_statements)\n",
    "del temp_cleaned_statements"
   ]
  },
  {
   "cell_type": "code",
   "execution_count": 27,
   "metadata": {},
   "outputs": [
    {
     "name": "stderr",
     "output_type": "stream",
     "text": [
      "100%|██████████████████████████████████████████████████████████| 11916/11916 [00:07<00:00, 1613.23it/s]\n"
     ]
    },
    {
     "name": "stdout",
     "output_type": "stream",
     "text": [
      "Total vocab size: 69778, total distinct word sizes: 14\n"
     ]
    }
   ],
   "source": [
    "sub_word_sizes = {}\n",
    "sub_vocab = {}\n",
    "for statement in tqdm(cleaned_statements, position=0, leave=True):\n",
    "    for word in statement.split():\n",
    "        size = len(word)\n",
    "        if word not in sub_vocab:\n",
    "            sub_vocab[word] = 1\n",
    "        else:\n",
    "            sub_vocab[word] += 1\n",
    "        if size not in sub_word_sizes:\n",
    "            sub_word_sizes[size] = 1\n",
    "        else:\n",
    "            sub_word_sizes[size] += 1\n",
    "            \n",
    "sub_word_sizes = utils.sort_dict(sub_word_sizes, by=0)\n",
    "sub_vocab = utils.sort_dict(sub_vocab, by=1, reverse=True)\n",
    "print(f\"Total vocab size: {len(sub_vocab)}, total distinct word sizes: {len(sub_word_sizes)}\")"
   ]
  },
  {
   "cell_type": "code",
   "execution_count": 28,
   "metadata": {},
   "outputs": [
    {
     "data": {
      "text/html": [
       "<div>\n",
       "<style scoped>\n",
       "    .dataframe tbody tr th:only-of-type {\n",
       "        vertical-align: middle;\n",
       "    }\n",
       "\n",
       "    .dataframe tbody tr th {\n",
       "        vertical-align: top;\n",
       "    }\n",
       "\n",
       "    .dataframe thead th {\n",
       "        text-align: right;\n",
       "    }\n",
       "</style>\n",
       "<table border=\"1\" class=\"dataframe\">\n",
       "  <thead>\n",
       "    <tr style=\"text-align: right;\">\n",
       "      <th></th>\n",
       "      <th>URL</th>\n",
       "      <th>Company</th>\n",
       "      <th>final_statement</th>\n",
       "      <th>final_statement_cleaned</th>\n",
       "    </tr>\n",
       "  </thead>\n",
       "  <tbody>\n",
       "    <tr>\n",
       "      <th>0</th>\n",
       "      <td>https://img1.wsimg.com/blobby/go/7695baff-3f0f...</td>\n",
       "      <td>\"K\" Line Holding Europe Limited</td>\n",
       "      <td>66 99 “K” Line Holding (Europe) Limited kM K L...</td>\n",
       "      <td>km sh foor eum hold europe ltd aldersgate stre...</td>\n",
       "    </tr>\n",
       "    <tr>\n",
       "      <th>10</th>\n",
       "      <td>https://1spatial.com/who-we-are/legal/modern-s...</td>\n",
       "      <td>1Spatial Plc</td>\n",
       "      <td>1Spatial Modern Slavery Act Policy Statement H...</td>\n",
       "      <td>modern slavery act policy statement home solut...</td>\n",
       "    </tr>\n",
       "    <tr>\n",
       "      <th>11</th>\n",
       "      <td>https://www.shazans.com/slavery-and-human-traf...</td>\n",
       "      <td>1Stop Halal Limited</td>\n",
       "      <td>Slavery and Human Trafficking Statement – Shaz...</td>\n",
       "      <td>slavery human traffic statement shazans shazan...</td>\n",
       "    </tr>\n",
       "    <tr>\n",
       "      <th>12</th>\n",
       "      <td>https://www.business-humanrights.org/sites/def...</td>\n",
       "      <td>1st Step Solutions Limited</td>\n",
       "      <td>7/28/2019 Modern Slavery Statement 2018 - 1st ...</td>\n",
       "      <td>modern slavery atement atement make pursuant s...</td>\n",
       "    </tr>\n",
       "    <tr>\n",
       "      <th>13</th>\n",
       "      <td>https://www.2agriculture.com/wp-content/upload...</td>\n",
       "      <td>2 Agriculture Limited</td>\n",
       "      <td>fh Modern Slavery Act 2015: slavery and human ...</td>\n",
       "      <td>fh modern slavery act slavery human traffic st...</td>\n",
       "    </tr>\n",
       "  </tbody>\n",
       "</table>\n",
       "</div>"
      ],
      "text/plain": [
       "                                                  URL  \\\n",
       "0   https://img1.wsimg.com/blobby/go/7695baff-3f0f...   \n",
       "10  https://1spatial.com/who-we-are/legal/modern-s...   \n",
       "11  https://www.shazans.com/slavery-and-human-traf...   \n",
       "12  https://www.business-humanrights.org/sites/def...   \n",
       "13  https://www.2agriculture.com/wp-content/upload...   \n",
       "\n",
       "                            Company  \\\n",
       "0   \"K\" Line Holding Europe Limited   \n",
       "10                     1Spatial Plc   \n",
       "11              1Stop Halal Limited   \n",
       "12       1st Step Solutions Limited   \n",
       "13            2 Agriculture Limited   \n",
       "\n",
       "                                      final_statement  \\\n",
       "0   66 99 “K” Line Holding (Europe) Limited kM K L...   \n",
       "10  1Spatial Modern Slavery Act Policy Statement H...   \n",
       "11  Slavery and Human Trafficking Statement – Shaz...   \n",
       "12  7/28/2019 Modern Slavery Statement 2018 - 1st ...   \n",
       "13  fh Modern Slavery Act 2015: slavery and human ...   \n",
       "\n",
       "                              final_statement_cleaned  \n",
       "0   km sh foor eum hold europe ltd aldersgate stre...  \n",
       "10  modern slavery act policy statement home solut...  \n",
       "11  slavery human traffic statement shazans shazan...  \n",
       "12  modern slavery atement atement make pursuant s...  \n",
       "13  fh modern slavery act slavery human traffic st...  "
      ]
     },
     "execution_count": 28,
     "metadata": {},
     "output_type": "execute_result"
    }
   ],
   "source": [
    "subset_data[\"final_statement_cleaned\"] = cleaned_statements\n",
    "subset_data = subset_data[subset_data[\"final_statement_cleaned\"] != \"\"]\n",
    "subset_data.drop_duplicates(inplace=True)\n",
    "subset_data.head()"
   ]
  },
  {
   "cell_type": "code",
   "execution_count": 29,
   "metadata": {},
   "outputs": [
    {
     "name": "stdout",
     "output_type": "stream",
     "text": [
      "Unique non-NA cleaned statements in subset data: 11916\n"
     ]
    }
   ],
   "source": [
    "print(f\"Unique non-NA cleaned statements in subset data: {len(subset_data)}\")"
   ]
  },
  {
   "cell_type": "code",
   "execution_count": 30,
   "metadata": {},
   "outputs": [],
   "source": [
    "# subset_data.to_excel(f\"{SHEETS_PATH}//modern_slavery_statements_cleaned_subset.xlsx\", index=False)"
   ]
  },
  {
   "cell_type": "markdown",
   "metadata": {},
   "source": [
    "# 5. Generating similarity score between statements and removing 99% duplicate statements"
   ]
  },
  {
   "cell_type": "code",
   "execution_count": 31,
   "metadata": {},
   "outputs": [
    {
     "name": "stdout",
     "output_type": "stream",
     "text": [
      "Count vector shape: (11916, 69778)\n"
     ]
    }
   ],
   "source": [
    "N_GRAM = (1, 1)\n",
    "count_vect = CountVectorizer(ngram_range=N_GRAM)\n",
    "X = count_vect.fit_transform(subset_data[\"final_statement_cleaned\"])\n",
    "print(f\"Count vector shape: {X.shape}\")"
   ]
  },
  {
   "cell_type": "code",
   "execution_count": 32,
   "metadata": {},
   "outputs": [],
   "source": [
    "similarity_matrix = cosine_similarity(X, X)"
   ]
  },
  {
   "cell_type": "code",
   "execution_count": 33,
   "metadata": {},
   "outputs": [
    {
     "name": "stderr",
     "output_type": "stream",
     "text": [
      "100%|██████████████████████████████████████████████████████████| 11916/11916 [00:02<00:00, 5125.12it/s]\n"
     ]
    }
   ],
   "source": [
    "DUPLICATE_SIMILARITY_SCORE_THRESHOLD = .99\n",
    "n = X.shape[0]\n",
    "dup_mapping = {} \n",
    "dup_idxs = []\n",
    "for idx in tqdm(range(n), position=0, leave=True):\n",
    "    if idx not in dup_idxs:\n",
    "        idxs = np.argwhere(similarity_matrix[idx][idx+1:] > DUPLICATE_SIMILARITY_SCORE_THRESHOLD).ravel()\n",
    "        if len(idxs) > 0:\n",
    "            idxs += idx+1 # shifting\n",
    "            dup_mapping[idx] = idxs\n",
    "            dup_idxs += list(idxs)\n",
    "dup_mapping = {subset_data.index[k]:[subset_data.index[idx] for idx in v] for k,v in dup_mapping.items()}\n",
    "dup_idxs = [subset_data.index[idx] for idx in dup_idxs]"
   ]
  },
  {
   "cell_type": "code",
   "execution_count": 34,
   "metadata": {},
   "outputs": [
    {
     "name": "stdout",
     "output_type": "stream",
     "text": [
      "Found 1126 out of 11916 with 99.0% duplicacy\n"
     ]
    }
   ],
   "source": [
    "print(f\"Found {len(np.unique(dup_idxs))} out of {len(subset_data)} with {DUPLICATE_SIMILARITY_SCORE_THRESHOLD*100}% duplicacy\")"
   ]
  },
  {
   "cell_type": "code",
   "execution_count": 36,
   "metadata": {},
   "outputs": [
    {
     "name": "stdout",
     "output_type": "stream",
     "text": [
      "orig:  url: https://cdn.shopify.com/s/files/1/1217/7686/t/2/assets/Modern-slavery-and-human-trafficking-statement.pdf?98 \n",
      "statement: page date apr document sect policy issue date version page revise allcorn authorize newcombe barber cheesemakers group aj rg barber ltd ditcheat somerset ba pr ford farm ashley chase estate litton cheney dorset dt az modern slavery human traffic statement introduction statement set aj rg barber action understand potential modern slavery risk relate business put place step aim ensure slavery human traffic business supply chain statement relate action activities financial year april march part uk \n",
      "\n",
      "dup-0: url: https://cdn.shopify.com/s/files/1/1217/7686/t/2/assets/Modern-slavery-and-human-trafficking-statement.pdf?10982987683653637190 \n",
      "statement: page date apr document sect policy issue date version page revise allcorn authorize newcombe barber cheesemakers group aj rg barber ltd ditcheat somerset ba pr ford farm ashley chase estate litton cheney dorset dt az modern slavery human traffic statement introduction statement set aj rg barber action understand potential modern slavery risk relate business put place step aim ensure slavery human traffic business supply chain statement relate action activities financial year april march part uk \n",
      "\n",
      "dup-1: url: https://cdn.shopify.com/s/files/1/1217/7686/t/2/assets/Modern-slavery-and-human-trafficking-statement.pdf?131 \n",
      "statement: page date apr document sect policy issue date version page revise allcorn authorize newcombe barber cheesemakers group aj rg barber ltd ditcheat somerset ba pr ford farm ashley chase estate litton cheney dorset dt az modern slavery human traffic statement introduction statement set aj rg barber action understand potential modern slavery risk relate business put place step aim ensure slavery human traffic business supply chain statement relate action activities financial year april march part uk \n",
      "\n"
     ]
    }
   ],
   "source": [
    "i = 0\n",
    "orig, dups = list(dup_mapping.items())[i]\n",
    "print(f\"orig:  url: {subset_data['URL'].loc[orig]} \\nstatement: {subset_data['final_statement_cleaned'].loc[orig][:500]}\\n\")\n",
    "for j, k in enumerate(dups):\n",
    "    print(f\"dup-{j}: url: {subset_data['URL'].loc[k]} \\nstatement: {subset_data['final_statement_cleaned'].loc[k][:500]}\\n\")\n",
    "    "
   ]
  },
  {
   "cell_type": "code",
   "execution_count": 37,
   "metadata": {},
   "outputs": [
    {
     "name": "stdout",
     "output_type": "stream",
     "text": [
      "Unique non-NA cleaned statements in subset data: 10790\n"
     ]
    }
   ],
   "source": [
    "subset_data.drop(dup_idxs, axis=0, inplace=True)\n",
    "print(f\"Unique non-NA cleaned statements in subset data: {len(subset_data)}\")"
   ]
  },
  {
   "cell_type": "markdown",
   "metadata": {},
   "source": [
    "# 6. Finding a threshold length to validate that a statement is modern slavery statement or scrap text"
   ]
  },
  {
   "cell_type": "code",
   "execution_count": 38,
   "metadata": {},
   "outputs": [],
   "source": [
    "subset_data[\"len(final_statement_cleaned)\"] = subset_data[\"final_statement_cleaned\"].apply(lambda x: len(x))"
   ]
  },
  {
   "cell_type": "code",
   "execution_count": 39,
   "metadata": {},
   "outputs": [
    {
     "data": {
      "image/png": "[encoded data removed]",
      "text/plain": [
       "<Figure size 864x360 with 2 Axes>"
      ]
     },
     "metadata": {
      "needs_background": "light"
     },
     "output_type": "display_data"
    }
   ],
   "source": [
    "fig, (ax1, ax2) = plt.subplots(ncols=2, figsize=(12, 5))\n",
    "ax1.boxplot(subset_data[\"len(final_statement_cleaned)\"])\n",
    "ax2.hist(subset_data[\"len(final_statement_cleaned)\"], bins=100)\n",
    "plt.show()"
   ]
  },
  {
   "cell_type": "code",
   "execution_count": 40,
   "metadata": {},
   "outputs": [
    {
     "data": {
      "text/html": [
       "<div>\n",
       "<style scoped>\n",
       "    .dataframe tbody tr th:only-of-type {\n",
       "        vertical-align: middle;\n",
       "    }\n",
       "\n",
       "    .dataframe tbody tr th {\n",
       "        vertical-align: top;\n",
       "    }\n",
       "\n",
       "    .dataframe thead th {\n",
       "        text-align: right;\n",
       "    }\n",
       "</style>\n",
       "<table border=\"1\" class=\"dataframe\">\n",
       "  <thead>\n",
       "    <tr style=\"text-align: right;\">\n",
       "      <th></th>\n",
       "      <th>URL</th>\n",
       "      <th>Company</th>\n",
       "      <th>final_statement</th>\n",
       "      <th>final_statement_cleaned</th>\n",
       "      <th>len(final_statement_cleaned)</th>\n",
       "    </tr>\n",
       "  </thead>\n",
       "  <tbody>\n",
       "    <tr>\n",
       "      <th>17</th>\n",
       "      <td>http://www.2020projects.co.uk/modernslaverypolicy</td>\n",
       "      <td>20/20 Projects</td>\n",
       "      <td>Contact\\n&lt; class=\"entry-title\"&gt;Not found, erro...</td>\n",
       "      <td>contact class entry title find error page look...</td>\n",
       "      <td>133</td>\n",
       "    </tr>\n",
       "    <tr>\n",
       "      <th>80</th>\n",
       "      <td>https://www.aschulman.com/regulatory/californi...</td>\n",
       "      <td>A. Schulman Inc.</td>\n",
       "      <td>Page Not Found\\nUnfortunately, we could not fi...</td>\n",
       "      <td>page find unfortunately could find page page l...</td>\n",
       "      <td>132</td>\n",
       "    </tr>\n",
       "    <tr>\n",
       "      <th>85</th>\n",
       "      <td>https://www.agbarr.co.uk/modern-slavery-statem...</td>\n",
       "      <td>A.G. BARR plc</td>\n",
       "      <td>International\\nPage not found!\\nSorry, the pag...</td>\n",
       "      <td>international page find sorry page look cannot...</td>\n",
       "      <td>125</td>\n",
       "    </tr>\n",
       "    <tr>\n",
       "      <th>129</th>\n",
       "      <td>http://abmna.com/ctscad/</td>\n",
       "      <td>AB Mauri Food Inc.</td>\n",
       "      <td>Back Home\\nABOUT US\\nAB Mauri® North America i...</td>\n",
       "      <td>back home us mauri north america division maur...</td>\n",
       "      <td>256</td>\n",
       "    </tr>\n",
       "    <tr>\n",
       "      <th>142</th>\n",
       "      <td>https://www.abcsupply.com/help/ca-supply-chain...</td>\n",
       "      <td>ABC Supply Co, Inc.</td>\n",
       "      <td>CA Supply Chain Transparency Act Skip to main ...</td>\n",
       "      <td>buy substantially products sale north american...</td>\n",
       "      <td>305</td>\n",
       "    </tr>\n",
       "  </tbody>\n",
       "</table>\n",
       "</div>"
      ],
      "text/plain": [
       "                                                   URL              Company  \\\n",
       "17   http://www.2020projects.co.uk/modernslaverypolicy      20/20 Projects    \n",
       "80   https://www.aschulman.com/regulatory/californi...    A. Schulman Inc.    \n",
       "85   https://www.agbarr.co.uk/modern-slavery-statem...        A.G. BARR plc   \n",
       "129                           http://abmna.com/ctscad/   AB Mauri Food Inc.   \n",
       "142  https://www.abcsupply.com/help/ca-supply-chain...  ABC Supply Co, Inc.   \n",
       "\n",
       "                                       final_statement  \\\n",
       "17   Contact\\n< class=\"entry-title\">Not found, erro...   \n",
       "80   Page Not Found\\nUnfortunately, we could not fi...   \n",
       "85   International\\nPage not found!\\nSorry, the pag...   \n",
       "129  Back Home\\nABOUT US\\nAB Mauri® North America i...   \n",
       "142  CA Supply Chain Transparency Act Skip to main ...   \n",
       "\n",
       "                               final_statement_cleaned  \\\n",
       "17   contact class entry title find error page look...   \n",
       "80   page find unfortunately could find page page l...   \n",
       "85   international page find sorry page look cannot...   \n",
       "129  back home us mauri north america division maur...   \n",
       "142  buy substantially products sale north american...   \n",
       "\n",
       "     len(final_statement_cleaned)  \n",
       "17                            133  \n",
       "80                            132  \n",
       "85                            125  \n",
       "129                           256  \n",
       "142                           305  "
      ]
     },
     "execution_count": 40,
     "metadata": {},
     "output_type": "execute_result"
    }
   ],
   "source": [
    "THRESHOLD_WORD_COUNT = 500\n",
    "scrap_data = subset_data[subset_data[\"len(final_statement_cleaned)\"] < THRESHOLD_WORD_COUNT]\n",
    "scrap_data.head()"
   ]
  },
  {
   "cell_type": "code",
   "execution_count": 41,
   "metadata": {},
   "outputs": [
    {
     "name": "stdout",
     "output_type": "stream",
     "text": [
      "20048: sitemap copyright group right reserve\n",
      "----------------------------------------------------------------------------------------------------\n",
      "15676: news events news events icon regularly contribute think leadership industry media publications confe\n",
      "----------------------------------------------------------------------------------------------------\n",
      "9231: free ship everything order use code btsfree free ship everything order use code btsfree popular sear\n",
      "----------------------------------------------------------------------------------------------------\n",
      "10326: http error service unavailable serverruntime set exceed likely cause application take long current l\n",
      "----------------------------------------------------------------------------------------------------\n",
      "17488: nsg mission value principles modern slavery act user name\n",
      "----------------------------------------------------------------------------------------------------\n"
     ]
    }
   ],
   "source": [
    "np.random.seed(RANDOM_STATE)\n",
    "for i in np.random.choice(scrap_data.index, replace=False, size=5):\n",
    "    print(f\"{i}: {scrap_data['final_statement_cleaned'].loc[i][:100]}\")\n",
    "    print(f\"{'-'*100}\")"
   ]
  },
  {
   "cell_type": "code",
   "execution_count": 42,
   "metadata": {},
   "outputs": [
    {
     "name": "stdout",
     "output_type": "stream",
     "text": [
      "Found 712 scrap statements out of 10790 modern slavery statements with 500 threshold word count\n"
     ]
    }
   ],
   "source": [
    "print(f\"Found {len(scrap_data)} scrap statements out of {len(subset_data)} modern slavery statements with {THRESHOLD_WORD_COUNT} threshold word count\")"
   ]
  },
  {
   "cell_type": "code",
   "execution_count": 43,
   "metadata": {},
   "outputs": [
    {
     "name": "stdout",
     "output_type": "stream",
     "text": [
      "Unique non-NA, cleaned and filtered statements in subset data: 10078\n"
     ]
    }
   ],
   "source": [
    "subset_data = subset_data[subset_data[\"len(final_statement_cleaned)\"] >= THRESHOLD_WORD_COUNT]\n",
    "print(f\"Unique non-NA, cleaned and filtered statements in subset data: {len(subset_data)}\")"
   ]
  },
  {
   "cell_type": "code",
   "execution_count": 44,
   "metadata": {},
   "outputs": [],
   "source": [
    "subset_data.to_excel(f\"{SHEETS_PATH}\\\\subset_data.xlsx\", engine='xlsxwriter', index=False)"
   ]
  }
 ],
 "metadata": {
  "kernelspec": {
   "display_name": "modern_slavery",
   "language": "python",
   "name": "modern_slavery"
  },
  "language_info": {
   "codemirror_mode": {
    "name": "ipython",
    "version": 3
   },
   "file_extension": ".py",
   "mimetype": "text/x-python",
   "name": "python",
   "nbconvert_exporter": "python",
   "pygments_lexer": "ipython3",
   "version": "3.9.1"
  }
 },
 "nbformat": 4,
 "nbformat_minor": 4
}
