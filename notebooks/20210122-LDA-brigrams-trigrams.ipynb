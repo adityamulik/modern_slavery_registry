{
 "cells": [
  {
   "cell_type": "code",
   "execution_count": 1,
   "metadata": {},
   "outputs": [],
   "source": [
    "# use if autocompletion is not working\n",
    "%config Completer.use_jedi = False"
   ]
  },
  {
   "cell_type": "code",
   "execution_count": 2,
   "metadata": {},
   "outputs": [],
   "source": [
    "%load_ext autoreload\n",
    "%autoreload 2"
   ]
  },
  {
   "cell_type": "code",
   "execution_count": 3,
   "metadata": {
    "id": "l7WeR-r6uf4x"
   },
   "outputs": [
    {
     "name": "stderr",
     "output_type": "stream",
     "text": [
      "<ipython-input-3-4621a4fb39e0>:4: TqdmExperimentalWarning: Using `tqdm.autonotebook.tqdm` in notebook mode. Use `tqdm.tqdm` instead to force console mode (e.g. in jupyter console)\n",
      "  from tqdm.autonotebook import tqdm\n"
     ]
    }
   ],
   "source": [
    "import pandas as pd\n",
    "import numpy as np\n",
    "from os import getcwd, path\n",
    "from tqdm.autonotebook import tqdm\n",
    "from typing import List\n",
    "\n",
    "#https://www.machinelearningplus.com/nlp/topic-modeling-gensim-python/\n",
    "# Gensim\n",
    "import gensim\n",
    "import gensim.corpora as corpora\n",
    "\n",
    "import spacy\n",
    "\n",
    "# plotting\n",
    "from matplotlib import pyplot as plt"
   ]
  },
  {
   "cell_type": "code",
   "execution_count": 4,
   "metadata": {},
   "outputs": [],
   "source": [
    "from modern_slavery_registry.utils import dump_pickle"
   ]
  },
  {
   "cell_type": "code",
   "execution_count": 44,
   "metadata": {},
   "outputs": [],
   "source": [
    "RANDOM_STATE = 40\n",
    "PROJECT_PATH = getcwd().replace(\n",
    "    path.basename(getcwd()), \"\")\n",
    "MODEL_SAVE_PATH = path.join(PROJECT_PATH, \"models\")\n",
    "PICKLE_PATH = path.join(PROJECT_PATH, \"data\\\\pickles\")"
   ]
  },
  {
   "cell_type": "markdown",
   "metadata": {},
   "source": [
    "# Gensim LDA model on Bigrams (Using Gensim Phrases)"
   ]
  },
  {
   "cell_type": "markdown",
   "metadata": {},
   "source": [
    "## Loading pre-processed dataset"
   ]
  },
  {
   "cell_type": "code",
   "execution_count": 6,
   "metadata": {},
   "outputs": [],
   "source": [
    "PROJECT_PATH = getcwd()\n",
    "PROJECT_PATH = PROJECT_PATH.replace(\"\\\\notebooks\", \"\")\n",
    "DATA_PATH = PROJECT_PATH + \"\\\\data\"\n",
    "SHEETS_PATH = DATA_PATH + \"\\\\sheets\""
   ]
  },
  {
   "cell_type": "code",
   "execution_count": 7,
   "metadata": {
    "id": "19-wl6Uw8GLu"
   },
   "outputs": [
    {
     "name": "stdout",
     "output_type": "stream",
     "text": [
      "Found 10078 non-NA statements\n"
     ]
    }
   ],
   "source": [
    "data = pd.read_excel(f\"{SHEETS_PATH}\\\\subset_data.xlsx\")\n",
    "data.fillna(\"#NA\", inplace=True)\n",
    "data = data[[\"URL\", \"final_statement_cleaned\"]]\n",
    "n_sentences = len(data)\n",
    "print(f\"Found {n_sentences} non-NA statements\")"
   ]
  },
  {
   "cell_type": "code",
   "execution_count": 8,
   "metadata": {},
   "outputs": [],
   "source": [
    "# to perform lemmatization\n",
    "nlp = spacy.load(\"en_core_web_sm\", disable=['parser', 'ner'])\n",
    "\n",
    "def lemmatization(\n",
    "    statements: List[str],\n",
    "    allowed_postags=['NOUN', 'ADJ', 'VERB', 'ADV']) -> List[List[str]]:\n",
    "    \"\"\"https://spacy.io/api/annotation\"\"\"\n",
    "    lemmatized_statements = []\n",
    "    for statement in tqdm(statements):\n",
    "        statement = nlp(statement) \n",
    "        lemmatized_statements.append(\n",
    "            [token.lemma_ for token in statement if token.pos_ in allowed_postags])\n",
    "    return lemmatized_statements"
   ]
  },
  {
   "cell_type": "code",
   "execution_count": 10,
   "metadata": {},
   "outputs": [
    {
     "data": {
      "application/vnd.jupyter.widget-view+json": {
       "model_id": "ecb750b911fa4838a3c52d7de9133014",
       "version_major": 2,
       "version_minor": 0
      },
      "text/plain": [
       "  0%|          | 0/10078 [00:00<?, ?it/s]"
      ]
     },
     "metadata": {},
     "output_type": "display_data"
    }
   ],
   "source": [
    "# to remove extra whitespaces\n",
    "statements = [\" \".join(statement.split()) for statement in tqdm(data[\"final_statement_cleaned\"].values)]"
   ]
  },
  {
   "cell_type": "code",
   "execution_count": 11,
   "metadata": {},
   "outputs": [
    {
     "data": {
      "application/vnd.jupyter.widget-view+json": {
       "model_id": "05c32a7dde4742c182995f3caccdb485",
       "version_major": 2,
       "version_minor": 0
      },
      "text/plain": [
       "  0%|          | 0/10078 [00:00<?, ?it/s]"
      ]
     },
     "metadata": {},
     "output_type": "display_data"
    }
   ],
   "source": [
    "# lemmatizing words in statements\n",
    "statements = lemmatization(statements, allowed_postags=['NOUN', 'ADJ', 'VERB', 'ADV'])"
   ]
  },
  {
   "cell_type": "code",
   "execution_count": 12,
   "metadata": {},
   "outputs": [
    {
     "data": {
      "application/vnd.jupyter.widget-view+json": {
       "model_id": "d9af97b44afe43e0bd73110082e0be03",
       "version_major": 2,
       "version_minor": 0
      },
      "text/plain": [
       "  0%|          | 0/10078 [00:00<?, ?it/s]"
      ]
     },
     "metadata": {},
     "output_type": "display_data"
    }
   ],
   "source": [
    "# removing most repeated common words in statements\n",
    "words_to_remove = [\"modern\", \"slavery\", \"statement\", \"act\", \"supply\", \"human\", \"traffic\"]\n",
    "final_statements = []\n",
    "for statement in tqdm(statements):\n",
    "    final_statements.append([word for word in statement if word not in words_to_remove])"
   ]
  },
  {
   "cell_type": "code",
   "execution_count": 13,
   "metadata": {},
   "outputs": [],
   "source": [
    "# build the bigram and trigram models\n",
    "bigram = gensim.models.Phrases(final_statements, min_count=5, threshold=100) # higher threshold fewer phrases.\n",
    "trigram = gensim.models.Phrases(bigram[final_statements], threshold=100)"
   ]
  },
  {
   "cell_type": "code",
   "execution_count": 14,
   "metadata": {},
   "outputs": [],
   "source": [
    "def make_bigrams(corpus: List[List[str]])->List[List[str]]:\n",
    "    return [bigram[words] for words in tqdm(corpus)]\n",
    "\n",
    "def make_trigrams(corpus: List[List[str]])->List[List[str]]:\n",
    "    return [trigram[bigram[words]] for words in tqdm(corpus)]"
   ]
  },
  {
   "cell_type": "code",
   "execution_count": 15,
   "metadata": {},
   "outputs": [
    {
     "data": {
      "application/vnd.jupyter.widget-view+json": {
       "model_id": "aaab105b6a554b78b385f149c49035b7",
       "version_major": 2,
       "version_minor": 0
      },
      "text/plain": [
       "  0%|          | 0/10078 [00:00<?, ?it/s]"
      ]
     },
     "metadata": {},
     "output_type": "display_data"
    },
    {
     "data": {
      "application/vnd.jupyter.widget-view+json": {
       "model_id": "95abc72791714883b09c46968e06a0af",
       "version_major": 2,
       "version_minor": 0
      },
      "text/plain": [
       "  0%|          | 0/10078 [00:00<?, ?it/s]"
      ]
     },
     "metadata": {},
     "output_type": "display_data"
    }
   ],
   "source": [
    "# preparing corpus to feed LDA model\n",
    "statements_bigrams = make_bigrams(final_statements)\n",
    "\n",
    "idx2word = corpora.Dictionary(statements_bigrams)\n",
    "corpus = [\n",
    "    idx2word.doc2bow(ngrams) for ngrams in tqdm(statements_bigrams)]"
   ]
  },
  {
   "cell_type": "code",
   "execution_count": 16,
   "metadata": {},
   "outputs": [],
   "source": [
    "N_TOPICS = (2, 201)\n",
    "LDA_MODELS = {}"
   ]
  },
  {
   "cell_type": "code",
   "execution_count": 17,
   "metadata": {},
   "outputs": [
    {
     "data": {
      "application/vnd.jupyter.widget-view+json": {
       "model_id": "dbdf384d25f8429c81f91d1017ab25eb",
       "version_major": 2,
       "version_minor": 0
      },
      "text/plain": [
       "  0%|          | 0/199 [00:00<?, ?it/s]"
      ]
     },
     "metadata": {},
     "output_type": "display_data"
    }
   ],
   "source": [
    "for n in tqdm(range(*N_TOPICS)):\n",
    "    LDA_MODELS[n] = gensim.models.ldamodel.LdaModel(\n",
    "    corpus=corpus,\n",
    "    num_topics=n,\n",
    "    id2word=idx2word, \n",
    "    passes=1,\n",
    "    iterations=50,\n",
    "    random_state=RANDOM_STATE)\n",
    "    dump_pickle(\n",
    "        obj=LDA_MODELS[n], filename=f\"bigrams_lda_model_{n}_topics\", path=MODEL_SAVE_PATH)"
   ]
  },
  {
   "cell_type": "markdown",
   "metadata": {},
   "source": [
    "## Computing log perpexity w.r.t. to number of topics"
   ]
  },
  {
   "cell_type": "code",
   "execution_count": 19,
   "metadata": {},
   "outputs": [
    {
     "data": {
      "application/vnd.jupyter.widget-view+json": {
       "model_id": "eb3f44a771b34c42a0ba5355b3c373fb",
       "version_major": 2,
       "version_minor": 0
      },
      "text/plain": [
       "  0%|          | 0/199 [00:00<?, ?it/s]"
      ]
     },
     "metadata": {},
     "output_type": "display_data"
    }
   ],
   "source": [
    "LOG_PERPLEXITIES = {}\n",
    "for n in tqdm(range(*N_TOPICS)):\n",
    "    if n not in LOG_PERPLEXITIES.keys():\n",
    "        LOG_PERPLEXITIES[n] = LDA_MODELS[n].log_perplexity(corpus)"
   ]
  },
  {
   "cell_type": "code",
   "execution_count": 28,
   "metadata": {},
   "outputs": [
    {
     "data": {
      "image/png": "[encoded data removed]",
      "text/plain": [
       "<Figure size 432x288 with 1 Axes>"
      ]
     },
     "metadata": {
      "needs_background": "light"
     },
     "output_type": "display_data"
    }
   ],
   "source": [
    "plt.plot(list(LOG_PERPLEXITIES.keys()), list(LOG_PERPLEXITIES.values()))\n",
    "plt.xticks(range(*N_TOPICS, 20))\n",
    "plt.xlabel(\"Number of Topics\")\n",
    "plt.ylabel(\"Log Perplexity\")\n",
    "plt.title(\"LDA on Bigrams\")\n",
    "plt.show()"
   ]
  },
  {
   "cell_type": "code",
   "execution_count": 29,
   "metadata": {},
   "outputs": [],
   "source": [
    "def print_topic_keywords(lda_model):\n",
    "    for topic in lda_model.print_topics():\n",
    "        print(f\"{topic[0]}: {topic[1:]}\")\n",
    "        print()"
   ]
  },
  {
   "cell_type": "code",
   "execution_count": 34,
   "metadata": {},
   "outputs": [
    {
     "name": "stdout",
     "output_type": "stream",
     "text": [
      "0: ('0.011*\"store\" + 0.011*\"home\" + 0.011*\"service\" + 0.009*\"sale\" + 0.009*\"new\" + 0.008*\"ship\" + 0.008*\"search\" + 0.008*\"product\" + 0.008*\"contact\" + 0.007*\"offer\"',)\n",
      "\n",
      "1: ('0.011*\"container\" + 0.008*\"supplier\" + 0.007*\"gas_turbine\" + 0.007*\"risk\" + 0.006*\"right\" + 0.006*\"shower_enclosure\" + 0.006*\"business\" + 0.005*\"include\" + 0.005*\"policy\" + 0.004*\"chain\"',)\n",
      "\n",
      "2: ('0.021*\"policy\" + 0.017*\"right\" + 0.016*\"supplier\" + 0.016*\"include\" + 0.014*\"work\" + 0.011*\"business\" + 0.010*\"employee\" + 0.009*\"risk\" + 0.009*\"group\" + 0.009*\"chain\"',)\n",
      "\n",
      "3: ('0.041*\"supplier\" + 0.021*\"conduct\" + 0.019*\"law\" + 0.017*\"employee\" + 0.017*\"compliance\" + 0.016*\"business\" + 0.015*\"code\" + 0.015*\"chain\" + 0.013*\"include\" + 0.013*\"product\"',)\n",
      "\n",
      "4: ('0.023*\"supplier\" + 0.021*\"labor\" + 0.019*\"chain\" + 0.014*\"risk\" + 0.013*\"business\" + 0.012*\"audit\" + 0.012*\"include\" + 0.012*\"right\" + 0.010*\"company\" + 0.010*\"compliance\"',)\n",
      "\n",
      "5: ('0.015*\"work\" + 0.012*\"support\" + 0.012*\"business\" + 0.011*\"people\" + 0.010*\"service\" + 0.009*\"right\" + 0.008*\"chain\" + 0.008*\"supplier\" + 0.007*\"customer\" + 0.006*\"policy\"',)\n",
      "\n",
      "6: ('0.041*\"supplier\" + 0.029*\"risk\" + 0.023*\"right\" + 0.012*\"business\" + 0.011*\"chain\" + 0.011*\"include\" + 0.010*\"process\" + 0.009*\"policy\" + 0.009*\"group\" + 0.009*\"assessment\"',)\n",
      "\n",
      "7: ('0.032*\"business\" + 0.022*\"policy\" + 0.022*\"chain\" + 0.018*\"supplier\" + 0.016*\"limit\" + 0.016*\"company\" + 0.013*\"service\" + 0.013*\"take\" + 0.012*\"risk\" + 0.012*\"group\"',)\n",
      "\n",
      "8: ('0.024*\"policy\" + 0.019*\"supplier\" + 0.015*\"employee\" + 0.015*\"risk\" + 0.014*\"chain\" + 0.013*\"company\" + 0.013*\"ensure\" + 0.010*\"work\" + 0.009*\"service\" + 0.009*\"organization\"',)\n",
      "\n",
      "9: ('0.030*\"supplier\" + 0.028*\"business\" + 0.016*\"policy\" + 0.015*\"chain\" + 0.013*\"work\" + 0.013*\"code\" + 0.012*\"include\" + 0.011*\"conduct\" + 0.011*\"ensure\" + 0.010*\"employee\"',)\n",
      "\n",
      "10: ('0.026*\"supplier\" + 0.023*\"business\" + 0.023*\"policy\" + 0.017*\"employee\" + 0.016*\"ensure\" + 0.015*\"chain\" + 0.013*\"include\" + 0.013*\"take\" + 0.010*\"service\" + 0.009*\"work\"',)\n",
      "\n",
      "11: ('0.034*\"student\" + 0.033*\"trust\" + 0.019*\"school\" + 0.014*\"procurement\" + 0.013*\"staff\" + 0.012*\"university\" + 0.011*\"education\" + 0.010*\"research\" + 0.010*\"work\" + 0.010*\"policy\"',)\n",
      "\n",
      "12: ('0.043*\"chain\" + 0.024*\"business\" + 0.019*\"ensure\" + 0.016*\"risk\" + 0.013*\"system\" + 0.013*\"policy\" + 0.013*\"supplier\" + 0.012*\"take\" + 0.011*\"service\" + 0.010*\"place\"',)\n",
      "\n",
      "13: ('0.030*\"woman\" + 0.014*\"risk\" + 0.011*\"shop\" + 0.010*\"girl\" + 0.009*\"chain\" + 0.009*\"man\" + 0.009*\"work\" + 0.008*\"shoe\" + 0.007*\"new\" + 0.007*\"include\"',)\n",
      "\n",
      "14: ('0.030*\"risk\" + 0.020*\"service\" + 0.019*\"group\" + 0.016*\"business\" + 0.013*\"financial\" + 0.012*\"supplier\" + 0.011*\"chain\" + 0.010*\"property\" + 0.010*\"include\" + 0.009*\"year\"',)\n",
      "\n",
      "15: ('0.035*\"chain\" + 0.028*\"supplier\" + 0.027*\"risk\" + 0.027*\"business\" + 0.024*\"policy\" + 0.019*\"ensure\" + 0.016*\"take\" + 0.010*\"place\" + 0.010*\"include\" + 0.009*\"employee\"',)\n",
      "\n",
      "16: ('0.019*\"product\" + 0.013*\"supplier\" + 0.012*\"accessory\" + 0.009*\"back\" + 0.009*\"beauty\" + 0.009*\"chain\" + 0.007*\"view\" + 0.007*\"business\" + 0.005*\"shop\" + 0.005*\"policy\"',)\n",
      "\n",
      "17: ('0.020*\"supplier\" + 0.019*\"chain\" + 0.018*\"risk\" + 0.018*\"work\" + 0.015*\"worker\" + 0.014*\"trade\" + 0.013*\"ethical\" + 0.010*\"business\" + 0.009*\"team\" + 0.009*\"source\"',)\n",
      "\n",
      "18: ('0.040*\"information\" + 0.026*\"use\" + 0.022*\"may\" + 0.019*\"website\" + 0.016*\"personal\" + 0.015*\"datum\" + 0.015*\"provide\" + 0.012*\"service\" + 0.011*\"process\" + 0.008*\"shall\"',)\n",
      "\n",
      "19: ('0.014*\"product\" + 0.012*\"information\" + 0.011*\"service\" + 0.011*\"business\" + 0.008*\"market\" + 0.007*\"datum\" + 0.007*\"contact\" + 0.007*\"process\" + 0.007*\"use\" + 0.006*\"company\"',)\n",
      "\n"
     ]
    }
   ],
   "source": [
    "print_topic_keywords(LDA_MODELS[20])"
   ]
  },
  {
   "cell_type": "code",
   "execution_count": 47,
   "metadata": {},
   "outputs": [],
   "source": [
    "dump_pickle(\n",
    "    LOG_PERPLEXITIES, \n",
    "    filename=f\"bigrams_lda_model_log_perplexities_{N_TOPICS[0]}_{N_TOPICS[1]}_topics\", \n",
    "    path=PICKLE_PATH)"
   ]
  },
  {
   "cell_type": "code",
   "execution_count": 46,
   "metadata": {},
   "outputs": [],
   "source": [
    "dump_pickle(corpus, filename=f\"bigrams_corpus_for_lda_model\", path=PICKLE_PATH)\n",
    "dump_pickle(idx2word, filename=f\"bigrams_idx2word_for_lda_model\", path=PICKLE_PATH)"
   ]
  }
 ],
 "metadata": {
  "accelerator": "GPU",
  "colab": {
   "collapsed_sections": [],
   "name": "20201203-Topic-Modelling-Slavery-Statements.ipynb",
   "provenance": []
  },
  "kernelspec": {
   "display_name": "modern_slavery",
   "language": "python",
   "name": "modern_slavery"
  },
  "language_info": {
   "codemirror_mode": {
    "name": "ipython",
    "version": 3
   },
   "file_extension": ".py",
   "mimetype": "text/x-python",
   "name": "python",
   "nbconvert_exporter": "python",
   "pygments_lexer": "ipython3",
   "version": "3.8.6"
  }
 },
 "nbformat": 4,
 "nbformat_minor": 4
}
